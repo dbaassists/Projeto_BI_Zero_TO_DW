{
 "cells": [
  {
   "cell_type": "markdown",
   "metadata": {
    "application/vnd.databricks.v1+cell": {
     "cellMetadata": {},
     "inputWidgets": {},
     "nuid": "8d1eb7b1-66db-45ad-8ec6-1f31755a23f2",
     "showTitle": false,
     "title": ""
    }
   },
   "source": [
    "## Atividades Desenvolvidas no Notebook - 03_ingestao_camada_silver\n",
    "\n",
    "|Sequência|Ação|Detalhamento\n",
    "|---|---|---|\n",
    "|SEQ-01 |Função acentuacao|Usada para remover a acentuação de campos do tipo STRING.|\n",
    "|SEQ-02 / SEQ-03 / SEQ-04 / SEQ-05 / SEQ-06 / SEQ-07 / SEQ-08 / SEQ-09|Ingestão dos Dados da Camada Bronze para Silver|Carga realizada baseada nos dados existentes nas tabelas da camada Bronze.|\n",
    "|SEQ-02 / SEQ-03 / SEQ-04 / SEQ-05 / SEQ-06 / SEQ-07 / SEQ-08 / SEQ-09|Tratamento de dados antes de inserir/atualizar|Remover acentuação e caracteres especiais, valores nulos onde o datatype foi STRING, informar 'N/A', datatype NUMÉRICO, informar 0 (zero) e datatype DATE/TIMESTAMP, informar '1900-01-01'. Todo os dados do tipo STRING devem estar dados em caixa alta.|\n",
    "|SEQ-02 / SEQ-03 / SEQ-04 / SEQ-05 / SEQ-06 / SEQ-07 / SEQ-08 / SEQ-09|Identificar a data de alteração ou cadastro|Regra: Caso o registro não exista (caindo na condição INSERT do MERGE), a data de cadastro e data de alteração devem ser a mesma, caso o registro exista, a data de alteração deverá ser alterada.|"
   ]
  },
  {
   "cell_type": "code",
   "execution_count": 0,
   "metadata": {
    "application/vnd.databricks.v1+cell": {
     "cellMetadata": {
      "byteLimit": 2048000,
      "rowLimit": 10000
     },
     "inputWidgets": {},
     "nuid": "e4ae5396-96fc-4699-b25b-21b689f68c23",
     "showTitle": true,
     "title": "SEQ-01 - Importa Notebook"
    }
   },
   "outputs": [],
   "source": [
    "%run /estudos/libs/bibliotecas"
   ]
  },
  {
   "cell_type": "code",
   "execution_count": 0,
   "metadata": {
    "application/vnd.databricks.v1+cell": {
     "cellMetadata": {
      "byteLimit": 2048000,
      "rowLimit": 10000
     },
     "inputWidgets": {},
     "nuid": "f76947f0-6203-42ea-ade2-da82e688fa95",
     "showTitle": true,
     "title": "SEQ-02 - Carga Tabela Camada Silver - tb_categoria_produto"
    }
   },
   "outputs": [],
   "source": [
    "%sql\n",
    "MERGE INTO silver.tb_categoria_produto a\n",
    "USING (\n",
    "SELECT \n",
    "CODIGO_CATEGORIA\n",
    ",acentuacao(DECRICAO_CATEGORIA) DECRICAO_CATEGORIA\n",
    "FROM bronze.tb_categoria_produto\n",
    ") b\n",
    "\n",
    "ON a.CODIGO_CATEGORIA= b.CODIGO_CATEGORIA\n",
    "\n",
    "WHEN MATCHED THEN\n",
    "UPDATE SET \n",
    "a.CODIGO_CATEGORIA = b.CODIGO_CATEGORIA\n",
    ",a.DECRICAO_CATEGORIA = b.DECRICAO_CATEGORIA\n",
    ",a.DATA_ALTERACAO = from_utc_timestamp(now(),'GMT-3')\n",
    "\n",
    "WHEN NOT MATCHED\n",
    "THEN \n",
    "INSERT \n",
    "(\n",
    "CODIGO_CATEGORIA\n",
    ",DECRICAO_CATEGORIA\n",
    ",DATA_CADASTRO\n",
    ",DATA_ALTERACAO\n",
    ") \n",
    "VALUES \n",
    "(\n",
    "b.CODIGO_CATEGORIA\n",
    ",b.DECRICAO_CATEGORIA\n",
    ",from_utc_timestamp(now(),'GMT-3')\n",
    ",from_utc_timestamp(now(),'GMT-3')\n",
    ")"
   ]
  },
  {
   "cell_type": "code",
   "execution_count": 0,
   "metadata": {
    "application/vnd.databricks.v1+cell": {
     "cellMetadata": {
      "byteLimit": 2048000,
      "rowLimit": 10000
     },
     "inputWidgets": {},
     "nuid": "06083bb8-d723-4b38-a1a1-79e4a313d94a",
     "showTitle": true,
     "title": "SEQ-03 - Carga Tabela Camada Silver - tb_cliente"
    }
   },
   "outputs": [],
   "source": [
    "%sql\n",
    "MERGE INTO silver.tb_cliente a\n",
    "USING (\n",
    "SELECT \n",
    "CODIGO_CLIENTE\n",
    ",acentuacao(NOME_CLIENTE) NOME_CLIENTE\n",
    "FROM bronze.tb_cliente\n",
    ") b\n",
    "\n",
    "ON a.CODIGO_CLIENTE= b.CODIGO_CLIENTE\n",
    "\n",
    "WHEN MATCHED THEN\n",
    "UPDATE SET \n",
    "a.CODIGO_CLIENTE = b.CODIGO_CLIENTE\n",
    ",a.NOME_CLIENTE = b.NOME_CLIENTE\n",
    ",a.DATA_ALTERACAO = from_utc_timestamp(now(),'GMT-3')\n",
    "\n",
    "WHEN NOT MATCHED\n",
    "THEN \n",
    "INSERT \n",
    "(\n",
    "CODIGO_CLIENTE\n",
    ",NOME_CLIENTE\n",
    ",DATA_CADASTRO\n",
    ",DATA_ALTERACAO\n",
    ")\n",
    "VALUES \n",
    "(\n",
    "b.CODIGO_CLIENTE\n",
    ",b.NOME_CLIENTE\n",
    ",from_utc_timestamp(now(),'GMT-3')\n",
    ",from_utc_timestamp(now(),'GMT-3')\n",
    ")\n"
   ]
  },
  {
   "cell_type": "code",
   "execution_count": 0,
   "metadata": {
    "application/vnd.databricks.v1+cell": {
     "cellMetadata": {
      "byteLimit": 2048000,
      "rowLimit": 10000
     },
     "inputWidgets": {},
     "nuid": "7e228ee1-7102-4e13-be92-af32f1c69388",
     "showTitle": true,
     "title": "SEQ-04 - Carga Tabela Camada Silver - tb_forma_pagamento"
    }
   },
   "outputs": [],
   "source": [
    "%sql\n",
    "MERGE INTO silver.tb_forma_pagamento a\n",
    "USING (\n",
    "SELECT \n",
    "CODIGO_FORMA_PAGAMENTO\n",
    ",acentuacao(DESCRICAO_FORMA_PAGAMENTO) DESCRICAO_FORMA_PAGAMENTO\n",
    "FROM bronze.tb_forma_pagamento\n",
    ") b\n",
    "\n",
    "ON a.CODIGO_FORMA_PAGAMENTO= b.CODIGO_FORMA_PAGAMENTO\n",
    "\n",
    "WHEN MATCHED THEN\n",
    "UPDATE SET \n",
    "a.CODIGO_FORMA_PAGAMENTO = b.CODIGO_FORMA_PAGAMENTO\n",
    ",a.DESCRICAO_FORMA_PAGAMENTO = b.DESCRICAO_FORMA_PAGAMENTO\n",
    ",a.DATA_ALTERACAO = from_utc_timestamp(now(),'GMT-3')\n",
    "\n",
    "WHEN NOT MATCHED\n",
    "THEN \n",
    "INSERT \n",
    "(CODIGO_FORMA_PAGAMENTO\n",
    ",DESCRICAO_FORMA_PAGAMENTO\n",
    ",DATA_CADASTRO\n",
    ",DATA_ALTERACAO) \n",
    "VALUES \n",
    "(b.CODIGO_FORMA_PAGAMENTO\n",
    ",b.DESCRICAO_FORMA_PAGAMENTO\n",
    ",from_utc_timestamp(now(),'GMT-3')\n",
    ",from_utc_timestamp(now(),'GMT-3')\n",
    ")\n"
   ]
  },
  {
   "cell_type": "code",
   "execution_count": 0,
   "metadata": {
    "application/vnd.databricks.v1+cell": {
     "cellMetadata": {
      "byteLimit": 2048000,
      "rowLimit": 10000
     },
     "inputWidgets": {},
     "nuid": "e330d343-ac1b-499f-88b5-979e3422e031",
     "showTitle": true,
     "title": "SEQ-05 - Carga Tabela Camada Silver - tb_item_venda"
    }
   },
   "outputs": [],
   "source": [
    "%sql\n",
    "MERGE INTO silver.tb_item_venda a\n",
    "USING (\n",
    "SELECT \n",
    "CODIGO_VENDA\n",
    ",CODIGO_PRODUTO\n",
    ",VALOR_UNITARIO\n",
    ",QUANTIDADE\n",
    ",VALOR_FINAL\n",
    "FROM bronze.tb_item_venda\n",
    ") b\n",
    "\n",
    "ON a.CODIGO_VENDA= b.CODIGO_VENDA\n",
    "AND a.CODIGO_PRODUTO= b.CODIGO_PRODUTO\n",
    "\n",
    "WHEN MATCHED THEN\n",
    "UPDATE SET \n",
    "a.CODIGO_VENDA = b.CODIGO_VENDA\n",
    ",a.CODIGO_PRODUTO = b.CODIGO_PRODUTO\n",
    ",a.VALOR_UNITARIO = b.VALOR_UNITARIO\n",
    ",a.QUANTIDADE = b.QUANTIDADE\n",
    ",a.VALOR_FINAL = b.VALOR_FINAL\n",
    ",a.DATA_ALTERACAO = from_utc_timestamp(now(),'GMT-3')\n",
    "\n",
    "WHEN NOT MATCHED\n",
    "THEN \n",
    "INSERT \n",
    "(\n",
    "CODIGO_VENDA\n",
    ",CODIGO_PRODUTO\n",
    ",VALOR_UNITARIO\n",
    ",QUANTIDADE\n",
    ",VALOR_FINAL\n",
    ",DATA_CADASTRO\n",
    ",DATA_ALTERACAO\n",
    ")\n",
    "VALUES \n",
    "(\n",
    "b.CODIGO_VENDA\n",
    ",b.CODIGO_PRODUTO\n",
    ",b.VALOR_UNITARIO\n",
    ",b.QUANTIDADE\n",
    ",b.VALOR_FINAL\n",
    ",from_utc_timestamp(now(),'GMT-3')\n",
    ",from_utc_timestamp(now(),'GMT-3')\n",
    ")\n"
   ]
  },
  {
   "cell_type": "code",
   "execution_count": 0,
   "metadata": {
    "application/vnd.databricks.v1+cell": {
     "cellMetadata": {
      "byteLimit": 2048000,
      "rowLimit": 10000
     },
     "inputWidgets": {},
     "nuid": "c484c019-c85d-4cc8-b07d-40ccff98b566",
     "showTitle": true,
     "title": "SEQ-06 - Carga Tabela Camada Silver - tb_loja"
    }
   },
   "outputs": [],
   "source": [
    "%sql\n",
    "MERGE INTO silver.tb_loja a\n",
    "USING (\n",
    "SELECT \n",
    "CODIGO_LOJA\n",
    ",acentuacao(NOME_LOJA) NOME_LOJA\n",
    ",acentuacao(LOCALIDADE_LOJA) LOCALIDADE_LOJA\n",
    ",TIPO_LOJA\n",
    "FROM bronze.tb_loja\n",
    ") b\n",
    "\n",
    "ON a.CODIGO_LOJA= b.CODIGO_LOJA\n",
    "\n",
    "WHEN MATCHED THEN\n",
    "UPDATE SET \n",
    "a.CODIGO_LOJA = b.CODIGO_LOJA\n",
    ",a.NOME_LOJA = b.NOME_LOJA\n",
    ",a.LOCALIDADE_LOJA = b.LOCALIDADE_LOJA\n",
    ",a.TIPO_LOJA = b.TIPO_LOJA\n",
    ",a.DATA_ALTERACAO = from_utc_timestamp(now(),'GMT-3')\n",
    "\n",
    "WHEN NOT MATCHED\n",
    "THEN \n",
    "INSERT (\n",
    "CODIGO_LOJA\n",
    ",NOME_LOJA\n",
    ",LOCALIDADE_LOJA\n",
    ",TIPO_LOJA\n",
    ",DATA_CADASTRO\n",
    ",DATA_ALTERACAO\n",
    ") \n",
    "VALUES \n",
    "(b.CODIGO_LOJA\n",
    ",b.NOME_LOJA\n",
    ",b.LOCALIDADE_LOJA\n",
    ",b.TIPO_LOJA\n",
    ",from_utc_timestamp(now(),'GMT-3')\n",
    ",from_utc_timestamp(now(),'GMT-3')\n",
    ")\n"
   ]
  },
  {
   "cell_type": "code",
   "execution_count": 0,
   "metadata": {
    "application/vnd.databricks.v1+cell": {
     "cellMetadata": {
      "byteLimit": 2048000,
      "rowLimit": 10000
     },
     "inputWidgets": {},
     "nuid": "90abf329-28f4-4042-85d9-4ce6028fcbfc",
     "showTitle": true,
     "title": "SEQ-07 - Carga Tabela Camada Silver - tb_produto"
    }
   },
   "outputs": [],
   "source": [
    "%sql\n",
    "\n",
    "MERGE INTO silver.tb_produto a\n",
    "USING (SELECT \n",
    "PROD.CODIGO_PRODUTO\n",
    ",acentuacao(PROD.DESCRICAO_PRODUTO) DESCRICAO_PRODUTO\n",
    ",PROD.CODIGO_CATEGORIA\n",
    "FROM bronze.tb_produto PROD) b\n",
    "\n",
    "ON a.CODIGO_PRODUTO= b.CODIGO_PRODUTO\n",
    "\n",
    "WHEN MATCHED \n",
    "THEN\n",
    "UPDATE SET \n",
    "a.CODIGO_PRODUTO = b.CODIGO_PRODUTO\n",
    ",a.DESCRICAO_PRODUTO = b.DESCRICAO_PRODUTO\n",
    ",a.CODIGO_CATEGORIA = b.CODIGO_CATEGORIA\n",
    ",a.DATA_ALTERACAO = from_utc_timestamp(now(),'GMT-3')\n",
    "\n",
    "WHEN NOT MATCHED\n",
    "THEN \n",
    "INSERT \n",
    "(\n",
    "CODIGO_PRODUTO\n",
    ",DESCRICAO_PRODUTO\n",
    ",CODIGO_CATEGORIA\n",
    ",DATA_CADASTRO\n",
    ",DATA_ALTERACAO\n",
    ") \n",
    "VALUES \n",
    "(\n",
    "b.CODIGO_PRODUTO\n",
    ",b.DESCRICAO_PRODUTO\n",
    ",b.CODIGO_CATEGORIA\n",
    ",from_utc_timestamp(now(),'GMT-3')\n",
    ",from_utc_timestamp(now(),'GMT-3')\n",
    ")\n"
   ]
  },
  {
   "cell_type": "code",
   "execution_count": 0,
   "metadata": {
    "application/vnd.databricks.v1+cell": {
     "cellMetadata": {
      "byteLimit": 2048000,
      "rowLimit": 10000
     },
     "inputWidgets": {},
     "nuid": "c33d40eb-e9dc-4809-91d5-936143a0b6f0",
     "showTitle": true,
     "title": "SEQ-08 - Carga Tabela Camada Silver - tb_venda"
    }
   },
   "outputs": [],
   "source": [
    "%sql\n",
    "\n",
    "MERGE INTO silver.tb_venda a\n",
    "USING (\n",
    "SELECT \n",
    "CODIGO_VENDA\n",
    ",DATA_VENDA\n",
    ",CODIGO_CLIENTE\n",
    ",CODIGO_VENDEDOR\n",
    ",CODIGO_LOJA\n",
    ",VALOR_FINAL\n",
    ",FORMA_PAGAMENTO\n",
    ",TIPO_PAGAMENTO\n",
    "FROM bronze.tb_venda\n",
    ") b\n",
    "\n",
    "ON a.CODIGO_VENDA= b.CODIGO_VENDA\n",
    "\n",
    "WHEN MATCHED THEN\n",
    "UPDATE SET \n",
    "a.CODIGO_VENDA = b.CODIGO_VENDA\n",
    ",a.DATA_VENDA = b.DATA_VENDA\n",
    ",a.CODIGO_CLIENTE = b.CODIGO_CLIENTE\n",
    ",a.CODIGO_VENDEDOR = b.CODIGO_VENDEDOR\n",
    ",a.CODIGO_LOJA = b.CODIGO_LOJA\n",
    ",a.VALOR_FINAL = b.VALOR_FINAL\n",
    ",a.FORMA_PAGAMENTO = b.FORMA_PAGAMENTO\n",
    ",a.TIPO_PAGAMENTO = b.TIPO_PAGAMENTO\n",
    ",a.DATA_ALTERACAO = from_utc_timestamp(now(),'GMT-3')\n",
    "\n",
    "WHEN NOT MATCHED\n",
    "THEN \n",
    "INSERT \n",
    "(\n",
    "CODIGO_VENDA\n",
    ",DATA_VENDA\n",
    ",CODIGO_CLIENTE\n",
    ",CODIGO_VENDEDOR\n",
    ",CODIGO_LOJA\n",
    ",VALOR_FINAL\n",
    ",FORMA_PAGAMENTO\n",
    ",TIPO_PAGAMENTO\n",
    ",DATA_CADASTRO\n",
    ",DATA_ALTERACAO\n",
    ")\n",
    "VALUES (\n",
    "b.CODIGO_VENDA\n",
    ",b.DATA_VENDA\n",
    ",b.CODIGO_CLIENTE\n",
    ",b.CODIGO_VENDEDOR\n",
    ",b.CODIGO_LOJA\n",
    ",b.VALOR_FINAL\n",
    ",b.FORMA_PAGAMENTO\n",
    ",b.TIPO_PAGAMENTO\n",
    ",from_utc_timestamp(now(),'GMT-3')\n",
    ",from_utc_timestamp(now(),'GMT-3')\n",
    ")\n",
    "\n"
   ]
  },
  {
   "cell_type": "code",
   "execution_count": 0,
   "metadata": {
    "application/vnd.databricks.v1+cell": {
     "cellMetadata": {
      "byteLimit": 2048000,
      "rowLimit": 10000
     },
     "inputWidgets": {},
     "nuid": "0b1606d4-566b-446a-b665-b3a65b4b0428",
     "showTitle": true,
     "title": "SEQ-09 - Carga Tabela Camada Silver - tb_vendedor"
    }
   },
   "outputs": [],
   "source": [
    "%sql\n",
    "\n",
    "MERGE INTO silver.tb_vendedor a\n",
    "USING (\n",
    "SELECT \n",
    "CODIGO_VENDEDOR\n",
    ",acentuacao(NOME_VENDEDOR) NOME_VENDEDOR\n",
    "FROM bronze.tb_vendedor\n",
    ") b\n",
    "\n",
    "ON a.CODIGO_VENDEDOR= b.CODIGO_VENDEDOR\n",
    "\n",
    "WHEN MATCHED THEN\n",
    "UPDATE SET \n",
    "a.CODIGO_VENDEDOR = b.CODIGO_VENDEDOR\n",
    ",a.NOME_VENDEDOR = b.NOME_VENDEDOR\n",
    ",a.DATA_ALTERACAO = from_utc_timestamp(now(),'GMT-3')\n",
    "\n",
    "WHEN NOT MATCHED\n",
    "THEN \n",
    "INSERT \n",
    "(\n",
    "CODIGO_VENDEDOR\n",
    ",NOME_VENDEDOR\n",
    ",DATA_CADASTRO\n",
    ",DATA_ALTERACAO\n",
    ") \n",
    "VALUES \n",
    "(\n",
    "b.CODIGO_VENDEDOR\n",
    ",b.NOME_VENDEDOR\n",
    ",from_utc_timestamp(now(),'GMT-3')\n",
    ",from_utc_timestamp(now(),'GMT-3')\n",
    ")"
   ]
  },
  {
   "cell_type": "code",
   "execution_count": 0,
   "metadata": {
    "application/vnd.databricks.v1+cell": {
     "cellMetadata": {
      "byteLimit": 2048000,
      "rowLimit": 10000
     },
     "inputWidgets": {},
     "nuid": "cc8d9785-73b8-4b95-bca0-03f8fb5a2d55",
     "showTitle": false,
     "title": ""
    }
   },
   "outputs": [],
   "source": [
    "%sql\n",
    "SELECT *\n",
    "FROM silver.tb_vendedor"
   ]
  }
 ],
 "metadata": {
  "application/vnd.databricks.v1+notebook": {
   "dashboards": [],
   "language": "python",
   "notebookMetadata": {
    "mostRecentlyExecutedCommandWithImplicitDF": {
     "commandId": 1934667511695046,
     "dataframes": [
      "_sqldf"
     ]
    },
    "pythonIndentUnit": 4
   },
   "notebookName": "03_ingestao_camada_silver",
   "widgets": {}
  }
 },
 "nbformat": 4,
 "nbformat_minor": 0
}
