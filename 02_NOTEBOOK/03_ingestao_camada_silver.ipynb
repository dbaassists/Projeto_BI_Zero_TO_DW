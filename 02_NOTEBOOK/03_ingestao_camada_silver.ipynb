{
 "cells": [
  {
   "cell_type": "markdown",
   "metadata": {
    "application/vnd.databricks.v1+cell": {
     "cellMetadata": {
      "byteLimit": 2048000,
      "rowLimit": 10000
     },
     "inputWidgets": {},
     "nuid": "8d1eb7b1-66db-45ad-8ec6-1f31755a23f2",
     "showTitle": false,
     "title": ""
    }
   },
   "source": [
    "## Atividades Desenvolvidas no Notebook - 03_ingestao_camada_silver\n",
    "\n",
    "|Sequência|Ação|Detalhamento\n",
    "|---|---|---|\n",
    "|SEQ-01 |Função acentuacao|Usada para remover a acentuação de campos do tipo STRING.|\n",
    "|SEQ-02 / SEQ-03 / SEQ-04 / SEQ-05 / SEQ-06 / SEQ-07 / SEQ-08 / SEQ-09|Ingestão dos Dados da Camada Bronze para Silver|Carga realizada baseada nos dados existentes nas tabelas da camada Bronze.|\n",
    "|SEQ-02 / SEQ-03 / SEQ-04 / SEQ-05 / SEQ-06 / SEQ-07 / SEQ-08 / SEQ-09|Tratamento de dados antes de inserir/atualizar|Remover acentuação e caracteres especiais, valores nulos onde o datatype foi STRING, informar 'N/A', datatype NUMÉRICO, informar 0 (zero) e datatype DATE/TIMESTAMP, informar '1900-01-01'. Todo os dados do tipo STRING devem estar dados em caixa alta.|\n",
    "|SEQ-02 / SEQ-03 / SEQ-04 / SEQ-05 / SEQ-06 / SEQ-07 / SEQ-08 / SEQ-09|Identificar a data de alteração ou cadastro|Regra: Caso o registro não exista (caindo na condição INSERT do MERGE), a data de cadastro e data de alteração devem ser a mesma, caso o registro exista, a data de alteração deverá ser alterada.|"
   ]
  },
  {
   "cell_type": "code",
   "execution_count": 0,
   "metadata": {
    "application/vnd.databricks.v1+cell": {
     "cellMetadata": {
      "byteLimit": 2048000,
      "rowLimit": 10000
     },
     "inputWidgets": {},
     "nuid": "e4ae5396-96fc-4699-b25b-21b689f68c23",
     "showTitle": true,
     "title": "SEQ-01 - Importa Notebook"
    }
   },
   "outputs": [
    {
     "output_type": "display_data",
     "data": {
      "application/vnd.databricks.v1+bamboolib_hint": "{\"pd.DataFrames\": [], \"version\": \"0.0.1\"}",
      "text/plain": []
     },
     "metadata": {},
     "output_type": "display_data"
    },
    {
     "output_type": "stream",
     "name": "stdout",
     "output_type": "stream",
     "text": [
      "Out[5]: <function __main__.acentuacao(palavra)>"
     ]
    }
   ],
   "source": [
    "%run /estudos/libs/bibliotecas"
   ]
  },
  {
   "cell_type": "code",
   "execution_count": 0,
   "metadata": {
    "application/vnd.databricks.v1+cell": {
     "cellMetadata": {
      "byteLimit": 2048000,
      "implicitDf": true,
      "rowLimit": 10000
     },
     "inputWidgets": {},
     "nuid": "f76947f0-6203-42ea-ade2-da82e688fa95",
     "showTitle": true,
     "title": "SEQ-02 - Carga Tabela Camada Silver - tb_categoria_produto"
    }
   },
   "outputs": [
    {
     "output_type": "display_data",
     "data": {
      "text/html": [
       "<style scoped>\n",
       "  .table-result-container {\n",
       "    max-height: 300px;\n",
       "    overflow: auto;\n",
       "  }\n",
       "  table, th, td {\n",
       "    border: 1px solid black;\n",
       "    border-collapse: collapse;\n",
       "  }\n",
       "  th, td {\n",
       "    padding: 5px;\n",
       "  }\n",
       "  th {\n",
       "    text-align: left;\n",
       "  }\n",
       "</style><div class='table-result-container'><table class='table-result'><thead style='background-color: white'><tr><th>num_affected_rows</th><th>num_updated_rows</th><th>num_deleted_rows</th><th>num_inserted_rows</th></tr></thead><tbody><tr><td>10</td><td>0</td><td>0</td><td>10</td></tr></tbody></table></div>"
      ]
     },
     "metadata": {
      "application/vnd.databricks.v1+output": {
       "addedWidgets": {},
       "aggData": [],
       "aggError": "",
       "aggOverflow": false,
       "aggSchema": [],
       "aggSeriesLimitReached": false,
       "aggType": "",
       "arguments": {},
       "columnCustomDisplayInfos": {},
       "data": [
        [
         10,
         0,
         0,
         10
        ]
       ],
       "datasetInfos": [],
       "dbfsResultPath": null,
       "isJsonSchema": true,
       "metadata": {},
       "overflow": false,
       "plotOptions": {
        "customPlotOptions": {},
        "displayType": "table",
        "pivotAggregation": null,
        "pivotColumns": null,
        "xColumns": null,
        "yColumns": null
       },
       "removedWidgets": [],
       "schema": [
        {
         "metadata": "{}",
         "name": "num_affected_rows",
         "type": "\"long\""
        },
        {
         "metadata": "{}",
         "name": "num_updated_rows",
         "type": "\"long\""
        },
        {
         "metadata": "{}",
         "name": "num_deleted_rows",
         "type": "\"long\""
        },
        {
         "metadata": "{}",
         "name": "num_inserted_rows",
         "type": "\"long\""
        }
       ],
       "type": "table"
      }
     },
     "output_type": "display_data"
    }
   ],
   "source": [
    "%sql\n",
    "MERGE INTO silver.tb_categoria_produto a\n",
    "USING (\n",
    "SELECT \n",
    "CODIGO_CATEGORIA\n",
    ",IFNULL(TRIM(acentuacao(CATEGORIA_PRODUTO)),'N/A') CATEGORIA_PRODUTO\n",
    ",IFNULL(TRIM(acentuacao(SUB_CATEGORIA_PRODUTO)),'N/A') SUB_CATEGORIA_PRODUTO\n",
    "FROM bronze.tb_categoria_produto\n",
    ") b\n",
    "\n",
    "ON a.CODIGO_CATEGORIA= b.CODIGO_CATEGORIA\n",
    "\n",
    "WHEN MATCHED THEN\n",
    "UPDATE SET \n",
    "a.CATEGORIA_PRODUTO = b.CATEGORIA_PRODUTO\n",
    ",a.SUB_CATEGORIA_PRODUTO = b.SUB_CATEGORIA_PRODUTO\n",
    ",a.DATA_ALTERACAO = from_utc_timestamp(now(),'GMT-3')\n",
    "\n",
    "WHEN NOT MATCHED\n",
    "THEN \n",
    "INSERT \n",
    "(\n",
    "CODIGO_CATEGORIA\n",
    ",CATEGORIA_PRODUTO\n",
    ",SUB_CATEGORIA_PRODUTO\n",
    ",DATA_CADASTRO\n",
    ",DATA_ALTERACAO\n",
    ") \n",
    "VALUES \n",
    "(\n",
    "b.CODIGO_CATEGORIA\n",
    ",b.CATEGORIA_PRODUTO\n",
    ",b.SUB_CATEGORIA_PRODUTO\n",
    ",from_utc_timestamp(now(),'GMT-3')\n",
    ",from_utc_timestamp(now(),'GMT-3')\n",
    ")"
   ]
  },
  {
   "cell_type": "code",
   "execution_count": 0,
   "metadata": {
    "application/vnd.databricks.v1+cell": {
     "cellMetadata": {
      "byteLimit": 2048000,
      "implicitDf": true,
      "rowLimit": 10000
     },
     "inputWidgets": {},
     "nuid": "06083bb8-d723-4b38-a1a1-79e4a313d94a",
     "showTitle": true,
     "title": "SEQ-03 - Carga Tabela Camada Silver - tb_cliente"
    }
   },
   "outputs": [
    {
     "output_type": "display_data",
     "data": {
      "text/html": [
       "<style scoped>\n",
       "  .table-result-container {\n",
       "    max-height: 300px;\n",
       "    overflow: auto;\n",
       "  }\n",
       "  table, th, td {\n",
       "    border: 1px solid black;\n",
       "    border-collapse: collapse;\n",
       "  }\n",
       "  th, td {\n",
       "    padding: 5px;\n",
       "  }\n",
       "  th {\n",
       "    text-align: left;\n",
       "  }\n",
       "</style><div class='table-result-container'><table class='table-result'><thead style='background-color: white'><tr><th>num_affected_rows</th><th>num_updated_rows</th><th>num_deleted_rows</th><th>num_inserted_rows</th></tr></thead><tbody><tr><td>1398</td><td>0</td><td>0</td><td>1398</td></tr></tbody></table></div>"
      ]
     },
     "metadata": {
      "application/vnd.databricks.v1+output": {
       "addedWidgets": {},
       "aggData": [],
       "aggError": "",
       "aggOverflow": false,
       "aggSchema": [],
       "aggSeriesLimitReached": false,
       "aggType": "",
       "arguments": {},
       "columnCustomDisplayInfos": {},
       "data": [
        [
         1398,
         0,
         0,
         1398
        ]
       ],
       "datasetInfos": [],
       "dbfsResultPath": null,
       "isJsonSchema": true,
       "metadata": {},
       "overflow": false,
       "plotOptions": {
        "customPlotOptions": {},
        "displayType": "table",
        "pivotAggregation": null,
        "pivotColumns": null,
        "xColumns": null,
        "yColumns": null
       },
       "removedWidgets": [],
       "schema": [
        {
         "metadata": "{}",
         "name": "num_affected_rows",
         "type": "\"long\""
        },
        {
         "metadata": "{}",
         "name": "num_updated_rows",
         "type": "\"long\""
        },
        {
         "metadata": "{}",
         "name": "num_deleted_rows",
         "type": "\"long\""
        },
        {
         "metadata": "{}",
         "name": "num_inserted_rows",
         "type": "\"long\""
        }
       ],
       "type": "table"
      }
     },
     "output_type": "display_data"
    }
   ],
   "source": [
    "%sql\n",
    "MERGE INTO silver.tb_cliente a\n",
    "USING (\n",
    "SELECT \n",
    "CODIGO_CLIENTE\n",
    ",DATA_NASCIMENTO\n",
    ",IDADE_CLIENTE\n",
    ",DESCRICAO_ENDERECO\n",
    ",NUMERO_ENDERECO\n",
    ",NOME_CIDADE\n",
    ",NUMERO_TELEFONE\n",
    ",EMAIL_CLIENTE\n",
    ",OCUPACAO_CLIENTE\n",
    ",IFNULL(TRIM(acentuacao(NOME_CLIENTE)),'N/A') NOME_CLIENTE\n",
    "FROM bronze.tb_cliente\n",
    ") b\n",
    "\n",
    "ON a.CODIGO_CLIENTE= b.CODIGO_CLIENTE\n",
    "\n",
    "WHEN MATCHED THEN\n",
    "UPDATE SET \n",
    "a.NOME_CLIENTE = b.NOME_CLIENTE\n",
    ",a.DATA_NASCIMENTO = b.DATA_NASCIMENTO\n",
    ",a.IDADE_CLIENTE = b.IDADE_CLIENTE\n",
    ",a.DESCRICAO_ENDERECO = b.DESCRICAO_ENDERECO\n",
    ",a.NUMERO_ENDERECO = b.NUMERO_ENDERECO\n",
    ",a.NOME_CIDADE = b.NOME_CIDADE\n",
    ",a.NUMERO_TELEFONE = b.NUMERO_TELEFONE\n",
    ",a.EMAIL_CLIENTE = b.EMAIL_CLIENTE\n",
    ",a.OCUPACAO_CLIENTE = b.OCUPACAO_CLIENTE\n",
    ",a.DATA_ALTERACAO = from_utc_timestamp(now(),'GMT-3')\n",
    "\n",
    "WHEN NOT MATCHED\n",
    "THEN \n",
    "INSERT \n",
    "(\n",
    "CODIGO_CLIENTE\n",
    ",NOME_CLIENTE\n",
    ",DATA_NASCIMENTO\n",
    ",IDADE_CLIENTE\n",
    ",DESCRICAO_ENDERECO\n",
    ",NUMERO_ENDERECO\n",
    ",NOME_CIDADE\n",
    ",NUMERO_TELEFONE\n",
    ",EMAIL_CLIENTE\n",
    ",OCUPACAO_CLIENTE\n",
    ",DATA_CADASTRO\n",
    ",DATA_ALTERACAO\n",
    ")\n",
    "VALUES \n",
    "(\n",
    "b.CODIGO_CLIENTE\n",
    ",b.NOME_CLIENTE\n",
    ",b.DATA_NASCIMENTO\n",
    ",b.IDADE_CLIENTE\n",
    ",b.DESCRICAO_ENDERECO\n",
    ",b.NUMERO_ENDERECO\n",
    ",b.NOME_CIDADE\n",
    ",b.NUMERO_TELEFONE\n",
    ",b.EMAIL_CLIENTE\n",
    ",b.OCUPACAO_CLIENTE\n",
    ",from_utc_timestamp(now(),'GMT-3')\n",
    ",from_utc_timestamp(now(),'GMT-3')\n",
    ")\n"
   ]
  },
  {
   "cell_type": "code",
   "execution_count": 0,
   "metadata": {
    "application/vnd.databricks.v1+cell": {
     "cellMetadata": {
      "byteLimit": 2048000,
      "implicitDf": true,
      "rowLimit": 10000
     },
     "inputWidgets": {},
     "nuid": "7e228ee1-7102-4e13-be92-af32f1c69388",
     "showTitle": true,
     "title": "SEQ-04 - Carga Tabela Camada Silver - tb_forma_pagamento"
    }
   },
   "outputs": [
    {
     "output_type": "display_data",
     "data": {
      "text/html": [
       "<style scoped>\n",
       "  .table-result-container {\n",
       "    max-height: 300px;\n",
       "    overflow: auto;\n",
       "  }\n",
       "  table, th, td {\n",
       "    border: 1px solid black;\n",
       "    border-collapse: collapse;\n",
       "  }\n",
       "  th, td {\n",
       "    padding: 5px;\n",
       "  }\n",
       "  th {\n",
       "    text-align: left;\n",
       "  }\n",
       "</style><div class='table-result-container'><table class='table-result'><thead style='background-color: white'><tr><th>num_affected_rows</th><th>num_updated_rows</th><th>num_deleted_rows</th><th>num_inserted_rows</th></tr></thead><tbody><tr><td>4</td><td>0</td><td>0</td><td>4</td></tr></tbody></table></div>"
      ]
     },
     "metadata": {
      "application/vnd.databricks.v1+output": {
       "addedWidgets": {},
       "aggData": [],
       "aggError": "",
       "aggOverflow": false,
       "aggSchema": [],
       "aggSeriesLimitReached": false,
       "aggType": "",
       "arguments": {},
       "columnCustomDisplayInfos": {},
       "data": [
        [
         4,
         0,
         0,
         4
        ]
       ],
       "datasetInfos": [],
       "dbfsResultPath": null,
       "isJsonSchema": true,
       "metadata": {},
       "overflow": false,
       "plotOptions": {
        "customPlotOptions": {},
        "displayType": "table",
        "pivotAggregation": null,
        "pivotColumns": null,
        "xColumns": null,
        "yColumns": null
       },
       "removedWidgets": [],
       "schema": [
        {
         "metadata": "{}",
         "name": "num_affected_rows",
         "type": "\"long\""
        },
        {
         "metadata": "{}",
         "name": "num_updated_rows",
         "type": "\"long\""
        },
        {
         "metadata": "{}",
         "name": "num_deleted_rows",
         "type": "\"long\""
        },
        {
         "metadata": "{}",
         "name": "num_inserted_rows",
         "type": "\"long\""
        }
       ],
       "type": "table"
      }
     },
     "output_type": "display_data"
    }
   ],
   "source": [
    "%sql\n",
    "MERGE INTO silver.tb_forma_pagamento a\n",
    "USING (\n",
    "SELECT \n",
    "CODIGO_FORMA_PAGAMENTO\n",
    ",IFNULL(TRIM(acentuacao(DESCRICAO_FORMA_PAGAMENTO)),'N/A') DESCRICAO_FORMA_PAGAMENTO\n",
    "FROM bronze.tb_forma_pagamento\n",
    ") b\n",
    "\n",
    "ON a.CODIGO_FORMA_PAGAMENTO= b.CODIGO_FORMA_PAGAMENTO\n",
    "\n",
    "WHEN MATCHED THEN\n",
    "UPDATE SET \n",
    "a.DESCRICAO_FORMA_PAGAMENTO = b.DESCRICAO_FORMA_PAGAMENTO\n",
    ",a.DATA_ALTERACAO = from_utc_timestamp(now(),'GMT-3')\n",
    "\n",
    "WHEN NOT MATCHED\n",
    "THEN \n",
    "INSERT \n",
    "(CODIGO_FORMA_PAGAMENTO\n",
    ",DESCRICAO_FORMA_PAGAMENTO\n",
    ",DATA_CADASTRO\n",
    ",DATA_ALTERACAO) \n",
    "VALUES \n",
    "(b.CODIGO_FORMA_PAGAMENTO\n",
    ",b.DESCRICAO_FORMA_PAGAMENTO\n",
    ",from_utc_timestamp(now(),'GMT-3')\n",
    ",from_utc_timestamp(now(),'GMT-3')\n",
    ")\n"
   ]
  },
  {
   "cell_type": "code",
   "execution_count": 0,
   "metadata": {
    "application/vnd.databricks.v1+cell": {
     "cellMetadata": {
      "byteLimit": 2048000,
      "implicitDf": true,
      "rowLimit": 10000
     },
     "inputWidgets": {},
     "nuid": "e330d343-ac1b-499f-88b5-979e3422e031",
     "showTitle": true,
     "title": "SEQ-05 - Carga Tabela Camada Silver - tb_item_venda"
    }
   },
   "outputs": [
    {
     "output_type": "display_data",
     "data": {
      "text/html": [
       "<style scoped>\n",
       "  .table-result-container {\n",
       "    max-height: 300px;\n",
       "    overflow: auto;\n",
       "  }\n",
       "  table, th, td {\n",
       "    border: 1px solid black;\n",
       "    border-collapse: collapse;\n",
       "  }\n",
       "  th, td {\n",
       "    padding: 5px;\n",
       "  }\n",
       "  th {\n",
       "    text-align: left;\n",
       "  }\n",
       "</style><div class='table-result-container'><table class='table-result'><thead style='background-color: white'><tr><th>num_affected_rows</th><th>num_updated_rows</th><th>num_deleted_rows</th><th>num_inserted_rows</th></tr></thead><tbody><tr><td>13765</td><td>0</td><td>0</td><td>13765</td></tr></tbody></table></div>"
      ]
     },
     "metadata": {
      "application/vnd.databricks.v1+output": {
       "addedWidgets": {},
       "aggData": [],
       "aggError": "",
       "aggOverflow": false,
       "aggSchema": [],
       "aggSeriesLimitReached": false,
       "aggType": "",
       "arguments": {},
       "columnCustomDisplayInfos": {},
       "data": [
        [
         13765,
         0,
         0,
         13765
        ]
       ],
       "datasetInfos": [],
       "dbfsResultPath": null,
       "isJsonSchema": true,
       "metadata": {},
       "overflow": false,
       "plotOptions": {
        "customPlotOptions": {},
        "displayType": "table",
        "pivotAggregation": null,
        "pivotColumns": null,
        "xColumns": null,
        "yColumns": null
       },
       "removedWidgets": [],
       "schema": [
        {
         "metadata": "{}",
         "name": "num_affected_rows",
         "type": "\"long\""
        },
        {
         "metadata": "{}",
         "name": "num_updated_rows",
         "type": "\"long\""
        },
        {
         "metadata": "{}",
         "name": "num_deleted_rows",
         "type": "\"long\""
        },
        {
         "metadata": "{}",
         "name": "num_inserted_rows",
         "type": "\"long\""
        }
       ],
       "type": "table"
      }
     },
     "output_type": "display_data"
    }
   ],
   "source": [
    "%sql\n",
    "MERGE INTO silver.tb_item_venda a\n",
    "USING (\n",
    "SELECT \n",
    "CODIGO_VENDA\n",
    ",CODIGO_PRODUTO\n",
    ",VALOR_UNITARIO\n",
    ",QUANTIDADE\n",
    ",VALOR_FINAL\n",
    "FROM bronze.tb_item_venda\n",
    ") b\n",
    "\n",
    "ON a.CODIGO_VENDA= b.CODIGO_VENDA\n",
    "AND a.CODIGO_PRODUTO= b.CODIGO_PRODUTO\n",
    "\n",
    "WHEN MATCHED THEN\n",
    "UPDATE SET \n",
    "a.VALOR_UNITARIO = b.VALOR_UNITARIO\n",
    ",a.QUANTIDADE = b.QUANTIDADE\n",
    ",a.VALOR_FINAL = b.VALOR_FINAL\n",
    ",a.DATA_ALTERACAO = from_utc_timestamp(now(),'GMT-3')\n",
    "\n",
    "WHEN NOT MATCHED\n",
    "THEN \n",
    "INSERT \n",
    "(\n",
    "CODIGO_VENDA\n",
    ",CODIGO_PRODUTO\n",
    ",VALOR_UNITARIO\n",
    ",QUANTIDADE\n",
    ",VALOR_FINAL\n",
    ",DATA_CADASTRO\n",
    ",DATA_ALTERACAO\n",
    ")\n",
    "VALUES \n",
    "(\n",
    "b.CODIGO_VENDA\n",
    ",b.CODIGO_PRODUTO\n",
    ",b.VALOR_UNITARIO\n",
    ",b.QUANTIDADE\n",
    ",b.VALOR_FINAL\n",
    ",from_utc_timestamp(now(),'GMT-3')\n",
    ",from_utc_timestamp(now(),'GMT-3')\n",
    ")\n"
   ]
  },
  {
   "cell_type": "code",
   "execution_count": 0,
   "metadata": {
    "application/vnd.databricks.v1+cell": {
     "cellMetadata": {
      "byteLimit": 2048000,
      "implicitDf": true,
      "rowLimit": 10000
     },
     "inputWidgets": {},
     "nuid": "c484c019-c85d-4cc8-b07d-40ccff98b566",
     "showTitle": true,
     "title": "SEQ-06 - Carga Tabela Camada Silver - tb_loja"
    }
   },
   "outputs": [
    {
     "output_type": "display_data",
     "data": {
      "text/html": [
       "<style scoped>\n",
       "  .table-result-container {\n",
       "    max-height: 300px;\n",
       "    overflow: auto;\n",
       "  }\n",
       "  table, th, td {\n",
       "    border: 1px solid black;\n",
       "    border-collapse: collapse;\n",
       "  }\n",
       "  th, td {\n",
       "    padding: 5px;\n",
       "  }\n",
       "  th {\n",
       "    text-align: left;\n",
       "  }\n",
       "</style><div class='table-result-container'><table class='table-result'><thead style='background-color: white'><tr><th>num_affected_rows</th><th>num_updated_rows</th><th>num_deleted_rows</th><th>num_inserted_rows</th></tr></thead><tbody><tr><td>17</td><td>0</td><td>0</td><td>17</td></tr></tbody></table></div>"
      ]
     },
     "metadata": {
      "application/vnd.databricks.v1+output": {
       "addedWidgets": {},
       "aggData": [],
       "aggError": "",
       "aggOverflow": false,
       "aggSchema": [],
       "aggSeriesLimitReached": false,
       "aggType": "",
       "arguments": {},
       "columnCustomDisplayInfos": {},
       "data": [
        [
         17,
         0,
         0,
         17
        ]
       ],
       "datasetInfos": [],
       "dbfsResultPath": null,
       "isJsonSchema": true,
       "metadata": {},
       "overflow": false,
       "plotOptions": {
        "customPlotOptions": {},
        "displayType": "table",
        "pivotAggregation": null,
        "pivotColumns": null,
        "xColumns": null,
        "yColumns": null
       },
       "removedWidgets": [],
       "schema": [
        {
         "metadata": "{}",
         "name": "num_affected_rows",
         "type": "\"long\""
        },
        {
         "metadata": "{}",
         "name": "num_updated_rows",
         "type": "\"long\""
        },
        {
         "metadata": "{}",
         "name": "num_deleted_rows",
         "type": "\"long\""
        },
        {
         "metadata": "{}",
         "name": "num_inserted_rows",
         "type": "\"long\""
        }
       ],
       "type": "table"
      }
     },
     "output_type": "display_data"
    }
   ],
   "source": [
    "%sql\n",
    "MERGE INTO silver.tb_loja a\n",
    "USING (\n",
    "SELECT \n",
    "CODIGO_LOJA_VENDEDOR\n",
    ",CODIGO_LOJA\n",
    ",CODIGO_VENDEDOR\n",
    ",IFNULL(TRIM(acentuacao(NOME_LOJA)),'N/A') NOME_LOJA\n",
    ",IFNULL(TRIM(acentuacao(LOCALIDADE_LOJA)),'N/A') LOCALIDADE_LOJA\n",
    ",IFNULL(TRIM(TIPO_LOJA),'N/A') TIPO_LOJA\n",
    "FROM bronze.tb_loja\n",
    ") b\n",
    "\n",
    "ON a.CODIGO_LOJA_VENDEDOR= b.CODIGO_LOJA_VENDEDOR\n",
    "\n",
    "WHEN MATCHED THEN\n",
    "UPDATE SET \n",
    "a.CODIGO_LOJA = b.CODIGO_LOJA\n",
    ",a.CODIGO_VENDEDOR = b.CODIGO_VENDEDOR\n",
    ",a.NOME_LOJA = b.NOME_LOJA\n",
    ",a.LOCALIDADE_LOJA = b.LOCALIDADE_LOJA\n",
    ",a.TIPO_LOJA = b.TIPO_LOJA\n",
    ",a.DATA_ALTERACAO = from_utc_timestamp(now(),'GMT-3')\n",
    "\n",
    "WHEN NOT MATCHED\n",
    "THEN \n",
    "INSERT (\n",
    "CODIGO_LOJA_VENDEDOR\n",
    ",CODIGO_LOJA\n",
    ",CODIGO_VENDEDOR\n",
    ",NOME_LOJA\n",
    ",LOCALIDADE_LOJA\n",
    ",TIPO_LOJA\n",
    ",DATA_CADASTRO\n",
    ",DATA_ALTERACAO\n",
    ") \n",
    "VALUES \n",
    "(\n",
    "b.CODIGO_LOJA_VENDEDOR  \n",
    ",b.CODIGO_LOJA\n",
    ",b.CODIGO_VENDEDOR\n",
    ",b.NOME_LOJA\n",
    ",b.LOCALIDADE_LOJA\n",
    ",b.TIPO_LOJA\n",
    ",from_utc_timestamp(now(),'GMT-3')\n",
    ",from_utc_timestamp(now(),'GMT-3')\n",
    ")"
   ]
  },
  {
   "cell_type": "code",
   "execution_count": 0,
   "metadata": {
    "application/vnd.databricks.v1+cell": {
     "cellMetadata": {
      "byteLimit": 2048000,
      "implicitDf": true,
      "rowLimit": 10000
     },
     "inputWidgets": {},
     "nuid": "90abf329-28f4-4042-85d9-4ce6028fcbfc",
     "showTitle": true,
     "title": "SEQ-07 - Carga Tabela Camada Silver - tb_produto"
    }
   },
   "outputs": [
    {
     "output_type": "display_data",
     "data": {
      "text/html": [
       "<style scoped>\n",
       "  .table-result-container {\n",
       "    max-height: 300px;\n",
       "    overflow: auto;\n",
       "  }\n",
       "  table, th, td {\n",
       "    border: 1px solid black;\n",
       "    border-collapse: collapse;\n",
       "  }\n",
       "  th, td {\n",
       "    padding: 5px;\n",
       "  }\n",
       "  th {\n",
       "    text-align: left;\n",
       "  }\n",
       "</style><div class='table-result-container'><table class='table-result'><thead style='background-color: white'><tr><th>num_affected_rows</th><th>num_updated_rows</th><th>num_deleted_rows</th><th>num_inserted_rows</th></tr></thead><tbody><tr><td>91</td><td>0</td><td>0</td><td>91</td></tr></tbody></table></div>"
      ]
     },
     "metadata": {
      "application/vnd.databricks.v1+output": {
       "addedWidgets": {},
       "aggData": [],
       "aggError": "",
       "aggOverflow": false,
       "aggSchema": [],
       "aggSeriesLimitReached": false,
       "aggType": "",
       "arguments": {},
       "columnCustomDisplayInfos": {},
       "data": [
        [
         91,
         0,
         0,
         91
        ]
       ],
       "datasetInfos": [],
       "dbfsResultPath": null,
       "isJsonSchema": true,
       "metadata": {},
       "overflow": false,
       "plotOptions": {
        "customPlotOptions": {},
        "displayType": "table",
        "pivotAggregation": null,
        "pivotColumns": null,
        "xColumns": null,
        "yColumns": null
       },
       "removedWidgets": [],
       "schema": [
        {
         "metadata": "{}",
         "name": "num_affected_rows",
         "type": "\"long\""
        },
        {
         "metadata": "{}",
         "name": "num_updated_rows",
         "type": "\"long\""
        },
        {
         "metadata": "{}",
         "name": "num_deleted_rows",
         "type": "\"long\""
        },
        {
         "metadata": "{}",
         "name": "num_inserted_rows",
         "type": "\"long\""
        }
       ],
       "type": "table"
      }
     },
     "output_type": "display_data"
    }
   ],
   "source": [
    "%sql\n",
    "\n",
    "MERGE INTO silver.tb_produto a\n",
    "USING (SELECT \n",
    "PROD.CODIGO_PRODUTO\n",
    ",IFNULL(TRIM(acentuacao(PROD.DESCRICAO_PRODUTO)),'N/A') DESCRICAO_PRODUTO\n",
    ",IFNULL(TRIM(PROD.CODIGO_CATEGORIA),'N/A') CODIGO_CATEGORIA\n",
    "FROM bronze.tb_produto PROD) b\n",
    "\n",
    "ON a.CODIGO_PRODUTO= b.CODIGO_PRODUTO\n",
    "\n",
    "WHEN MATCHED \n",
    "THEN\n",
    "UPDATE SET \n",
    "a.DESCRICAO_PRODUTO = b.DESCRICAO_PRODUTO\n",
    ",a.CODIGO_CATEGORIA = b.CODIGO_CATEGORIA\n",
    ",a.DATA_ALTERACAO = from_utc_timestamp(now(),'GMT-3')\n",
    "\n",
    "WHEN NOT MATCHED\n",
    "THEN \n",
    "INSERT \n",
    "(\n",
    "CODIGO_PRODUTO\n",
    ",DESCRICAO_PRODUTO\n",
    ",CODIGO_CATEGORIA\n",
    ",DATA_CADASTRO\n",
    ",DATA_ALTERACAO\n",
    ") \n",
    "VALUES \n",
    "(\n",
    "b.CODIGO_PRODUTO\n",
    ",b.DESCRICAO_PRODUTO\n",
    ",b.CODIGO_CATEGORIA\n",
    ",from_utc_timestamp(now(),'GMT-3')\n",
    ",from_utc_timestamp(now(),'GMT-3')\n",
    ")"
   ]
  },
  {
   "cell_type": "code",
   "execution_count": 0,
   "metadata": {
    "application/vnd.databricks.v1+cell": {
     "cellMetadata": {
      "byteLimit": 2048000,
      "implicitDf": true,
      "rowLimit": 10000
     },
     "inputWidgets": {},
     "nuid": "c33d40eb-e9dc-4809-91d5-936143a0b6f0",
     "showTitle": true,
     "title": "SEQ-08 - Carga Tabela Camada Silver - tb_venda"
    }
   },
   "outputs": [
    {
     "output_type": "display_data",
     "data": {
      "text/html": [
       "<style scoped>\n",
       "  .table-result-container {\n",
       "    max-height: 300px;\n",
       "    overflow: auto;\n",
       "  }\n",
       "  table, th, td {\n",
       "    border: 1px solid black;\n",
       "    border-collapse: collapse;\n",
       "  }\n",
       "  th, td {\n",
       "    padding: 5px;\n",
       "  }\n",
       "  th {\n",
       "    text-align: left;\n",
       "  }\n",
       "</style><div class='table-result-container'><table class='table-result'><thead style='background-color: white'><tr><th>num_affected_rows</th><th>num_updated_rows</th><th>num_deleted_rows</th><th>num_inserted_rows</th></tr></thead><tbody><tr><td>2542</td><td>0</td><td>0</td><td>2542</td></tr></tbody></table></div>"
      ]
     },
     "metadata": {
      "application/vnd.databricks.v1+output": {
       "addedWidgets": {},
       "aggData": [],
       "aggError": "",
       "aggOverflow": false,
       "aggSchema": [],
       "aggSeriesLimitReached": false,
       "aggType": "",
       "arguments": {},
       "columnCustomDisplayInfos": {},
       "data": [
        [
         2542,
         0,
         0,
         2542
        ]
       ],
       "datasetInfos": [],
       "dbfsResultPath": null,
       "isJsonSchema": true,
       "metadata": {},
       "overflow": false,
       "plotOptions": {
        "customPlotOptions": {},
        "displayType": "table",
        "pivotAggregation": null,
        "pivotColumns": null,
        "xColumns": null,
        "yColumns": null
       },
       "removedWidgets": [],
       "schema": [
        {
         "metadata": "{}",
         "name": "num_affected_rows",
         "type": "\"long\""
        },
        {
         "metadata": "{}",
         "name": "num_updated_rows",
         "type": "\"long\""
        },
        {
         "metadata": "{}",
         "name": "num_deleted_rows",
         "type": "\"long\""
        },
        {
         "metadata": "{}",
         "name": "num_inserted_rows",
         "type": "\"long\""
        }
       ],
       "type": "table"
      }
     },
     "output_type": "display_data"
    }
   ],
   "source": [
    "%sql\n",
    "\n",
    "MERGE INTO silver.tb_venda a\n",
    "USING (\n",
    "SELECT \n",
    "CODIGO_VENDA\n",
    ",DATA_VENDA\n",
    ",CODIGO_CLIENTE\n",
    ",CODIGO_LOJA_VENDEDOR\n",
    ",VALOR_FINAL\n",
    ",IFNULL(TRIM(CODIGO_FORMA_PAGAMENTO),'N/A') CODIGO_FORMA_PAGAMENTO\n",
    ",IFNULL(TRIM(TIPO_PAGAMENTO),'N/A') TIPO_PAGAMENTO\n",
    "FROM bronze.tb_venda\n",
    ") b\n",
    "\n",
    "ON a.CODIGO_VENDA= b.CODIGO_VENDA\n",
    "\n",
    "WHEN MATCHED THEN\n",
    "UPDATE SET \n",
    "a.DATA_VENDA = b.DATA_VENDA\n",
    ",a.CODIGO_CLIENTE = b.CODIGO_CLIENTE\n",
    ",a.CODIGO_LOJA_VENDEDOR = b.CODIGO_LOJA_VENDEDOR\n",
    ",a.VALOR_FINAL = b.VALOR_FINAL\n",
    ",a.CODIGO_FORMA_PAGAMENTO = b.CODIGO_FORMA_PAGAMENTO\n",
    ",a.TIPO_PAGAMENTO = b.TIPO_PAGAMENTO\n",
    ",a.DATA_ALTERACAO = from_utc_timestamp(now(),'GMT-3')\n",
    "\n",
    "WHEN NOT MATCHED\n",
    "THEN \n",
    "INSERT \n",
    "(\n",
    "CODIGO_VENDA\n",
    ",DATA_VENDA\n",
    ",CODIGO_CLIENTE\n",
    ",CODIGO_LOJA_VENDEDOR\n",
    ",VALOR_FINAL\n",
    ",CODIGO_FORMA_PAGAMENTO\n",
    ",TIPO_PAGAMENTO\n",
    ",DATA_CADASTRO\n",
    ",DATA_ALTERACAO\n",
    ")\n",
    "VALUES (\n",
    "b.CODIGO_VENDA\n",
    ",b.DATA_VENDA\n",
    ",b.CODIGO_CLIENTE\n",
    ",b.CODIGO_LOJA_VENDEDOR\n",
    ",b.VALOR_FINAL\n",
    ",b.CODIGO_FORMA_PAGAMENTO\n",
    ",b.TIPO_PAGAMENTO\n",
    ",from_utc_timestamp(now(),'GMT-3')\n",
    ",from_utc_timestamp(now(),'GMT-3')\n",
    ")\n",
    "\n"
   ]
  },
  {
   "cell_type": "code",
   "execution_count": 0,
   "metadata": {
    "application/vnd.databricks.v1+cell": {
     "cellMetadata": {
      "byteLimit": 2048000,
      "implicitDf": true,
      "rowLimit": 10000
     },
     "inputWidgets": {},
     "nuid": "0b1606d4-566b-446a-b665-b3a65b4b0428",
     "showTitle": true,
     "title": "SEQ-09 - Carga Tabela Camada Silver - tb_vendedor"
    }
   },
   "outputs": [
    {
     "output_type": "display_data",
     "data": {
      "text/html": [
       "<style scoped>\n",
       "  .table-result-container {\n",
       "    max-height: 300px;\n",
       "    overflow: auto;\n",
       "  }\n",
       "  table, th, td {\n",
       "    border: 1px solid black;\n",
       "    border-collapse: collapse;\n",
       "  }\n",
       "  th, td {\n",
       "    padding: 5px;\n",
       "  }\n",
       "  th {\n",
       "    text-align: left;\n",
       "  }\n",
       "</style><div class='table-result-container'><table class='table-result'><thead style='background-color: white'><tr><th>num_affected_rows</th><th>num_updated_rows</th><th>num_deleted_rows</th><th>num_inserted_rows</th></tr></thead><tbody><tr><td>40</td><td>0</td><td>0</td><td>40</td></tr></tbody></table></div>"
      ]
     },
     "metadata": {
      "application/vnd.databricks.v1+output": {
       "addedWidgets": {},
       "aggData": [],
       "aggError": "",
       "aggOverflow": false,
       "aggSchema": [],
       "aggSeriesLimitReached": false,
       "aggType": "",
       "arguments": {},
       "columnCustomDisplayInfos": {},
       "data": [
        [
         40,
         0,
         0,
         40
        ]
       ],
       "datasetInfos": [],
       "dbfsResultPath": null,
       "isJsonSchema": true,
       "metadata": {},
       "overflow": false,
       "plotOptions": {
        "customPlotOptions": {},
        "displayType": "table",
        "pivotAggregation": null,
        "pivotColumns": null,
        "xColumns": null,
        "yColumns": null
       },
       "removedWidgets": [],
       "schema": [
        {
         "metadata": "{}",
         "name": "num_affected_rows",
         "type": "\"long\""
        },
        {
         "metadata": "{}",
         "name": "num_updated_rows",
         "type": "\"long\""
        },
        {
         "metadata": "{}",
         "name": "num_deleted_rows",
         "type": "\"long\""
        },
        {
         "metadata": "{}",
         "name": "num_inserted_rows",
         "type": "\"long\""
        }
       ],
       "type": "table"
      }
     },
     "output_type": "display_data"
    }
   ],
   "source": [
    "%sql\n",
    "\n",
    "MERGE INTO silver.tb_vendedor a\n",
    "USING (\n",
    "SELECT \n",
    "CODIGO_VENDEDOR\n",
    ",IFNULL(TRIM(acentuacao(NOME_VENDEDOR)),'N/A') NOME_VENDEDOR\n",
    "FROM bronze.tb_vendedor\n",
    ") b\n",
    "\n",
    "ON a.CODIGO_VENDEDOR= b.CODIGO_VENDEDOR\n",
    "\n",
    "WHEN MATCHED THEN\n",
    "UPDATE SET \n",
    "a.NOME_VENDEDOR = b.NOME_VENDEDOR\n",
    ",a.DATA_ALTERACAO = from_utc_timestamp(now(),'GMT-3')\n",
    "\n",
    "WHEN NOT MATCHED\n",
    "THEN \n",
    "INSERT \n",
    "(\n",
    "CODIGO_VENDEDOR\n",
    ",NOME_VENDEDOR\n",
    ",DATA_CADASTRO\n",
    ",DATA_ALTERACAO\n",
    ") \n",
    "VALUES \n",
    "(\n",
    "b.CODIGO_VENDEDOR\n",
    ",b.NOME_VENDEDOR\n",
    ",from_utc_timestamp(now(),'GMT-3')\n",
    ",from_utc_timestamp(now(),'GMT-3')\n",
    ")"
   ]
  }
 ],
 "metadata": {
  "application/vnd.databricks.v1+notebook": {
   "dashboards": [],
   "language": "python",
   "notebookMetadata": {
    "mostRecentlyExecutedCommandWithImplicitDF": {
     "commandId": 1513322853363833,
     "dataframes": [
      "_sqldf"
     ]
    },
    "pythonIndentUnit": 4
   },
   "notebookName": "03_ingestao_camada_silver",
   "widgets": {}
  }
 },
 "nbformat": 4,
 "nbformat_minor": 0
}
