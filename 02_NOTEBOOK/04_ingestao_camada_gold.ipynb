{
 "cells": [
  {
   "cell_type": "markdown",
   "metadata": {
    "application/vnd.databricks.v1+cell": {
     "cellMetadata": {
      "byteLimit": 2048000,
      "rowLimit": 10000
     },
     "inputWidgets": {},
     "nuid": "8d1eb7b1-66db-45ad-8ec6-1f31755a23f2",
     "showTitle": false,
     "title": ""
    }
   },
   "source": [
    "## Atividades Desenvolvidas no Notebook - 04_ingestao_camada_gold\n",
    "\n",
    "|Sequência|Ação|Detalhamento\n",
    "|---|---|---|\n",
    "|SEQ-01 |Função acentuacao|Usada para remover a acentuação de campos do tipo STRING.|\n",
    "|SEQ-02 / SEQ-03 / SEQ-04 / SEQ-05 / SEQ-06|Ingestão dos Dados da Camada Bronze para Silver|Carga realizada baseada nos dados existentes nas tabelas da camada Bronze.|\n",
    "|SEQ-02 / SEQ-03 / SEQ-04 / SEQ-05 / SEQ-06|Tratamento de dados antes de inserir/atualizar|Remover acentuação e caracteres especiais, valores nulos onde o datatype foi STRING, informar 'N/A', datatype NUMÉRICO, informar 0 (zero) e datatype DATE/TIMESTAMP, informar '1900-01-01'. Todo os dados do tipo STRING devem estar dados em caixa alta.|\n",
    "|SEQ-02 / SEQ-03 / SEQ-04 / SEQ-05 / SEQ-06|Identificar a data de alteração ou cadastro|Regra: Caso o registro não exista (caindo na condição INSERT do MERGE), a data de cadastro e data de alteração devem ser a mesma, caso o registro exista, a data de alteração deverá ser alterada.|"
   ]
  },
  {
   "cell_type": "code",
   "execution_count": 0,
   "metadata": {
    "application/vnd.databricks.v1+cell": {
     "cellMetadata": {
      "byteLimit": 2048000,
      "rowLimit": 10000
     },
     "inputWidgets": {},
     "nuid": "e4ae5396-96fc-4699-b25b-21b689f68c23",
     "showTitle": true,
     "title": "SEQ-01 - Importa Notebook"
    }
   },
   "outputs": [
    {
     "output_type": "stream",
     "name": "stdout",
     "output_type": "stream",
     "text": [
      "Out[16]: <function __main__.acentuacao(palavra)>"
     ]
    }
   ],
   "source": [
    "%run /estudos/libs/bibliotecas"
   ]
  },
  {
   "cell_type": "code",
   "execution_count": 0,
   "metadata": {
    "application/vnd.databricks.v1+cell": {
     "cellMetadata": {
      "byteLimit": 2048000,
      "implicitDf": true,
      "rowLimit": 10000
     },
     "inputWidgets": {},
     "nuid": "06083bb8-d723-4b38-a1a1-79e4a313d94a",
     "showTitle": true,
     "title": "SEQ-02 - Carga Tabela Camada Gold - dim_cliente"
    }
   },
   "outputs": [
    {
     "output_type": "display_data",
     "data": {
      "text/plain": [
       "\u001B[0;31m---------------------------------------------------------------------------\u001B[0m\n",
       "\u001B[0;31mAnalysisException\u001B[0m                         Traceback (most recent call last)\n",
       "File \u001B[0;32m<command-3272602097719728>:7\u001B[0m\n",
       "\u001B[1;32m      5\u001B[0m     display(df)\n",
       "\u001B[1;32m      6\u001B[0m     \u001B[38;5;28;01mreturn\u001B[39;00m df\n",
       "\u001B[0;32m----> 7\u001B[0m   _sqldf \u001B[38;5;241m=\u001B[39m \u001B[43m____databricks_percent_sql\u001B[49m\u001B[43m(\u001B[49m\u001B[43m)\u001B[49m\n",
       "\u001B[1;32m      8\u001B[0m \u001B[38;5;28;01mfinally\u001B[39;00m:\n",
       "\u001B[1;32m      9\u001B[0m   \u001B[38;5;28;01mdel\u001B[39;00m ____databricks_percent_sql\n",
       "\n",
       "File \u001B[0;32m<command-3272602097719728>:4\u001B[0m, in \u001B[0;36m____databricks_percent_sql\u001B[0;34m()\u001B[0m\n",
       "\u001B[1;32m      2\u001B[0m \u001B[38;5;28;01mdef\u001B[39;00m \u001B[38;5;21m____databricks_percent_sql\u001B[39m():\n",
       "\u001B[1;32m      3\u001B[0m   \u001B[38;5;28;01mimport\u001B[39;00m \u001B[38;5;21;01mbase64\u001B[39;00m\n",
       "\u001B[0;32m----> 4\u001B[0m   df \u001B[38;5;241m=\u001B[39m \u001B[43mspark\u001B[49m\u001B[38;5;241;43m.\u001B[39;49m\u001B[43msql\u001B[49m\u001B[43m(\u001B[49m\u001B[43mbase64\u001B[49m\u001B[38;5;241;43m.\u001B[39;49m\u001B[43mstandard_b64decode\u001B[49m\u001B[43m(\u001B[49m\u001B[38;5;124;43m\"\u001B[39;49m\u001B[38;5;124;43mTUVSR0UgSU5UTyBnb2xkLkRJTV9DTElFTlRFIGEKVVNJTkcgKApTRUxFQ1QgCmhhc2goQ09ESUdPX0NMSUVOVEUsIDI1NikgSURfQ0xJRU5URQosQ09ESUdPX0NMSUVOVEUKLGFjZW50dWFjYW8oTk9NRV9DTElFTlRFKSBOT01FX0NMSUVOVEUKLERBVEFfTkFTQ0lNRU5UTwosSURBREVfQ0xJRU5URQosYWNlbnR1YWNhbyhERVNDUklDQU9fRU5ERVJFQ08pIERFU0NSSUNBT19FTkRFUkVDTwosTlVNRVJPX0VOREVSRUNPCixhY2VudHVhY2FvKE5PTUVfQ0lEQURFKSBOT01FX0NJREFERQosTlVNRVJPX1RFTEVGT05FCixFTUFJTF9DTElFTlRFCixhY2VudHVhY2FvKE9DVVBBQ0FPX0NMSUVOVEUpIE9DVVBBQ0FPX0NMSUVOVEUKRlJPTSBzaWx2ZXIudGJfY2xpZW50ZQopIGIKCk9OIGEuSURfQ0xJRU5URT0gYi5JRF9DTElFTlRFCgpXSEVOIE1BVENIRUQgVEhFTgpVUERBVEUgU0VUIAphLkNPRElHT19DTElFTlRFID0gYi5DT0RJR09fQ0xJRU5URQosYS5OT01FX0NMSUVOVEUgPSBiLk5PTUVfQ0xJRU5URQosYS5EQVRBX05BU0NJTUVOVE8gPSBiLkRBVEFfTkFTQ0lNRU5UTwosYS5JREFERV9DTElFTlRFID0gYi5JREFERV9DTElFTlRFCixhLkRFU0NSSUNBT19FTkRFUkVDTyA9IGIuREVTQ1JJQ0FPX0VOREVSRUNPCixhLk5VTUVST19FTkRFUkVDTyA9IGIuTlVNRVJPX0VOREVSRUNPCixhLk5PTUVfQ0lEQURFID0gYi5OT01FX0NJREFERQosYS5OVU1FUk9fVEVMRUZPTkUgPSBiLk5VTUVST19URUxFRk9ORQosYS5FTUFJTF9DTElFTlRFID0gYi5FTUFJTF9DTElFTlRFCixhLk9DVVBBQ0FPX0NMSUVOVEUgPSBiLk9DVVBBQ0FPX0NMSUVOVEUKLGEuREFUQV9BTFRFUkFDQU8gPSBmcm9tX3V0Y190aW1lc3RhbXAobm93KCksJ0dNVC0zJykKCldIRU4gTk9UIE1BVENIRUQKVEhFTiAKSU5TRVJUIAooCklEX0NMSUVOVEUKLENPRElHT19DTElFTlRFCixOT01FX0NMSUVOVEUKLERBVEFfTkFTQ0lNRU5UTwosSURBREVfQ0xJRU5URQosREVTQ1JJQ0FPX0VOREVSRUNPCixOVU1FUk9fRU5ERVJFQ08KLE5PTUVfQ0lEQURFCixOVU1FUk9fVEVMRUZPTkUKLEVNQUlMX0NMSUVOVEUKLE9DVVBBQ0FPX0NMSUVOVEUKLERBVEFfQ0FEQVNUUk8KLERBVEFfQUxURVJBQ0FPCikKVkFMVUVTIAooCmIuSURfQ0xJRU5URQosYi5DT0RJR09fQ0xJRU5URQosYi5OT01FX0NMSUVOVEUKLGIuREFUQV9OQVNDSU1FTlRPCixiLklEQURFX0NMSUVOVEUKLGIuREVTQ1JJQ0FPX0VOREVSRUNPCixiLk5VTUVST19FTkRFUkVDTwosYi5OT01FX0NJREFERQosYi5OVU1FUk9fVEVMRUZPTkUKLGIuRU1BSUxfQ0xJRU5URQosYi5PQ1VQQUNBT19DTElFTlRFCixmcm9tX3V0Y190aW1lc3RhbXAobm93KCksJ0dNVC0zJykKLGZyb21fdXRjX3RpbWVzdGFtcChub3coKSwnR01ULTMnKQop\u001B[39;49m\u001B[38;5;124;43m\"\u001B[39;49m\u001B[43m)\u001B[49m\u001B[38;5;241;43m.\u001B[39;49m\u001B[43mdecode\u001B[49m\u001B[43m(\u001B[49m\u001B[43m)\u001B[49m\u001B[43m)\u001B[49m\n",
       "\u001B[1;32m      5\u001B[0m   display(df)\n",
       "\u001B[1;32m      6\u001B[0m   \u001B[38;5;28;01mreturn\u001B[39;00m df\n",
       "\n",
       "File \u001B[0;32m/databricks/spark/python/pyspark/instrumentation_utils.py:48\u001B[0m, in \u001B[0;36m_wrap_function.<locals>.wrapper\u001B[0;34m(*args, **kwargs)\u001B[0m\n",
       "\u001B[1;32m     46\u001B[0m start \u001B[38;5;241m=\u001B[39m time\u001B[38;5;241m.\u001B[39mperf_counter()\n",
       "\u001B[1;32m     47\u001B[0m \u001B[38;5;28;01mtry\u001B[39;00m:\n",
       "\u001B[0;32m---> 48\u001B[0m     res \u001B[38;5;241m=\u001B[39m \u001B[43mfunc\u001B[49m\u001B[43m(\u001B[49m\u001B[38;5;241;43m*\u001B[39;49m\u001B[43margs\u001B[49m\u001B[43m,\u001B[49m\u001B[43m \u001B[49m\u001B[38;5;241;43m*\u001B[39;49m\u001B[38;5;241;43m*\u001B[39;49m\u001B[43mkwargs\u001B[49m\u001B[43m)\u001B[49m\n",
       "\u001B[1;32m     49\u001B[0m     logger\u001B[38;5;241m.\u001B[39mlog_success(\n",
       "\u001B[1;32m     50\u001B[0m         module_name, class_name, function_name, time\u001B[38;5;241m.\u001B[39mperf_counter() \u001B[38;5;241m-\u001B[39m start, signature\n",
       "\u001B[1;32m     51\u001B[0m     )\n",
       "\u001B[1;32m     52\u001B[0m     \u001B[38;5;28;01mreturn\u001B[39;00m res\n",
       "\n",
       "File \u001B[0;32m/databricks/spark/python/pyspark/sql/session.py:1387\u001B[0m, in \u001B[0;36mSparkSession.sql\u001B[0;34m(self, sqlQuery, args, **kwargs)\u001B[0m\n",
       "\u001B[1;32m   1385\u001B[0m \u001B[38;5;28;01mtry\u001B[39;00m:\n",
       "\u001B[1;32m   1386\u001B[0m     litArgs \u001B[38;5;241m=\u001B[39m {k: _to_java_column(lit(v)) \u001B[38;5;28;01mfor\u001B[39;00m k, v \u001B[38;5;129;01min\u001B[39;00m (args \u001B[38;5;129;01mor\u001B[39;00m {})\u001B[38;5;241m.\u001B[39mitems()}\n",
       "\u001B[0;32m-> 1387\u001B[0m     \u001B[38;5;28;01mreturn\u001B[39;00m DataFrame(\u001B[38;5;28;43mself\u001B[39;49m\u001B[38;5;241;43m.\u001B[39;49m\u001B[43m_jsparkSession\u001B[49m\u001B[38;5;241;43m.\u001B[39;49m\u001B[43msql\u001B[49m\u001B[43m(\u001B[49m\u001B[43msqlQuery\u001B[49m\u001B[43m,\u001B[49m\u001B[43m \u001B[49m\u001B[43mlitArgs\u001B[49m\u001B[43m)\u001B[49m, \u001B[38;5;28mself\u001B[39m)\n",
       "\u001B[1;32m   1388\u001B[0m \u001B[38;5;28;01mfinally\u001B[39;00m:\n",
       "\u001B[1;32m   1389\u001B[0m     \u001B[38;5;28;01mif\u001B[39;00m \u001B[38;5;28mlen\u001B[39m(kwargs) \u001B[38;5;241m>\u001B[39m \u001B[38;5;241m0\u001B[39m:\n",
       "\n",
       "File \u001B[0;32m/databricks/spark/python/lib/py4j-0.10.9.5-src.zip/py4j/java_gateway.py:1321\u001B[0m, in \u001B[0;36mJavaMember.__call__\u001B[0;34m(self, *args)\u001B[0m\n",
       "\u001B[1;32m   1315\u001B[0m command \u001B[38;5;241m=\u001B[39m proto\u001B[38;5;241m.\u001B[39mCALL_COMMAND_NAME \u001B[38;5;241m+\u001B[39m\\\n",
       "\u001B[1;32m   1316\u001B[0m     \u001B[38;5;28mself\u001B[39m\u001B[38;5;241m.\u001B[39mcommand_header \u001B[38;5;241m+\u001B[39m\\\n",
       "\u001B[1;32m   1317\u001B[0m     args_command \u001B[38;5;241m+\u001B[39m\\\n",
       "\u001B[1;32m   1318\u001B[0m     proto\u001B[38;5;241m.\u001B[39mEND_COMMAND_PART\n",
       "\u001B[1;32m   1320\u001B[0m answer \u001B[38;5;241m=\u001B[39m \u001B[38;5;28mself\u001B[39m\u001B[38;5;241m.\u001B[39mgateway_client\u001B[38;5;241m.\u001B[39msend_command(command)\n",
       "\u001B[0;32m-> 1321\u001B[0m return_value \u001B[38;5;241m=\u001B[39m \u001B[43mget_return_value\u001B[49m\u001B[43m(\u001B[49m\n",
       "\u001B[1;32m   1322\u001B[0m \u001B[43m    \u001B[49m\u001B[43manswer\u001B[49m\u001B[43m,\u001B[49m\u001B[43m \u001B[49m\u001B[38;5;28;43mself\u001B[39;49m\u001B[38;5;241;43m.\u001B[39;49m\u001B[43mgateway_client\u001B[49m\u001B[43m,\u001B[49m\u001B[43m \u001B[49m\u001B[38;5;28;43mself\u001B[39;49m\u001B[38;5;241;43m.\u001B[39;49m\u001B[43mtarget_id\u001B[49m\u001B[43m,\u001B[49m\u001B[43m \u001B[49m\u001B[38;5;28;43mself\u001B[39;49m\u001B[38;5;241;43m.\u001B[39;49m\u001B[43mname\u001B[49m\u001B[43m)\u001B[49m\n",
       "\u001B[1;32m   1324\u001B[0m \u001B[38;5;28;01mfor\u001B[39;00m temp_arg \u001B[38;5;129;01min\u001B[39;00m temp_args:\n",
       "\u001B[1;32m   1325\u001B[0m     temp_arg\u001B[38;5;241m.\u001B[39m_detach()\n",
       "\n",
       "File \u001B[0;32m/databricks/spark/python/pyspark/errors/exceptions.py:234\u001B[0m, in \u001B[0;36mcapture_sql_exception.<locals>.deco\u001B[0;34m(*a, **kw)\u001B[0m\n",
       "\u001B[1;32m    230\u001B[0m converted \u001B[38;5;241m=\u001B[39m convert_exception(e\u001B[38;5;241m.\u001B[39mjava_exception)\n",
       "\u001B[1;32m    231\u001B[0m \u001B[38;5;28;01mif\u001B[39;00m \u001B[38;5;129;01mnot\u001B[39;00m \u001B[38;5;28misinstance\u001B[39m(converted, UnknownException):\n",
       "\u001B[1;32m    232\u001B[0m     \u001B[38;5;66;03m# Hide where the exception came from that shows a non-Pythonic\u001B[39;00m\n",
       "\u001B[1;32m    233\u001B[0m     \u001B[38;5;66;03m# JVM exception message.\u001B[39;00m\n",
       "\u001B[0;32m--> 234\u001B[0m     \u001B[38;5;28;01mraise\u001B[39;00m converted \u001B[38;5;28;01mfrom\u001B[39;00m \u001B[38;5;28mNone\u001B[39m\n",
       "\u001B[1;32m    235\u001B[0m \u001B[38;5;28;01melse\u001B[39;00m:\n",
       "\u001B[1;32m    236\u001B[0m     \u001B[38;5;28;01mraise\u001B[39;00m\n",
       "\n",
       "\u001B[0;31mAnalysisException\u001B[0m: [TABLE_OR_VIEW_NOT_FOUND] The table or view `silver`.`tb_cliente` cannot be found. Verify the spelling and correctness of the schema and catalog.\n",
       "If you did not qualify the name with a schema, verify the current_schema() output, or qualify the name with the correct schema and catalog.\n",
       "To tolerate the error on drop use DROP VIEW IF EXISTS or DROP TABLE IF EXISTS.; line 15 pos 5;\n",
       "'MergeIntoTable ('a.ID_CLIENTE = 'b.ID_CLIENTE), [updateaction(None, assignment('a.CODIGO_CLIENTE, 'b.CODIGO_CLIENTE), assignment('a.NOME_CLIENTE, 'b.NOME_CLIENTE), assignment('a.DATA_NASCIMENTO, 'b.DATA_NASCIMENTO), assignment('a.IDADE_CLIENTE, 'b.IDADE_CLIENTE), assignment('a.DESCRICAO_ENDERECO, 'b.DESCRICAO_ENDERECO), assignment('a.NUMERO_ENDERECO, 'b.NUMERO_ENDERECO), assignment('a.NOME_CIDADE, 'b.NOME_CIDADE), assignment('a.NUMERO_TELEFONE, 'b.NUMERO_TELEFONE), assignment('a.EMAIL_CLIENTE, 'b.EMAIL_CLIENTE), assignment('a.OCUPACAO_CLIENTE, 'b.OCUPACAO_CLIENTE), assignment('a.DATA_ALTERACAO, from_utc_timestamp(now(), GMT-3)))], [insertaction(None, assignment('ID_CLIENTE, 'b.ID_CLIENTE), assignment('CODIGO_CLIENTE, 'b.CODIGO_CLIENTE), assignment('NOME_CLIENTE, 'b.NOME_CLIENTE), assignment('DATA_NASCIMENTO, 'b.DATA_NASCIMENTO), assignment('IDADE_CLIENTE, 'b.IDADE_CLIENTE), assignment('DESCRICAO_ENDERECO, 'b.DESCRICAO_ENDERECO), assignment('NUMERO_ENDERECO, 'b.NUMERO_ENDERECO), assignment('NOME_CIDADE, 'b.NOME_CIDADE), assignment('NUMERO_TELEFONE, 'b.NUMERO_TELEFONE), assignment('EMAIL_CLIENTE, 'b.EMAIL_CLIENTE), assignment('OCUPACAO_CLIENTE, 'b.OCUPACAO_CLIENTE), assignment('DATA_CADASTRO, from_utc_timestamp(now(), GMT-3)), assignment('DATA_ALTERACAO, from_utc_timestamp(now(), GMT-3)))]\n",
       ":- SubqueryAlias a\n",
       ":  +- SubqueryAlias spark_catalog.gold.DIM_CLIENTE\n",
       ":     +- Relation spark_catalog.gold.dim_cliente[ID_CLIENTE#5130,CODIGO_CLIENTE#5131,NOME_CLIENTE#5132,DATA_NASCIMENTO#5133,IDADE_CLIENTE#5134,DESCRICAO_ENDERECO#5135,NUMERO_ENDERECO#5136,NOME_CIDADE#5137,NUMERO_TELEFONE#5138,EMAIL_CLIENTE#5139,OCUPACAO_CLIENTE#5140,DATA_CADASTRO#5141,DATA_ALTERACAO#5142] parquet\n",
       "+- 'SubqueryAlias b\n",
       "   +- 'Project ['hash('CODIGO_CLIENTE, 256) AS ID_CLIENTE#5112, 'CODIGO_CLIENTE, 'acentuacao('NOME_CLIENTE) AS NOME_CLIENTE#5113, 'DATA_NASCIMENTO, 'IDADE_CLIENTE, 'acentuacao('DESCRICAO_ENDERECO) AS DESCRICAO_ENDERECO#5114, 'NUMERO_ENDERECO, 'acentuacao('NOME_CIDADE) AS NOME_CIDADE#5115, 'NUMERO_TELEFONE, 'EMAIL_CLIENTE, 'acentuacao('OCUPACAO_CLIENTE) AS OCUPACAO_CLIENTE#5116]\n",
       "      +- 'UnresolvedRelation [silver, tb_cliente], [], false\n"
      ]
     },
     "metadata": {
      "application/vnd.databricks.v1+output": {
       "arguments": {},
       "data": "\u001B[0;31m---------------------------------------------------------------------------\u001B[0m\n\u001B[0;31mAnalysisException\u001B[0m                         Traceback (most recent call last)\nFile \u001B[0;32m<command-3272602097719728>:7\u001B[0m\n\u001B[1;32m      5\u001B[0m     display(df)\n\u001B[1;32m      6\u001B[0m     \u001B[38;5;28;01mreturn\u001B[39;00m df\n\u001B[0;32m----> 7\u001B[0m   _sqldf \u001B[38;5;241m=\u001B[39m \u001B[43m____databricks_percent_sql\u001B[49m\u001B[43m(\u001B[49m\u001B[43m)\u001B[49m\n\u001B[1;32m      8\u001B[0m \u001B[38;5;28;01mfinally\u001B[39;00m:\n\u001B[1;32m      9\u001B[0m   \u001B[38;5;28;01mdel\u001B[39;00m ____databricks_percent_sql\n\nFile \u001B[0;32m<command-3272602097719728>:4\u001B[0m, in \u001B[0;36m____databricks_percent_sql\u001B[0;34m()\u001B[0m\n\u001B[1;32m      2\u001B[0m \u001B[38;5;28;01mdef\u001B[39;00m \u001B[38;5;21m____databricks_percent_sql\u001B[39m():\n\u001B[1;32m      3\u001B[0m   \u001B[38;5;28;01mimport\u001B[39;00m \u001B[38;5;21;01mbase64\u001B[39;00m\n\u001B[0;32m----> 4\u001B[0m   df \u001B[38;5;241m=\u001B[39m \u001B[43mspark\u001B[49m\u001B[38;5;241;43m.\u001B[39;49m\u001B[43msql\u001B[49m\u001B[43m(\u001B[49m\u001B[43mbase64\u001B[49m\u001B[38;5;241;43m.\u001B[39;49m\u001B[43mstandard_b64decode\u001B[49m\u001B[43m(\u001B[49m\u001B[38;5;124;43m\"\u001B[39;49m\u001B[38;5;124;43mTUVSR0UgSU5UTyBnb2xkLkRJTV9DTElFTlRFIGEKVVNJTkcgKApTRUxFQ1QgCmhhc2goQ09ESUdPX0NMSUVOVEUsIDI1NikgSURfQ0xJRU5URQosQ09ESUdPX0NMSUVOVEUKLGFjZW50dWFjYW8oTk9NRV9DTElFTlRFKSBOT01FX0NMSUVOVEUKLERBVEFfTkFTQ0lNRU5UTwosSURBREVfQ0xJRU5URQosYWNlbnR1YWNhbyhERVNDUklDQU9fRU5ERVJFQ08pIERFU0NSSUNBT19FTkRFUkVDTwosTlVNRVJPX0VOREVSRUNPCixhY2VudHVhY2FvKE5PTUVfQ0lEQURFKSBOT01FX0NJREFERQosTlVNRVJPX1RFTEVGT05FCixFTUFJTF9DTElFTlRFCixhY2VudHVhY2FvKE9DVVBBQ0FPX0NMSUVOVEUpIE9DVVBBQ0FPX0NMSUVOVEUKRlJPTSBzaWx2ZXIudGJfY2xpZW50ZQopIGIKCk9OIGEuSURfQ0xJRU5URT0gYi5JRF9DTElFTlRFCgpXSEVOIE1BVENIRUQgVEhFTgpVUERBVEUgU0VUIAphLkNPRElHT19DTElFTlRFID0gYi5DT0RJR09fQ0xJRU5URQosYS5OT01FX0NMSUVOVEUgPSBiLk5PTUVfQ0xJRU5URQosYS5EQVRBX05BU0NJTUVOVE8gPSBiLkRBVEFfTkFTQ0lNRU5UTwosYS5JREFERV9DTElFTlRFID0gYi5JREFERV9DTElFTlRFCixhLkRFU0NSSUNBT19FTkRFUkVDTyA9IGIuREVTQ1JJQ0FPX0VOREVSRUNPCixhLk5VTUVST19FTkRFUkVDTyA9IGIuTlVNRVJPX0VOREVSRUNPCixhLk5PTUVfQ0lEQURFID0gYi5OT01FX0NJREFERQosYS5OVU1FUk9fVEVMRUZPTkUgPSBiLk5VTUVST19URUxFRk9ORQosYS5FTUFJTF9DTElFTlRFID0gYi5FTUFJTF9DTElFTlRFCixhLk9DVVBBQ0FPX0NMSUVOVEUgPSBiLk9DVVBBQ0FPX0NMSUVOVEUKLGEuREFUQV9BTFRFUkFDQU8gPSBmcm9tX3V0Y190aW1lc3RhbXAobm93KCksJ0dNVC0zJykKCldIRU4gTk9UIE1BVENIRUQKVEhFTiAKSU5TRVJUIAooCklEX0NMSUVOVEUKLENPRElHT19DTElFTlRFCixOT01FX0NMSUVOVEUKLERBVEFfTkFTQ0lNRU5UTwosSURBREVfQ0xJRU5URQosREVTQ1JJQ0FPX0VOREVSRUNPCixOVU1FUk9fRU5ERVJFQ08KLE5PTUVfQ0lEQURFCixOVU1FUk9fVEVMRUZPTkUKLEVNQUlMX0NMSUVOVEUKLE9DVVBBQ0FPX0NMSUVOVEUKLERBVEFfQ0FEQVNUUk8KLERBVEFfQUxURVJBQ0FPCikKVkFMVUVTIAooCmIuSURfQ0xJRU5URQosYi5DT0RJR09fQ0xJRU5URQosYi5OT01FX0NMSUVOVEUKLGIuREFUQV9OQVNDSU1FTlRPCixiLklEQURFX0NMSUVOVEUKLGIuREVTQ1JJQ0FPX0VOREVSRUNPCixiLk5VTUVST19FTkRFUkVDTwosYi5OT01FX0NJREFERQosYi5OVU1FUk9fVEVMRUZPTkUKLGIuRU1BSUxfQ0xJRU5URQosYi5PQ1VQQUNBT19DTElFTlRFCixmcm9tX3V0Y190aW1lc3RhbXAobm93KCksJ0dNVC0zJykKLGZyb21fdXRjX3RpbWVzdGFtcChub3coKSwnR01ULTMnKQop\u001B[39;49m\u001B[38;5;124;43m\"\u001B[39;49m\u001B[43m)\u001B[49m\u001B[38;5;241;43m.\u001B[39;49m\u001B[43mdecode\u001B[49m\u001B[43m(\u001B[49m\u001B[43m)\u001B[49m\u001B[43m)\u001B[49m\n\u001B[1;32m      5\u001B[0m   display(df)\n\u001B[1;32m      6\u001B[0m   \u001B[38;5;28;01mreturn\u001B[39;00m df\n\nFile \u001B[0;32m/databricks/spark/python/pyspark/instrumentation_utils.py:48\u001B[0m, in \u001B[0;36m_wrap_function.<locals>.wrapper\u001B[0;34m(*args, **kwargs)\u001B[0m\n\u001B[1;32m     46\u001B[0m start \u001B[38;5;241m=\u001B[39m time\u001B[38;5;241m.\u001B[39mperf_counter()\n\u001B[1;32m     47\u001B[0m \u001B[38;5;28;01mtry\u001B[39;00m:\n\u001B[0;32m---> 48\u001B[0m     res \u001B[38;5;241m=\u001B[39m \u001B[43mfunc\u001B[49m\u001B[43m(\u001B[49m\u001B[38;5;241;43m*\u001B[39;49m\u001B[43margs\u001B[49m\u001B[43m,\u001B[49m\u001B[43m \u001B[49m\u001B[38;5;241;43m*\u001B[39;49m\u001B[38;5;241;43m*\u001B[39;49m\u001B[43mkwargs\u001B[49m\u001B[43m)\u001B[49m\n\u001B[1;32m     49\u001B[0m     logger\u001B[38;5;241m.\u001B[39mlog_success(\n\u001B[1;32m     50\u001B[0m         module_name, class_name, function_name, time\u001B[38;5;241m.\u001B[39mperf_counter() \u001B[38;5;241m-\u001B[39m start, signature\n\u001B[1;32m     51\u001B[0m     )\n\u001B[1;32m     52\u001B[0m     \u001B[38;5;28;01mreturn\u001B[39;00m res\n\nFile \u001B[0;32m/databricks/spark/python/pyspark/sql/session.py:1387\u001B[0m, in \u001B[0;36mSparkSession.sql\u001B[0;34m(self, sqlQuery, args, **kwargs)\u001B[0m\n\u001B[1;32m   1385\u001B[0m \u001B[38;5;28;01mtry\u001B[39;00m:\n\u001B[1;32m   1386\u001B[0m     litArgs \u001B[38;5;241m=\u001B[39m {k: _to_java_column(lit(v)) \u001B[38;5;28;01mfor\u001B[39;00m k, v \u001B[38;5;129;01min\u001B[39;00m (args \u001B[38;5;129;01mor\u001B[39;00m {})\u001B[38;5;241m.\u001B[39mitems()}\n\u001B[0;32m-> 1387\u001B[0m     \u001B[38;5;28;01mreturn\u001B[39;00m DataFrame(\u001B[38;5;28;43mself\u001B[39;49m\u001B[38;5;241;43m.\u001B[39;49m\u001B[43m_jsparkSession\u001B[49m\u001B[38;5;241;43m.\u001B[39;49m\u001B[43msql\u001B[49m\u001B[43m(\u001B[49m\u001B[43msqlQuery\u001B[49m\u001B[43m,\u001B[49m\u001B[43m \u001B[49m\u001B[43mlitArgs\u001B[49m\u001B[43m)\u001B[49m, \u001B[38;5;28mself\u001B[39m)\n\u001B[1;32m   1388\u001B[0m \u001B[38;5;28;01mfinally\u001B[39;00m:\n\u001B[1;32m   1389\u001B[0m     \u001B[38;5;28;01mif\u001B[39;00m \u001B[38;5;28mlen\u001B[39m(kwargs) \u001B[38;5;241m>\u001B[39m \u001B[38;5;241m0\u001B[39m:\n\nFile \u001B[0;32m/databricks/spark/python/lib/py4j-0.10.9.5-src.zip/py4j/java_gateway.py:1321\u001B[0m, in \u001B[0;36mJavaMember.__call__\u001B[0;34m(self, *args)\u001B[0m\n\u001B[1;32m   1315\u001B[0m command \u001B[38;5;241m=\u001B[39m proto\u001B[38;5;241m.\u001B[39mCALL_COMMAND_NAME \u001B[38;5;241m+\u001B[39m\\\n\u001B[1;32m   1316\u001B[0m     \u001B[38;5;28mself\u001B[39m\u001B[38;5;241m.\u001B[39mcommand_header \u001B[38;5;241m+\u001B[39m\\\n\u001B[1;32m   1317\u001B[0m     args_command \u001B[38;5;241m+\u001B[39m\\\n\u001B[1;32m   1318\u001B[0m     proto\u001B[38;5;241m.\u001B[39mEND_COMMAND_PART\n\u001B[1;32m   1320\u001B[0m answer \u001B[38;5;241m=\u001B[39m \u001B[38;5;28mself\u001B[39m\u001B[38;5;241m.\u001B[39mgateway_client\u001B[38;5;241m.\u001B[39msend_command(command)\n\u001B[0;32m-> 1321\u001B[0m return_value \u001B[38;5;241m=\u001B[39m \u001B[43mget_return_value\u001B[49m\u001B[43m(\u001B[49m\n\u001B[1;32m   1322\u001B[0m \u001B[43m    \u001B[49m\u001B[43manswer\u001B[49m\u001B[43m,\u001B[49m\u001B[43m \u001B[49m\u001B[38;5;28;43mself\u001B[39;49m\u001B[38;5;241;43m.\u001B[39;49m\u001B[43mgateway_client\u001B[49m\u001B[43m,\u001B[49m\u001B[43m \u001B[49m\u001B[38;5;28;43mself\u001B[39;49m\u001B[38;5;241;43m.\u001B[39;49m\u001B[43mtarget_id\u001B[49m\u001B[43m,\u001B[49m\u001B[43m \u001B[49m\u001B[38;5;28;43mself\u001B[39;49m\u001B[38;5;241;43m.\u001B[39;49m\u001B[43mname\u001B[49m\u001B[43m)\u001B[49m\n\u001B[1;32m   1324\u001B[0m \u001B[38;5;28;01mfor\u001B[39;00m temp_arg \u001B[38;5;129;01min\u001B[39;00m temp_args:\n\u001B[1;32m   1325\u001B[0m     temp_arg\u001B[38;5;241m.\u001B[39m_detach()\n\nFile \u001B[0;32m/databricks/spark/python/pyspark/errors/exceptions.py:234\u001B[0m, in \u001B[0;36mcapture_sql_exception.<locals>.deco\u001B[0;34m(*a, **kw)\u001B[0m\n\u001B[1;32m    230\u001B[0m converted \u001B[38;5;241m=\u001B[39m convert_exception(e\u001B[38;5;241m.\u001B[39mjava_exception)\n\u001B[1;32m    231\u001B[0m \u001B[38;5;28;01mif\u001B[39;00m \u001B[38;5;129;01mnot\u001B[39;00m \u001B[38;5;28misinstance\u001B[39m(converted, UnknownException):\n\u001B[1;32m    232\u001B[0m     \u001B[38;5;66;03m# Hide where the exception came from that shows a non-Pythonic\u001B[39;00m\n\u001B[1;32m    233\u001B[0m     \u001B[38;5;66;03m# JVM exception message.\u001B[39;00m\n\u001B[0;32m--> 234\u001B[0m     \u001B[38;5;28;01mraise\u001B[39;00m converted \u001B[38;5;28;01mfrom\u001B[39;00m \u001B[38;5;28mNone\u001B[39m\n\u001B[1;32m    235\u001B[0m \u001B[38;5;28;01melse\u001B[39;00m:\n\u001B[1;32m    236\u001B[0m     \u001B[38;5;28;01mraise\u001B[39;00m\n\n\u001B[0;31mAnalysisException\u001B[0m: [TABLE_OR_VIEW_NOT_FOUND] The table or view `silver`.`tb_cliente` cannot be found. Verify the spelling and correctness of the schema and catalog.\nIf you did not qualify the name with a schema, verify the current_schema() output, or qualify the name with the correct schema and catalog.\nTo tolerate the error on drop use DROP VIEW IF EXISTS or DROP TABLE IF EXISTS.; line 15 pos 5;\n'MergeIntoTable ('a.ID_CLIENTE = 'b.ID_CLIENTE), [updateaction(None, assignment('a.CODIGO_CLIENTE, 'b.CODIGO_CLIENTE), assignment('a.NOME_CLIENTE, 'b.NOME_CLIENTE), assignment('a.DATA_NASCIMENTO, 'b.DATA_NASCIMENTO), assignment('a.IDADE_CLIENTE, 'b.IDADE_CLIENTE), assignment('a.DESCRICAO_ENDERECO, 'b.DESCRICAO_ENDERECO), assignment('a.NUMERO_ENDERECO, 'b.NUMERO_ENDERECO), assignment('a.NOME_CIDADE, 'b.NOME_CIDADE), assignment('a.NUMERO_TELEFONE, 'b.NUMERO_TELEFONE), assignment('a.EMAIL_CLIENTE, 'b.EMAIL_CLIENTE), assignment('a.OCUPACAO_CLIENTE, 'b.OCUPACAO_CLIENTE), assignment('a.DATA_ALTERACAO, from_utc_timestamp(now(), GMT-3)))], [insertaction(None, assignment('ID_CLIENTE, 'b.ID_CLIENTE), assignment('CODIGO_CLIENTE, 'b.CODIGO_CLIENTE), assignment('NOME_CLIENTE, 'b.NOME_CLIENTE), assignment('DATA_NASCIMENTO, 'b.DATA_NASCIMENTO), assignment('IDADE_CLIENTE, 'b.IDADE_CLIENTE), assignment('DESCRICAO_ENDERECO, 'b.DESCRICAO_ENDERECO), assignment('NUMERO_ENDERECO, 'b.NUMERO_ENDERECO), assignment('NOME_CIDADE, 'b.NOME_CIDADE), assignment('NUMERO_TELEFONE, 'b.NUMERO_TELEFONE), assignment('EMAIL_CLIENTE, 'b.EMAIL_CLIENTE), assignment('OCUPACAO_CLIENTE, 'b.OCUPACAO_CLIENTE), assignment('DATA_CADASTRO, from_utc_timestamp(now(), GMT-3)), assignment('DATA_ALTERACAO, from_utc_timestamp(now(), GMT-3)))]\n:- SubqueryAlias a\n:  +- SubqueryAlias spark_catalog.gold.DIM_CLIENTE\n:     +- Relation spark_catalog.gold.dim_cliente[ID_CLIENTE#5130,CODIGO_CLIENTE#5131,NOME_CLIENTE#5132,DATA_NASCIMENTO#5133,IDADE_CLIENTE#5134,DESCRICAO_ENDERECO#5135,NUMERO_ENDERECO#5136,NOME_CIDADE#5137,NUMERO_TELEFONE#5138,EMAIL_CLIENTE#5139,OCUPACAO_CLIENTE#5140,DATA_CADASTRO#5141,DATA_ALTERACAO#5142] parquet\n+- 'SubqueryAlias b\n   +- 'Project ['hash('CODIGO_CLIENTE, 256) AS ID_CLIENTE#5112, 'CODIGO_CLIENTE, 'acentuacao('NOME_CLIENTE) AS NOME_CLIENTE#5113, 'DATA_NASCIMENTO, 'IDADE_CLIENTE, 'acentuacao('DESCRICAO_ENDERECO) AS DESCRICAO_ENDERECO#5114, 'NUMERO_ENDERECO, 'acentuacao('NOME_CIDADE) AS NOME_CIDADE#5115, 'NUMERO_TELEFONE, 'EMAIL_CLIENTE, 'acentuacao('OCUPACAO_CLIENTE) AS OCUPACAO_CLIENTE#5116]\n      +- 'UnresolvedRelation [silver, tb_cliente], [], false\n",
       "errorSummary": "<span class='ansi-red-fg'>AnalysisException</span>: [TABLE_OR_VIEW_NOT_FOUND] The table or view `silver`.`tb_cliente` cannot be found. Verify the spelling and correctness of the schema and catalog.\nIf you did not qualify the name with a schema, verify the current_schema() output, or qualify the name with the correct schema and catalog.\nTo tolerate the error on drop use DROP VIEW IF EXISTS or DROP TABLE IF EXISTS.; line 15 pos 5;\n'MergeIntoTable ('a.ID_CLIENTE = 'b.ID_CLIENTE), [updateaction(None, assignment('a.CODIGO_CLIENTE, 'b.CODIGO_CLIENTE), assignment('a.NOME_CLIENTE, 'b.NOME_CLIENTE), assignment('a.DATA_NASCIMENTO, 'b.DATA_NASCIMENTO), assignment('a.IDADE_CLIENTE, 'b.IDADE_CLIENTE), assignment('a.DESCRICAO_ENDERECO, 'b.DESCRICAO_ENDERECO), assignment('a.NUMERO_ENDERECO, 'b.NUMERO_ENDERECO), assignment('a.NOME_CIDADE, 'b.NOME_CIDADE), assignment('a.NUMERO_TELEFONE, 'b.NUMERO_TELEFONE), assignment('a.EMAIL_CLIENTE, 'b.EMAIL_CLIENTE), assignment('a.OCUPACAO_CLIENTE, 'b.OCUPACAO_CLIENTE), assignment('a.DATA_ALTERACAO, from_utc_timestamp(now(), GMT-3)))], [insertaction(None, assignment('ID_CLIENTE, 'b.ID_CLIENTE), assignment('CODIGO_CLIENTE, 'b.CODIGO_CLIENTE), assignment('NOME_CLIENTE, 'b.NOME_CLIENTE), assignment('DATA_NASCIMENTO, 'b.DATA_NASCIMENTO), assignment('IDADE_CLIENTE, 'b.IDADE_CLIENTE), assignment('DESCRICAO_ENDERECO, 'b.DESCRICAO_ENDERECO), assignment('NUMERO_ENDERECO, 'b.NUMERO_ENDERECO), assignment('NOME_CIDADE, 'b.NOME_CIDADE), assignment('NUMERO_TELEFONE, 'b.NUMERO_TELEFONE), assignment('EMAIL_CLIENTE, 'b.EMAIL_CLIENTE), assignment('OCUPACAO_CLIENTE, 'b.OCUPACAO_CLIENTE), assignment('DATA_CADASTRO, from_utc_timestamp(now(), GMT-3)), assignment('DATA_ALTERACAO, from_utc_timestamp(now(), GMT-3)))]\n:- SubqueryAlias a\n:  +- SubqueryAlias spark_catalog.gold.DIM_CLIENTE\n:     +- Relation spark_catalog.gold.dim_cliente[ID_CLIENTE#5130,CODIGO_CLIENTE#5131,NOME_CLIENTE#5132,DATA_NASCIMENTO#5133,IDADE_CLIENTE#5134,DESCRICAO_ENDERECO#5135,NUMERO_ENDERECO#5136,NOME_CIDADE#5137,NUMERO_TELEFONE#5138,EMAIL_CLIENTE#5139,OCUPACAO_CLIENTE#5140,DATA_CADASTRO#5141,DATA_ALTERACAO#5142] parquet\n+- 'SubqueryAlias b\n   +- 'Project ['hash('CODIGO_CLIENTE, 256) AS ID_CLIENTE#5112, 'CODIGO_CLIENTE, 'acentuacao('NOME_CLIENTE) AS NOME_CLIENTE#5113, 'DATA_NASCIMENTO, 'IDADE_CLIENTE, 'acentuacao('DESCRICAO_ENDERECO) AS DESCRICAO_ENDERECO#5114, 'NUMERO_ENDERECO, 'acentuacao('NOME_CIDADE) AS NOME_CIDADE#5115, 'NUMERO_TELEFONE, 'EMAIL_CLIENTE, 'acentuacao('OCUPACAO_CLIENTE) AS OCUPACAO_CLIENTE#5116]\n      +- 'UnresolvedRelation [silver, tb_cliente], [], false\n",
       "errorTraceType": "ansi",
       "metadata": {},
       "type": "ipynbError"
      }
     },
     "output_type": "display_data"
    }
   ],
   "source": [
    "%sql\n",
    "MERGE INTO gold.DIM_CLIENTE a\n",
    "USING (\n",
    "SELECT \n",
    "hash(CODIGO_CLIENTE, 256) ID_CLIENTE\n",
    ",CODIGO_CLIENTE\n",
    ",acentuacao(NOME_CLIENTE) NOME_CLIENTE\n",
    ",DATA_NASCIMENTO\n",
    ",IDADE_CLIENTE\n",
    ",acentuacao(DESCRICAO_ENDERECO) DESCRICAO_ENDERECO\n",
    ",NUMERO_ENDERECO\n",
    ",acentuacao(NOME_CIDADE) NOME_CIDADE\n",
    ",NUMERO_TELEFONE\n",
    ",EMAIL_CLIENTE\n",
    ",acentuacao(OCUPACAO_CLIENTE) OCUPACAO_CLIENTE\n",
    "FROM silver.tb_cliente\n",
    ") b\n",
    "\n",
    "ON a.ID_CLIENTE= b.ID_CLIENTE\n",
    "\n",
    "WHEN MATCHED THEN\n",
    "UPDATE SET \n",
    "a.CODIGO_CLIENTE = b.CODIGO_CLIENTE\n",
    ",a.NOME_CLIENTE = b.NOME_CLIENTE\n",
    ",a.DATA_NASCIMENTO = b.DATA_NASCIMENTO\n",
    ",a.IDADE_CLIENTE = b.IDADE_CLIENTE\n",
    ",a.DESCRICAO_ENDERECO = b.DESCRICAO_ENDERECO\n",
    ",a.NUMERO_ENDERECO = b.NUMERO_ENDERECO\n",
    ",a.NOME_CIDADE = b.NOME_CIDADE\n",
    ",a.NUMERO_TELEFONE = b.NUMERO_TELEFONE\n",
    ",a.EMAIL_CLIENTE = b.EMAIL_CLIENTE\n",
    ",a.OCUPACAO_CLIENTE = b.OCUPACAO_CLIENTE\n",
    ",a.DATA_ALTERACAO = from_utc_timestamp(now(),'GMT-3')\n",
    "\n",
    "WHEN NOT MATCHED\n",
    "THEN \n",
    "INSERT \n",
    "(\n",
    "ID_CLIENTE\n",
    ",CODIGO_CLIENTE\n",
    ",NOME_CLIENTE\n",
    ",DATA_NASCIMENTO\n",
    ",IDADE_CLIENTE\n",
    ",DESCRICAO_ENDERECO\n",
    ",NUMERO_ENDERECO\n",
    ",NOME_CIDADE\n",
    ",NUMERO_TELEFONE\n",
    ",EMAIL_CLIENTE\n",
    ",OCUPACAO_CLIENTE\n",
    ",DATA_CADASTRO\n",
    ",DATA_ALTERACAO\n",
    ")\n",
    "VALUES \n",
    "(\n",
    "b.ID_CLIENTE\n",
    ",b.CODIGO_CLIENTE\n",
    ",b.NOME_CLIENTE\n",
    ",b.DATA_NASCIMENTO\n",
    ",b.IDADE_CLIENTE\n",
    ",b.DESCRICAO_ENDERECO\n",
    ",b.NUMERO_ENDERECO\n",
    ",b.NOME_CIDADE\n",
    ",b.NUMERO_TELEFONE\n",
    ",b.EMAIL_CLIENTE\n",
    ",b.OCUPACAO_CLIENTE\n",
    ",from_utc_timestamp(now(),'GMT-3')\n",
    ",from_utc_timestamp(now(),'GMT-3')\n",
    ")\n"
   ]
  },
  {
   "cell_type": "code",
   "execution_count": 0,
   "metadata": {
    "application/vnd.databricks.v1+cell": {
     "cellMetadata": {
      "byteLimit": 2048000,
      "implicitDf": true,
      "rowLimit": 10000
     },
     "inputWidgets": {},
     "nuid": "7e228ee1-7102-4e13-be92-af32f1c69388",
     "showTitle": true,
     "title": "SEQ-03 - Carga Tabela Camada Gold - dim_forma_pagamento"
    }
   },
   "outputs": [
    {
     "output_type": "display_data",
     "data": {
      "text/plain": [
       ""
      ]
     },
     "metadata": {
      "application/vnd.databricks.v1+output": {
       "arguments": {},
       "data": "",
       "errorSummary": "Command skipped",
       "errorTraceType": "ansi",
       "metadata": {},
       "type": "ipynbError"
      }
     },
     "output_type": "display_data"
    }
   ],
   "source": [
    "%sql\n",
    "MERGE INTO gold.DIM_FORMA_PAGAMENTO a\n",
    "USING (\n",
    "SELECT \n",
    "hash(CODIGO_FORMA_PAGAMENTO, 256) ID_FORMA_PAGAMENTO\n",
    ",CODIGO_FORMA_PAGAMENTO\n",
    ",acentuacao(DESCRICAO_FORMA_PAGAMENTO) DESCRICAO_FORMA_PAGAMENTO\n",
    "FROM silver.tb_forma_pagamento\n",
    ") b\n",
    "\n",
    "ON a.ID_FORMA_PAGAMENTO= b.ID_FORMA_PAGAMENTO\n",
    "\n",
    "WHEN MATCHED THEN\n",
    "UPDATE SET \n",
    "a.CODIGO_FORMA_PAGAMENTO = b.CODIGO_FORMA_PAGAMENTO\n",
    ",a.DESCRICAO_FORMA_PAGAMENTO = b.DESCRICAO_FORMA_PAGAMENTO\n",
    ",a.DATA_ALTERACAO = from_utc_timestamp(now(),'GMT-3')\n",
    "\n",
    "WHEN NOT MATCHED\n",
    "THEN \n",
    "INSERT \n",
    "(\n",
    "ID_FORMA_PAGAMENTO  \n",
    ",CODIGO_FORMA_PAGAMENTO\n",
    ",DESCRICAO_FORMA_PAGAMENTO\n",
    ",DATA_CADASTRO\n",
    ",DATA_ALTERACAO) \n",
    "VALUES \n",
    "(\n",
    "b.ID_FORMA_PAGAMENTO\n",
    ",b.CODIGO_FORMA_PAGAMENTO\n",
    ",b.DESCRICAO_FORMA_PAGAMENTO\n",
    ",from_utc_timestamp(now(),'GMT-3')\n",
    ",from_utc_timestamp(now(),'GMT-3')\n",
    ")\n"
   ]
  },
  {
   "cell_type": "code",
   "execution_count": 0,
   "metadata": {
    "application/vnd.databricks.v1+cell": {
     "cellMetadata": {
      "byteLimit": 2048000,
      "implicitDf": true,
      "rowLimit": 10000
     },
     "inputWidgets": {},
     "nuid": "c484c019-c85d-4cc8-b07d-40ccff98b566",
     "showTitle": true,
     "title": "SEQ-04 - Carga Tabela Camada Gold - dim_loja"
    }
   },
   "outputs": [
    {
     "output_type": "display_data",
     "data": {
      "text/plain": [
       ""
      ]
     },
     "metadata": {
      "application/vnd.databricks.v1+output": {
       "arguments": {},
       "data": "",
       "errorSummary": "Command skipped",
       "errorTraceType": "ansi",
       "metadata": {},
       "type": "ipynbError"
      }
     },
     "output_type": "display_data"
    }
   ],
   "source": [
    "%sql\n",
    "MERGE INTO gold.DIM_LOJA a\n",
    "USING (\n",
    "SELECT \n",
    "hash(LOJA.CODIGO_LOJA_VENDEDOR, 256) ID_LOJA\n",
    ",LOJA.CODIGO_LOJA\n",
    ",acentuacao(LOJA.NOME_LOJA) NOME_LOJA\n",
    ",acentuacao(VENDEDOR.NOME_VENDEDOR) NOME_VENDEDOR\n",
    ",acentuacao(LOJA.LOCALIDADE_LOJA) LOCALIDADE_LOJA\n",
    ",LOJA.TIPO_LOJA\n",
    "FROM silver.tb_loja LOJA\n",
    "\n",
    "INNER JOIN silver.tb_vendedor VENDEDOR\n",
    "\n",
    "ON LOJA.CODIGO_VENDEDOR = VENDEDOR.CODIGO_VENDEDOR\n",
    "\n",
    "\n",
    ") b\n",
    "\n",
    "ON a.ID_LOJA= b.ID_LOJA\n",
    "\n",
    "WHEN MATCHED THEN\n",
    "UPDATE SET \n",
    "a.CODIGO_LOJA = b.CODIGO_LOJA\n",
    ",a.NOME_LOJA = b.NOME_LOJA\n",
    ",a.NOME_VENDEDOR  = b.NOME_VENDEDOR\n",
    ",a.LOCALIDADE_LOJA = b.LOCALIDADE_LOJA\n",
    ",a.TIPO_LOJA = b.TIPO_LOJA\n",
    ",a.DATA_ALTERACAO = from_utc_timestamp(now(),'GMT-3')\n",
    "\n",
    "WHEN NOT MATCHED\n",
    "THEN \n",
    "INSERT (\n",
    "ID_LOJA\n",
    ",CODIGO_LOJA\n",
    ",NOME_LOJA\n",
    ",NOME_VENDEDOR\n",
    ",LOCALIDADE_LOJA\n",
    ",TIPO_LOJA\n",
    ",DATA_CADASTRO\n",
    ",DATA_ALTERACAO\n",
    ") \n",
    "VALUES \n",
    "(\n",
    "b.ID_LOJA\n",
    ",b.CODIGO_LOJA\n",
    ",b.NOME_LOJA\n",
    ",b.NOME_VENDEDOR\n",
    ",b.LOCALIDADE_LOJA\n",
    ",b.TIPO_LOJA\n",
    ",from_utc_timestamp(now(),'GMT-3')\n",
    ",from_utc_timestamp(now(),'GMT-3')\n",
    ")"
   ]
  },
  {
   "cell_type": "code",
   "execution_count": 0,
   "metadata": {
    "application/vnd.databricks.v1+cell": {
     "cellMetadata": {
      "byteLimit": 2048000,
      "implicitDf": true,
      "rowLimit": 10000
     },
     "inputWidgets": {},
     "nuid": "90abf329-28f4-4042-85d9-4ce6028fcbfc",
     "showTitle": true,
     "title": "SEQ-05 - Carga Tabela Camada Gold - dim_produto"
    }
   },
   "outputs": [
    {
     "output_type": "display_data",
     "data": {
      "text/plain": [
       ""
      ]
     },
     "metadata": {
      "application/vnd.databricks.v1+output": {
       "arguments": {},
       "data": "",
       "errorSummary": "Command skipped",
       "errorTraceType": "ansi",
       "metadata": {},
       "type": "ipynbError"
      }
     },
     "output_type": "display_data"
    }
   ],
   "source": [
    "%sql\n",
    "\n",
    "MERGE INTO gold.DIM_PRODUTO a\n",
    "USING (SELECT \n",
    "hash(PROD.CODIGO_PRODUTO, 256) ID_PRODUTO\n",
    ",PROD.CODIGO_PRODUTO\n",
    ",PROD.DESCRICAO_PRODUTO\n",
    ",CAT_PROD.CATEGORIA_PRODUTO\n",
    ",CAT_PROD.SUB_CATEGORIA_PRODUTO\n",
    "\n",
    "FROM silver.tb_produto PROD \n",
    "\n",
    "INNER JOIN silver.tb_categoria_produto CAT_PROD\n",
    "\n",
    "ON PROD.CODIGO_CATEGORIA = CAT_PROD.CODIGO_CATEGORIA\n",
    ") b\n",
    "\n",
    "ON a.ID_PRODUTO= b.ID_PRODUTO\n",
    "\n",
    "WHEN MATCHED \n",
    "THEN\n",
    "UPDATE SET \n",
    "a.CODIGO_PRODUTO = b.CODIGO_PRODUTO\n",
    ",a.DESCRICAO_PRODUTO = b.DESCRICAO_PRODUTO\n",
    ",a.CATEGORIA_PRODUTO = b.CATEGORIA_PRODUTO\n",
    ",a.SUB_CATEGORIA_PRODUTO = b.SUB_CATEGORIA_PRODUTO\n",
    ",a.DATA_ALTERACAO = from_utc_timestamp(now(),'GMT-3')\n",
    "\n",
    "WHEN NOT MATCHED\n",
    "THEN \n",
    "INSERT \n",
    "(\n",
    "ID_PRODUTO\n",
    ",CODIGO_PRODUTO\n",
    ",DESCRICAO_PRODUTO\n",
    ",CATEGORIA_PRODUTO\n",
    ",SUB_CATEGORIA_PRODUTO\n",
    ",DATA_CADASTRO\n",
    ",DATA_ALTERACAO\n",
    ") \n",
    "VALUES \n",
    "(\n",
    "b.ID_PRODUTO\n",
    ",b.CODIGO_PRODUTO\n",
    ",b.DESCRICAO_PRODUTO\n",
    ",b.CATEGORIA_PRODUTO\n",
    ",b.SUB_CATEGORIA_PRODUTO\n",
    ",from_utc_timestamp(now(),'GMT-3')\n",
    ",from_utc_timestamp(now(),'GMT-3')\n",
    ")\n"
   ]
  },
  {
   "cell_type": "code",
   "execution_count": 0,
   "metadata": {
    "application/vnd.databricks.v1+cell": {
     "cellMetadata": {
      "byteLimit": 2048000,
      "rowLimit": 10000
     },
     "inputWidgets": {},
     "nuid": "d8aff394-5392-496b-b223-cc24b66de5b5",
     "showTitle": true,
     "title": "SEQ-06 - Carga Tabela Camada Gold - dim_tempo"
    }
   },
   "outputs": [
    {
     "output_type": "display_data",
     "data": {
      "text/plain": [
       ""
      ]
     },
     "metadata": {
      "application/vnd.databricks.v1+output": {
       "arguments": {},
       "data": "",
       "errorSummary": "Command skipped",
       "errorTraceType": "ansi",
       "metadata": {},
       "type": "ipynbError"
      }
     },
     "output_type": "display_data"
    }
   ],
   "source": [
    "diretorio = 'dbfs:/FileStore/tables/landing_zone/tempo/'\n",
    "tabela = 'tempo'\n",
    "\n",
    "parDF1=spark.read.parquet(diretorio)\n",
    "\n",
    "parDF1.createOrReplaceTempView('tmp_dim_tempo')\n",
    "\n",
    "colunas = parDF1.columns\n",
    "lista1 = ''\n",
    "listaInsert = ''\n",
    "listaCondicao = ''\n",
    "\n",
    "for coluna in colunas:\n",
    "    if lista1 == '':\n",
    "        lista1 = coluna\n",
    "    else:\n",
    "        lista1 = lista1 + ',' + coluna\n",
    "\n",
    "for coluna in colunas:\n",
    "    if listaInsert == '':\n",
    "        listaInsert = 'b.'+coluna\n",
    "    else:\n",
    "        listaInsert = listaInsert + ',' + 'b.'+ coluna\n",
    "\n",
    "for coluna in colunas:\n",
    "    if listaCondicao == '':\n",
    "        listaCondicao =  'a.'+coluna + '= b.'+coluna\n",
    "\n",
    "tabela_dl = tabela.replace('dbo.','')\n",
    "\n",
    "comando_truncate = f\"\"\"TRUNCATE TABLE gold.dim_tempo\"\"\"\n",
    "\n",
    "print(comando_truncate)\n",
    "\n",
    "spark.sql(comando_truncate)\n",
    "\n",
    "comando_insert = f\"\"\"MERGE INTO gold.dim_tempo a\n",
    "        USING tmp_dim_tempo b\n",
    "        ON a.ID_TEMPO= b.ID_TEMPO\n",
    "        WHEN NOT MATCHED\n",
    "        THEN INSERT (ID_TEMPO\n",
    "                    ,DATA\n",
    "                    ,ANO\n",
    "                    ,MES\n",
    "                    ,DIA\n",
    "                    ,DATA_CADASTRO\n",
    "                    ,DATA_ALTERACAO) \n",
    "                    VALUES (\n",
    "                        hash(b.ID_TEMPO, 256)\n",
    "                        ,b.DATA\n",
    "                        ,b.ANO\n",
    "                        ,b.MES\n",
    "                        ,b.DIA\n",
    "                        ,b.DATA_CADASTRO\n",
    "                        ,b.DATA_ALTERACAO)\n",
    "        \"\"\"\n",
    "\n",
    "print(comando_insert)\n",
    "\n",
    "spark.sql(comando_insert)\n"
   ]
  },
  {
   "cell_type": "code",
   "execution_count": 0,
   "metadata": {
    "application/vnd.databricks.v1+cell": {
     "cellMetadata": {
      "byteLimit": 2048000,
      "implicitDf": true,
      "rowLimit": 10000
     },
     "inputWidgets": {},
     "nuid": "72f15215-890e-485f-870a-743078863de2",
     "showTitle": true,
     "title": "SEQ-07 - Carga Tabela Camada Gold - fato_venda"
    }
   },
   "outputs": [
    {
     "output_type": "display_data",
     "data": {
      "text/plain": [
       ""
      ]
     },
     "metadata": {
      "application/vnd.databricks.v1+output": {
       "arguments": {},
       "data": "",
       "errorSummary": "Command skipped",
       "errorTraceType": "ansi",
       "metadata": {},
       "type": "ipynbError"
      }
     },
     "output_type": "display_data"
    }
   ],
   "source": [
    "%sql\n",
    "\n",
    "MERGE INTO gold.fato_venda a\n",
    "USING (\n",
    "SELECT  \n",
    "\n",
    "VENDA.CODIGO_VENDA\n",
    ",DCLIENTE.ID_CLIENTE\n",
    ",DLOJA.ID_LOJA\n",
    ",DPRODUTO.ID_PRODUTO\n",
    ",DFORMAPAGAMENTO.ID_FORMA_PAGAMENTO\n",
    ",DTEMPO.ID_TEMPO\n",
    ",HOUR(VENDA.DATA_VENDA) HORA_VENDA\n",
    ",IVENDA.QUANTIDADE\n",
    ",IVENDA.VALOR_UNITARIO\n",
    ",(IVENDA.QUANTIDADE * IVENDA.VALOR_UNITARIO) VALOR_FINAL\n",
    ",VENDA.TIPO_PAGAMENTO\n",
    "\n",
    "FROM silver.tb_venda VENDA\n",
    "\n",
    "INNER JOIN silver.tb_item_venda IVENDA\n",
    "\n",
    "ON VENDA.CODIGO_VENDA = IVENDA.CODIGO_VENDA\n",
    "\n",
    "INNER JOIN silver.tb_loja LOJA\n",
    "\n",
    "ON VENDA.CODIGO_LOJA_VENDEDOR = LOJA.CODIGO_LOJA_VENDEDOR\n",
    "\n",
    "INNER JOIN silver.tb_vendedor VENDEDOR\n",
    "\n",
    "ON LOJA.CODIGO_VENDEDOR = VENDEDOR.CODIGO_VENDEDOR\n",
    "\n",
    "INNER JOIN gold.dim_tempo DTEMPO\n",
    "\n",
    "ON REPLACE(TO_DATE(VENDA.DATA_VENDA) ,'-','') = DTEMPO.DATA\n",
    "\n",
    "INNER JOIN gold.dim_cliente DCLIENTE\n",
    "\n",
    "ON VENDA.CODIGO_CLIENTE = DCLIENTE.CODIGO_CLIENTE\n",
    "\n",
    "INNER JOIN gold.dim_loja DLOJA\n",
    "\n",
    "ON LOJA.CODIGO_LOJA = DLOJA.CODIGO_LOJA\n",
    "\n",
    "AND VENDEDOR.NOME_VENDEDOR = DLOJA.NOME_VENDEDOR\n",
    "\n",
    "INNER JOIN gold.dim_produto DPRODUTO\n",
    "\n",
    "ON IVENDA.CODIGO_PRODUTO = DPRODUTO.CODIGO_PRODUTO\n",
    "\n",
    "INNER JOIN gold.dim_forma_pagamento DFORMAPAGAMENTO\n",
    "\n",
    "ON VENDA.CODIGO_FORMA_PAGAMENTO = DFORMAPAGAMENTO.CODIGO_FORMA_PAGAMENTO\n",
    ") b\n",
    "\n",
    "ON \n",
    "\n",
    "a.CODIGO_VENDA = b.CODIGO_VENDA\n",
    "AND a.ID_CLIENTE = b.ID_CLIENTE\n",
    "AND a.ID_LOJA = b.ID_LOJA\n",
    "AND a.ID_PRODUTO = b.ID_PRODUTO\n",
    "AND a.ID_FORMA_PAGAMENTO = b.ID_FORMA_PAGAMENTO\n",
    "AND a.ID_TEMPO = b.ID_TEMPO\n",
    "\n",
    "WHEN MATCHED \n",
    "THEN\n",
    "UPDATE SET \n",
    "a.HORA_VENDA = b.HORA_VENDA\n",
    ",a.QUANTIDADE = b.QUANTIDADE\n",
    ",a.VALOR_UNITARIO = b.VALOR_UNITARIO\n",
    ",a.VALOR_FINAL = b.VALOR_FINAL\n",
    ",a.TIPO_PAGAMENTO = b.TIPO_PAGAMENTO\n",
    ",a.DATA_ALTERACAO = from_utc_timestamp(now(),'GMT-3')\n",
    "\n",
    "WHEN NOT MATCHED\n",
    "THEN \n",
    "INSERT \n",
    "(\n",
    "CODIGO_VENDA\n",
    ",ID_CLIENTE\n",
    ",ID_LOJA\n",
    ",ID_PRODUTO\n",
    ",ID_FORMA_PAGAMENTO\n",
    ",ID_TEMPO\n",
    ",HORA_VENDA\n",
    ",QUANTIDADE\n",
    ",VALOR_UNITARIO\n",
    ",VALOR_FINAL\n",
    ",TIPO_PAGAMENTO\n",
    ",DATA_CADASTRO\n",
    ",DATA_ALTERACAO\n",
    ") \n",
    "VALUES \n",
    "(\n",
    "b.CODIGO_VENDA\n",
    ",b.ID_CLIENTE\n",
    ",b.ID_LOJA\n",
    ",b.ID_PRODUTO\n",
    ",b.ID_FORMA_PAGAMENTO\n",
    ",b.ID_TEMPO\n",
    ",b.HORA_VENDA\n",
    ",b.QUANTIDADE\n",
    ",b.VALOR_UNITARIO\n",
    ",b.VALOR_FINAL\n",
    ",b.TIPO_PAGAMENTO\n",
    ",from_utc_timestamp(now(),'GMT-3')\n",
    ",from_utc_timestamp(now(),'GMT-3')\n",
    ")\n"
   ]
  }
 ],
 "metadata": {
  "application/vnd.databricks.v1+notebook": {
   "dashboards": [],
   "language": "python",
   "notebookMetadata": {
    "mostRecentlyExecutedCommandWithImplicitDF": {
     "commandId": 1487787465605635,
     "dataframes": [
      "_sqldf"
     ]
    },
    "pythonIndentUnit": 4
   },
   "notebookName": "04_ingestao_camada_gold",
   "widgets": {}
  }
 },
 "nbformat": 4,
 "nbformat_minor": 0
}
