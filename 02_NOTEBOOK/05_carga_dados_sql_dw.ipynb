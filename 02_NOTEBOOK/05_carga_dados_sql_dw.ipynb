{
 "cells": [
  {
   "cell_type": "markdown",
   "metadata": {
    "application/vnd.databricks.v1+cell": {
     "cellMetadata": {},
     "inputWidgets": {},
     "nuid": "7f4856d8-c57d-4f11-a447-9129b8d399a5",
     "showTitle": false,
     "title": ""
    }
   },
   "source": [
    "## Atividades Desenvolvidas no Notebook - 05_carga_dados_sql_dw\n",
    "\n",
    "|Sequência|Ação|Detalhamento\n",
    "|---|---|---|\n",
    "|SEQ-01 |Função acentuacao|Usada para remover a acentuação de campos do tipo STRING.|\n",
    "|SEQ-02 / SEQ-03 / SEQ-04 / SEQ-05 / SEQ-06|Ingestão dos Dados da Camada Bronze para Silver|Carga realizada baseada nos dados existentes nas tabelas da camada Bronze.|\n",
    "|SEQ-02 / SEQ-03 / SEQ-04 / SEQ-05 / SEQ-06|Tratamento de dados antes de inserir/atualizar|Remover acentuação e caracteres especiais, valores nulos onde o datatype foi STRING, informar 'N/A', datatype NUMÉRICO, informar 0 (zero) e datatype DATE/TIMESTAMP, informar '1900-01-01'. Todo os dados do tipo STRING devem estar dados em caixa alta.|\n",
    "|SEQ-02 / SEQ-03 / SEQ-04 / SEQ-05 / SEQ-06|Identificar a data de alteração ou cadastro|Regra: Caso o registro não exista (caindo na condição INSERT do MERGE), a data de cadastro e data de alteração devem ser a mesma, caso o registro exista, a data de alteração deverá ser alterada.|"
   ]
  },
  {
   "cell_type": "code",
   "execution_count": 0,
   "metadata": {
    "application/vnd.databricks.v1+cell": {
     "cellMetadata": {
      "byteLimit": 2048000,
      "rowLimit": 10000
     },
     "inputWidgets": {},
     "nuid": "7afcbc4b-ed61-436b-99c5-04dee584a79e",
     "showTitle": true,
     "title": "SEQ-01 - Importa Notebook"
    }
   },
   "outputs": [],
   "source": [
    "from pyspark.sql.functions import *\n",
    "from datetime import date, timedelta\n",
    "import pyodbc"
   ]
  },
  {
   "cell_type": "code",
   "execution_count": 0,
   "metadata": {
    "application/vnd.databricks.v1+cell": {
     "cellMetadata": {
      "byteLimit": 2048000,
      "rowLimit": 10000
     },
     "inputWidgets": {},
     "nuid": "90677169-f402-4d6f-af30-4b4932fc51b7",
     "showTitle": true,
     "title": "SEQ-01 - Importa Notebook"
    }
   },
   "outputs": [],
   "source": [
    "pip install pyodbc"
   ]
  },
  {
   "cell_type": "code",
   "execution_count": 0,
   "metadata": {
    "application/vnd.databricks.v1+cell": {
     "cellMetadata": {
      "byteLimit": 2048000,
      "rowLimit": 10000
     },
     "inputWidgets": {},
     "nuid": "913cdc86-5767-41d4-80c7-ffc4e313e971",
     "showTitle": true,
     "title": "SEQ-01 - Importa Notebook"
    }
   },
   "outputs": [
    {
     "output_type": "stream",
     "name": "stdout",
     "output_type": "stream",
     "text": [
      "srv-db-treinamentosql.database.windows.net:1433\n"
     ]
    }
   ],
   "source": [
    "dfjson =  pd.read_json(\"https://raw.githubusercontent.com/dbaassists/Projeto_BI_Zero_TO_DW/main/04_ARQUIVO_CONFIG/config_azure_sql.json\")\n",
    "\n",
    "server = dfjson['Config']['server']\n",
    "database = dfjson['Config']['database']\n",
    "username = dfjson['Config']['username']\n",
    "password = dfjson['Config']['password']\n",
    "\n",
    "print(server)"
   ]
  },
  {
   "cell_type": "code",
   "execution_count": 0,
   "metadata": {
    "application/vnd.databricks.v1+cell": {
     "cellMetadata": {
      "byteLimit": 2048000,
      "rowLimit": 10000
     },
     "inputWidgets": {},
     "nuid": "dfd76b83-95b9-43ef-b21a-8ec9c0abbf1c",
     "showTitle": true,
     "title": "SEQ-01 - Importa Notebook"
    }
   },
   "outputs": [
    {
     "output_type": "stream",
     "name": "stdout",
     "output_type": "stream",
     "text": [
      "  % Total    % Received % Xferd  Average Speed   Time    Time     Time  Current\n                                 Dload  Upload   Total   Spent    Left  Speed\n\n  0     0    0     0    0     0      0      0 --:--:-- --:--:-- --:--:--     0\n100   983  100   983    0     0   7503      0 --:--:-- --:--:-- --:--:--  7503\nWarning: apt-key output should not be parsed (stdout is not a terminal)\nOK\n  % Total    % Received % Xferd  Average Speed   Time    Time     Time  Current\n                                 Dload  Upload   Total   Spent    Left  Speed\n\n  0     0    0     0    0     0      0      0 --:--:-- --:--:-- --:--:--     0\n  0     0    0     0    0     0      0      0 --:--:-- --:--:-- --:--:--     0\n100    79  100    79    0     0    681      0 --:--:-- --:--:-- --:--:--   675\nHit:1 https://packages.microsoft.com/ubuntu/16.04/prod xenial InRelease\nHit:2 https://repos.azul.com/zulu/deb stable InRelease\nHit:3 http://security.ubuntu.com/ubuntu focal-security InRelease\nHit:4 http://archive.ubuntu.com/ubuntu focal InRelease\nHit:5 http://archive.ubuntu.com/ubuntu focal-updates InRelease\nHit:6 http://archive.ubuntu.com/ubuntu focal-backports InRelease\nReading package lists...\nReading package lists...\nBuilding dependency tree...\nReading state information...\nmsodbcsql17 is already the newest version (17.8.1.1-1).\n0 upgraded, 0 newly installed, 0 to remove and 42 not upgraded.\n"
     ]
    }
   ],
   "source": [
    "%sh\n",
    "curl https://packages.microsoft.com/keys/microsoft.asc | apt-key add -\n",
    "curl https://packages.microsoft.com/config/ubuntu/16.04/prod.list > /etc/apt/sources.list.d/mssql-release.list\n",
    "sudo apt-get update\n",
    "sudo ACCEPT_EULA=Y apt-get -q -y install msodbcsql17"
   ]
  },
  {
   "cell_type": "code",
   "execution_count": 0,
   "metadata": {
    "application/vnd.databricks.v1+cell": {
     "cellMetadata": {
      "byteLimit": 2048000,
      "rowLimit": 10000
     },
     "inputWidgets": {},
     "nuid": "fc6a3bb1-1401-4ec8-b755-239149646997",
     "showTitle": true,
     "title": "SEQ-01 - Importa Notebook"
    }
   },
   "outputs": [
    {
     "output_type": "stream",
     "name": "stdout",
     "output_type": "stream",
     "text": [
      "dw.Fato_Venda\nTRUNCATE TABLE\ndw.Dim_Cliente\nDELETE FROM\ndw.Dim_Produto\nDELETE FROM\ndw.Dim_Forma_Pagamento\nDELETE FROM\ndw.Dim_Tempo\nDELETE FROM\ndw.Dim_Loja\nDELETE FROM\n"
     ]
    }
   ],
   "source": [
    "cnxn = pyodbc.connect('DRIVER={ODBC Driver 17 for SQL Server};SERVER=srv-db-treinamentosql.database.windows.net;port=1433;DATABASE=srv-db-treinamentosql;UID='+username+';PWD='+ password)\n",
    "\n",
    "lista_tabela = ['dw.Fato_Venda', 'dw.Dim_Cliente', 'dw.Dim_Produto', 'dw.Dim_Forma_Pagamento', 'dw.Dim_Tempo', 'dw.Dim_Loja']\n",
    "\n",
    "for tabela in lista_tabela:\n",
    "\n",
    "    print(tabela)\n",
    "\n",
    "    cursor = cnxn.cursor()\n",
    "\n",
    "    if tabela == 'dw.Fato_Venda':\n",
    "        comando = 'TRUNCATE TABLE'\n",
    "        print(comando)\n",
    "        cursor.execute(f'TRUNCATE TABLE {tabela}')\n",
    "\n",
    "    else:\n",
    "\n",
    "        comando = 'DELETE FROM'\n",
    "        print(comando)\n",
    "        cursor.execute(f'DELETE FROM {tabela}')    \n",
    "\n",
    "    cursor.commit()\n",
    "\n",
    "cnxn.close()    "
   ]
  },
  {
   "cell_type": "code",
   "execution_count": 0,
   "metadata": {
    "application/vnd.databricks.v1+cell": {
     "cellMetadata": {
      "byteLimit": 2048000,
      "rowLimit": 10000
     },
     "inputWidgets": {},
     "nuid": "07b8db11-6493-46f4-acee-314a8933732b",
     "showTitle": true,
     "title": "SEQ-01 - Importa Notebook"
    }
   },
   "outputs": [],
   "source": [
    "\n",
    "# Consulta SQL para selecionar os dados do Databricks SQL\n",
    "query = \"\"\"\n",
    "SELECT * FROM gold.dim_cliente\n",
    "\"\"\"\n",
    "# Carregando os dados do Databricks SQL\n",
    "df = spark.sql(query)\n",
    "\n",
    "# Escrevendo os dados no banco de dados Azure SQL\n",
    "df.write \\\n",
    "    .format(\"jdbc\") \\\n",
    "    .option(\"url\",  f\"jdbc:sqlserver://{server};database={database}\") \\\n",
    "    .option(\"dbtable\", \"dw.Dim_Cliente\") \\\n",
    "    .option(\"user\", username) \\\n",
    "    .option(\"password\", password) \\\n",
    "    .mode(\"append\") \\\n",
    "    .save()"
   ]
  },
  {
   "cell_type": "code",
   "execution_count": 0,
   "metadata": {
    "application/vnd.databricks.v1+cell": {
     "cellMetadata": {
      "byteLimit": 2048000,
      "rowLimit": 10000
     },
     "inputWidgets": {},
     "nuid": "2879f808-862b-43bf-babe-f09b468fc1ab",
     "showTitle": true,
     "title": "SEQ-01 - Importa Notebook"
    }
   },
   "outputs": [],
   "source": [
    "\n",
    "# Consulta SQL para selecionar os dados do Databricks SQL\n",
    "query = \"\"\"\n",
    "SELECT * FROM gold.dim_produto\n",
    "\"\"\"\n",
    "# Carregando os dados do Databricks SQL\n",
    "df = spark.sql(query)\n",
    "\n",
    "# Escrevendo os dados no banco de dados Azure SQL\n",
    "df.write \\\n",
    "    .format(\"jdbc\") \\\n",
    "    .option(\"url\",  f\"jdbc:sqlserver://{server};database={database}\") \\\n",
    "    .option(\"dbtable\", \"dw.Dim_Produto\") \\\n",
    "    .option(\"user\", username) \\\n",
    "    .option(\"password\", password) \\\n",
    "    .mode(\"append\") \\\n",
    "    .save()"
   ]
  },
  {
   "cell_type": "code",
   "execution_count": 0,
   "metadata": {
    "application/vnd.databricks.v1+cell": {
     "cellMetadata": {
      "byteLimit": 2048000,
      "rowLimit": 10000
     },
     "inputWidgets": {},
     "nuid": "96ba6f6a-17aa-4244-a131-59d78e6ec2de",
     "showTitle": true,
     "title": "SEQ-01 - Importa Notebook"
    }
   },
   "outputs": [],
   "source": [
    "\n",
    "# Consulta SQL para selecionar os dados do Databricks SQL\n",
    "query = \"\"\"\n",
    "SELECT * FROM gold.dim_forma_pagamento\n",
    "\"\"\"\n",
    "# Carregando os dados do Databricks SQL\n",
    "df = spark.sql(query)\n",
    "\n",
    "# Escrevendo os dados no banco de dados Azure SQL\n",
    "df.write \\\n",
    "    .format(\"jdbc\") \\\n",
    "    .option(\"url\",  f\"jdbc:sqlserver://{server};database={database}\") \\\n",
    "    .option(\"dbtable\", \"dw.Dim_Forma_Pagamento\") \\\n",
    "    .option(\"user\", username) \\\n",
    "    .option(\"password\", password) \\\n",
    "    .mode(\"append\") \\\n",
    "    .save()"
   ]
  },
  {
   "cell_type": "code",
   "execution_count": 0,
   "metadata": {
    "application/vnd.databricks.v1+cell": {
     "cellMetadata": {
      "byteLimit": 2048000,
      "rowLimit": 10000
     },
     "inputWidgets": {},
     "nuid": "ba505f3f-e01e-47bc-9900-ddb49f09cfb0",
     "showTitle": true,
     "title": "SEQ-01 - Importa Notebook"
    }
   },
   "outputs": [],
   "source": [
    "\n",
    "# Consulta SQL para selecionar os dados do Databricks SQL\n",
    "query = \"\"\"\n",
    "SELECT * FROM gold.dim_tempo\n",
    "\"\"\"\n",
    "# Carregando os dados do Databricks SQL\n",
    "df = spark.sql(query)\n",
    "\n",
    "# Escrevendo os dados no banco de dados Azure SQL\n",
    "df.write \\\n",
    "    .format(\"jdbc\") \\\n",
    "    .option(\"url\",  f\"jdbc:sqlserver://{server};database={database}\") \\\n",
    "    .option(\"dbtable\", \"dw.Dim_Tempo\") \\\n",
    "    .option(\"user\", username) \\\n",
    "    .option(\"password\", password) \\\n",
    "    .mode(\"append\") \\\n",
    "    .save()"
   ]
  },
  {
   "cell_type": "code",
   "execution_count": 0,
   "metadata": {
    "application/vnd.databricks.v1+cell": {
     "cellMetadata": {
      "byteLimit": 2048000,
      "rowLimit": 10000
     },
     "inputWidgets": {},
     "nuid": "6d459384-89c6-4222-85de-b858e5b4fc1a",
     "showTitle": true,
     "title": "SEQ-01 - Importa Notebook"
    }
   },
   "outputs": [],
   "source": [
    "\n",
    "# Consulta SQL para selecionar os dados do Databricks SQL\n",
    "query = \"\"\"\n",
    "SELECT * FROM gold.dim_loja\n",
    "\"\"\"\n",
    "# Carregando os dados do Databricks SQL\n",
    "df = spark.sql(query)\n",
    "\n",
    "# Escrevendo os dados no banco de dados Azure SQL\n",
    "df.write \\\n",
    "    .format(\"jdbc\") \\\n",
    "    .option(\"url\",  f\"jdbc:sqlserver://{server};database={database}\") \\\n",
    "    .option(\"dbtable\", \"dw.Dim_Loja\") \\\n",
    "    .option(\"user\", username) \\\n",
    "    .option(\"password\", password) \\\n",
    "    .mode(\"append\") \\\n",
    "    .save()"
   ]
  },
  {
   "cell_type": "code",
   "execution_count": 0,
   "metadata": {
    "application/vnd.databricks.v1+cell": {
     "cellMetadata": {
      "byteLimit": 2048000,
      "rowLimit": 10000
     },
     "inputWidgets": {},
     "nuid": "24114eb8-3373-4f43-94e0-61a742c64166",
     "showTitle": true,
     "title": "SEQ-01 - Importa Notebook"
    }
   },
   "outputs": [],
   "source": [
    "\n",
    "# Consulta SQL para selecionar os dados do Databricks SQL\n",
    "query = \"\"\"\n",
    "SELECT * FROM gold.fato_venda\n",
    "\"\"\"\n",
    "# Carregando os dados do Databricks SQL\n",
    "df = spark.sql(query)\n",
    "\n",
    "# Escrevendo os dados no banco de dados Azure SQL\n",
    "df.write \\\n",
    "    .format(\"jdbc\") \\\n",
    "    .option(\"url\",  f\"jdbc:sqlserver://{server};database={database}\") \\\n",
    "    .option(\"dbtable\", \"dw.Fato_Venda\") \\\n",
    "    .option(\"user\", username) \\\n",
    "    .option(\"password\", password) \\\n",
    "    .mode(\"append\") \\\n",
    "    .save()"
   ]
  }
 ],
 "metadata": {
  "application/vnd.databricks.v1+notebook": {
   "dashboards": [],
   "language": "python",
   "notebookMetadata": {
    "mostRecentlyExecutedCommandWithImplicitDF": {
     "commandId": 4215382008805913,
     "dataframes": [
      "_sqldf"
     ]
    },
    "pythonIndentUnit": 4
   },
   "notebookName": "05_carga_dados_sql_dw",
   "widgets": {}
  }
 },
 "nbformat": 4,
 "nbformat_minor": 0
}
