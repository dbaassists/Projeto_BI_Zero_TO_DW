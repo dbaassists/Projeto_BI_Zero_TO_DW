{
 "cells": [
  {
   "cell_type": "markdown",
   "metadata": {
    "application/vnd.databricks.v1+cell": {
     "cellMetadata": {
      "byteLimit": 2048000,
      "rowLimit": 10000
     },
     "inputWidgets": {},
     "nuid": "b6ba5d75-5913-48ff-9fa9-a10f627968a0",
     "showTitle": false,
     "title": ""
    }
   },
   "source": [
    "## Atividades Desenvolvidas no Notebook - 00_configuracao_ambiente\n",
    "\n",
    "|Sequência|Ação|Detalhamento\n",
    "|---|---|---|\n",
    "|SEQ-01|Configuração do ambiente no Databricks|Criação do storage \"dbfs:/FileStore/tables/landing_zone\"|\n",
    "|SEQ-02 / SEQ-03 / SEQ-04|Criação de Schemas (Bancos de Dados)|Criação das Camadas Bronze, Silver e Gold |\n",
    "|SEQ-05 / SEQ-06 / SEQ-07|Criação das Tabelas|Criação das Tabelas das Camadas Bronze, Silver e Gold|\n",
    "|SEQ-08|Criação Script Dimensão Tempo|Geração de Scripts de Insert para a Dimensão Tempo para o mês de Jul/2023|"
   ]
  },
  {
   "cell_type": "code",
   "execution_count": 0,
   "metadata": {
    "application/vnd.databricks.v1+cell": {
     "cellMetadata": {
      "byteLimit": 2048000,
      "rowLimit": 10000
     },
     "inputWidgets": {},
     "nuid": "d1ffd359-9277-4edb-a6a8-d012e90c3af5",
     "showTitle": true,
     "title": "SEQ-00 - Importação de Bibliotecas"
    }
   },
   "outputs": [],
   "source": [
    "from pyspark.sql.functions import *\n",
    "from datetime import date, timedelta\n"
   ]
  },
  {
   "cell_type": "code",
   "execution_count": 0,
   "metadata": {
    "application/vnd.databricks.v1+cell": {
     "cellMetadata": {
      "byteLimit": 2048000,
      "rowLimit": 10000
     },
     "inputWidgets": {},
     "nuid": "344031e6-ba03-4c5a-92ab-a6db4a19e19d",
     "showTitle": false,
     "title": ""
    }
   },
   "outputs": [],
   "source": [
    "%run /estudos/libs/bibliotecas"
   ]
  },
  {
   "cell_type": "code",
   "execution_count": 0,
   "metadata": {
    "application/vnd.databricks.v1+cell": {
     "cellMetadata": {
      "byteLimit": 2048000,
      "rowLimit": 10000
     },
     "inputWidgets": {},
     "nuid": "6c10cc82-c644-4a01-a127-ff737057ae27",
     "showTitle": true,
     "title": "SEQ-01 - Criar Storage no DataBricks"
    }
   },
   "outputs": [],
   "source": [
    "diretorio_landing_zone = \"dbfs:/FileStore/tables/landing_zone\"\n",
    "\n",
    "try:\n",
    "    dbutils.fs.ls(diretorio_landing_zone)\n",
    "    dbutils.fs.rm(diretorio_landing_zone, True)\n",
    "        \n",
    "except:\n",
    "\n",
    "    print(f\"O diretório {diretorio_landing_zone} não existe.\")\n"
   ]
  },
  {
   "cell_type": "code",
   "execution_count": 0,
   "metadata": {
    "application/vnd.databricks.v1+cell": {
     "cellMetadata": {
      "byteLimit": 2048000,
      "rowLimit": 10000
     },
     "inputWidgets": {},
     "nuid": "168b217d-8183-4844-9cc5-da8df412f2f7",
     "showTitle": false,
     "title": ""
    }
   },
   "outputs": [
    {
     "output_type": "stream",
     "name": "stdout",
     "output_type": "stream",
     "text": [
      "O diretório dbfs:/FileStore/tables/landing_zone não existe e será criado.\n"
     ]
    },
    {
     "output_type": "stream",
     "name": "stdout",
     "output_type": "stream",
     "text": [
      "Out[81]: <function __main__.acentuacao(var)>"
     ]
    }
   ],
   "source": [
    "try:\n",
    "\n",
    "    dbutils.fs.ls(diretorio_landing_zone)\n",
    "        \n",
    "except:\n",
    "\n",
    "    print(f\"O diretório {diretorio_landing_zone} não existe e será criado.\")\n",
    "    dbutils.fs.mkdirs(diretorio_landing_zone)"
   ]
  },
  {
   "cell_type": "code",
   "execution_count": 0,
   "metadata": {
    "application/vnd.databricks.v1+cell": {
     "cellMetadata": {
      "byteLimit": 2048000,
      "implicitDf": true,
      "rowLimit": 10000
     },
     "inputWidgets": {},
     "nuid": "7c697ecb-ffc7-48c5-9c0d-9a9605c0f7a8",
     "showTitle": true,
     "title": "SEQ-02 - Criar DataBase BRONZE no DataBricks"
    }
   },
   "outputs": [
    {
     "output_type": "display_data",
     "data": {
      "text/html": [
       "<style scoped>\n",
       "  .table-result-container {\n",
       "    max-height: 300px;\n",
       "    overflow: auto;\n",
       "  }\n",
       "  table, th, td {\n",
       "    border: 1px solid black;\n",
       "    border-collapse: collapse;\n",
       "  }\n",
       "  th, td {\n",
       "    padding: 5px;\n",
       "  }\n",
       "  th {\n",
       "    text-align: left;\n",
       "  }\n",
       "</style><div class='table-result-container'><table class='table-result'><thead style='background-color: white'><tr></tr></thead><tbody></tbody></table></div>"
      ]
     },
     "metadata": {
      "application/vnd.databricks.v1+output": {
       "addedWidgets": {},
       "aggData": [],
       "aggError": "",
       "aggOverflow": false,
       "aggSchema": [],
       "aggSeriesLimitReached": false,
       "aggType": "",
       "arguments": {},
       "columnCustomDisplayInfos": {},
       "data": [],
       "datasetInfos": [],
       "dbfsResultPath": null,
       "isJsonSchema": true,
       "metadata": {},
       "overflow": false,
       "plotOptions": {
        "customPlotOptions": {},
        "displayType": "table",
        "pivotAggregation": null,
        "pivotColumns": null,
        "xColumns": null,
        "yColumns": null
       },
       "removedWidgets": [],
       "schema": [],
       "type": "table"
      }
     },
     "output_type": "display_data"
    }
   ],
   "source": [
    "%sql\n",
    "DROP SCHEMA IF EXISTS bronze CASCADE;"
   ]
  },
  {
   "cell_type": "code",
   "execution_count": 0,
   "metadata": {
    "application/vnd.databricks.v1+cell": {
     "cellMetadata": {
      "byteLimit": 2048000,
      "implicitDf": true,
      "rowLimit": 10000
     },
     "inputWidgets": {},
     "nuid": "fe7e6962-8190-4d84-bc71-72586bd0ea41",
     "showTitle": false,
     "title": ""
    }
   },
   "outputs": [
    {
     "output_type": "display_data",
     "data": {
      "text/html": [
       "<style scoped>\n",
       "  .table-result-container {\n",
       "    max-height: 300px;\n",
       "    overflow: auto;\n",
       "  }\n",
       "  table, th, td {\n",
       "    border: 1px solid black;\n",
       "    border-collapse: collapse;\n",
       "  }\n",
       "  th, td {\n",
       "    padding: 5px;\n",
       "  }\n",
       "  th {\n",
       "    text-align: left;\n",
       "  }\n",
       "</style><div class='table-result-container'><table class='table-result'><thead style='background-color: white'><tr></tr></thead><tbody></tbody></table></div>"
      ]
     },
     "metadata": {
      "application/vnd.databricks.v1+output": {
       "addedWidgets": {},
       "aggData": [],
       "aggError": "",
       "aggOverflow": false,
       "aggSchema": [],
       "aggSeriesLimitReached": false,
       "aggType": "",
       "arguments": {},
       "columnCustomDisplayInfos": {},
       "data": [],
       "datasetInfos": [],
       "dbfsResultPath": null,
       "isJsonSchema": true,
       "metadata": {},
       "overflow": false,
       "plotOptions": {
        "customPlotOptions": {},
        "displayType": "table",
        "pivotAggregation": null,
        "pivotColumns": null,
        "xColumns": null,
        "yColumns": null
       },
       "removedWidgets": [],
       "schema": [],
       "type": "table"
      }
     },
     "output_type": "display_data"
    }
   ],
   "source": [
    "%sql\n",
    "CREATE SCHEMA IF NOT EXISTS bronze COMMENT 'SCHEMA (Banco de Dados) referente a Camada BRONZE.';"
   ]
  },
  {
   "cell_type": "code",
   "execution_count": 0,
   "metadata": {
    "application/vnd.databricks.v1+cell": {
     "cellMetadata": {
      "byteLimit": 2048000,
      "implicitDf": true,
      "rowLimit": 10000
     },
     "inputWidgets": {},
     "nuid": "0282bd9c-f84b-45e5-9288-d60406f5015c",
     "showTitle": true,
     "title": "SEQ-03 - Criar DataBase SILVER no DataBricks"
    }
   },
   "outputs": [
    {
     "output_type": "display_data",
     "data": {
      "text/html": [
       "<style scoped>\n",
       "  .table-result-container {\n",
       "    max-height: 300px;\n",
       "    overflow: auto;\n",
       "  }\n",
       "  table, th, td {\n",
       "    border: 1px solid black;\n",
       "    border-collapse: collapse;\n",
       "  }\n",
       "  th, td {\n",
       "    padding: 5px;\n",
       "  }\n",
       "  th {\n",
       "    text-align: left;\n",
       "  }\n",
       "</style><div class='table-result-container'><table class='table-result'><thead style='background-color: white'><tr></tr></thead><tbody></tbody></table></div>"
      ]
     },
     "metadata": {
      "application/vnd.databricks.v1+output": {
       "addedWidgets": {},
       "aggData": [],
       "aggError": "",
       "aggOverflow": false,
       "aggSchema": [],
       "aggSeriesLimitReached": false,
       "aggType": "",
       "arguments": {},
       "columnCustomDisplayInfos": {},
       "data": [],
       "datasetInfos": [],
       "dbfsResultPath": null,
       "isJsonSchema": true,
       "metadata": {},
       "overflow": false,
       "plotOptions": {
        "customPlotOptions": {},
        "displayType": "table",
        "pivotAggregation": null,
        "pivotColumns": null,
        "xColumns": null,
        "yColumns": null
       },
       "removedWidgets": [],
       "schema": [],
       "type": "table"
      }
     },
     "output_type": "display_data"
    }
   ],
   "source": [
    "%sql\n",
    "DROP SCHEMA IF EXISTS silver CASCADE;\n"
   ]
  },
  {
   "cell_type": "code",
   "execution_count": 0,
   "metadata": {
    "application/vnd.databricks.v1+cell": {
     "cellMetadata": {
      "byteLimit": 2048000,
      "implicitDf": true,
      "rowLimit": 10000
     },
     "inputWidgets": {},
     "nuid": "7fb302da-b2ce-4351-beeb-386e094e49ea",
     "showTitle": false,
     "title": ""
    }
   },
   "outputs": [
    {
     "output_type": "display_data",
     "data": {
      "text/html": [
       "<style scoped>\n",
       "  .table-result-container {\n",
       "    max-height: 300px;\n",
       "    overflow: auto;\n",
       "  }\n",
       "  table, th, td {\n",
       "    border: 1px solid black;\n",
       "    border-collapse: collapse;\n",
       "  }\n",
       "  th, td {\n",
       "    padding: 5px;\n",
       "  }\n",
       "  th {\n",
       "    text-align: left;\n",
       "  }\n",
       "</style><div class='table-result-container'><table class='table-result'><thead style='background-color: white'><tr></tr></thead><tbody></tbody></table></div>"
      ]
     },
     "metadata": {
      "application/vnd.databricks.v1+output": {
       "addedWidgets": {},
       "aggData": [],
       "aggError": "",
       "aggOverflow": false,
       "aggSchema": [],
       "aggSeriesLimitReached": false,
       "aggType": "",
       "arguments": {},
       "columnCustomDisplayInfos": {},
       "data": [],
       "datasetInfos": [],
       "dbfsResultPath": null,
       "isJsonSchema": true,
       "metadata": {},
       "overflow": false,
       "plotOptions": {
        "customPlotOptions": {},
        "displayType": "table",
        "pivotAggregation": null,
        "pivotColumns": null,
        "xColumns": null,
        "yColumns": null
       },
       "removedWidgets": [],
       "schema": [],
       "type": "table"
      }
     },
     "output_type": "display_data"
    }
   ],
   "source": [
    "%sql \n",
    "CREATE SCHEMA IF NOT EXISTS silver COMMENT 'SCHEMA (Banco de Dados) referente a Camada SILVER.';"
   ]
  },
  {
   "cell_type": "code",
   "execution_count": 0,
   "metadata": {
    "application/vnd.databricks.v1+cell": {
     "cellMetadata": {
      "byteLimit": 2048000,
      "implicitDf": true,
      "rowLimit": 10000
     },
     "inputWidgets": {},
     "nuid": "8ac07e1f-7d3d-4261-80d0-98180e793110",
     "showTitle": true,
     "title": "SEQ-04 - Criar DataBase GOLD no DataBricks"
    }
   },
   "outputs": [
    {
     "output_type": "display_data",
     "data": {
      "text/html": [
       "<style scoped>\n",
       "  .table-result-container {\n",
       "    max-height: 300px;\n",
       "    overflow: auto;\n",
       "  }\n",
       "  table, th, td {\n",
       "    border: 1px solid black;\n",
       "    border-collapse: collapse;\n",
       "  }\n",
       "  th, td {\n",
       "    padding: 5px;\n",
       "  }\n",
       "  th {\n",
       "    text-align: left;\n",
       "  }\n",
       "</style><div class='table-result-container'><table class='table-result'><thead style='background-color: white'><tr></tr></thead><tbody></tbody></table></div>"
      ]
     },
     "metadata": {
      "application/vnd.databricks.v1+output": {
       "addedWidgets": {},
       "aggData": [],
       "aggError": "",
       "aggOverflow": false,
       "aggSchema": [],
       "aggSeriesLimitReached": false,
       "aggType": "",
       "arguments": {},
       "columnCustomDisplayInfos": {},
       "data": [],
       "datasetInfos": [],
       "dbfsResultPath": null,
       "isJsonSchema": true,
       "metadata": {},
       "overflow": false,
       "plotOptions": {
        "customPlotOptions": {},
        "displayType": "table",
        "pivotAggregation": null,
        "pivotColumns": null,
        "xColumns": null,
        "yColumns": null
       },
       "removedWidgets": [],
       "schema": [],
       "type": "table"
      }
     },
     "output_type": "display_data"
    }
   ],
   "source": [
    "%sql\n",
    "DROP SCHEMA IF EXISTS gold CASCADE;"
   ]
  },
  {
   "cell_type": "code",
   "execution_count": 0,
   "metadata": {
    "application/vnd.databricks.v1+cell": {
     "cellMetadata": {
      "byteLimit": 2048000,
      "implicitDf": true,
      "rowLimit": 10000
     },
     "inputWidgets": {},
     "nuid": "d02a4c81-15c1-4bc0-98c4-a6446fbd0e1f",
     "showTitle": false,
     "title": ""
    }
   },
   "outputs": [
    {
     "output_type": "display_data",
     "data": {
      "text/html": [
       "<style scoped>\n",
       "  .table-result-container {\n",
       "    max-height: 300px;\n",
       "    overflow: auto;\n",
       "  }\n",
       "  table, th, td {\n",
       "    border: 1px solid black;\n",
       "    border-collapse: collapse;\n",
       "  }\n",
       "  th, td {\n",
       "    padding: 5px;\n",
       "  }\n",
       "  th {\n",
       "    text-align: left;\n",
       "  }\n",
       "</style><div class='table-result-container'><table class='table-result'><thead style='background-color: white'><tr></tr></thead><tbody></tbody></table></div>"
      ]
     },
     "metadata": {
      "application/vnd.databricks.v1+output": {
       "addedWidgets": {},
       "aggData": [],
       "aggError": "",
       "aggOverflow": false,
       "aggSchema": [],
       "aggSeriesLimitReached": false,
       "aggType": "",
       "arguments": {},
       "columnCustomDisplayInfos": {},
       "data": [],
       "datasetInfos": [],
       "dbfsResultPath": null,
       "isJsonSchema": true,
       "metadata": {},
       "overflow": false,
       "plotOptions": {
        "customPlotOptions": {},
        "displayType": "table",
        "pivotAggregation": null,
        "pivotColumns": null,
        "xColumns": null,
        "yColumns": null
       },
       "removedWidgets": [],
       "schema": [],
       "type": "table"
      }
     },
     "output_type": "display_data"
    }
   ],
   "source": [
    "%sql\n",
    "CREATE SCHEMA IF NOT EXISTS gold COMMENT 'SCHEMA (Banco de Dados) referente a Camada GOLD.';"
   ]
  },
  {
   "cell_type": "code",
   "execution_count": 0,
   "metadata": {
    "application/vnd.databricks.v1+cell": {
     "cellMetadata": {
      "byteLimit": 2048000,
      "implicitDf": true,
      "rowLimit": 10000
     },
     "inputWidgets": {},
     "nuid": "2e7a3c24-1651-4936-80d4-4ef9d17ce916",
     "showTitle": true,
     "title": "SEQ-05 - Criar Tabelas no DataBase BRONZE"
    }
   },
   "outputs": [
    {
     "output_type": "display_data",
     "data": {
      "text/html": [
       "<style scoped>\n",
       "  .table-result-container {\n",
       "    max-height: 300px;\n",
       "    overflow: auto;\n",
       "  }\n",
       "  table, th, td {\n",
       "    border: 1px solid black;\n",
       "    border-collapse: collapse;\n",
       "  }\n",
       "  th, td {\n",
       "    padding: 5px;\n",
       "  }\n",
       "  th {\n",
       "    text-align: left;\n",
       "  }\n",
       "</style><div class='table-result-container'><table class='table-result'><thead style='background-color: white'><tr></tr></thead><tbody></tbody></table></div>"
      ]
     },
     "metadata": {
      "application/vnd.databricks.v1+output": {
       "addedWidgets": {},
       "aggData": [],
       "aggError": "",
       "aggOverflow": false,
       "aggSchema": [],
       "aggSeriesLimitReached": false,
       "aggType": "",
       "arguments": {},
       "columnCustomDisplayInfos": {},
       "data": [],
       "datasetInfos": [],
       "dbfsResultPath": null,
       "isJsonSchema": true,
       "metadata": {},
       "overflow": false,
       "plotOptions": {
        "customPlotOptions": {},
        "displayType": "table",
        "pivotAggregation": null,
        "pivotColumns": null,
        "xColumns": null,
        "yColumns": null
       },
       "removedWidgets": [],
       "schema": [],
       "type": "table"
      }
     },
     "output_type": "display_data"
    }
   ],
   "source": [
    "%sql\n",
    "\n",
    "DROP  TABLE IF EXISTS bronze.TB_FORMA_PAGAMENTO;\n",
    "CREATE TABLE bronze.TB_FORMA_PAGAMENTO\n",
    "(\n",
    "CODIGO_FORMA_PAGAMENTO\t INT COMMENT 'Código da Forma de Pagamento na Tabela TB_FORMA_PAGAMENTO.'\n",
    ",DESCRICAO_FORMA_PAGAMENTO VARCHAR(100) COMMENT 'Descrição da Forma de Pagamento na Tabela TB_FORMA_PAGAMENTO.'\n",
    ")\n",
    "COMMENT 'Armazena informações de forma de pagamento.';\n",
    "\n",
    "DROP  TABLE IF EXISTS bronze.TB_CATEGORIA_PRODUTO;\n",
    "CREATE TABLE bronze.TB_CATEGORIA_PRODUTO\n",
    "(\n",
    "CODIGO_CATEGORIA INT COMMENT 'Código da Categoria do Produto.'\n",
    ",DECRICAO_CATEGORIA VARCHAR(100) COMMENT 'Descrição da Categoria do Produto.'\n",
    ")\n",
    "COMMENT 'Armazena informações das categorias dos produtos';\n",
    "\n",
    "DROP  TABLE IF EXISTS bronze.TB_PRODUTO;\n",
    "CREATE TABLE bronze.TB_PRODUTO\n",
    "(\n",
    "CODIGO_PRODUTO\t INT  COMMENT 'Código do Produto.'\n",
    ",DESCRICAO_PRODUTO\t VARCHAR(100) COMMENT 'Descrição do Produto.'\n",
    ",CODIGO_CATEGORIA INT COMMENT 'Categoria do Produto.'\n",
    ")\n",
    "COMMENT '\tArmazena informações de produtos.';\n",
    "\n",
    "DROP  TABLE IF EXISTS bronze.TB_CLIENTE;\n",
    "CREATE TABLE bronze.TB_CLIENTE\n",
    "(\n",
    "CODIGO_CLIENTE INT COMMENT 'Código do Cliente.'\n",
    ",NOME_CLIENTE VARCHAR(100) COMMENT 'Nome do Cliente.'\n",
    ")\n",
    "COMMENT 'Armazena informações de clientes.';\n",
    "\n",
    "DROP  TABLE IF EXISTS bronze.TB_VENDEDOR;\n",
    "CREATE TABLE bronze.TB_VENDEDOR\n",
    "(\n",
    "CODIGO_VENDEDOR INT COMMENT 'Código do Vendedor.'\n",
    ",NOME_VENDEDOR VARCHAR(100) COMMENT 'Nome do Vendedor.'\n",
    ")\n",
    "COMMENT 'Armazena informações de vendedores.';\n",
    "\n",
    "DROP  TABLE IF EXISTS bronze.TB_LOJA;\n",
    "CREATE TABLE bronze.TB_LOJA\n",
    "(\n",
    "CODIGO_LOJA\t INT COMMENT 'Código da Loja.'\n",
    ",NOME_LOJA\t VARCHAR(100) COMMENT 'Nome da Loja.'\n",
    ",LOCALIDADE_LOJA\t VARCHAR(100) COMMENT 'Localidade da Loja.'\n",
    ",TIPO_LOJA VARCHAR(100) COMMENT 'Tipo da Loja.'\n",
    ")\n",
    "COMMENT 'Armazena informações de lojas.';\n",
    "\n",
    "DROP  TABLE IF EXISTS bronze.TB_VENDA;\n",
    "CREATE TABLE bronze.TB_VENDA\n",
    "(\n",
    "CODIGO_VENDA INT COMMENT 'Código da Venda.'\n",
    ",DATA_VENDA\tTIMESTAMP COMMENT 'Data da Venda'\n",
    ",CODIGO_CLIENTE\tINT COMMENT 'Código do Cliente.'\n",
    ",CODIGO_VENDEDOR\tINT COMMENT 'Código do Vendedor.'\n",
    ",CODIGO_LOJA\tINT COMMENT 'Código da Loja.'\n",
    ",VALOR_FINAL DECIMAL(18,2)\t COMMENT 'Valor Total da Venda.'\n",
    ",FORMA_PAGAMENTO\tINT COMMENT 'Forma de Pagamento.'\n",
    ",TIPO_PAGAMENTO VARCHAR(100) COMMENT 'Tipo de Pagamento.'\n",
    ")\n",
    "COMMENT 'Armazenada informações de vendas.';\n",
    "\n",
    "DROP  TABLE IF EXISTS bronze.TB_ITEM_VENDA;\n",
    "CREATE TABLE bronze.TB_ITEM_VENDA\n",
    "(\n",
    "CODIGO_VENDA INT COMMENT 'Código da Venda.'\n",
    ",CODIGO_PRODUTO\tINT COMMENT 'Código do Produto.'\n",
    ",VALOR_UNITARIO DECIMAL(18,2)\t COMMENT 'Valor Unitário do Produto.'\n",
    ",QUANTIDADE\tINT COMMENT 'Quantidade do Produto Vendido.'\n",
    ",VALOR_FINAL DECIMAL(18,2) COMMENT 'Valor Final do Produto Vendido.'\n",
    ")\n",
    "COMMENT 'Armazena informações sobre os itens que foram vendidos.';"
   ]
  },
  {
   "cell_type": "code",
   "execution_count": 0,
   "metadata": {
    "application/vnd.databricks.v1+cell": {
     "cellMetadata": {
      "byteLimit": 2048000,
      "rowLimit": 10000
     },
     "inputWidgets": {},
     "nuid": "ec0fc57f-337c-416f-b9d6-b5d1115c73c0",
     "showTitle": false,
     "title": ""
    }
   },
   "outputs": [],
   "source": [
    "#dbutils.fs.rm('dbfs:/user/hive/warehouse/bronze.db/tb_forma_pagamento', True)"
   ]
  },
  {
   "cell_type": "code",
   "execution_count": 0,
   "metadata": {
    "application/vnd.databricks.v1+cell": {
     "cellMetadata": {
      "byteLimit": 2048000,
      "implicitDf": true,
      "rowLimit": 10000
     },
     "inputWidgets": {},
     "nuid": "3aef1a91-b71f-45b9-9975-ad7f135f16f8",
     "showTitle": false,
     "title": ""
    }
   },
   "outputs": [
    {
     "output_type": "display_data",
     "data": {
      "text/html": [
       "<style scoped>\n",
       "  .table-result-container {\n",
       "    max-height: 300px;\n",
       "    overflow: auto;\n",
       "  }\n",
       "  table, th, td {\n",
       "    border: 1px solid black;\n",
       "    border-collapse: collapse;\n",
       "  }\n",
       "  th, td {\n",
       "    padding: 5px;\n",
       "  }\n",
       "  th {\n",
       "    text-align: left;\n",
       "  }\n",
       "</style><div class='table-result-container'><table class='table-result'><thead style='background-color: white'><tr><th>format</th><th>id</th><th>name</th><th>description</th><th>location</th><th>createdAt</th><th>lastModified</th><th>partitionColumns</th><th>numFiles</th><th>sizeInBytes</th><th>properties</th><th>minReaderVersion</th><th>minWriterVersion</th><th>tableFeatures</th><th>statistics</th></tr></thead><tbody><tr><td>delta</td><td>fa56cfc6-84a1-44dc-9e45-3ee68d1a2a32</td><td>spark_catalog.bronze.tb_forma_pagamento</td><td>Armazena informações de forma de pagamento.</td><td>dbfs:/user/hive/warehouse/bronze.db/tb_forma_pagamento</td><td>2023-11-09T18:49:27.773+0000</td><td>2023-11-09T18:49:28.000+0000</td><td>List()</td><td>0</td><td>0</td><td>Map()</td><td>1</td><td>2</td><td>List(appendOnly, invariants)</td><td>Map()</td></tr></tbody></table></div>"
      ]
     },
     "metadata": {
      "application/vnd.databricks.v1+output": {
       "addedWidgets": {},
       "aggData": [],
       "aggError": "",
       "aggOverflow": false,
       "aggSchema": [],
       "aggSeriesLimitReached": false,
       "aggType": "",
       "arguments": {},
       "columnCustomDisplayInfos": {},
       "data": [
        [
         "delta",
         "fa56cfc6-84a1-44dc-9e45-3ee68d1a2a32",
         "spark_catalog.bronze.tb_forma_pagamento",
         "Armazena informações de forma de pagamento.",
         "dbfs:/user/hive/warehouse/bronze.db/tb_forma_pagamento",
         "2023-11-09T18:49:27.773+0000",
         "2023-11-09T18:49:28.000+0000",
         [],
         0,
         0,
         {},
         1,
         2,
         [
          "appendOnly",
          "invariants"
         ],
         {}
        ]
       ],
       "datasetInfos": [],
       "dbfsResultPath": null,
       "isJsonSchema": true,
       "metadata": {},
       "overflow": false,
       "plotOptions": {
        "customPlotOptions": {},
        "displayType": "table",
        "pivotAggregation": null,
        "pivotColumns": null,
        "xColumns": null,
        "yColumns": null
       },
       "removedWidgets": [],
       "schema": [
        {
         "metadata": "{}",
         "name": "format",
         "type": "\"string\""
        },
        {
         "metadata": "{}",
         "name": "id",
         "type": "\"string\""
        },
        {
         "metadata": "{}",
         "name": "name",
         "type": "\"string\""
        },
        {
         "metadata": "{}",
         "name": "description",
         "type": "\"string\""
        },
        {
         "metadata": "{}",
         "name": "location",
         "type": "\"string\""
        },
        {
         "metadata": "{}",
         "name": "createdAt",
         "type": "\"timestamp\""
        },
        {
         "metadata": "{}",
         "name": "lastModified",
         "type": "\"timestamp\""
        },
        {
         "metadata": "{}",
         "name": "partitionColumns",
         "type": "{\"type\":\"array\",\"elementType\":\"string\",\"containsNull\":true}"
        },
        {
         "metadata": "{}",
         "name": "numFiles",
         "type": "\"long\""
        },
        {
         "metadata": "{}",
         "name": "sizeInBytes",
         "type": "\"long\""
        },
        {
         "metadata": "{}",
         "name": "properties",
         "type": "{\"type\":\"map\",\"keyType\":\"string\",\"valueType\":\"string\",\"valueContainsNull\":true}"
        },
        {
         "metadata": "{}",
         "name": "minReaderVersion",
         "type": "\"integer\""
        },
        {
         "metadata": "{}",
         "name": "minWriterVersion",
         "type": "\"integer\""
        },
        {
         "metadata": "{}",
         "name": "tableFeatures",
         "type": "{\"type\":\"array\",\"elementType\":\"string\",\"containsNull\":true}"
        },
        {
         "metadata": "{}",
         "name": "statistics",
         "type": "{\"type\":\"map\",\"keyType\":\"string\",\"valueType\":\"long\",\"valueContainsNull\":true}"
        }
       ],
       "type": "table"
      }
     },
     "output_type": "display_data"
    }
   ],
   "source": [
    "%sql \n",
    "DESC DETAIL bronze.TB_FORMA_PAGAMENTO"
   ]
  },
  {
   "cell_type": "code",
   "execution_count": 0,
   "metadata": {
    "application/vnd.databricks.v1+cell": {
     "cellMetadata": {
      "byteLimit": 2048000,
      "implicitDf": true,
      "rowLimit": 10000
     },
     "inputWidgets": {},
     "nuid": "1d10b159-6254-4322-a399-f65d4f22d518",
     "showTitle": true,
     "title": "SEQ-06 - Criar Tabelas no DataBase SILVER"
    }
   },
   "outputs": [
    {
     "output_type": "display_data",
     "data": {
      "text/html": [
       "<style scoped>\n",
       "  .table-result-container {\n",
       "    max-height: 300px;\n",
       "    overflow: auto;\n",
       "  }\n",
       "  table, th, td {\n",
       "    border: 1px solid black;\n",
       "    border-collapse: collapse;\n",
       "  }\n",
       "  th, td {\n",
       "    padding: 5px;\n",
       "  }\n",
       "  th {\n",
       "    text-align: left;\n",
       "  }\n",
       "</style><div class='table-result-container'><table class='table-result'><thead style='background-color: white'><tr></tr></thead><tbody></tbody></table></div>"
      ]
     },
     "metadata": {
      "application/vnd.databricks.v1+output": {
       "addedWidgets": {},
       "aggData": [],
       "aggError": "",
       "aggOverflow": false,
       "aggSchema": [],
       "aggSeriesLimitReached": false,
       "aggType": "",
       "arguments": {},
       "columnCustomDisplayInfos": {},
       "data": [],
       "datasetInfos": [],
       "dbfsResultPath": null,
       "isJsonSchema": true,
       "metadata": {},
       "overflow": false,
       "plotOptions": {
        "customPlotOptions": {},
        "displayType": "table",
        "pivotAggregation": null,
        "pivotColumns": null,
        "xColumns": null,
        "yColumns": null
       },
       "removedWidgets": [],
       "schema": [],
       "type": "table"
      }
     },
     "output_type": "display_data"
    }
   ],
   "source": [
    "%sql\n",
    "\n",
    "DROP  TABLE IF EXISTS silver.TB_FORMA_PAGAMENTO;\n",
    "CREATE TABLE silver.TB_FORMA_PAGAMENTO\n",
    "(\n",
    "CODIGO_FORMA_PAGAMENTO\t INT COMMENT 'Código da Forma de Pagamento na Tabela TB_FORMA_PAGAMENTO.'\n",
    ",DESCRICAO_FORMA_PAGAMENTO VARCHAR(100) COMMENT 'Descrição da Forma de Pagamento na Tabela TB_FORMA_PAGAMENTO.'\n",
    ",DATA_CADASTRO TIMESTAMP COMMENT 'Data de Cadastro do Registro.'\n",
    ",DATA_ALTERACAO TIMESTAMP COMMENT 'Data de Atualização do Registro.'\n",
    ")\n",
    "COMMENT 'Armazena informações de forma de pagamento.';\n",
    "\n",
    "DROP  TABLE IF EXISTS silver.TB_CATEGORIA_PRODUTO;\n",
    "CREATE TABLE silver.TB_CATEGORIA_PRODUTO\n",
    "(\n",
    "CODIGO_CATEGORIA INT COMMENT 'Código da Categoria do Produto.'\n",
    ",DECRICAO_CATEGORIA VARCHAR(100) COMMENT 'Descrição da Categoria do Produto.'\n",
    ",DATA_CADASTRO TIMESTAMP COMMENT 'Data de Cadastro do Registro.'\n",
    ",DATA_ALTERACAO TIMESTAMP COMMENT 'Data de Atualização do Registro.'\n",
    ")\n",
    "COMMENT 'Armazena informações das categorias dos produtos';\n",
    "\n",
    "DROP  TABLE IF EXISTS silver.TB_PRODUTO;\n",
    "CREATE TABLE silver.TB_PRODUTO\n",
    "(\n",
    "CODIGO_PRODUTO\t INT  COMMENT 'Código do Produto.'\n",
    ",DESCRICAO_PRODUTO\t VARCHAR(100) COMMENT 'Descrição do Produto.'\n",
    ",CODIGO_CATEGORIA INT COMMENT 'Categoria do Produto.'\n",
    ",DATA_CADASTRO TIMESTAMP COMMENT 'Data de Cadastro do Registro.'\n",
    ",DATA_ALTERACAO TIMESTAMP COMMENT 'Data de Atualização do Registro.'\n",
    ")\n",
    "COMMENT '\tArmazena informações de produtos.';\n",
    "\n",
    "DROP  TABLE IF EXISTS silver.TB_CLIENTE;\n",
    "CREATE TABLE silver.TB_CLIENTE\n",
    "(\n",
    "CODIGO_CLIENTE INT COMMENT 'Código do Cliente.'\n",
    ",NOME_CLIENTE VARCHAR(100) COMMENT 'Nome do Cliente.'\n",
    ",DATA_CADASTRO TIMESTAMP COMMENT 'Data de Cadastro do Registro.'\n",
    ",DATA_ALTERACAO TIMESTAMP COMMENT 'Data de Atualização do Registro.'\n",
    ")\n",
    "COMMENT 'Armazena informações de clientes.';\n",
    "\n",
    "DROP  TABLE IF EXISTS silver.TB_VENDEDOR;\n",
    "CREATE TABLE silver.TB_VENDEDOR\n",
    "(\n",
    "CODIGO_VENDEDOR INT COMMENT 'Código do Vendedor.'\n",
    ",NOME_VENDEDOR VARCHAR(100) COMMENT 'Nome do Vendedor.'\n",
    ",DATA_CADASTRO TIMESTAMP COMMENT 'Data de Cadastro do Registro.'\n",
    ",DATA_ALTERACAO TIMESTAMP COMMENT 'Data de Atualização do Registro.'\n",
    ")\n",
    "COMMENT 'Armazena informações de vendedores.';\n",
    "\n",
    "DROP  TABLE IF EXISTS silver.TB_LOJA;\n",
    "CREATE TABLE silver.TB_LOJA\n",
    "(\n",
    "CODIGO_LOJA\t INT COMMENT 'Código da Loja.'\n",
    ",NOME_LOJA\t VARCHAR(100) COMMENT 'Nome da Loja.'\n",
    ",LOCALIDADE_LOJA\t VARCHAR(100) COMMENT 'Localidade da Loja.'\n",
    ",TIPO_LOJA VARCHAR(100) COMMENT 'Tipo da Loja.'\n",
    ",DATA_CADASTRO TIMESTAMP COMMENT 'Data de Cadastro do Registro.'\n",
    ",DATA_ALTERACAO TIMESTAMP COMMENT 'Data de Atualização do Registro.'\n",
    ")\n",
    "COMMENT 'Armazena informações de lojas.';\n",
    "\n",
    "DROP  TABLE IF EXISTS silver.TB_VENDA;\n",
    "CREATE TABLE silver.TB_VENDA\n",
    "(\n",
    "CODIGO_VENDA INT COMMENT 'Código da Venda.'\n",
    ",DATA_VENDA\tTIMESTAMP COMMENT 'Data da Venda'\n",
    ",CODIGO_CLIENTE\tINT COMMENT 'Código do Cliente.'\n",
    ",CODIGO_VENDEDOR\tINT COMMENT 'Código do Vendedor.'\n",
    ",CODIGO_LOJA\tINT COMMENT 'Código da Loja.'\n",
    ",VALOR_FINAL DECIMAL(18,2)\t COMMENT 'Valor Total da Venda.'\n",
    ",FORMA_PAGAMENTO\tINT COMMENT 'Forma de Pagamento.'\n",
    ",TIPO_PAGAMENTO VARCHAR(100) COMMENT 'Tipo de Pagamento.'\n",
    ",DATA_CADASTRO TIMESTAMP COMMENT 'Data de Cadastro do Registro.'\n",
    ",DATA_ALTERACAO TIMESTAMP COMMENT 'Data de Atualização do Registro.'\n",
    ")\n",
    "COMMENT 'Armazenada informações de vendas.';\n",
    "\n",
    "DROP  TABLE IF EXISTS silver.TB_ITEM_VENDA;\n",
    "CREATE TABLE silver.TB_ITEM_VENDA\n",
    "(\n",
    "CODIGO_VENDA INT COMMENT 'Código da Venda.'\n",
    ",CODIGO_PRODUTO\tINT COMMENT 'Código do Produto.'\n",
    ",VALOR_UNITARIO DECIMAL(18,2)\t COMMENT 'Valor Unitário do Produto.'\n",
    ",QUANTIDADE\tINT COMMENT 'Quantidade do Produto Vendido.'\n",
    ",VALOR_FINAL DECIMAL(18,2) COMMENT 'Valor Final do Produto Vendido.'\n",
    ",DATA_CADASTRO TIMESTAMP COMMENT 'Data de Cadastro do Registro.'\n",
    ",DATA_ALTERACAO TIMESTAMP COMMENT 'Data de Atualização do Registro.'\n",
    ")\n",
    "COMMENT 'Armazena informações sobre os itens que foram vendidos.';"
   ]
  },
  {
   "cell_type": "code",
   "execution_count": 0,
   "metadata": {
    "application/vnd.databricks.v1+cell": {
     "cellMetadata": {
      "byteLimit": 2048000,
      "implicitDf": true,
      "rowLimit": 10000
     },
     "inputWidgets": {},
     "nuid": "b1f412d7-b8c5-471a-923c-dd2e7ae0b939",
     "showTitle": true,
     "title": "SEQ-07 - Criar Tabelas no DataBase GOLD"
    }
   },
   "outputs": [
    {
     "output_type": "display_data",
     "data": {
      "text/html": [
       "<style scoped>\n",
       "  .table-result-container {\n",
       "    max-height: 300px;\n",
       "    overflow: auto;\n",
       "  }\n",
       "  table, th, td {\n",
       "    border: 1px solid black;\n",
       "    border-collapse: collapse;\n",
       "  }\n",
       "  th, td {\n",
       "    padding: 5px;\n",
       "  }\n",
       "  th {\n",
       "    text-align: left;\n",
       "  }\n",
       "</style><div class='table-result-container'><table class='table-result'><thead style='background-color: white'><tr></tr></thead><tbody></tbody></table></div>"
      ]
     },
     "metadata": {
      "application/vnd.databricks.v1+output": {
       "addedWidgets": {},
       "aggData": [],
       "aggError": "",
       "aggOverflow": false,
       "aggSchema": [],
       "aggSeriesLimitReached": false,
       "aggType": "",
       "arguments": {},
       "columnCustomDisplayInfos": {},
       "data": [],
       "datasetInfos": [],
       "dbfsResultPath": null,
       "isJsonSchema": true,
       "metadata": {},
       "overflow": false,
       "plotOptions": {
        "customPlotOptions": {},
        "displayType": "table",
        "pivotAggregation": null,
        "pivotColumns": null,
        "xColumns": null,
        "yColumns": null
       },
       "removedWidgets": [],
       "schema": [],
       "type": "table"
      }
     },
     "output_type": "display_data"
    }
   ],
   "source": [
    "%sql\n",
    "\n",
    "DROP  TABLE IF EXISTS gold.DIM_FORMA_PAGAMENTO;\n",
    "CREATE TABLE gold.DIM_FORMA_PAGAMENTO\n",
    "(\n",
    "ID_FORMA_PAGAMENTO VARCHAR(100) COMMENT 'Chave da Dimensão Forma de Pagamento.'\n",
    ",CODIGO_FORMA_PAGAMENTO\t INT COMMENT 'Código da Forma de Pagamento na Tabela TB_FORMA_PAGAMENTO.'\n",
    ",DESCRICAO_FORMA_PAGAMENTO VARCHAR(100) COMMENT 'Descrição da Forma de Pagamento na Tabela TB_FORMA_PAGAMENTO.'\n",
    ",DATA_CADASTRO TIMESTAMP COMMENT 'Data de Cadastro do Registro.'\n",
    ",DATA_ALTERACAO TIMESTAMP COMMENT 'Data de Atualização do Registro.'\n",
    ");\n",
    "\n",
    "DROP  TABLE IF EXISTS gold.DIM_CATEGORIA_PRODUTO;\n",
    "CREATE TABLE gold.DIM_CATEGORIA_PRODUTO\n",
    "(\n",
    "ID_CATEGORIA_PRODUTO VARCHAR(100) COMMENT 'Chave da Dimensão Categoria do Produto.'\n",
    ",CODIGO_CATEGORIA INT COMMENT 'Código da Categoria do Produto.'\n",
    ",DECRICAO_CATEGORIA VARCHAR(100) COMMENT 'Descrição da Categoria do Produto.'\n",
    ",DATA_CADASTRO TIMESTAMP COMMENT 'Data de Cadastro do Registro.'\n",
    ",DATA_ALTERACAO TIMESTAMP COMMENT 'Data de Atualização do Registro.'\n",
    ");\n",
    "\n",
    "DROP  TABLE IF EXISTS gold.DIM_PRODUTO;\n",
    "CREATE TABLE gold.DIM_PRODUTO\n",
    "(\n",
    "ID_PRODUTO VARCHAR(100) COMMENT 'Chave da Dimensão Produto.'\n",
    ",CODIGO_PRODUTO\t INT  COMMENT 'Código do Produto.'\n",
    ",DESCRICAO_PRODUTO\t VARCHAR(100) COMMENT 'Descrição do Produto.'\n",
    ",CODIGO_CATEGORIA INT COMMENT 'Categoria do Produto.'\n",
    ",DATA_CADASTRO TIMESTAMP COMMENT 'Data de Cadastro do Registro.'\n",
    ",DATA_ALTERACAO TIMESTAMP COMMENT 'Data de Atualização do Registro.'\n",
    ");\n",
    "\n",
    "DROP  TABLE IF EXISTS gold.DIM_CLIENTE;\n",
    "CREATE TABLE gold.DIM_CLIENTE\n",
    "(\n",
    "ID_CLIENTE VARCHAR(100) COMMENT 'Chave da Dimensão Cliente.'\n",
    ",CODIGO_CLIENTE INT COMMENT 'Código do Cliente.'\n",
    ",NOME_CLIENTE VARCHAR(100) COMMENT 'Nome do Cliente.'\n",
    ",DATA_CADASTRO TIMESTAMP COMMENT 'Data de Cadastro do Registro.'\n",
    ",DATA_ALTERACAO TIMESTAMP COMMENT 'Data de Atualização do Registro.'\n",
    ");\n",
    "\n",
    "DROP  TABLE IF EXISTS gold.DIM_VENDEDOR;\n",
    "CREATE TABLE gold.DIM_VENDEDOR\n",
    "(\n",
    "ID_VENDEDOR VARCHAR(100) COMMENT 'Chave da Dimensão Vendedor.'\n",
    ",CODIGO_VENDEDOR INT COMMENT 'Código do Vendedor.'\n",
    ",NOME_VENDEDOR VARCHAR(100) COMMENT 'Nome do Vendedor.'\n",
    ",DATA_CADASTRO TIMESTAMP COMMENT 'Data de Cadastro do Registro.'\n",
    ",DATA_ALTERACAO TIMESTAMP COMMENT 'Data de Atualização do Registro.'\n",
    ");\n",
    "\n",
    "DROP  TABLE IF EXISTS gold.DIM_LOJA;\n",
    "CREATE TABLE gold.DIM_LOJA\n",
    "(\n",
    "ID_LOJA VARCHAR(100) COMMENT 'Chave da Dimensão Loja.'\n",
    ",CODIGO_LOJA\t INT COMMENT 'Código da Loja.'\n",
    ",NOME_LOJA\t VARCHAR(100) COMMENT 'Nome da Loja.'\n",
    ",LOCALIDADE_LOJA\t VARCHAR(100) COMMENT 'Localidade da Loja.'\n",
    ",TIPO_LOJA VARCHAR(100) COMMENT 'Tipo da Loja.'\n",
    ",DATA_CADASTRO TIMESTAMP COMMENT 'Data de Cadastro do Registro.'\n",
    ",DATA_ALTERACAO TIMESTAMP COMMENT 'Data de Atualização do Registro.'\n",
    ");\n",
    "\n",
    "DROP  TABLE IF EXISTS gold.FATO_VENDA;\n",
    "CREATE TABLE gold.FATO_VENDA\n",
    "(\n",
    "ID_TEMPO VARCHAR(100)  COMMENT 'Chave da Dimensão Tempo.'\n",
    ",ID_CLIENTE\tVARCHAR(100)  COMMENT 'Chave da Dimensão Cliente.'\n",
    ",ID_VENDEDOR VARCHAR(100) COMMENT 'Chave da Dimensão Vendedor.'\n",
    ",ID_LOJA VARCHAR(100) COMMENT 'Chave da Dimensão Loja.'\n",
    ",ID_FORMA_PAGAMENTO\t VARCHAR(100) COMMENT 'Chave da Dimensão Forma de Pagamento.'\n",
    ",ID_PRODUTO\tVARCHAR(100)  COMMENT 'Chave da Dimensão Produto.'\n",
    ",ID_CATEGORIA_PRODUTO VARCHAR(100) COMMENT 'Chave da Dimensão Categoria do Produto.'\n",
    ",CODIGO_VENDA INT COMMENT 'Código da Venda.'\n",
    ",QUANTIDADE\tINT COMMENT 'Quantidade vendida do produto.'\n",
    ",VALOR_UNITARIO DECIMAL(18,2)\t COMMENT 'Valor unitário do produto.'\n",
    ",TIPO_PAGAMENTO VARCHAR(100) COMMENT 'Tipo de Pagamentto da Venda.'\n",
    ",DATA_CADASTRO TIMESTAMP COMMENT 'Data de Cadastro do Registro.'\n",
    ",DATA_ALTERACAO TIMESTAMP COMMENT 'Data de Atualização do Registro.'\n",
    ");\n",
    "\n",
    "DROP  TABLE IF EXISTS gold.DIM_TEMPO;\n",
    "CREATE TABLE gold.DIM_TEMPO\n",
    "(\n",
    "ID_TEMPO VARCHAR(100) COMMENT 'Chave da Dimensão Tempo.'\n",
    ",DATA VARCHAR(10) COMMENT 'Data.'\n",
    ",ANO INT COMMENT 'Ano referente a coluna data.'\n",
    ",MES\tINT COMMENT 'Mês referente a coluna data.'\n",
    ",DIA INT COMMENT 'Dia referente a coluna data.' \n",
    ",DATA_CADASTRO TIMESTAMP COMMENT 'Data de Cadastro do Registro.'\n",
    ",DATA_ALTERACAO TIMESTAMP COMMENT 'Data de Atualização do Registro.'\n",
    ");"
   ]
  },
  {
   "cell_type": "code",
   "execution_count": 0,
   "metadata": {
    "application/vnd.databricks.v1+cell": {
     "cellMetadata": {
      "byteLimit": 2048000,
      "implicitDf": true,
      "rowLimit": 10000
     },
     "inputWidgets": {},
     "nuid": "1a6891e1-9710-4eb6-b9bb-b8b23a05ebc7",
     "showTitle": true,
     "title": "SEQ-08 - Insert Tabela GOLD - DIM_TEMPO"
    }
   },
   "outputs": [],
   "source": [
    "data_inicial = date(2023, 6, 1)\n",
    "data_fim = date(2023, 8, 1)\n",
    "dias_acrescimo = timedelta(days=1)\n",
    "\n",
    "cria_dimensao_tempo(data_inicial, data_fim, dias_acrescimo)"
   ]
  },
  {
   "cell_type": "code",
   "execution_count": 0,
   "metadata": {
    "application/vnd.databricks.v1+cell": {
     "cellMetadata": {
      "byteLimit": 2048000,
      "implicitDf": true,
      "rowLimit": 10000
     },
     "inputWidgets": {},
     "nuid": "38ea423a-a83d-41db-9c8a-a248364b1b29",
     "showTitle": false,
     "title": ""
    }
   },
   "outputs": [
    {
     "output_type": "display_data",
     "data": {
      "text/html": [
       "<style scoped>\n",
       "  .ansiout {\n",
       "    display: block;\n",
       "    unicode-bidi: embed;\n",
       "    white-space: pre-wrap;\n",
       "    word-wrap: break-word;\n",
       "    word-break: break-all;\n",
       "    font-family: \"Menlo\", \"Monaco\", \"Consolas\", \"Ubuntu Mono\", \"Source Code Pro\", monospace;\n",
       "    font-size: 13px;\n",
       "    color: #555;\n",
       "    margin-left: 4px;\n",
       "    line-height: 19px;\n",
       "  }\n",
       "</style>"
      ]
     },
     "metadata": {
      "application/vnd.databricks.v1+output": {
       "arguments": {},
       "data": "",
       "errorSummary": "Command skipped",
       "errorTraceType": "html",
       "metadata": {},
       "type": "ipynbError"
      }
     },
     "output_type": "display_data"
    }
   ],
   "source": [
    "%sql\n",
    "DESC gold.DIM_LOJA"
   ]
  },
  {
   "cell_type": "code",
   "execution_count": 0,
   "metadata": {
    "application/vnd.databricks.v1+cell": {
     "cellMetadata": {
      "byteLimit": 2048000,
      "implicitDf": true,
      "rowLimit": 10000
     },
     "inputWidgets": {},
     "nuid": "fda2ad9b-11e2-4d09-93a2-074aee0802e3",
     "showTitle": false,
     "title": ""
    }
   },
   "outputs": [
    {
     "output_type": "display_data",
     "data": {
      "text/html": [
       "<style scoped>\n",
       "  .ansiout {\n",
       "    display: block;\n",
       "    unicode-bidi: embed;\n",
       "    white-space: pre-wrap;\n",
       "    word-wrap: break-word;\n",
       "    word-break: break-all;\n",
       "    font-family: \"Menlo\", \"Monaco\", \"Consolas\", \"Ubuntu Mono\", \"Source Code Pro\", monospace;\n",
       "    font-size: 13px;\n",
       "    color: #555;\n",
       "    margin-left: 4px;\n",
       "    line-height: 19px;\n",
       "  }\n",
       "</style>"
      ]
     },
     "metadata": {
      "application/vnd.databricks.v1+output": {
       "arguments": {},
       "data": "",
       "errorSummary": "Command skipped",
       "errorTraceType": "html",
       "metadata": {},
       "type": "ipynbError"
      }
     },
     "output_type": "display_data"
    }
   ],
   "source": [
    "%sql\n",
    "DESC DETAIL gold.DIM_LOJA"
   ]
  },
  {
   "cell_type": "code",
   "execution_count": 0,
   "metadata": {
    "application/vnd.databricks.v1+cell": {
     "cellMetadata": {
      "byteLimit": 2048000,
      "implicitDf": true,
      "rowLimit": 10000
     },
     "inputWidgets": {},
     "nuid": "9a56729c-b6c7-4ecc-a3b0-04087d8c6ca3",
     "showTitle": false,
     "title": ""
    }
   },
   "outputs": [
    {
     "output_type": "display_data",
     "data": {
      "text/html": [
       "<style scoped>\n",
       "  .ansiout {\n",
       "    display: block;\n",
       "    unicode-bidi: embed;\n",
       "    white-space: pre-wrap;\n",
       "    word-wrap: break-word;\n",
       "    word-break: break-all;\n",
       "    font-family: \"Menlo\", \"Monaco\", \"Consolas\", \"Ubuntu Mono\", \"Source Code Pro\", monospace;\n",
       "    font-size: 13px;\n",
       "    color: #555;\n",
       "    margin-left: 4px;\n",
       "    line-height: 19px;\n",
       "  }\n",
       "</style>"
      ]
     },
     "metadata": {
      "application/vnd.databricks.v1+output": {
       "arguments": {},
       "data": "",
       "errorSummary": "Command skipped",
       "errorTraceType": "html",
       "metadata": {},
       "type": "ipynbError"
      }
     },
     "output_type": "display_data"
    }
   ],
   "source": [
    "%sql\n",
    "DESC SCHEMA bronze"
   ]
  }
 ],
 "metadata": {
  "application/vnd.databricks.v1+notebook": {
   "dashboards": [],
   "language": "python",
   "notebookMetadata": {
    "mostRecentlyExecutedCommandWithImplicitDF": {
     "commandId": 3272602097719694,
     "dataframes": [
      "_sqldf"
     ]
    },
    "pythonIndentUnit": 4
   },
   "notebookName": "00_configuracao_ambiente",
   "widgets": {}
  }
 },
 "nbformat": 4,
 "nbformat_minor": 0
}
