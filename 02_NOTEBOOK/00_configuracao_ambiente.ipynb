{
 "cells": [
  {
   "cell_type": "markdown",
   "metadata": {
    "application/vnd.databricks.v1+cell": {
     "cellMetadata": {
      "byteLimit": 2048000,
      "rowLimit": 10000
     },
     "inputWidgets": {},
     "nuid": "b6ba5d75-5913-48ff-9fa9-a10f627968a0",
     "showTitle": false,
     "title": ""
    }
   },
   "source": [
    "## Atividades Desenvolvidas no Notebook - 00_configuracao_ambiente\n",
    "\n",
    "|Sequência|Ação|Detalhamento\n",
    "|---|---|---|\n",
    "|SEQ-01|Configuração do ambiente no Databricks|Criação do storage \"dbfs:/FileStore/tables/landing_zone\"|\n",
    "|SEQ-02 / SEQ-03 / SEQ-04|Criação de Schemas (Bancos de Dados)|Criação das Camadas Bronze, Silver e Gold |\n",
    "|SEQ-05 / SEQ-06 / SEQ-07|Criação das Tabelas|Criação das Tabelas das Camadas Bronze, Silver e Gold|\n",
    "|SEQ-08|Criação Script Dimensão Tempo|Geração de Scripts de Insert para a Dimensão Tempo para o mês de Jul/2023|"
   ]
  },
  {
   "cell_type": "code",
   "execution_count": 0,
   "metadata": {
    "application/vnd.databricks.v1+cell": {
     "cellMetadata": {
      "byteLimit": 2048000,
      "rowLimit": 10000
     },
     "inputWidgets": {},
     "nuid": "d1ffd359-9277-4edb-a6a8-d012e90c3af5",
     "showTitle": true,
     "title": "SEQ-00 - Importação de Bibliotecas"
    }
   },
   "outputs": [],
   "source": [
    "from pyspark.sql.functions import *\n",
    "from datetime import date, timedelta\n"
   ]
  },
  {
   "cell_type": "code",
   "execution_count": 0,
   "metadata": {
    "application/vnd.databricks.v1+cell": {
     "cellMetadata": {
      "byteLimit": 2048000,
      "rowLimit": 10000
     },
     "inputWidgets": {},
     "nuid": "344031e6-ba03-4c5a-92ab-a6db4a19e19d",
     "showTitle": false,
     "title": ""
    }
   },
   "outputs": [],
   "source": [
    "%run /estudos/libs/bibliotecas"
   ]
  },
  {
   "cell_type": "code",
   "execution_count": 0,
   "metadata": {
    "application/vnd.databricks.v1+cell": {
     "cellMetadata": {
      "byteLimit": 2048000,
      "rowLimit": 10000
     },
     "inputWidgets": {},
     "nuid": "6c10cc82-c644-4a01-a127-ff737057ae27",
     "showTitle": true,
     "title": "SEQ-01 - Criar Storage no DataBricks"
    }
   },
   "outputs": [
    {
     "output_type": "display_data",
     "data": {
      "application/vnd.databricks.v1+bamboolib_hint": "{\"pd.DataFrames\": [], \"version\": \"0.0.1\"}",
      "text/plain": []
     },
     "metadata": {},
     "output_type": "display_data"
    }
   ],
   "source": [
    "diretorio_landing_zone = \"dbfs:/FileStore/tables/landing_zone\"\n",
    "\n",
    "try:\n",
    "    dbutils.fs.ls(diretorio_landing_zone)\n",
    "    dbutils.fs.rm(diretorio_landing_zone, True)\n",
    "        \n",
    "except:\n",
    "\n",
    "    print(f\"O diretório {diretorio_landing_zone} não existe.\")\n"
   ]
  },
  {
   "cell_type": "code",
   "execution_count": 0,
   "metadata": {
    "application/vnd.databricks.v1+cell": {
     "cellMetadata": {
      "byteLimit": 2048000,
      "rowLimit": 10000
     },
     "inputWidgets": {},
     "nuid": "168b217d-8183-4844-9cc5-da8df412f2f7",
     "showTitle": false,
     "title": ""
    }
   },
   "outputs": [
    {
     "output_type": "stream",
     "name": "stdout",
     "output_type": "stream",
     "text": [
      "O diretório dbfs:/FileStore/tables/landing_zone não existe e será criado.\n"
     ]
    },
    {
     "output_type": "stream",
     "name": "stdout",
     "output_type": "stream",
     "text": [
      "Out[6]: <function __main__.acentuacao(palavra)>"
     ]
    }
   ],
   "source": [
    "try:\n",
    "\n",
    "    dbutils.fs.ls(diretorio_landing_zone)\n",
    "        \n",
    "except:\n",
    "\n",
    "    print(f\"O diretório {diretorio_landing_zone} não existe e será criado.\")\n",
    "    dbutils.fs.mkdirs(diretorio_landing_zone)"
   ]
  },
  {
   "cell_type": "code",
   "execution_count": 0,
   "metadata": {
    "application/vnd.databricks.v1+cell": {
     "cellMetadata": {
      "byteLimit": 2048000,
      "implicitDf": true,
      "rowLimit": 10000
     },
     "inputWidgets": {},
     "nuid": "7c697ecb-ffc7-48c5-9c0d-9a9605c0f7a8",
     "showTitle": true,
     "title": "SEQ-02 - Criar DataBase BRONZE no DataBricks"
    }
   },
   "outputs": [
    {
     "output_type": "display_data",
     "data": {
      "text/html": [
       "<style scoped>\n",
       "  .table-result-container {\n",
       "    max-height: 300px;\n",
       "    overflow: auto;\n",
       "  }\n",
       "  table, th, td {\n",
       "    border: 1px solid black;\n",
       "    border-collapse: collapse;\n",
       "  }\n",
       "  th, td {\n",
       "    padding: 5px;\n",
       "  }\n",
       "  th {\n",
       "    text-align: left;\n",
       "  }\n",
       "</style><div class='table-result-container'><table class='table-result'><thead style='background-color: white'><tr></tr></thead><tbody></tbody></table></div>"
      ]
     },
     "metadata": {
      "application/vnd.databricks.v1+output": {
       "addedWidgets": {},
       "aggData": [],
       "aggError": "",
       "aggOverflow": false,
       "aggSchema": [],
       "aggSeriesLimitReached": false,
       "aggType": "",
       "arguments": {},
       "columnCustomDisplayInfos": {},
       "data": [],
       "datasetInfos": [],
       "dbfsResultPath": null,
       "isJsonSchema": true,
       "metadata": {},
       "overflow": false,
       "plotOptions": {
        "customPlotOptions": {},
        "displayType": "table",
        "pivotAggregation": null,
        "pivotColumns": null,
        "xColumns": null,
        "yColumns": null
       },
       "removedWidgets": [],
       "schema": [],
       "type": "table"
      }
     },
     "output_type": "display_data"
    }
   ],
   "source": [
    "%sql\n",
    "DROP SCHEMA IF EXISTS bronze CASCADE;"
   ]
  },
  {
   "cell_type": "code",
   "execution_count": 0,
   "metadata": {
    "application/vnd.databricks.v1+cell": {
     "cellMetadata": {
      "byteLimit": 2048000,
      "implicitDf": true,
      "rowLimit": 10000
     },
     "inputWidgets": {},
     "nuid": "fe7e6962-8190-4d84-bc71-72586bd0ea41",
     "showTitle": false,
     "title": ""
    }
   },
   "outputs": [
    {
     "output_type": "display_data",
     "data": {
      "text/html": [
       "<style scoped>\n",
       "  .table-result-container {\n",
       "    max-height: 300px;\n",
       "    overflow: auto;\n",
       "  }\n",
       "  table, th, td {\n",
       "    border: 1px solid black;\n",
       "    border-collapse: collapse;\n",
       "  }\n",
       "  th, td {\n",
       "    padding: 5px;\n",
       "  }\n",
       "  th {\n",
       "    text-align: left;\n",
       "  }\n",
       "</style><div class='table-result-container'><table class='table-result'><thead style='background-color: white'><tr></tr></thead><tbody></tbody></table></div>"
      ]
     },
     "metadata": {
      "application/vnd.databricks.v1+output": {
       "addedWidgets": {},
       "aggData": [],
       "aggError": "",
       "aggOverflow": false,
       "aggSchema": [],
       "aggSeriesLimitReached": false,
       "aggType": "",
       "arguments": {},
       "columnCustomDisplayInfos": {},
       "data": [],
       "datasetInfos": [],
       "dbfsResultPath": null,
       "isJsonSchema": true,
       "metadata": {},
       "overflow": false,
       "plotOptions": {
        "customPlotOptions": {},
        "displayType": "table",
        "pivotAggregation": null,
        "pivotColumns": null,
        "xColumns": null,
        "yColumns": null
       },
       "removedWidgets": [],
       "schema": [],
       "type": "table"
      }
     },
     "output_type": "display_data"
    }
   ],
   "source": [
    "%sql\n",
    "CREATE SCHEMA IF NOT EXISTS bronze COMMENT 'SCHEMA (Banco de Dados) referente a Camada BRONZE.';"
   ]
  },
  {
   "cell_type": "code",
   "execution_count": 0,
   "metadata": {
    "application/vnd.databricks.v1+cell": {
     "cellMetadata": {
      "byteLimit": 2048000,
      "rowLimit": 10000
     },
     "inputWidgets": {},
     "nuid": "de5c8f6a-b48e-496b-ba6c-7f79ffd9cfae",
     "showTitle": false,
     "title": ""
    }
   },
   "outputs": [],
   "source": [
    "dbutils.fs.rm('dbfs:/user/hive/warehouse/bronze.db/tb_forma_pagamento', True);\n",
    "dbutils.fs.rm('dbfs:/user/hive/warehouse/bronze.db/tb_categoria_produto', True);\n",
    "dbutils.fs.rm('dbfs:/user/hive/warehouse/bronze.db/tb_produto', True);\n",
    "dbutils.fs.rm('dbfs:/user/hive/warehouse/bronze.db/tb_cliente', True);\n",
    "dbutils.fs.rm('dbfs:/user/hive/warehouse/bronze.db/tb_vendedor', True);\n",
    "dbutils.fs.rm('dbfs:/user/hive/warehouse/bronze.db/tb_loja', True);\n",
    "dbutils.fs.rm('dbfs:/user/hive/warehouse/bronze.db/tb_venda', True);\n",
    "dbutils.fs.rm('dbfs:/user/hive/warehouse/bronze.db/tb_item_venda', True);"
   ]
  },
  {
   "cell_type": "code",
   "execution_count": 0,
   "metadata": {
    "application/vnd.databricks.v1+cell": {
     "cellMetadata": {
      "byteLimit": 2048000,
      "implicitDf": true,
      "rowLimit": 10000
     },
     "inputWidgets": {},
     "nuid": "0282bd9c-f84b-45e5-9288-d60406f5015c",
     "showTitle": true,
     "title": "SEQ-03 - Criar DataBase SILVER no DataBricks"
    }
   },
   "outputs": [
    {
     "output_type": "display_data",
     "data": {
      "text/html": [
       "<style scoped>\n",
       "  .table-result-container {\n",
       "    max-height: 300px;\n",
       "    overflow: auto;\n",
       "  }\n",
       "  table, th, td {\n",
       "    border: 1px solid black;\n",
       "    border-collapse: collapse;\n",
       "  }\n",
       "  th, td {\n",
       "    padding: 5px;\n",
       "  }\n",
       "  th {\n",
       "    text-align: left;\n",
       "  }\n",
       "</style><div class='table-result-container'><table class='table-result'><thead style='background-color: white'><tr></tr></thead><tbody></tbody></table></div>"
      ]
     },
     "metadata": {
      "application/vnd.databricks.v1+output": {
       "addedWidgets": {},
       "aggData": [],
       "aggError": "",
       "aggOverflow": false,
       "aggSchema": [],
       "aggSeriesLimitReached": false,
       "aggType": "",
       "arguments": {},
       "columnCustomDisplayInfos": {},
       "data": [],
       "datasetInfos": [],
       "dbfsResultPath": null,
       "isJsonSchema": true,
       "metadata": {},
       "overflow": false,
       "plotOptions": {
        "customPlotOptions": {},
        "displayType": "table",
        "pivotAggregation": null,
        "pivotColumns": null,
        "xColumns": null,
        "yColumns": null
       },
       "removedWidgets": [],
       "schema": [],
       "type": "table"
      }
     },
     "output_type": "display_data"
    }
   ],
   "source": [
    "%sql\n",
    "DROP SCHEMA IF EXISTS silver CASCADE;"
   ]
  },
  {
   "cell_type": "code",
   "execution_count": 0,
   "metadata": {
    "application/vnd.databricks.v1+cell": {
     "cellMetadata": {
      "byteLimit": 2048000,
      "implicitDf": true,
      "rowLimit": 10000
     },
     "inputWidgets": {},
     "nuid": "7fb302da-b2ce-4351-beeb-386e094e49ea",
     "showTitle": false,
     "title": ""
    }
   },
   "outputs": [
    {
     "output_type": "display_data",
     "data": {
      "text/html": [
       "<style scoped>\n",
       "  .table-result-container {\n",
       "    max-height: 300px;\n",
       "    overflow: auto;\n",
       "  }\n",
       "  table, th, td {\n",
       "    border: 1px solid black;\n",
       "    border-collapse: collapse;\n",
       "  }\n",
       "  th, td {\n",
       "    padding: 5px;\n",
       "  }\n",
       "  th {\n",
       "    text-align: left;\n",
       "  }\n",
       "</style><div class='table-result-container'><table class='table-result'><thead style='background-color: white'><tr></tr></thead><tbody></tbody></table></div>"
      ]
     },
     "metadata": {
      "application/vnd.databricks.v1+output": {
       "addedWidgets": {},
       "aggData": [],
       "aggError": "",
       "aggOverflow": false,
       "aggSchema": [],
       "aggSeriesLimitReached": false,
       "aggType": "",
       "arguments": {},
       "columnCustomDisplayInfos": {},
       "data": [],
       "datasetInfos": [],
       "dbfsResultPath": null,
       "isJsonSchema": true,
       "metadata": {},
       "overflow": false,
       "plotOptions": {
        "customPlotOptions": {},
        "displayType": "table",
        "pivotAggregation": null,
        "pivotColumns": null,
        "xColumns": null,
        "yColumns": null
       },
       "removedWidgets": [],
       "schema": [],
       "type": "table"
      }
     },
     "output_type": "display_data"
    }
   ],
   "source": [
    "%sql \n",
    "CREATE SCHEMA IF NOT EXISTS silver COMMENT 'SCHEMA (Banco de Dados) referente a Camada SILVER.';"
   ]
  },
  {
   "cell_type": "code",
   "execution_count": 0,
   "metadata": {
    "application/vnd.databricks.v1+cell": {
     "cellMetadata": {
      "byteLimit": 2048000,
      "rowLimit": 10000
     },
     "inputWidgets": {},
     "nuid": "d5875aa6-2bdc-44a6-95a9-1cfab0d35008",
     "showTitle": false,
     "title": ""
    }
   },
   "outputs": [],
   "source": [
    "dbutils.fs.rm('dbfs:/user/hive/warehouse/silver.db/tb_forma_pagamento', True);\n",
    "dbutils.fs.rm('dbfs:/user/hive/warehouse/silver.db/tb_categoria_produto', True);\n",
    "dbutils.fs.rm('dbfs:/user/hive/warehouse/silver.db/tb_produto', True);\n",
    "dbutils.fs.rm('dbfs:/user/hive/warehouse/silver.db/tb_cliente', True);\n",
    "dbutils.fs.rm('dbfs:/user/hive/warehouse/silver.db/tb_vendedor', True);\n",
    "dbutils.fs.rm('dbfs:/user/hive/warehouse/silver.db/tb_loja', True);\n",
    "dbutils.fs.rm('dbfs:/user/hive/warehouse/silver.db/tb_venda', True);\n",
    "dbutils.fs.rm('dbfs:/user/hive/warehouse/silver.db/tb_item_venda', True);"
   ]
  },
  {
   "cell_type": "code",
   "execution_count": 0,
   "metadata": {
    "application/vnd.databricks.v1+cell": {
     "cellMetadata": {
      "byteLimit": 2048000,
      "implicitDf": true,
      "rowLimit": 10000
     },
     "inputWidgets": {},
     "nuid": "8ac07e1f-7d3d-4261-80d0-98180e793110",
     "showTitle": true,
     "title": "SEQ-04 - Criar DataBase GOLD no DataBricks"
    }
   },
   "outputs": [
    {
     "output_type": "display_data",
     "data": {
      "text/html": [
       "<style scoped>\n",
       "  .table-result-container {\n",
       "    max-height: 300px;\n",
       "    overflow: auto;\n",
       "  }\n",
       "  table, th, td {\n",
       "    border: 1px solid black;\n",
       "    border-collapse: collapse;\n",
       "  }\n",
       "  th, td {\n",
       "    padding: 5px;\n",
       "  }\n",
       "  th {\n",
       "    text-align: left;\n",
       "  }\n",
       "</style><div class='table-result-container'><table class='table-result'><thead style='background-color: white'><tr></tr></thead><tbody></tbody></table></div>"
      ]
     },
     "metadata": {
      "application/vnd.databricks.v1+output": {
       "addedWidgets": {},
       "aggData": [],
       "aggError": "",
       "aggOverflow": false,
       "aggSchema": [],
       "aggSeriesLimitReached": false,
       "aggType": "",
       "arguments": {},
       "columnCustomDisplayInfos": {},
       "data": [],
       "datasetInfos": [],
       "dbfsResultPath": null,
       "isJsonSchema": true,
       "metadata": {},
       "overflow": false,
       "plotOptions": {
        "customPlotOptions": {},
        "displayType": "table",
        "pivotAggregation": null,
        "pivotColumns": null,
        "xColumns": null,
        "yColumns": null
       },
       "removedWidgets": [],
       "schema": [],
       "type": "table"
      }
     },
     "output_type": "display_data"
    }
   ],
   "source": [
    "%sql\n",
    "DROP SCHEMA IF EXISTS gold CASCADE;"
   ]
  },
  {
   "cell_type": "code",
   "execution_count": 0,
   "metadata": {
    "application/vnd.databricks.v1+cell": {
     "cellMetadata": {
      "byteLimit": 2048000,
      "implicitDf": true,
      "rowLimit": 10000
     },
     "inputWidgets": {},
     "nuid": "d02a4c81-15c1-4bc0-98c4-a6446fbd0e1f",
     "showTitle": false,
     "title": ""
    }
   },
   "outputs": [
    {
     "output_type": "display_data",
     "data": {
      "text/html": [
       "<style scoped>\n",
       "  .table-result-container {\n",
       "    max-height: 300px;\n",
       "    overflow: auto;\n",
       "  }\n",
       "  table, th, td {\n",
       "    border: 1px solid black;\n",
       "    border-collapse: collapse;\n",
       "  }\n",
       "  th, td {\n",
       "    padding: 5px;\n",
       "  }\n",
       "  th {\n",
       "    text-align: left;\n",
       "  }\n",
       "</style><div class='table-result-container'><table class='table-result'><thead style='background-color: white'><tr></tr></thead><tbody></tbody></table></div>"
      ]
     },
     "metadata": {
      "application/vnd.databricks.v1+output": {
       "addedWidgets": {},
       "aggData": [],
       "aggError": "",
       "aggOverflow": false,
       "aggSchema": [],
       "aggSeriesLimitReached": false,
       "aggType": "",
       "arguments": {},
       "columnCustomDisplayInfos": {},
       "data": [],
       "datasetInfos": [],
       "dbfsResultPath": null,
       "isJsonSchema": true,
       "metadata": {},
       "overflow": false,
       "plotOptions": {
        "customPlotOptions": {},
        "displayType": "table",
        "pivotAggregation": null,
        "pivotColumns": null,
        "xColumns": null,
        "yColumns": null
       },
       "removedWidgets": [],
       "schema": [],
       "type": "table"
      }
     },
     "output_type": "display_data"
    }
   ],
   "source": [
    "%sql\n",
    "CREATE SCHEMA IF NOT EXISTS gold COMMENT 'SCHEMA (Banco de Dados) referente a Camada GOLD.';"
   ]
  },
  {
   "cell_type": "code",
   "execution_count": 0,
   "metadata": {
    "application/vnd.databricks.v1+cell": {
     "cellMetadata": {
      "byteLimit": 2048000,
      "rowLimit": 10000
     },
     "inputWidgets": {},
     "nuid": "9bdcf41e-397e-4e01-9aac-4f007c564034",
     "showTitle": false,
     "title": ""
    }
   },
   "outputs": [],
   "source": [
    "dbutils.fs.rm('dbfs:/user/hive/warehouse/gold.db/dim_forma_pagamento', True);\n",
    "dbutils.fs.rm('dbfs:/user/hive/warehouse/gold.db/dim_categoria_produto', True);\n",
    "dbutils.fs.rm('dbfs:/user/hive/warehouse/gold.db/dim_produto', True);\n",
    "dbutils.fs.rm('dbfs:/user/hive/warehouse/gold.db/dim_cliente', True);\n",
    "dbutils.fs.rm('dbfs:/user/hive/warehouse/gold.db/dim_vendedor', True);\n",
    "dbutils.fs.rm('dbfs:/user/hive/warehouse/gold.db/dim_loja', True);\n",
    "dbutils.fs.rm('dbfs:/user/hive/warehouse/gold.db/fato_venda', True);\n",
    "dbutils.fs.rm('dbfs:/user/hive/warehouse/gold.db/dim_tempo', True);"
   ]
  },
  {
   "cell_type": "code",
   "execution_count": 0,
   "metadata": {
    "application/vnd.databricks.v1+cell": {
     "cellMetadata": {
      "byteLimit": 2048000,
      "implicitDf": true,
      "rowLimit": 10000
     },
     "inputWidgets": {},
     "nuid": "2e7a3c24-1651-4936-80d4-4ef9d17ce916",
     "showTitle": true,
     "title": "SEQ-05 - Criar Tabelas no DataBase BRONZE"
    }
   },
   "outputs": [
    {
     "output_type": "display_data",
     "data": {
      "text/html": [
       "<style scoped>\n",
       "  .table-result-container {\n",
       "    max-height: 300px;\n",
       "    overflow: auto;\n",
       "  }\n",
       "  table, th, td {\n",
       "    border: 1px solid black;\n",
       "    border-collapse: collapse;\n",
       "  }\n",
       "  th, td {\n",
       "    padding: 5px;\n",
       "  }\n",
       "  th {\n",
       "    text-align: left;\n",
       "  }\n",
       "</style><div class='table-result-container'><table class='table-result'><thead style='background-color: white'><tr></tr></thead><tbody></tbody></table></div>"
      ]
     },
     "metadata": {
      "application/vnd.databricks.v1+output": {
       "addedWidgets": {},
       "aggData": [],
       "aggError": "",
       "aggOverflow": false,
       "aggSchema": [],
       "aggSeriesLimitReached": false,
       "aggType": "",
       "arguments": {},
       "columnCustomDisplayInfos": {},
       "data": [],
       "datasetInfos": [],
       "dbfsResultPath": null,
       "isJsonSchema": true,
       "metadata": {},
       "overflow": false,
       "plotOptions": {
        "customPlotOptions": {},
        "displayType": "table",
        "pivotAggregation": null,
        "pivotColumns": null,
        "xColumns": null,
        "yColumns": null
       },
       "removedWidgets": [],
       "schema": [],
       "type": "table"
      }
     },
     "output_type": "display_data"
    }
   ],
   "source": [
    "%sql\n",
    "\n",
    "DROP  TABLE IF EXISTS bronze.tb_forma_pagamento;\n",
    "CREATE TABLE bronze.tb_forma_pagamento\n",
    "(\n",
    "CODIGO_FORMA_PAGAMENTO\t INT COMMENT 'Código da Forma de Pagamento na Tabela TB_FORMA_PAGAMENTO.'\n",
    ",DESCRICAO_FORMA_PAGAMENTO VARCHAR(100) COMMENT 'Descrição da Forma de Pagamento na Tabela TB_FORMA_PAGAMENTO.'\n",
    ")\n",
    "COMMENT 'Armazena informações de forma de pagamento.';\n",
    "\n",
    "DROP  TABLE IF EXISTS bronze.tb_categoria_produto;\n",
    "CREATE TABLE bronze.tb_categoria_produto\n",
    "(\n",
    "CODIGO_CATEGORIA INT COMMENT 'Código da Categoria do Produto.'\n",
    ",CATEGORIA_PRODUTO VARCHAR(100) COMMENT 'Descrição da Categoria do Produto.'\n",
    ",SUB_CATEGORIA_PRODUTO VARCHAR(100) COMMENT ''\n",
    "\n",
    ")\n",
    "COMMENT 'Armazena informações das categorias dos produtos';\n",
    "\n",
    "DROP  TABLE IF EXISTS bronze.tb_produto;\n",
    "CREATE TABLE bronze.tb_produto\n",
    "(\n",
    "CODIGO_PRODUTO\t INT  COMMENT 'Código do Produto.'\n",
    ",DESCRICAO_PRODUTO\t VARCHAR(100) COMMENT 'Descrição do Produto.'\n",
    ",CODIGO_CATEGORIA INT COMMENT 'Categoria do Produto.'\n",
    ")\n",
    "COMMENT '\tArmazena informações de produtos.';\n",
    "\n",
    "DROP  TABLE IF EXISTS bronze.tb_cliente;\n",
    "CREATE TABLE bronze.tb_cliente\n",
    "(\n",
    "CODIGO_CLIENTE int  COMMENT 'Código do Cliente.',\n",
    "NOME_CLIENTE varchar(100) COMMENT 'Nome do Cliente.',\n",
    "DATA_NASCIMENTO date,\n",
    "IDADE_CLIENTE int,\n",
    "DESCRICAO_ENDERECO varchar(200),\n",
    "NUMERO_ENDERECO int,\n",
    "NOME_CIDADE varchar(100),\n",
    "NUMERO_TELEFONE varchar(30),\n",
    "EMAIL_CLIENTE varchar(100),\n",
    "OCUPACAO_CLIENTE varchar(100)\n",
    ")\n",
    "COMMENT 'Armazena informações de clientes.';\n",
    "\n",
    "DROP  TABLE IF EXISTS bronze.tb_vendedor;\n",
    "CREATE TABLE bronze.tb_vendedor\n",
    "(\n",
    "CODIGO_VENDEDOR INT COMMENT 'Código do Vendedor.'\n",
    ",NOME_VENDEDOR VARCHAR(100) COMMENT 'Nome do Vendedor.'\n",
    ")\n",
    "COMMENT 'Armazena informações de vendedores.';\n",
    "\n",
    "DROP  TABLE IF EXISTS bronze.tb_loja;\n",
    "CREATE TABLE bronze.tb_loja\n",
    "(\n",
    "CODIGO_LOJA_VENDEDOR INT,\n",
    "CODIGO_LOJA INT COMMENT 'Código da Loja.',\n",
    "CODIGO_VENDEDOR INT,\n",
    "NOME_LOJA varchar(100) COMMENT 'Nome da Loja.',\n",
    "LOCALIDADE_LOJA varchar(100) COMMENT 'Localidade da Loja.',\n",
    "TIPO_LOJA varchar(100) COMMENT 'Tipo da Loja.'\n",
    ")\n",
    "COMMENT 'Armazena informações de lojas.';\n",
    "\n",
    "DROP  TABLE IF EXISTS bronze.tb_venda;\n",
    "CREATE TABLE bronze.tb_venda\n",
    "(\n",
    "CODIGO_VENDA INT COMMENT 'Código da Venda.'\n",
    ",DATA_VENDA\tTIMESTAMP COMMENT 'Data da Venda'\n",
    ",CODIGO_CLIENTE\tINT COMMENT 'Código do Cliente.'\n",
    ",CODIGO_LOJA_VENDEDOR\tINT COMMENT 'Código da Loja.'\n",
    ",VALOR_FINAL DECIMAL(18,2)\t COMMENT 'Valor Total da Venda.'\n",
    ",CODIGO_FORMA_PAGAMENTO INT COMMENT 'Forma de Pagamento.'\n",
    ",TIPO_PAGAMENTO VARCHAR(100) COMMENT 'Tipo de Pagamento.'\n",
    ")\n",
    "COMMENT 'Armazenada informações de vendas.';\n",
    "\n",
    "DROP  TABLE IF EXISTS bronze.tb_item_venda;\n",
    "CREATE TABLE bronze.tb_item_venda\n",
    "(\n",
    "CODIGO_VENDA INT COMMENT 'Código da Venda.'\n",
    ",CODIGO_PRODUTO\tINT COMMENT 'Código do Produto.'\n",
    ",VALOR_UNITARIO DECIMAL(18,2)\t COMMENT 'Valor Unitário do Produto.'\n",
    ",QUANTIDADE\tINT COMMENT 'Quantidade do Produto Vendido.'\n",
    ",VALOR_FINAL DECIMAL(18,2) COMMENT 'Valor Final do Produto Vendido.'\n",
    ")\n",
    "COMMENT 'Armazena informações sobre os itens que foram vendidos.';"
   ]
  },
  {
   "cell_type": "code",
   "execution_count": 0,
   "metadata": {
    "application/vnd.databricks.v1+cell": {
     "cellMetadata": {
      "byteLimit": 2048000,
      "implicitDf": true,
      "rowLimit": 10000
     },
     "inputWidgets": {},
     "nuid": "1d10b159-6254-4322-a399-f65d4f22d518",
     "showTitle": true,
     "title": "SEQ-06 - Criar Tabelas no DataBase SILVER"
    }
   },
   "outputs": [
    {
     "output_type": "display_data",
     "data": {
      "text/html": [
       "<style scoped>\n",
       "  .table-result-container {\n",
       "    max-height: 300px;\n",
       "    overflow: auto;\n",
       "  }\n",
       "  table, th, td {\n",
       "    border: 1px solid black;\n",
       "    border-collapse: collapse;\n",
       "  }\n",
       "  th, td {\n",
       "    padding: 5px;\n",
       "  }\n",
       "  th {\n",
       "    text-align: left;\n",
       "  }\n",
       "</style><div class='table-result-container'><table class='table-result'><thead style='background-color: white'><tr></tr></thead><tbody></tbody></table></div>"
      ]
     },
     "metadata": {
      "application/vnd.databricks.v1+output": {
       "addedWidgets": {},
       "aggData": [],
       "aggError": "",
       "aggOverflow": false,
       "aggSchema": [],
       "aggSeriesLimitReached": false,
       "aggType": "",
       "arguments": {},
       "columnCustomDisplayInfos": {},
       "data": [],
       "datasetInfos": [],
       "dbfsResultPath": null,
       "isJsonSchema": true,
       "metadata": {},
       "overflow": false,
       "plotOptions": {
        "customPlotOptions": {},
        "displayType": "table",
        "pivotAggregation": null,
        "pivotColumns": null,
        "xColumns": null,
        "yColumns": null
       },
       "removedWidgets": [],
       "schema": [],
       "type": "table"
      }
     },
     "output_type": "display_data"
    }
   ],
   "source": [
    "%sql\n",
    "\n",
    "DROP  TABLE IF EXISTS silver.tb_forma_pagamento;\n",
    "CREATE TABLE silver.tb_forma_pagamento\n",
    "(\n",
    "CODIGO_FORMA_PAGAMENTO\t INT COMMENT 'Código da Forma de Pagamento na Tabela TB_FORMA_PAGAMENTO.'\n",
    ",DESCRICAO_FORMA_PAGAMENTO VARCHAR(100) COMMENT 'Descrição da Forma de Pagamento na Tabela TB_FORMA_PAGAMENTO.'\n",
    ",DATA_CADASTRO TIMESTAMP COMMENT 'Data de Cadastro do Registro.'\n",
    ",DATA_ALTERACAO TIMESTAMP COMMENT 'Data de Atualização do Registro.'\n",
    ")\n",
    "COMMENT 'Armazena informações de forma de pagamento.';\n",
    "\n",
    "DROP  TABLE IF EXISTS silver.tb_categoria_produto;\n",
    "CREATE TABLE silver.tb_categoria_produto\n",
    "(\n",
    "CODIGO_CATEGORIA INT COMMENT 'Código da Categoria do Produto.'\n",
    ",CATEGORIA_PRODUTO VARCHAR(100) COMMENT 'Descrição da Categoria do Produto.'\n",
    ",SUB_CATEGORIA_PRODUTO VARCHAR(100) COMMENT ''\n",
    ",DATA_CADASTRO TIMESTAMP COMMENT 'Data de Cadastro do Registro.'\n",
    ",DATA_ALTERACAO TIMESTAMP COMMENT 'Data de Atualização do Registro.'\n",
    ")\n",
    "COMMENT 'Armazena informações das categorias dos produtos';\n",
    "\n",
    "DROP  TABLE IF EXISTS silver.tb_produto;\n",
    "CREATE TABLE silver.tb_produto\n",
    "(\n",
    "CODIGO_PRODUTO\t INT  COMMENT 'Código do Produto.'\n",
    ",DESCRICAO_PRODUTO\t VARCHAR(100) COMMENT 'Descrição do Produto.'\n",
    ",CODIGO_CATEGORIA INT COMMENT 'Categoria do Produto.'\n",
    ",DATA_CADASTRO TIMESTAMP COMMENT 'Data de Cadastro do Registro.'\n",
    ",DATA_ALTERACAO TIMESTAMP COMMENT 'Data de Atualização do Registro.'\n",
    ")\n",
    "COMMENT '\tArmazena informações de produtos.';\n",
    "\n",
    "DROP  TABLE IF EXISTS silver.tb_cliente;\n",
    "CREATE TABLE silver.tb_cliente\n",
    "(\n",
    "CODIGO_CLIENTE INT COMMENT 'Código do Cliente.'\n",
    ",NOME_CLIENTE VARCHAR(100) COMMENT 'Nome do Cliente.'\n",
    ",DATA_NASCIMENTO DATE\n",
    ",IDADE_CLIENTE INT\n",
    ",DESCRICAO_ENDERECO VARCHAR(200)\n",
    ",NUMERO_ENDERECO INT\n",
    ",NOME_CIDADE VARCHAR(100)\n",
    ",NUMERO_TELEFONE VARCHAR(30)\n",
    ",EMAIL_CLIENTE VARCHAR(100)\n",
    ",OCUPACAO_CLIENTE VARCHAR(100)\n",
    ",DATA_CADASTRO TIMESTAMP COMMENT 'Data de Cadastro do Registro.'\n",
    ",DATA_ALTERACAO TIMESTAMP COMMENT 'Data de Atualização do Registro.'\n",
    ")\n",
    "COMMENT 'Armazena informações de clientes.';\n",
    "\n",
    "DROP  TABLE IF EXISTS silver.tb_vendedor;\n",
    "CREATE TABLE silver.tb_vendedor\n",
    "(\n",
    "CODIGO_VENDEDOR INT COMMENT 'Código do Vendedor.'\n",
    ",NOME_VENDEDOR VARCHAR(100) COMMENT 'Nome do Vendedor.'\n",
    ",DATA_CADASTRO TIMESTAMP COMMENT 'Data de Cadastro do Registro.'\n",
    ",DATA_ALTERACAO TIMESTAMP COMMENT 'Data de Atualização do Registro.'\n",
    ")\n",
    "COMMENT 'Armazena informações de vendedores.';\n",
    "\n",
    "DROP  TABLE IF EXISTS silver.tb_loja;\n",
    "CREATE TABLE silver.tb_loja\n",
    "(\n",
    "CODIGO_LOJA_VENDEDOR INT\n",
    ",CODIGO_LOJA INT COMMENT 'Código da Loja.'\n",
    ",CODIGO_VENDEDOR INT\n",
    ",NOME_LOJA varchar(100) COMMENT 'Nome da Loja.'\n",
    ",LOCALIDADE_LOJA varchar(100) COMMENT 'Localidade da Loja.'\n",
    ",TIPO_LOJA varchar(100) COMMENT 'Tipo da Loja.'\n",
    ",DATA_CADASTRO TIMESTAMP COMMENT 'Data de Cadastro do Registro.'\n",
    ",DATA_ALTERACAO TIMESTAMP COMMENT 'Data de Atualização do Registro.'\n",
    ")\n",
    "COMMENT 'Armazena informações de lojas.';\n",
    "\n",
    "DROP  TABLE IF EXISTS silver.tb_venda;\n",
    "CREATE TABLE silver.tb_venda\n",
    "(\n",
    "CODIGO_VENDA INT COMMENT 'Código da Venda.'\n",
    ",DATA_VENDA\tTIMESTAMP COMMENT 'Data da Venda'\n",
    ",CODIGO_CLIENTE\tINT COMMENT 'Código do Cliente.'\n",
    ",CODIGO_LOJA_VENDEDOR\tINT COMMENT 'Código do Vendedor.'\n",
    ",VALOR_FINAL DECIMAL(18,2)\t COMMENT 'Valor Total da Venda.'\n",
    ",CODIGO_FORMA_PAGAMENTO\tINT COMMENT 'Forma de Pagamento.'\n",
    ",TIPO_PAGAMENTO VARCHAR(100) COMMENT 'Tipo de Pagamento.'\n",
    ",DATA_CADASTRO TIMESTAMP COMMENT 'Data de Cadastro do Registro.'\n",
    ",DATA_ALTERACAO TIMESTAMP COMMENT 'Data de Atualização do Registro.'\n",
    ")\n",
    "COMMENT 'Armazenada informações de vendas.';\n",
    "\n",
    "DROP  TABLE IF EXISTS silver.tb_item_venda;\n",
    "CREATE TABLE silver.tb_item_venda\n",
    "(\n",
    "CODIGO_VENDA INT COMMENT 'Código da Venda.'\n",
    ",CODIGO_PRODUTO\tINT COMMENT 'Código do Produto.'\n",
    ",VALOR_UNITARIO DECIMAL(18,2)\t COMMENT 'Valor Unitário do Produto.'\n",
    ",QUANTIDADE\tINT COMMENT 'Quantidade do Produto Vendido.'\n",
    ",VALOR_FINAL DECIMAL(18,2) COMMENT 'Valor Final do Produto Vendido.'\n",
    ",DATA_CADASTRO TIMESTAMP COMMENT 'Data de Cadastro do Registro.'\n",
    ",DATA_ALTERACAO TIMESTAMP COMMENT 'Data de Atualização do Registro.'\n",
    ")\n",
    "COMMENT 'Armazena informações sobre os itens que foram vendidos.';"
   ]
  },
  {
   "cell_type": "code",
   "execution_count": 0,
   "metadata": {
    "application/vnd.databricks.v1+cell": {
     "cellMetadata": {
      "byteLimit": 2048000,
      "implicitDf": true,
      "rowLimit": 10000
     },
     "inputWidgets": {},
     "nuid": "b1f412d7-b8c5-471a-923c-dd2e7ae0b939",
     "showTitle": true,
     "title": "SEQ-07 - Criar Tabelas no DataBase GOLD"
    }
   },
   "outputs": [
    {
     "output_type": "display_data",
     "data": {
      "text/html": [
       "<style scoped>\n",
       "  .table-result-container {\n",
       "    max-height: 300px;\n",
       "    overflow: auto;\n",
       "  }\n",
       "  table, th, td {\n",
       "    border: 1px solid black;\n",
       "    border-collapse: collapse;\n",
       "  }\n",
       "  th, td {\n",
       "    padding: 5px;\n",
       "  }\n",
       "  th {\n",
       "    text-align: left;\n",
       "  }\n",
       "</style><div class='table-result-container'><table class='table-result'><thead style='background-color: white'><tr></tr></thead><tbody></tbody></table></div>"
      ]
     },
     "metadata": {
      "application/vnd.databricks.v1+output": {
       "addedWidgets": {},
       "aggData": [],
       "aggError": "",
       "aggOverflow": false,
       "aggSchema": [],
       "aggSeriesLimitReached": false,
       "aggType": "",
       "arguments": {},
       "columnCustomDisplayInfos": {},
       "data": [],
       "datasetInfos": [],
       "dbfsResultPath": null,
       "isJsonSchema": true,
       "metadata": {},
       "overflow": false,
       "plotOptions": {
        "customPlotOptions": {},
        "displayType": "table",
        "pivotAggregation": null,
        "pivotColumns": null,
        "xColumns": null,
        "yColumns": null
       },
       "removedWidgets": [],
       "schema": [],
       "type": "table"
      }
     },
     "output_type": "display_data"
    }
   ],
   "source": [
    "%sql\n",
    "\n",
    "DROP  TABLE IF EXISTS gold.dim_forma_pagamento;\n",
    "CREATE TABLE gold.dim_forma_pagamento\n",
    "(\n",
    "ID_FORMA_PAGAMENTO VARCHAR(100) COMMENT 'Chave da Dimensão Forma de Pagamento.'\n",
    ",CODIGO_FORMA_PAGAMENTO\t INT COMMENT 'Código da Forma de Pagamento na Tabela TB_FORMA_PAGAMENTO.'\n",
    ",DESCRICAO_FORMA_PAGAMENTO VARCHAR(100) COMMENT 'Descrição da Forma de Pagamento na Tabela TB_FORMA_PAGAMENTO.'\n",
    ",DATA_CADASTRO TIMESTAMP COMMENT 'Data de Cadastro do Registro.'\n",
    ",DATA_ALTERACAO TIMESTAMP COMMENT 'Data de Atualização do Registro.'\n",
    ");\n",
    "\n",
    "DROP  TABLE IF EXISTS gold.dim_produto;\n",
    "CREATE TABLE gold.dim_produto\n",
    "(\n",
    "ID_PRODUTO VARCHAR(100) COMMENT 'Chave da Dimensão Produto.'\n",
    ",CODIGO_PRODUTO\t INT  COMMENT 'Código do Produto.'\n",
    ",DESCRICAO_PRODUTO VARCHAR(100) COMMENT 'Descrição do Produto.'\n",
    ",CATEGORIA_PRODUTO VARCHAR(100) COMMENT 'Categoria do Produto.'\n",
    ",SUB_CATEGORIA_PRODUTO VARCHAR(100) COMMENT 'Categoria do Produto.'\n",
    ",DATA_CADASTRO TIMESTAMP COMMENT 'Data de Cadastro do Registro.'\n",
    ",DATA_ALTERACAO TIMESTAMP COMMENT 'Data de Atualização do Registro.'\n",
    ");\n",
    "\n",
    "DROP  TABLE IF EXISTS gold.dim_cliente;\n",
    "CREATE TABLE gold.dim_cliente\n",
    "(\n",
    "ID_CLIENTE VARCHAR(100) COMMENT 'Chave da Dimensão Cliente.'\n",
    ",CODIGO_CLIENTE INT COMMENT 'Código do Cliente.'\n",
    ",NOME_CLIENTE VARCHAR(100) COMMENT 'Nome do Cliente.'\n",
    ",DATA_NASCIMENTO DATE COMMENT 'Data de Nascimento do Cliente'\n",
    ",IDADE_CLIENTE INT COMMENT 'Idade do Cliente'\n",
    ",DESCRICAO_ENDERECO VARCHAR(200) COMMENT 'Endereço do Cliente'\n",
    ",NUMERO_ENDERECO INT COMMENT 'Numero da Residencia do Cliente'\n",
    ",NOME_CIDADE VARCHAR(100) COMMENT 'Cidade de Residência do Cliente'\n",
    ",NUMERO_TELEFONE VARCHAR(30) COMMENT 'Telefone do Cliente'\n",
    ",EMAIL_CLIENTE VARCHAR(100) COMMENT 'E-mail do Cliente'\n",
    ",OCUPACAO_CLIENTE VARCHAR(100) COMMENT 'Ocupação do cliente'\n",
    ",DATA_CADASTRO TIMESTAMP COMMENT 'Data de Cadastro do Registro.'\n",
    ",DATA_ALTERACAO TIMESTAMP COMMENT 'Data de Atualização do Registro.'\n",
    ");\n",
    "\n",
    "DROP  TABLE IF EXISTS gold.dim_loja;\n",
    "CREATE TABLE gold.dim_loja\n",
    "(\n",
    "ID_LOJA VARCHAR(100) COMMENT 'Chave da Dimensão Loja.'\n",
    ",CODIGO_LOJA\t INT COMMENT 'Código da Loja.'\n",
    ",NOME_LOJA\t VARCHAR(100) COMMENT 'Nome da Loja.'\n",
    ",NOME_VENDEDOR VARCHAR(100)  COMMENT 'Nome do Vendedor.'\n",
    ",LOCALIDADE_LOJA\t VARCHAR(100) COMMENT 'Localidade da Loja.'\n",
    ",TIPO_LOJA VARCHAR(100) COMMENT 'Tipo da Loja.'\n",
    ",DATA_CADASTRO TIMESTAMP COMMENT 'Data de Cadastro do Registro.'\n",
    ",DATA_ALTERACAO TIMESTAMP COMMENT 'Data de Atualização do Registro.'\n",
    ");\n",
    "\n",
    "DROP  TABLE IF EXISTS gold.dim_tempo;\n",
    "CREATE TABLE gold.dim_tempo\n",
    "(\n",
    "ID_TEMPO VARCHAR(100) COMMENT 'Chave da Dimensão Tempo.'\n",
    ",DATA VARCHAR(10) COMMENT 'Data.'\n",
    ",ANO INT COMMENT 'Ano referente a coluna data.'\n",
    ",MES\tINT COMMENT 'Mês referente a coluna data.'\n",
    ",DIA INT COMMENT 'Dia referente a coluna data.' \n",
    ",DATA_CADASTRO TIMESTAMP COMMENT 'Data de Cadastro do Registro.'\n",
    ",DATA_ALTERACAO TIMESTAMP COMMENT 'Data de Atualização do Registro.'\n",
    ");\n",
    "\n",
    "DROP  TABLE IF EXISTS gold.fato_venda;\n",
    "CREATE TABLE gold.fato_venda\n",
    "(\n",
    "CODIGO_VENDA INT COMMENT 'Código da Venda.'\n",
    ",ID_CLIENTE\tVARCHAR(100)  COMMENT 'Chave da Dimensão Cliente.'\n",
    ",ID_LOJA VARCHAR(100) COMMENT 'Chave da Dimensão Loja.'\n",
    ",ID_PRODUTO\tVARCHAR(100)  COMMENT 'Chave da Dimensão Produto.'\n",
    ",ID_FORMA_PAGAMENTO\t VARCHAR(100) COMMENT 'Chave da Dimensão Forma de Pagamento.'\n",
    ",ID_TEMPO VARCHAR(100)  COMMENT 'Chave da Dimensão Tempo.'\n",
    ",HORA_VENDA\tINT COMMENT 'Hora em que ocorreu a venda.'\n",
    ",QUANTIDADE\tINT COMMENT 'Quantidade vendida do produto.'\n",
    ",VALOR_UNITARIO DECIMAL(18,2)\t COMMENT 'Valor unitário do produto.'\n",
    ",VALOR_FINAL DECIMAL(18,2)\t COMMENT 'Valor vendido de um produto.'\n",
    ",TIPO_PAGAMENTO VARCHAR(100) COMMENT 'Tipo de Pagamentto da Venda.'\n",
    ",DATA_CADASTRO TIMESTAMP COMMENT 'Data de Cadastro do Registro.'\n",
    ",DATA_ALTERACAO TIMESTAMP COMMENT 'Data de Atualização do Registro.'\n",
    ");"
   ]
  },
  {
   "cell_type": "code",
   "execution_count": 0,
   "metadata": {
    "application/vnd.databricks.v1+cell": {
     "cellMetadata": {
      "byteLimit": 2048000,
      "implicitDf": true,
      "rowLimit": 10000
     },
     "inputWidgets": {},
     "nuid": "1a6891e1-9710-4eb6-b9bb-b8b23a05ebc7",
     "showTitle": true,
     "title": "SEQ-08 - Insert Tabela GOLD - DIM_TEMPO"
    }
   },
   "outputs": [],
   "source": [
    "data_inicial = date(2017, 1, 1)\n",
    "data_fim = date(2017, 1, 31)\n",
    "dias_acrescimo = timedelta(days=1)\n",
    "\n",
    "cria_dimensao_tempo(data_inicial, data_fim, dias_acrescimo)"
   ]
  },
  {
   "cell_type": "code",
   "execution_count": 0,
   "metadata": {
    "application/vnd.databricks.v1+cell": {
     "cellMetadata": {
      "byteLimit": 2048000,
      "implicitDf": true,
      "rowLimit": 10000
     },
     "inputWidgets": {},
     "nuid": "b6e0e070-e258-4421-858b-8ca2e58dbb91",
     "showTitle": false,
     "title": ""
    }
   },
   "outputs": [
    {
     "output_type": "display_data",
     "data": {
      "text/html": [
       "<style scoped>\n",
       "  .table-result-container {\n",
       "    max-height: 300px;\n",
       "    overflow: auto;\n",
       "  }\n",
       "  table, th, td {\n",
       "    border: 1px solid black;\n",
       "    border-collapse: collapse;\n",
       "  }\n",
       "  th, td {\n",
       "    padding: 5px;\n",
       "  }\n",
       "  th {\n",
       "    text-align: left;\n",
       "  }\n",
       "</style><div class='table-result-container'><table class='table-result'><thead style='background-color: white'><tr><th>ID_TEMPO</th><th>DATA</th><th>ANO</th><th>MES</th><th>DIA</th><th>DATA_CADASTRO</th><th>DATA_ALTERACAO</th></tr></thead><tbody><tr><td>cb53f1ea42eb3ad7855982c4412e5212ea4b55c33860ac31aeee1f4a5a503e56</td><td>20170127</td><td>2017</td><td>1</td><td>27</td><td>2024-02-11T09:49:06.384+0000</td><td>2024-02-11T09:49:06.384+0000</td></tr><tr><td>29a08187ffdd05dd353d22eedcdd295d0fdf7437e28a739de9b3f9a7dc2026ac</td><td>20170129</td><td>2017</td><td>1</td><td>29</td><td>2024-02-11T09:49:15.163+0000</td><td>2024-02-11T09:49:15.163+0000</td></tr><tr><td>7dfe274deab5101df0def9362763c079f9b02bec1c151cd3897dbe1245a3b8f2</td><td>20170104</td><td>2017</td><td>1</td><td>4</td><td>2024-02-11T09:46:54.518+0000</td><td>2024-02-11T09:46:54.518+0000</td></tr><tr><td>a698733cddcb06343d75c33a8e17760e3ecb54fa02c283660d16718d78b22bd3</td><td>20170116</td><td>2017</td><td>1</td><td>16</td><td>2024-02-11T09:48:09.679+0000</td><td>2024-02-11T09:48:09.680+0000</td></tr><tr><td>6e684b0511395c88f2b5c349d9e70420796ad29d6e2e40fd8fdafa3a01f8a662</td><td>20170112</td><td>2017</td><td>1</td><td>12</td><td>2024-02-11T09:47:46.454+0000</td><td>2024-02-11T09:47:46.454+0000</td></tr><tr><td>96ee42494fc286d2393db6166d70820066c9c7dc3df77540554c1310bf1c4b28</td><td>20170122</td><td>2017</td><td>1</td><td>22</td><td>2024-02-11T09:48:44.250+0000</td><td>2024-02-11T09:48:44.250+0000</td></tr><tr><td>db586a70bfd24764545d3278bcbb89e72958ea38430ab0181dc2301de1402a26</td><td>20170118</td><td>2017</td><td>1</td><td>18</td><td>2024-02-11T09:48:19.753+0000</td><td>2024-02-11T09:48:19.753+0000</td></tr><tr><td>c3b68bfe8ac66110140fec08618f58b2c95aed1180f024be9ad3b75b44c1c3b8</td><td>20170123</td><td>2017</td><td>1</td><td>23</td><td>2024-02-11T09:48:48.256+0000</td><td>2024-02-11T09:48:48.256+0000</td></tr><tr><td>3b014864f67350297da4fe23909fa0330a3e585020cd34ec072110b8cfd3d22b</td><td>20170105</td><td>2017</td><td>1</td><td>5</td><td>2024-02-11T09:46:57.755+0000</td><td>2024-02-11T09:46:57.755+0000</td></tr><tr><td>2ebdb7659408fa2fabea151a512149cb1c9a6a801ff9d31c54aa6506830ac9a5</td><td>20170106</td><td>2017</td><td>1</td><td>6</td><td>2024-02-11T09:47:03.765+0000</td><td>2024-02-11T09:47:03.765+0000</td></tr><tr><td>1ea98b879d6434e4bff13669aa2aa691f17b464466d607e10385c6740bea1b0a</td><td>20170107</td><td>2017</td><td>1</td><td>7</td><td>2024-02-11T09:47:08.149+0000</td><td>2024-02-11T09:47:08.149+0000</td></tr><tr><td>ef4240085c8afb4def172eeeab3ee693c41674f4b8f0701a4a3e00a658bbed09</td><td>20170115</td><td>2017</td><td>1</td><td>15</td><td>2024-02-11T09:48:03.538+0000</td><td>2024-02-11T09:48:03.538+0000</td></tr><tr><td>e894957d005855bc4621c78d07a5e4b6786ce456294b9615e83d70351c4a6a49</td><td>20170108</td><td>2017</td><td>1</td><td>8</td><td>2024-02-11T09:47:12.200+0000</td><td>2024-02-11T09:47:12.200+0000</td></tr><tr><td>94e3814d2a5bb6cf5db4f77b9c6b64da7f6cd0308259c768d77ae4db8ef5e229</td><td>20170119</td><td>2017</td><td>1</td><td>19</td><td>2024-02-11T09:48:24.666+0000</td><td>2024-02-11T09:48:24.666+0000</td></tr><tr><td>c8cd5bab6feaa9fab9368d7af4f4ce2d845467b8db14b5d122ca64fcb6f33b92</td><td>20170110</td><td>2017</td><td>1</td><td>10</td><td>2024-02-11T09:47:21.570+0000</td><td>2024-02-11T09:47:21.571+0000</td></tr><tr><td>5996a757ce741d75eef98a390104f8887039e1090eeace4673c7df508a9401d3</td><td>20170101</td><td>2017</td><td>1</td><td>1</td><td>2024-02-11T09:46:36.881+0000</td><td>2024-02-11T09:46:36.881+0000</td></tr><tr><td>022eb46fde2f39a2b1cafa50953bf1dcbd710f366cd50f6c499b4e302321b5b7</td><td>20170126</td><td>2017</td><td>1</td><td>26</td><td>2024-02-11T09:49:02.042+0000</td><td>2024-02-11T09:49:02.042+0000</td></tr><tr><td>78468581a017cd2385008d86118566b261e462ec9355742981f333ec9bb8d67b</td><td>20170111</td><td>2017</td><td>1</td><td>11</td><td>2024-02-11T09:47:28.063+0000</td><td>2024-02-11T09:47:28.063+0000</td></tr><tr><td>e4ed91809901856e68743738fa021b0a39a6a4f2226aa1aea1d63b1ee4df4d0b</td><td>20170103</td><td>2017</td><td>1</td><td>3</td><td>2024-02-11T09:46:51.088+0000</td><td>2024-02-11T09:46:51.088+0000</td></tr><tr><td>bf7d7197e5492e2743075f64ec338c11758cf015fdac2894139bb891830321fe</td><td>20170130</td><td>2017</td><td>1</td><td>30</td><td>2024-02-11T09:49:19.557+0000</td><td>2024-02-11T09:49:19.557+0000</td></tr><tr><td>c9263a9d2d2138821a26a4e3cce3f15e236ec3386e8d450e5bff9e95381cedcc</td><td>20170109</td><td>2017</td><td>1</td><td>9</td><td>2024-02-11T09:47:17.217+0000</td><td>2024-02-11T09:47:17.217+0000</td></tr><tr><td>60d144d053d53d992e18328c1e3559a72371e7edfc4b82f11f835b1dc69590e9</td><td>20170120</td><td>2017</td><td>1</td><td>20</td><td>2024-02-11T09:48:30.868+0000</td><td>2024-02-11T09:48:30.868+0000</td></tr><tr><td>2f64f0db70ec23c40475f4ca4a3de877e3ebdb1c7775c6dd035097eb6ced5b4d</td><td>20170124</td><td>2017</td><td>1</td><td>24</td><td>2024-02-11T09:48:53.401+0000</td><td>2024-02-11T09:48:53.401+0000</td></tr><tr><td>22c88b126822390db2accd4afce73c3d069766ba825467547c5b99c97a7d2435</td><td>20170113</td><td>2017</td><td>1</td><td>13</td><td>2024-02-11T09:47:53.708+0000</td><td>2024-02-11T09:47:53.708+0000</td></tr><tr><td>9a77605bf62855ec3636806ac109e66da585c5885ebc1fa4828c7b7becc002fe</td><td>20170131</td><td>2017</td><td>1</td><td>31</td><td>2024-02-11T09:49:25.120+0000</td><td>2024-02-11T09:49:25.120+0000</td></tr><tr><td>416617ad846b208ce2ab6c82b915dbb9bc0802653630903ca8f9b893303700e2</td><td>20170102</td><td>2017</td><td>1</td><td>2</td><td>2024-02-11T09:46:46.496+0000</td><td>2024-02-11T09:46:46.496+0000</td></tr><tr><td>7ef49a997ce9f696425e4f7c698850212a4aaeb771ecdea7b7b93533f7e520cf</td><td>20170125</td><td>2017</td><td>1</td><td>25</td><td>2024-02-11T09:48:57.184+0000</td><td>2024-02-11T09:48:57.184+0000</td></tr><tr><td>a98a63081e073f4c710857190579b2bc14b5aa5763274bfedb0ec5c2de565fda</td><td>20170121</td><td>2017</td><td>1</td><td>21</td><td>2024-02-11T09:48:37.077+0000</td><td>2024-02-11T09:48:37.077+0000</td></tr><tr><td>1604b5dac077f2f44aa99e8292cf776cbcc81b4daf8cc42377e8598ffd06b7a6</td><td>20170128</td><td>2017</td><td>1</td><td>28</td><td>2024-02-11T09:49:11.054+0000</td><td>2024-02-11T09:49:11.054+0000</td></tr><tr><td>8574711e2bcf55b685fced0ccb1b3b4dde83a8024f35906c0e9918365bfe0dc3</td><td>20170114</td><td>2017</td><td>1</td><td>14</td><td>2024-02-11T09:47:58.171+0000</td><td>2024-02-11T09:47:58.171+0000</td></tr><tr><td>b81e2c6b3d4fc9acaebc877f6daa5aef453263d7432f6a79256dd1d50518fbcb</td><td>20170117</td><td>2017</td><td>1</td><td>17</td><td>2024-02-11T09:48:13.920+0000</td><td>2024-02-11T09:48:13.920+0000</td></tr></tbody></table></div>"
      ]
     },
     "metadata": {
      "application/vnd.databricks.v1+output": {
       "addedWidgets": {},
       "aggData": [],
       "aggError": "",
       "aggOverflow": false,
       "aggSchema": [],
       "aggSeriesLimitReached": false,
       "aggType": "",
       "arguments": {},
       "columnCustomDisplayInfos": {},
       "data": [
        [
         "cb53f1ea42eb3ad7855982c4412e5212ea4b55c33860ac31aeee1f4a5a503e56",
         "20170127",
         2017,
         1,
         27,
         "2024-02-11T09:49:06.384+0000",
         "2024-02-11T09:49:06.384+0000"
        ],
        [
         "29a08187ffdd05dd353d22eedcdd295d0fdf7437e28a739de9b3f9a7dc2026ac",
         "20170129",
         2017,
         1,
         29,
         "2024-02-11T09:49:15.163+0000",
         "2024-02-11T09:49:15.163+0000"
        ],
        [
         "7dfe274deab5101df0def9362763c079f9b02bec1c151cd3897dbe1245a3b8f2",
         "20170104",
         2017,
         1,
         4,
         "2024-02-11T09:46:54.518+0000",
         "2024-02-11T09:46:54.518+0000"
        ],
        [
         "a698733cddcb06343d75c33a8e17760e3ecb54fa02c283660d16718d78b22bd3",
         "20170116",
         2017,
         1,
         16,
         "2024-02-11T09:48:09.679+0000",
         "2024-02-11T09:48:09.680+0000"
        ],
        [
         "6e684b0511395c88f2b5c349d9e70420796ad29d6e2e40fd8fdafa3a01f8a662",
         "20170112",
         2017,
         1,
         12,
         "2024-02-11T09:47:46.454+0000",
         "2024-02-11T09:47:46.454+0000"
        ],
        [
         "96ee42494fc286d2393db6166d70820066c9c7dc3df77540554c1310bf1c4b28",
         "20170122",
         2017,
         1,
         22,
         "2024-02-11T09:48:44.250+0000",
         "2024-02-11T09:48:44.250+0000"
        ],
        [
         "db586a70bfd24764545d3278bcbb89e72958ea38430ab0181dc2301de1402a26",
         "20170118",
         2017,
         1,
         18,
         "2024-02-11T09:48:19.753+0000",
         "2024-02-11T09:48:19.753+0000"
        ],
        [
         "c3b68bfe8ac66110140fec08618f58b2c95aed1180f024be9ad3b75b44c1c3b8",
         "20170123",
         2017,
         1,
         23,
         "2024-02-11T09:48:48.256+0000",
         "2024-02-11T09:48:48.256+0000"
        ],
        [
         "3b014864f67350297da4fe23909fa0330a3e585020cd34ec072110b8cfd3d22b",
         "20170105",
         2017,
         1,
         5,
         "2024-02-11T09:46:57.755+0000",
         "2024-02-11T09:46:57.755+0000"
        ],
        [
         "2ebdb7659408fa2fabea151a512149cb1c9a6a801ff9d31c54aa6506830ac9a5",
         "20170106",
         2017,
         1,
         6,
         "2024-02-11T09:47:03.765+0000",
         "2024-02-11T09:47:03.765+0000"
        ],
        [
         "1ea98b879d6434e4bff13669aa2aa691f17b464466d607e10385c6740bea1b0a",
         "20170107",
         2017,
         1,
         7,
         "2024-02-11T09:47:08.149+0000",
         "2024-02-11T09:47:08.149+0000"
        ],
        [
         "ef4240085c8afb4def172eeeab3ee693c41674f4b8f0701a4a3e00a658bbed09",
         "20170115",
         2017,
         1,
         15,
         "2024-02-11T09:48:03.538+0000",
         "2024-02-11T09:48:03.538+0000"
        ],
        [
         "e894957d005855bc4621c78d07a5e4b6786ce456294b9615e83d70351c4a6a49",
         "20170108",
         2017,
         1,
         8,
         "2024-02-11T09:47:12.200+0000",
         "2024-02-11T09:47:12.200+0000"
        ],
        [
         "94e3814d2a5bb6cf5db4f77b9c6b64da7f6cd0308259c768d77ae4db8ef5e229",
         "20170119",
         2017,
         1,
         19,
         "2024-02-11T09:48:24.666+0000",
         "2024-02-11T09:48:24.666+0000"
        ],
        [
         "c8cd5bab6feaa9fab9368d7af4f4ce2d845467b8db14b5d122ca64fcb6f33b92",
         "20170110",
         2017,
         1,
         10,
         "2024-02-11T09:47:21.570+0000",
         "2024-02-11T09:47:21.571+0000"
        ],
        [
         "5996a757ce741d75eef98a390104f8887039e1090eeace4673c7df508a9401d3",
         "20170101",
         2017,
         1,
         1,
         "2024-02-11T09:46:36.881+0000",
         "2024-02-11T09:46:36.881+0000"
        ],
        [
         "022eb46fde2f39a2b1cafa50953bf1dcbd710f366cd50f6c499b4e302321b5b7",
         "20170126",
         2017,
         1,
         26,
         "2024-02-11T09:49:02.042+0000",
         "2024-02-11T09:49:02.042+0000"
        ],
        [
         "78468581a017cd2385008d86118566b261e462ec9355742981f333ec9bb8d67b",
         "20170111",
         2017,
         1,
         11,
         "2024-02-11T09:47:28.063+0000",
         "2024-02-11T09:47:28.063+0000"
        ],
        [
         "e4ed91809901856e68743738fa021b0a39a6a4f2226aa1aea1d63b1ee4df4d0b",
         "20170103",
         2017,
         1,
         3,
         "2024-02-11T09:46:51.088+0000",
         "2024-02-11T09:46:51.088+0000"
        ],
        [
         "bf7d7197e5492e2743075f64ec338c11758cf015fdac2894139bb891830321fe",
         "20170130",
         2017,
         1,
         30,
         "2024-02-11T09:49:19.557+0000",
         "2024-02-11T09:49:19.557+0000"
        ],
        [
         "c9263a9d2d2138821a26a4e3cce3f15e236ec3386e8d450e5bff9e95381cedcc",
         "20170109",
         2017,
         1,
         9,
         "2024-02-11T09:47:17.217+0000",
         "2024-02-11T09:47:17.217+0000"
        ],
        [
         "60d144d053d53d992e18328c1e3559a72371e7edfc4b82f11f835b1dc69590e9",
         "20170120",
         2017,
         1,
         20,
         "2024-02-11T09:48:30.868+0000",
         "2024-02-11T09:48:30.868+0000"
        ],
        [
         "2f64f0db70ec23c40475f4ca4a3de877e3ebdb1c7775c6dd035097eb6ced5b4d",
         "20170124",
         2017,
         1,
         24,
         "2024-02-11T09:48:53.401+0000",
         "2024-02-11T09:48:53.401+0000"
        ],
        [
         "22c88b126822390db2accd4afce73c3d069766ba825467547c5b99c97a7d2435",
         "20170113",
         2017,
         1,
         13,
         "2024-02-11T09:47:53.708+0000",
         "2024-02-11T09:47:53.708+0000"
        ],
        [
         "9a77605bf62855ec3636806ac109e66da585c5885ebc1fa4828c7b7becc002fe",
         "20170131",
         2017,
         1,
         31,
         "2024-02-11T09:49:25.120+0000",
         "2024-02-11T09:49:25.120+0000"
        ],
        [
         "416617ad846b208ce2ab6c82b915dbb9bc0802653630903ca8f9b893303700e2",
         "20170102",
         2017,
         1,
         2,
         "2024-02-11T09:46:46.496+0000",
         "2024-02-11T09:46:46.496+0000"
        ],
        [
         "7ef49a997ce9f696425e4f7c698850212a4aaeb771ecdea7b7b93533f7e520cf",
         "20170125",
         2017,
         1,
         25,
         "2024-02-11T09:48:57.184+0000",
         "2024-02-11T09:48:57.184+0000"
        ],
        [
         "a98a63081e073f4c710857190579b2bc14b5aa5763274bfedb0ec5c2de565fda",
         "20170121",
         2017,
         1,
         21,
         "2024-02-11T09:48:37.077+0000",
         "2024-02-11T09:48:37.077+0000"
        ],
        [
         "1604b5dac077f2f44aa99e8292cf776cbcc81b4daf8cc42377e8598ffd06b7a6",
         "20170128",
         2017,
         1,
         28,
         "2024-02-11T09:49:11.054+0000",
         "2024-02-11T09:49:11.054+0000"
        ],
        [
         "8574711e2bcf55b685fced0ccb1b3b4dde83a8024f35906c0e9918365bfe0dc3",
         "20170114",
         2017,
         1,
         14,
         "2024-02-11T09:47:58.171+0000",
         "2024-02-11T09:47:58.171+0000"
        ],
        [
         "b81e2c6b3d4fc9acaebc877f6daa5aef453263d7432f6a79256dd1d50518fbcb",
         "20170117",
         2017,
         1,
         17,
         "2024-02-11T09:48:13.920+0000",
         "2024-02-11T09:48:13.920+0000"
        ]
       ],
       "datasetInfos": [],
       "dbfsResultPath": null,
       "isJsonSchema": true,
       "metadata": {},
       "overflow": false,
       "plotOptions": {
        "customPlotOptions": {},
        "displayType": "table",
        "pivotAggregation": null,
        "pivotColumns": null,
        "xColumns": null,
        "yColumns": null
       },
       "removedWidgets": [],
       "schema": [
        {
         "metadata": "{\"comment\":\"Chave da Dimensão Tempo.\",\"__CHAR_VARCHAR_TYPE_STRING\":\"varchar(100)\"}",
         "name": "ID_TEMPO",
         "type": "\"string\""
        },
        {
         "metadata": "{\"comment\":\"Data.\",\"__CHAR_VARCHAR_TYPE_STRING\":\"varchar(10)\"}",
         "name": "DATA",
         "type": "\"string\""
        },
        {
         "metadata": "{\"comment\":\"Ano referente a coluna data.\"}",
         "name": "ANO",
         "type": "\"integer\""
        },
        {
         "metadata": "{\"comment\":\"Mês referente a coluna data.\"}",
         "name": "MES",
         "type": "\"integer\""
        },
        {
         "metadata": "{\"comment\":\"Dia referente a coluna data.\"}",
         "name": "DIA",
         "type": "\"integer\""
        },
        {
         "metadata": "{\"comment\":\"Data de Cadastro do Registro.\"}",
         "name": "DATA_CADASTRO",
         "type": "\"timestamp\""
        },
        {
         "metadata": "{\"comment\":\"Data de Atualização do Registro.\"}",
         "name": "DATA_ALTERACAO",
         "type": "\"timestamp\""
        }
       ],
       "type": "table"
      }
     },
     "output_type": "display_data"
    }
   ],
   "source": [
    "%sql\n",
    "\n",
    "SELECT * FROM gold.DIM_TEMPO"
   ]
  },
  {
   "cell_type": "code",
   "execution_count": 0,
   "metadata": {
    "application/vnd.databricks.v1+cell": {
     "cellMetadata": {
      "byteLimit": 2048000,
      "implicitDf": true,
      "rowLimit": 10000
     },
     "inputWidgets": {},
     "nuid": "d9d4ec50-0bcb-462e-a62e-fcf0b3eb638a",
     "showTitle": false,
     "title": ""
    }
   },
   "outputs": [
    {
     "output_type": "display_data",
     "data": {
      "text/plain": [
       ""
      ]
     },
     "metadata": {
      "application/vnd.databricks.v1+output": {
       "arguments": {},
       "data": "",
       "errorSummary": "Command skipped",
       "errorTraceType": "ansi",
       "metadata": {},
       "type": "ipynbError"
      }
     },
     "output_type": "display_data"
    }
   ],
   "source": [
    "%sql\n",
    "SHOW TABLES FROM silver"
   ]
  },
  {
   "cell_type": "code",
   "execution_count": 0,
   "metadata": {
    "application/vnd.databricks.v1+cell": {
     "cellMetadata": {
      "byteLimit": 2048000,
      "implicitDf": true,
      "rowLimit": 10000
     },
     "inputWidgets": {},
     "nuid": "38ea423a-a83d-41db-9c8a-a248364b1b29",
     "showTitle": false,
     "title": ""
    }
   },
   "outputs": [
    {
     "output_type": "display_data",
     "data": {
      "text/plain": [
       ""
      ]
     },
     "metadata": {
      "application/vnd.databricks.v1+output": {
       "arguments": {},
       "data": "",
       "errorSummary": "Command skipped",
       "errorTraceType": "ansi",
       "metadata": {},
       "type": "ipynbError"
      }
     },
     "output_type": "display_data"
    }
   ],
   "source": [
    "%sql\n",
    "DESC gold.DIM_LOJA"
   ]
  },
  {
   "cell_type": "code",
   "execution_count": 0,
   "metadata": {
    "application/vnd.databricks.v1+cell": {
     "cellMetadata": {
      "byteLimit": 2048000,
      "implicitDf": true,
      "rowLimit": 10000
     },
     "inputWidgets": {},
     "nuid": "fda2ad9b-11e2-4d09-93a2-074aee0802e3",
     "showTitle": false,
     "title": ""
    }
   },
   "outputs": [
    {
     "output_type": "display_data",
     "data": {
      "text/plain": [
       ""
      ]
     },
     "metadata": {
      "application/vnd.databricks.v1+output": {
       "arguments": {},
       "data": "",
       "errorSummary": "Command skipped",
       "errorTraceType": "ansi",
       "metadata": {},
       "type": "ipynbError"
      }
     },
     "output_type": "display_data"
    }
   ],
   "source": [
    "%sql\n",
    "DESC DETAIL gold.DIM_LOJA"
   ]
  },
  {
   "cell_type": "code",
   "execution_count": 0,
   "metadata": {
    "application/vnd.databricks.v1+cell": {
     "cellMetadata": {
      "byteLimit": 2048000,
      "implicitDf": true,
      "rowLimit": 10000
     },
     "inputWidgets": {},
     "nuid": "9a56729c-b6c7-4ecc-a3b0-04087d8c6ca3",
     "showTitle": false,
     "title": ""
    }
   },
   "outputs": [
    {
     "output_type": "display_data",
     "data": {
      "text/plain": [
       ""
      ]
     },
     "metadata": {
      "application/vnd.databricks.v1+output": {
       "arguments": {},
       "data": "",
       "errorSummary": "Command skipped",
       "errorTraceType": "ansi",
       "metadata": {},
       "type": "ipynbError"
      }
     },
     "output_type": "display_data"
    }
   ],
   "source": [
    "%sql\n",
    "DESC SCHEMA bronze"
   ]
  }
 ],
 "metadata": {
  "application/vnd.databricks.v1+notebook": {
   "dashboards": [],
   "language": "python",
   "notebookMetadata": {
    "mostRecentlyExecutedCommandWithImplicitDF": {
     "commandId": 1934667511695029,
     "dataframes": [
      "_sqldf"
     ]
    },
    "pythonIndentUnit": 4
   },
   "notebookName": "00_configuracao_ambiente",
   "widgets": {}
  }
 },
 "nbformat": 4,
 "nbformat_minor": 0
}
