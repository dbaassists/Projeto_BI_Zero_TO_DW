{
 "cells": [
  {
   "cell_type": "markdown",
   "metadata": {
    "application/vnd.databricks.v1+cell": {
     "cellMetadata": {},
     "inputWidgets": {},
     "nuid": "b6ba5d75-5913-48ff-9fa9-a10f627968a0",
     "showTitle": false,
     "title": ""
    }
   },
   "source": [
    "## Atividades Desenvolvidas no Notebook - 00_configuracao_ambiente\n",
    "\n",
    "|Sequência|Ação|Detalhamento\n",
    "|---|---|---|\n",
    "|SEQ-01|Configuração do ambiente no Databricks|Criação do storage \"dbfs:/FileStore/tables/landing_zone\"|\n",
    "|SEQ-02 / SEQ-03 / SEQ-04|Criação de Schemas (Bancos de Dados)|Criação das Camadas Bronze, Silver e Gold |\n",
    "|SEQ-05 / SEQ-06 / SEQ-07|Criação das Tabelas|Criação das Tabelas das Camadas Bronze, Silver e Gold|\n",
    "|SEQ-08|Criação Script Dimensão Tempo|Geração de Scripts de Insert para a Dimensão Tempo para o mês de Jul/2023|"
   ]
  },
  {
   "cell_type": "code",
   "execution_count": 0,
   "metadata": {
    "application/vnd.databricks.v1+cell": {
     "cellMetadata": {
      "byteLimit": 2048000,
      "rowLimit": 10000
     },
     "inputWidgets": {},
     "nuid": "6c10cc82-c644-4a01-a127-ff737057ae27",
     "showTitle": true,
     "title": "SEQ-01 - Criar Storage no DataBricks"
    }
   },
   "outputs": [
    {
     "output_type": "stream",
     "name": "stdout",
     "output_type": "stream",
     "text": [
      "O diretório dbfs:/FileStore/tables/landing_zone existe.\nO diretório dbfs:/FileStore/tables/landing_zone foi apagado.\nO diretório dbfs:/FileStore/tables/landing_zone foi criado.\n"
     ]
    }
   ],
   "source": [
    "diretorio_landing_zone = \"dbfs:/FileStore/tables/landing_zone\"\n",
    "\n",
    "try:\n",
    "\n",
    "    dbutils.fs.ls(diretorio_landing_zone)\n",
    "    print(f\"O diretório {diretorio_landing_zone} existe.\")\n",
    "    dbutils.fs.rm(diretorio_landing_zone, True)\n",
    "    print(f\"O diretório {diretorio_landing_zone} foi apagado.\")\n",
    "    dbutils.fs.mkdirs(diretorio_landing_zone)\n",
    "    print(f\"O diretório {diretorio_landing_zone} foi criado.\")\n",
    "        \n",
    "except:\n",
    "\n",
    "    print(f\"O diretório {diretorio_landing_zone} não existe e será criado.\")\n",
    "    dbutils.fs.mkdirs(diretorio_landing_zone)"
   ]
  },
  {
   "cell_type": "code",
   "execution_count": 0,
   "metadata": {
    "application/vnd.databricks.v1+cell": {
     "cellMetadata": {
      "byteLimit": 2048000,
      "implicitDf": true,
      "rowLimit": 10000
     },
     "inputWidgets": {},
     "nuid": "7c697ecb-ffc7-48c5-9c0d-9a9605c0f7a8",
     "showTitle": true,
     "title": "SEQ-02 - Criar DataBase BRONZE no DataBricks"
    }
   },
   "outputs": [
    {
     "output_type": "display_data",
     "data": {
      "text/html": [
       "<style scoped>\n",
       "  .table-result-container {\n",
       "    max-height: 300px;\n",
       "    overflow: auto;\n",
       "  }\n",
       "  table, th, td {\n",
       "    border: 1px solid black;\n",
       "    border-collapse: collapse;\n",
       "  }\n",
       "  th, td {\n",
       "    padding: 5px;\n",
       "  }\n",
       "  th {\n",
       "    text-align: left;\n",
       "  }\n",
       "</style><div class='table-result-container'><table class='table-result'><thead style='background-color: white'><tr></tr></thead><tbody></tbody></table></div>"
      ]
     },
     "metadata": {
      "application/vnd.databricks.v1+output": {
       "addedWidgets": {},
       "aggData": [],
       "aggError": "",
       "aggOverflow": false,
       "aggSchema": [],
       "aggSeriesLimitReached": false,
       "aggType": "",
       "arguments": {},
       "columnCustomDisplayInfos": {},
       "data": [],
       "datasetInfos": [],
       "dbfsResultPath": null,
       "isJsonSchema": true,
       "metadata": {},
       "overflow": false,
       "plotOptions": {
        "customPlotOptions": {},
        "displayType": "table",
        "pivotAggregation": null,
        "pivotColumns": null,
        "xColumns": null,
        "yColumns": null
       },
       "removedWidgets": [],
       "schema": [],
       "type": "table"
      }
     },
     "output_type": "display_data"
    }
   ],
   "source": [
    "%sql\n",
    "DROP SCHEMA IF EXISTS bronze CASCADE;\n",
    "CREATE SCHEMA IF NOT EXISTS bronze COMMENT 'SCHEMA (Banco de Dados) referente a Camada BRONZE.';"
   ]
  },
  {
   "cell_type": "code",
   "execution_count": 0,
   "metadata": {
    "application/vnd.databricks.v1+cell": {
     "cellMetadata": {
      "byteLimit": 2048000,
      "implicitDf": true,
      "rowLimit": 10000
     },
     "inputWidgets": {},
     "nuid": "0282bd9c-f84b-45e5-9288-d60406f5015c",
     "showTitle": true,
     "title": "SEQ-03 - Criar DataBase SILVER no DataBricks"
    }
   },
   "outputs": [
    {
     "output_type": "display_data",
     "data": {
      "text/html": [
       "<style scoped>\n",
       "  .table-result-container {\n",
       "    max-height: 300px;\n",
       "    overflow: auto;\n",
       "  }\n",
       "  table, th, td {\n",
       "    border: 1px solid black;\n",
       "    border-collapse: collapse;\n",
       "  }\n",
       "  th, td {\n",
       "    padding: 5px;\n",
       "  }\n",
       "  th {\n",
       "    text-align: left;\n",
       "  }\n",
       "</style><div class='table-result-container'><table class='table-result'><thead style='background-color: white'><tr></tr></thead><tbody></tbody></table></div>"
      ]
     },
     "metadata": {
      "application/vnd.databricks.v1+output": {
       "addedWidgets": {},
       "aggData": [],
       "aggError": "",
       "aggOverflow": false,
       "aggSchema": [],
       "aggSeriesLimitReached": false,
       "aggType": "",
       "arguments": {},
       "columnCustomDisplayInfos": {},
       "data": [],
       "datasetInfos": [],
       "dbfsResultPath": null,
       "isJsonSchema": true,
       "metadata": {},
       "overflow": false,
       "plotOptions": {
        "customPlotOptions": {},
        "displayType": "table",
        "pivotAggregation": null,
        "pivotColumns": null,
        "xColumns": null,
        "yColumns": null
       },
       "removedWidgets": [],
       "schema": [],
       "type": "table"
      }
     },
     "output_type": "display_data"
    }
   ],
   "source": [
    "%sql\n",
    "DROP SCHEMA IF EXISTS silver CASCADE;\n",
    "CREATE SCHEMA IF NOT EXISTS silver COMMENT 'SCHEMA (Banco de Dados) referente a Camada SILVER.';"
   ]
  },
  {
   "cell_type": "code",
   "execution_count": 0,
   "metadata": {
    "application/vnd.databricks.v1+cell": {
     "cellMetadata": {
      "byteLimit": 2048000,
      "implicitDf": true,
      "rowLimit": 10000
     },
     "inputWidgets": {},
     "nuid": "8ac07e1f-7d3d-4261-80d0-98180e793110",
     "showTitle": true,
     "title": "SEQ-04 - Criar DataBase GOLD no DataBricks"
    }
   },
   "outputs": [
    {
     "output_type": "display_data",
     "data": {
      "text/html": [
       "<style scoped>\n",
       "  .table-result-container {\n",
       "    max-height: 300px;\n",
       "    overflow: auto;\n",
       "  }\n",
       "  table, th, td {\n",
       "    border: 1px solid black;\n",
       "    border-collapse: collapse;\n",
       "  }\n",
       "  th, td {\n",
       "    padding: 5px;\n",
       "  }\n",
       "  th {\n",
       "    text-align: left;\n",
       "  }\n",
       "</style><div class='table-result-container'><table class='table-result'><thead style='background-color: white'><tr></tr></thead><tbody></tbody></table></div>"
      ]
     },
     "metadata": {
      "application/vnd.databricks.v1+output": {
       "addedWidgets": {},
       "aggData": [],
       "aggError": "",
       "aggOverflow": false,
       "aggSchema": [],
       "aggSeriesLimitReached": false,
       "aggType": "",
       "arguments": {},
       "columnCustomDisplayInfos": {},
       "data": [],
       "datasetInfos": [],
       "dbfsResultPath": null,
       "isJsonSchema": true,
       "metadata": {},
       "overflow": false,
       "plotOptions": {
        "customPlotOptions": {},
        "displayType": "table",
        "pivotAggregation": null,
        "pivotColumns": null,
        "xColumns": null,
        "yColumns": null
       },
       "removedWidgets": [],
       "schema": [],
       "type": "table"
      }
     },
     "output_type": "display_data"
    }
   ],
   "source": [
    "%sql\n",
    "DROP SCHEMA IF EXISTS gold CASCADE;\n",
    "CREATE SCHEMA IF NOT EXISTS gold COMMENT 'SCHEMA (Banco de Dados) referente a Camada GOLD.';"
   ]
  },
  {
   "cell_type": "code",
   "execution_count": 0,
   "metadata": {
    "application/vnd.databricks.v1+cell": {
     "cellMetadata": {
      "byteLimit": 2048000,
      "implicitDf": true,
      "rowLimit": 10000
     },
     "inputWidgets": {},
     "nuid": "2e7a3c24-1651-4936-80d4-4ef9d17ce916",
     "showTitle": true,
     "title": "SEQ-05 - Criar Tabelas no DataBase BRONZE"
    }
   },
   "outputs": [
    {
     "output_type": "display_data",
     "data": {
      "text/plain": [
       "\u001B[0;31m---------------------------------------------------------------------------\u001B[0m\n",
       "\u001B[0;31mAnalysisException\u001B[0m                         Traceback (most recent call last)\n",
       "File \u001B[0;32m<command-1934667511695023>:22\u001B[0m\n",
       "\u001B[1;32m     20\u001B[0m     display(df)\n",
       "\u001B[1;32m     21\u001B[0m     \u001B[38;5;28;01mreturn\u001B[39;00m df\n",
       "\u001B[0;32m---> 22\u001B[0m   _sqldf \u001B[38;5;241m=\u001B[39m \u001B[43m____databricks_percent_sql\u001B[49m\u001B[43m(\u001B[49m\u001B[43m)\u001B[49m\n",
       "\u001B[1;32m     23\u001B[0m \u001B[38;5;28;01mfinally\u001B[39;00m:\n",
       "\u001B[1;32m     24\u001B[0m   \u001B[38;5;28;01mdel\u001B[39;00m ____databricks_percent_sql\n",
       "\n",
       "File \u001B[0;32m<command-1934667511695023>:5\u001B[0m, in \u001B[0;36m____databricks_percent_sql\u001B[0;34m()\u001B[0m\n",
       "\u001B[1;32m      3\u001B[0m \u001B[38;5;28;01mimport\u001B[39;00m \u001B[38;5;21;01mbase64\u001B[39;00m\n",
       "\u001B[1;32m      4\u001B[0m spark\u001B[38;5;241m.\u001B[39msql(base64\u001B[38;5;241m.\u001B[39mstandard_b64decode(\u001B[38;5;124m\"\u001B[39m\u001B[38;5;124mRFJPUCAgVEFCTEUgSUYgRVhJU1RTIGJyb256ZS5UQl9GT1JNQV9QQUdBTUVOVE8=\u001B[39m\u001B[38;5;124m\"\u001B[39m)\u001B[38;5;241m.\u001B[39mdecode())\n",
       "\u001B[0;32m----> 5\u001B[0m \u001B[43mspark\u001B[49m\u001B[38;5;241;43m.\u001B[39;49m\u001B[43msql\u001B[49m\u001B[43m(\u001B[49m\u001B[43mbase64\u001B[49m\u001B[38;5;241;43m.\u001B[39;49m\u001B[43mstandard_b64decode\u001B[49m\u001B[43m(\u001B[49m\u001B[38;5;124;43m\"\u001B[39;49m\u001B[38;5;124;43mQ1JFQVRFIFRBQkxFIGJyb256ZS5UQl9GT1JNQV9QQUdBTUVOVE8KKApDT0RJR09fRk9STUFfUEFHQU1FTlRPCSBJTlQgQ09NTUVOVCAnQ8OzZGlnbyBkYSBGb3JtYSBkZSBQYWdhbWVudG8gbmEgVGFiZWxhIFRCX0ZPUk1BX1BBR0FNRU5UTy4nCixERVNDUklDQU9fRk9STUFfUEFHQU1FTlRPIFZBUkNIQVIoMTAwKSBDT01NRU5UICdEZXNjcmnDp8OjbyBkYSBGb3JtYSBkZSBQYWdhbWVudG8gbmEgVGFiZWxhIFRCX0ZPUk1BX1BBR0FNRU5UTy4nCik=\u001B[39;49m\u001B[38;5;124;43m\"\u001B[39;49m\u001B[43m)\u001B[49m\u001B[38;5;241;43m.\u001B[39;49m\u001B[43mdecode\u001B[49m\u001B[43m(\u001B[49m\u001B[43m)\u001B[49m\u001B[43m)\u001B[49m\n",
       "\u001B[1;32m      6\u001B[0m spark\u001B[38;5;241m.\u001B[39msql(base64\u001B[38;5;241m.\u001B[39mstandard_b64decode(\u001B[38;5;124m\"\u001B[39m\u001B[38;5;124mRFJPUCAgVEFCTEUgSUYgRVhJU1RTIGJyb256ZS5UQl9DQVRFR09SSUFfUFJPRFVUTw==\u001B[39m\u001B[38;5;124m\"\u001B[39m)\u001B[38;5;241m.\u001B[39mdecode())\n",
       "\u001B[1;32m      7\u001B[0m spark\u001B[38;5;241m.\u001B[39msql(base64\u001B[38;5;241m.\u001B[39mstandard_b64decode(\u001B[38;5;124m\"\u001B[39m\u001B[38;5;124mQ1JFQVRFIFRBQkxFIGJyb256ZS5UQl9DQVRFR09SSUFfUFJPRFVUTwooCkNPRElHT19DQVRFR09SSUEgSU5UIENPTU1FTlQgJ0PDs2RpZ28gZGEgQ2F0ZWdvcmlhIGRvIFByb2R1dG8uJwosREVDUklDQU9fQ0FURUdPUklBIFZBUkNIQVIoMTAwKSBDT01NRU5UICdEZXNjcmnDp8OjbyBkYSBDYXRlZ29yaWEgZG8gUHJvZHV0by4nCik=\u001B[39m\u001B[38;5;124m\"\u001B[39m)\u001B[38;5;241m.\u001B[39mdecode())\n",
       "\n",
       "File \u001B[0;32m/databricks/spark/python/pyspark/instrumentation_utils.py:48\u001B[0m, in \u001B[0;36m_wrap_function.<locals>.wrapper\u001B[0;34m(*args, **kwargs)\u001B[0m\n",
       "\u001B[1;32m     46\u001B[0m start \u001B[38;5;241m=\u001B[39m time\u001B[38;5;241m.\u001B[39mperf_counter()\n",
       "\u001B[1;32m     47\u001B[0m \u001B[38;5;28;01mtry\u001B[39;00m:\n",
       "\u001B[0;32m---> 48\u001B[0m     res \u001B[38;5;241m=\u001B[39m \u001B[43mfunc\u001B[49m\u001B[43m(\u001B[49m\u001B[38;5;241;43m*\u001B[39;49m\u001B[43margs\u001B[49m\u001B[43m,\u001B[49m\u001B[43m \u001B[49m\u001B[38;5;241;43m*\u001B[39;49m\u001B[38;5;241;43m*\u001B[39;49m\u001B[43mkwargs\u001B[49m\u001B[43m)\u001B[49m\n",
       "\u001B[1;32m     49\u001B[0m     logger\u001B[38;5;241m.\u001B[39mlog_success(\n",
       "\u001B[1;32m     50\u001B[0m         module_name, class_name, function_name, time\u001B[38;5;241m.\u001B[39mperf_counter() \u001B[38;5;241m-\u001B[39m start, signature\n",
       "\u001B[1;32m     51\u001B[0m     )\n",
       "\u001B[1;32m     52\u001B[0m     \u001B[38;5;28;01mreturn\u001B[39;00m res\n",
       "\n",
       "File \u001B[0;32m/databricks/spark/python/pyspark/sql/session.py:1387\u001B[0m, in \u001B[0;36mSparkSession.sql\u001B[0;34m(self, sqlQuery, args, **kwargs)\u001B[0m\n",
       "\u001B[1;32m   1385\u001B[0m \u001B[38;5;28;01mtry\u001B[39;00m:\n",
       "\u001B[1;32m   1386\u001B[0m     litArgs \u001B[38;5;241m=\u001B[39m {k: _to_java_column(lit(v)) \u001B[38;5;28;01mfor\u001B[39;00m k, v \u001B[38;5;129;01min\u001B[39;00m (args \u001B[38;5;129;01mor\u001B[39;00m {})\u001B[38;5;241m.\u001B[39mitems()}\n",
       "\u001B[0;32m-> 1387\u001B[0m     \u001B[38;5;28;01mreturn\u001B[39;00m DataFrame(\u001B[38;5;28;43mself\u001B[39;49m\u001B[38;5;241;43m.\u001B[39;49m\u001B[43m_jsparkSession\u001B[49m\u001B[38;5;241;43m.\u001B[39;49m\u001B[43msql\u001B[49m\u001B[43m(\u001B[49m\u001B[43msqlQuery\u001B[49m\u001B[43m,\u001B[49m\u001B[43m \u001B[49m\u001B[43mlitArgs\u001B[49m\u001B[43m)\u001B[49m, \u001B[38;5;28mself\u001B[39m)\n",
       "\u001B[1;32m   1388\u001B[0m \u001B[38;5;28;01mfinally\u001B[39;00m:\n",
       "\u001B[1;32m   1389\u001B[0m     \u001B[38;5;28;01mif\u001B[39;00m \u001B[38;5;28mlen\u001B[39m(kwargs) \u001B[38;5;241m>\u001B[39m \u001B[38;5;241m0\u001B[39m:\n",
       "\n",
       "File \u001B[0;32m/databricks/spark/python/lib/py4j-0.10.9.5-src.zip/py4j/java_gateway.py:1321\u001B[0m, in \u001B[0;36mJavaMember.__call__\u001B[0;34m(self, *args)\u001B[0m\n",
       "\u001B[1;32m   1315\u001B[0m command \u001B[38;5;241m=\u001B[39m proto\u001B[38;5;241m.\u001B[39mCALL_COMMAND_NAME \u001B[38;5;241m+\u001B[39m\\\n",
       "\u001B[1;32m   1316\u001B[0m     \u001B[38;5;28mself\u001B[39m\u001B[38;5;241m.\u001B[39mcommand_header \u001B[38;5;241m+\u001B[39m\\\n",
       "\u001B[1;32m   1317\u001B[0m     args_command \u001B[38;5;241m+\u001B[39m\\\n",
       "\u001B[1;32m   1318\u001B[0m     proto\u001B[38;5;241m.\u001B[39mEND_COMMAND_PART\n",
       "\u001B[1;32m   1320\u001B[0m answer \u001B[38;5;241m=\u001B[39m \u001B[38;5;28mself\u001B[39m\u001B[38;5;241m.\u001B[39mgateway_client\u001B[38;5;241m.\u001B[39msend_command(command)\n",
       "\u001B[0;32m-> 1321\u001B[0m return_value \u001B[38;5;241m=\u001B[39m \u001B[43mget_return_value\u001B[49m\u001B[43m(\u001B[49m\n",
       "\u001B[1;32m   1322\u001B[0m \u001B[43m    \u001B[49m\u001B[43manswer\u001B[49m\u001B[43m,\u001B[49m\u001B[43m \u001B[49m\u001B[38;5;28;43mself\u001B[39;49m\u001B[38;5;241;43m.\u001B[39;49m\u001B[43mgateway_client\u001B[49m\u001B[43m,\u001B[49m\u001B[43m \u001B[49m\u001B[38;5;28;43mself\u001B[39;49m\u001B[38;5;241;43m.\u001B[39;49m\u001B[43mtarget_id\u001B[49m\u001B[43m,\u001B[49m\u001B[43m \u001B[49m\u001B[38;5;28;43mself\u001B[39;49m\u001B[38;5;241;43m.\u001B[39;49m\u001B[43mname\u001B[49m\u001B[43m)\u001B[49m\n",
       "\u001B[1;32m   1324\u001B[0m \u001B[38;5;28;01mfor\u001B[39;00m temp_arg \u001B[38;5;129;01min\u001B[39;00m temp_args:\n",
       "\u001B[1;32m   1325\u001B[0m     temp_arg\u001B[38;5;241m.\u001B[39m_detach()\n",
       "\n",
       "File \u001B[0;32m/databricks/spark/python/pyspark/errors/exceptions.py:234\u001B[0m, in \u001B[0;36mcapture_sql_exception.<locals>.deco\u001B[0;34m(*a, **kw)\u001B[0m\n",
       "\u001B[1;32m    230\u001B[0m converted \u001B[38;5;241m=\u001B[39m convert_exception(e\u001B[38;5;241m.\u001B[39mjava_exception)\n",
       "\u001B[1;32m    231\u001B[0m \u001B[38;5;28;01mif\u001B[39;00m \u001B[38;5;129;01mnot\u001B[39;00m \u001B[38;5;28misinstance\u001B[39m(converted, UnknownException):\n",
       "\u001B[1;32m    232\u001B[0m     \u001B[38;5;66;03m# Hide where the exception came from that shows a non-Pythonic\u001B[39;00m\n",
       "\u001B[1;32m    233\u001B[0m     \u001B[38;5;66;03m# JVM exception message.\u001B[39;00m\n",
       "\u001B[0;32m--> 234\u001B[0m     \u001B[38;5;28;01mraise\u001B[39;00m converted \u001B[38;5;28;01mfrom\u001B[39;00m \u001B[38;5;28mNone\u001B[39m\n",
       "\u001B[1;32m    235\u001B[0m \u001B[38;5;28;01melse\u001B[39;00m:\n",
       "\u001B[1;32m    236\u001B[0m     \u001B[38;5;28;01mraise\u001B[39;00m\n",
       "\n",
       "\u001B[0;31mAnalysisException\u001B[0m: Cannot create table ('`spark_catalog`.`bronze`.`TB_FORMA_PAGAMENTO`'). The associated location ('dbfs:/user/hive/warehouse/bronze.db/tb_forma_pagamento') is not empty and also not a Delta table."
      ]
     },
     "metadata": {
      "application/vnd.databricks.v1+output": {
       "arguments": {},
       "data": "\u001B[0;31m---------------------------------------------------------------------------\u001B[0m\n\u001B[0;31mAnalysisException\u001B[0m                         Traceback (most recent call last)\nFile \u001B[0;32m<command-1934667511695023>:22\u001B[0m\n\u001B[1;32m     20\u001B[0m     display(df)\n\u001B[1;32m     21\u001B[0m     \u001B[38;5;28;01mreturn\u001B[39;00m df\n\u001B[0;32m---> 22\u001B[0m   _sqldf \u001B[38;5;241m=\u001B[39m \u001B[43m____databricks_percent_sql\u001B[49m\u001B[43m(\u001B[49m\u001B[43m)\u001B[49m\n\u001B[1;32m     23\u001B[0m \u001B[38;5;28;01mfinally\u001B[39;00m:\n\u001B[1;32m     24\u001B[0m   \u001B[38;5;28;01mdel\u001B[39;00m ____databricks_percent_sql\n\nFile \u001B[0;32m<command-1934667511695023>:5\u001B[0m, in \u001B[0;36m____databricks_percent_sql\u001B[0;34m()\u001B[0m\n\u001B[1;32m      3\u001B[0m \u001B[38;5;28;01mimport\u001B[39;00m \u001B[38;5;21;01mbase64\u001B[39;00m\n\u001B[1;32m      4\u001B[0m spark\u001B[38;5;241m.\u001B[39msql(base64\u001B[38;5;241m.\u001B[39mstandard_b64decode(\u001B[38;5;124m\"\u001B[39m\u001B[38;5;124mRFJPUCAgVEFCTEUgSUYgRVhJU1RTIGJyb256ZS5UQl9GT1JNQV9QQUdBTUVOVE8=\u001B[39m\u001B[38;5;124m\"\u001B[39m)\u001B[38;5;241m.\u001B[39mdecode())\n\u001B[0;32m----> 5\u001B[0m \u001B[43mspark\u001B[49m\u001B[38;5;241;43m.\u001B[39;49m\u001B[43msql\u001B[49m\u001B[43m(\u001B[49m\u001B[43mbase64\u001B[49m\u001B[38;5;241;43m.\u001B[39;49m\u001B[43mstandard_b64decode\u001B[49m\u001B[43m(\u001B[49m\u001B[38;5;124;43m\"\u001B[39;49m\u001B[38;5;124;43mQ1JFQVRFIFRBQkxFIGJyb256ZS5UQl9GT1JNQV9QQUdBTUVOVE8KKApDT0RJR09fRk9STUFfUEFHQU1FTlRPCSBJTlQgQ09NTUVOVCAnQ8OzZGlnbyBkYSBGb3JtYSBkZSBQYWdhbWVudG8gbmEgVGFiZWxhIFRCX0ZPUk1BX1BBR0FNRU5UTy4nCixERVNDUklDQU9fRk9STUFfUEFHQU1FTlRPIFZBUkNIQVIoMTAwKSBDT01NRU5UICdEZXNjcmnDp8OjbyBkYSBGb3JtYSBkZSBQYWdhbWVudG8gbmEgVGFiZWxhIFRCX0ZPUk1BX1BBR0FNRU5UTy4nCik=\u001B[39;49m\u001B[38;5;124;43m\"\u001B[39;49m\u001B[43m)\u001B[49m\u001B[38;5;241;43m.\u001B[39;49m\u001B[43mdecode\u001B[49m\u001B[43m(\u001B[49m\u001B[43m)\u001B[49m\u001B[43m)\u001B[49m\n\u001B[1;32m      6\u001B[0m spark\u001B[38;5;241m.\u001B[39msql(base64\u001B[38;5;241m.\u001B[39mstandard_b64decode(\u001B[38;5;124m\"\u001B[39m\u001B[38;5;124mRFJPUCAgVEFCTEUgSUYgRVhJU1RTIGJyb256ZS5UQl9DQVRFR09SSUFfUFJPRFVUTw==\u001B[39m\u001B[38;5;124m\"\u001B[39m)\u001B[38;5;241m.\u001B[39mdecode())\n\u001B[1;32m      7\u001B[0m spark\u001B[38;5;241m.\u001B[39msql(base64\u001B[38;5;241m.\u001B[39mstandard_b64decode(\u001B[38;5;124m\"\u001B[39m\u001B[38;5;124mQ1JFQVRFIFRBQkxFIGJyb256ZS5UQl9DQVRFR09SSUFfUFJPRFVUTwooCkNPRElHT19DQVRFR09SSUEgSU5UIENPTU1FTlQgJ0PDs2RpZ28gZGEgQ2F0ZWdvcmlhIGRvIFByb2R1dG8uJwosREVDUklDQU9fQ0FURUdPUklBIFZBUkNIQVIoMTAwKSBDT01NRU5UICdEZXNjcmnDp8OjbyBkYSBDYXRlZ29yaWEgZG8gUHJvZHV0by4nCik=\u001B[39m\u001B[38;5;124m\"\u001B[39m)\u001B[38;5;241m.\u001B[39mdecode())\n\nFile \u001B[0;32m/databricks/spark/python/pyspark/instrumentation_utils.py:48\u001B[0m, in \u001B[0;36m_wrap_function.<locals>.wrapper\u001B[0;34m(*args, **kwargs)\u001B[0m\n\u001B[1;32m     46\u001B[0m start \u001B[38;5;241m=\u001B[39m time\u001B[38;5;241m.\u001B[39mperf_counter()\n\u001B[1;32m     47\u001B[0m \u001B[38;5;28;01mtry\u001B[39;00m:\n\u001B[0;32m---> 48\u001B[0m     res \u001B[38;5;241m=\u001B[39m \u001B[43mfunc\u001B[49m\u001B[43m(\u001B[49m\u001B[38;5;241;43m*\u001B[39;49m\u001B[43margs\u001B[49m\u001B[43m,\u001B[49m\u001B[43m \u001B[49m\u001B[38;5;241;43m*\u001B[39;49m\u001B[38;5;241;43m*\u001B[39;49m\u001B[43mkwargs\u001B[49m\u001B[43m)\u001B[49m\n\u001B[1;32m     49\u001B[0m     logger\u001B[38;5;241m.\u001B[39mlog_success(\n\u001B[1;32m     50\u001B[0m         module_name, class_name, function_name, time\u001B[38;5;241m.\u001B[39mperf_counter() \u001B[38;5;241m-\u001B[39m start, signature\n\u001B[1;32m     51\u001B[0m     )\n\u001B[1;32m     52\u001B[0m     \u001B[38;5;28;01mreturn\u001B[39;00m res\n\nFile \u001B[0;32m/databricks/spark/python/pyspark/sql/session.py:1387\u001B[0m, in \u001B[0;36mSparkSession.sql\u001B[0;34m(self, sqlQuery, args, **kwargs)\u001B[0m\n\u001B[1;32m   1385\u001B[0m \u001B[38;5;28;01mtry\u001B[39;00m:\n\u001B[1;32m   1386\u001B[0m     litArgs \u001B[38;5;241m=\u001B[39m {k: _to_java_column(lit(v)) \u001B[38;5;28;01mfor\u001B[39;00m k, v \u001B[38;5;129;01min\u001B[39;00m (args \u001B[38;5;129;01mor\u001B[39;00m {})\u001B[38;5;241m.\u001B[39mitems()}\n\u001B[0;32m-> 1387\u001B[0m     \u001B[38;5;28;01mreturn\u001B[39;00m DataFrame(\u001B[38;5;28;43mself\u001B[39;49m\u001B[38;5;241;43m.\u001B[39;49m\u001B[43m_jsparkSession\u001B[49m\u001B[38;5;241;43m.\u001B[39;49m\u001B[43msql\u001B[49m\u001B[43m(\u001B[49m\u001B[43msqlQuery\u001B[49m\u001B[43m,\u001B[49m\u001B[43m \u001B[49m\u001B[43mlitArgs\u001B[49m\u001B[43m)\u001B[49m, \u001B[38;5;28mself\u001B[39m)\n\u001B[1;32m   1388\u001B[0m \u001B[38;5;28;01mfinally\u001B[39;00m:\n\u001B[1;32m   1389\u001B[0m     \u001B[38;5;28;01mif\u001B[39;00m \u001B[38;5;28mlen\u001B[39m(kwargs) \u001B[38;5;241m>\u001B[39m \u001B[38;5;241m0\u001B[39m:\n\nFile \u001B[0;32m/databricks/spark/python/lib/py4j-0.10.9.5-src.zip/py4j/java_gateway.py:1321\u001B[0m, in \u001B[0;36mJavaMember.__call__\u001B[0;34m(self, *args)\u001B[0m\n\u001B[1;32m   1315\u001B[0m command \u001B[38;5;241m=\u001B[39m proto\u001B[38;5;241m.\u001B[39mCALL_COMMAND_NAME \u001B[38;5;241m+\u001B[39m\\\n\u001B[1;32m   1316\u001B[0m     \u001B[38;5;28mself\u001B[39m\u001B[38;5;241m.\u001B[39mcommand_header \u001B[38;5;241m+\u001B[39m\\\n\u001B[1;32m   1317\u001B[0m     args_command \u001B[38;5;241m+\u001B[39m\\\n\u001B[1;32m   1318\u001B[0m     proto\u001B[38;5;241m.\u001B[39mEND_COMMAND_PART\n\u001B[1;32m   1320\u001B[0m answer \u001B[38;5;241m=\u001B[39m \u001B[38;5;28mself\u001B[39m\u001B[38;5;241m.\u001B[39mgateway_client\u001B[38;5;241m.\u001B[39msend_command(command)\n\u001B[0;32m-> 1321\u001B[0m return_value \u001B[38;5;241m=\u001B[39m \u001B[43mget_return_value\u001B[49m\u001B[43m(\u001B[49m\n\u001B[1;32m   1322\u001B[0m \u001B[43m    \u001B[49m\u001B[43manswer\u001B[49m\u001B[43m,\u001B[49m\u001B[43m \u001B[49m\u001B[38;5;28;43mself\u001B[39;49m\u001B[38;5;241;43m.\u001B[39;49m\u001B[43mgateway_client\u001B[49m\u001B[43m,\u001B[49m\u001B[43m \u001B[49m\u001B[38;5;28;43mself\u001B[39;49m\u001B[38;5;241;43m.\u001B[39;49m\u001B[43mtarget_id\u001B[49m\u001B[43m,\u001B[49m\u001B[43m \u001B[49m\u001B[38;5;28;43mself\u001B[39;49m\u001B[38;5;241;43m.\u001B[39;49m\u001B[43mname\u001B[49m\u001B[43m)\u001B[49m\n\u001B[1;32m   1324\u001B[0m \u001B[38;5;28;01mfor\u001B[39;00m temp_arg \u001B[38;5;129;01min\u001B[39;00m temp_args:\n\u001B[1;32m   1325\u001B[0m     temp_arg\u001B[38;5;241m.\u001B[39m_detach()\n\nFile \u001B[0;32m/databricks/spark/python/pyspark/errors/exceptions.py:234\u001B[0m, in \u001B[0;36mcapture_sql_exception.<locals>.deco\u001B[0;34m(*a, **kw)\u001B[0m\n\u001B[1;32m    230\u001B[0m converted \u001B[38;5;241m=\u001B[39m convert_exception(e\u001B[38;5;241m.\u001B[39mjava_exception)\n\u001B[1;32m    231\u001B[0m \u001B[38;5;28;01mif\u001B[39;00m \u001B[38;5;129;01mnot\u001B[39;00m \u001B[38;5;28misinstance\u001B[39m(converted, UnknownException):\n\u001B[1;32m    232\u001B[0m     \u001B[38;5;66;03m# Hide where the exception came from that shows a non-Pythonic\u001B[39;00m\n\u001B[1;32m    233\u001B[0m     \u001B[38;5;66;03m# JVM exception message.\u001B[39;00m\n\u001B[0;32m--> 234\u001B[0m     \u001B[38;5;28;01mraise\u001B[39;00m converted \u001B[38;5;28;01mfrom\u001B[39;00m \u001B[38;5;28mNone\u001B[39m\n\u001B[1;32m    235\u001B[0m \u001B[38;5;28;01melse\u001B[39;00m:\n\u001B[1;32m    236\u001B[0m     \u001B[38;5;28;01mraise\u001B[39;00m\n\n\u001B[0;31mAnalysisException\u001B[0m: Cannot create table ('`spark_catalog`.`bronze`.`TB_FORMA_PAGAMENTO`'). The associated location ('dbfs:/user/hive/warehouse/bronze.db/tb_forma_pagamento') is not empty and also not a Delta table.",
       "errorSummary": "<span class='ansi-red-fg'>AnalysisException</span>: Cannot create table ('`spark_catalog`.`bronze`.`TB_FORMA_PAGAMENTO`'). The associated location ('dbfs:/user/hive/warehouse/bronze.db/tb_forma_pagamento') is not empty and also not a Delta table.",
       "errorTraceType": "ansi",
       "metadata": {},
       "type": "ipynbError"
      }
     },
     "output_type": "display_data"
    }
   ],
   "source": [
    "%sql\n",
    "\n",
    "DROP  TABLE IF EXISTS bronze.TB_FORMA_PAGAMENTO;\n",
    "CREATE TABLE bronze.TB_FORMA_PAGAMENTO\n",
    "(\n",
    "CODIGO_FORMA_PAGAMENTO\t INT COMMENT 'Código da Forma de Pagamento na Tabela TB_FORMA_PAGAMENTO.'\n",
    ",DESCRICAO_FORMA_PAGAMENTO VARCHAR(100) COMMENT 'Descrição da Forma de Pagamento na Tabela TB_FORMA_PAGAMENTO.'\n",
    ");\n",
    "\n",
    "DROP  TABLE IF EXISTS bronze.TB_CATEGORIA_PRODUTO;\n",
    "CREATE TABLE bronze.TB_CATEGORIA_PRODUTO\n",
    "(\n",
    "CODIGO_CATEGORIA INT COMMENT 'Código da Categoria do Produto.'\n",
    ",DECRICAO_CATEGORIA VARCHAR(100) COMMENT 'Descrição da Categoria do Produto.'\n",
    ");\n",
    "\n",
    "DROP  TABLE IF EXISTS bronze.TB_PRODUTO;\n",
    "CREATE TABLE bronze.TB_PRODUTO\n",
    "(\n",
    "CODIGO_PRODUTO\t INT  COMMENT 'Código do Produto.'\n",
    ",DESCRICAO_PRODUTO\t VARCHAR(100) COMMENT 'Descrição do Produto.'\n",
    ",CODIGO_CATEGORIA INT COMMENT 'Categoria do Produto.'\n",
    ");\n",
    "\n",
    "DROP  TABLE IF EXISTS bronze.TB_CLIENTE;\n",
    "CREATE TABLE bronze.TB_CLIENTE\n",
    "(\n",
    "CODIGO_CLIENTE INT COMMENT 'Código do Cliente.'\n",
    ",NOME_CLIENTE VARCHAR(100) COMMENT 'Nome do Cliente.'\n",
    ");\n",
    "\n",
    "DROP  TABLE IF EXISTS bronze.TB_VENDEDOR;\n",
    "CREATE TABLE bronze.TB_VENDEDOR\n",
    "(\n",
    "CODIGO_VENDEDOR INT COMMENT 'Código do Vendedor.'\n",
    ",NOME_VENDEDOR VARCHAR(100) COMMENT 'Nome do Vendedor.'\n",
    ");\n",
    "\n",
    "DROP  TABLE IF EXISTS bronze.TB_LOJA;\n",
    "CREATE TABLE bronze.TB_LOJA\n",
    "(\n",
    "CODIGO_LOJA\t INT COMMENT 'Código da Loja.'\n",
    ",NOME_LOJA\t VARCHAR(100) COMMENT 'Nome da Loja.'\n",
    ",LOCALIDADE_LOJA\t VARCHAR(100) COMMENT 'Localidade da Loja.'\n",
    ",TIPO_LOJA VARCHAR(100) COMMENT 'Tipo da Loja.'\n",
    ");\n",
    "\n",
    "DROP  TABLE IF EXISTS bronze.TB_VENDA;\n",
    "CREATE TABLE bronze.TB_VENDA\n",
    "(\n",
    "CODIGO_VENDA INT COMMENT 'Código da Venda.'\n",
    ",DATA_VENDA\tTIMESTAMP COMMENT 'Data da Venda'\n",
    ",CODIGO_CLIENTE\tINT COMMENT 'Código do Cliente.'\n",
    ",CODIGO_VENDEDOR\tINT COMMENT 'Código do Vendedor.'\n",
    ",CODIGO_LOJA\tINT COMMENT 'Código da Loja.'\n",
    ",VALOR_FINAL DECIMAL(18,2)\t COMMENT 'Valor Total da Venda.'\n",
    ",FORMA_PAGAMENTO\tINT COMMENT 'Forma de Pagamento.'\n",
    ",TIPO_PAGAMENTO VARCHAR(100) COMMENT 'Tipo de Pagamento.'\n",
    ");\n",
    "\n",
    "DROP  TABLE IF EXISTS bronze.TB_ITEM_VENDA;\n",
    "CREATE TABLE bronze.TB_ITEM_VENDA\n",
    "(\n",
    "CODIGO_VENDA INT COMMENT 'Código da Venda.'\n",
    ",CODIGO_PRODUTO\tINT COMMENT 'Código do Produto.'\n",
    ",VALOR_UNITARIO DECIMAL(18,2)\t COMMENT 'Valor Unitário do Produto.'\n",
    ",QUANTIDADE\tINT COMMENT 'Quantidade do Produto Vendido.'\n",
    ",VALOR_FINAL DECIMAL(18,2) COMMENT 'Valor Final do Produto Vendido.'\n",
    ");"
   ]
  },
  {
   "cell_type": "code",
   "execution_count": 0,
   "metadata": {
    "application/vnd.databricks.v1+cell": {
     "cellMetadata": {
      "byteLimit": 2048000,
      "implicitDf": true,
      "rowLimit": 10000
     },
     "inputWidgets": {},
     "nuid": "1d10b159-6254-4322-a399-f65d4f22d518",
     "showTitle": true,
     "title": "SEQ-06 - Criar Tabelas no DataBase SILVER"
    }
   },
   "outputs": [
    {
     "output_type": "display_data",
     "data": {
      "text/plain": [
       ""
      ]
     },
     "metadata": {
      "application/vnd.databricks.v1+output": {
       "arguments": {},
       "data": "",
       "errorSummary": "Command skipped",
       "errorTraceType": "ansi",
       "metadata": {},
       "type": "ipynbError"
      }
     },
     "output_type": "display_data"
    }
   ],
   "source": [
    "%sql\n",
    "\n",
    "DROP  TABLE IF EXISTS silver.TB_FORMA_PAGAMENTO;\n",
    "CREATE TABLE silver.TB_FORMA_PAGAMENTO\n",
    "(\n",
    "CODIGO_FORMA_PAGAMENTO\t INT COMMENT 'Código da Forma de Pagamento na Tabela TB_FORMA_PAGAMENTO.'\n",
    ",DESCRICAO_FORMA_PAGAMENTO VARCHAR(100) COMMENT 'Descrição da Forma de Pagamento na Tabela TB_FORMA_PAGAMENTO.'\n",
    ",DATA_CADASTRO TIMESTAMP COMMENT 'Data de Cadastro do Registro.'\n",
    ",DATA_ALTERACAO TIMESTAMP COMMENT 'Data de Atualização do Registro.'\n",
    ");\n",
    "\n",
    "DROP  TABLE IF EXISTS silver.TB_CATEGORIA_PRODUTO;\n",
    "CREATE TABLE silver.TB_CATEGORIA_PRODUTO\n",
    "(\n",
    "CODIGO_CATEGORIA INT COMMENT 'Código da Categoria do Produto.'\n",
    ",DECRICAO_CATEGORIA VARCHAR(100) COMMENT 'Descrição da Categoria do Produto.'\n",
    ",DATA_CADASTRO TIMESTAMP COMMENT 'Data de Cadastro do Registro.'\n",
    ",DATA_ALTERACAO TIMESTAMP COMMENT 'Data de Atualização do Registro.'\n",
    ");\n",
    "\n",
    "DROP  TABLE IF EXISTS silver.TB_PRODUTO;\n",
    "CREATE TABLE silver.TB_PRODUTO\n",
    "(\n",
    "CODIGO_PRODUTO\t INT  COMMENT 'Código do Produto.'\n",
    ",DESCRICAO_PRODUTO\t VARCHAR(100) COMMENT 'Descrição do Produto.'\n",
    ",CODIGO_CATEGORIA INT COMMENT 'Categoria do Produto.'\n",
    ",DATA_CADASTRO TIMESTAMP COMMENT 'Data de Cadastro do Registro.'\n",
    ",DATA_ALTERACAO TIMESTAMP COMMENT 'Data de Atualização do Registro.'\n",
    ");\n",
    "\n",
    "DROP  TABLE IF EXISTS silver.TB_CLIENTE;\n",
    "CREATE TABLE silver.TB_CLIENTE\n",
    "(\n",
    "CODIGO_CLIENTE INT COMMENT 'Código do Cliente.'\n",
    ",NOME_CLIENTE VARCHAR(100) COMMENT 'Nome do Cliente.'\n",
    ",DATA_CADASTRO TIMESTAMP COMMENT 'Data de Cadastro do Registro.'\n",
    ",DATA_ALTERACAO TIMESTAMP COMMENT 'Data de Atualização do Registro.'\n",
    ");\n",
    "\n",
    "DROP  TABLE IF EXISTS silver.TB_VENDEDOR;\n",
    "CREATE TABLE silver.TB_VENDEDOR\n",
    "(\n",
    "CODIGO_VENDEDOR INT COMMENT 'Código do Vendedor.'\n",
    ",NOME_VENDEDOR VARCHAR(100) COMMENT 'Nome do Vendedor.'\n",
    ",DATA_CADASTRO TIMESTAMP COMMENT 'Data de Cadastro do Registro.'\n",
    ",DATA_ALTERACAO TIMESTAMP COMMENT 'Data de Atualização do Registro.'\n",
    ");\n",
    "\n",
    "DROP  TABLE IF EXISTS silver.TB_LOJA;\n",
    "CREATE TABLE silver.TB_LOJA\n",
    "(\n",
    "CODIGO_LOJA\t INT COMMENT 'Código da Loja.'\n",
    ",NOME_LOJA\t VARCHAR(100) COMMENT 'Nome da Loja.'\n",
    ",LOCALIDADE_LOJA\t VARCHAR(100) COMMENT 'Localidade da Loja.'\n",
    ",TIPO_LOJA VARCHAR(100) COMMENT 'Tipo da Loja.'\n",
    ",DATA_CADASTRO TIMESTAMP COMMENT 'Data de Cadastro do Registro.'\n",
    ",DATA_ALTERACAO TIMESTAMP COMMENT 'Data de Atualização do Registro.'\n",
    ");\n",
    "\n",
    "DROP  TABLE IF EXISTS silver.TB_VENDA;\n",
    "CREATE TABLE silver.TB_VENDA\n",
    "(\n",
    "CODIGO_VENDA INT COMMENT 'Código da Venda.'\n",
    ",DATA_VENDA\tTIMESTAMP COMMENT 'Data da Venda'\n",
    ",CODIGO_CLIENTE\tINT COMMENT 'Código do Cliente.'\n",
    ",CODIGO_VENDEDOR\tINT COMMENT 'Código do Vendedor.'\n",
    ",CODIGO_LOJA\tINT COMMENT 'Código da Loja.'\n",
    ",VALOR_FINAL DECIMAL(18,2)\t COMMENT 'Valor Total da Venda.'\n",
    ",FORMA_PAGAMENTO\tINT COMMENT 'Forma de Pagamento.'\n",
    ",TIPO_PAGAMENTO VARCHAR(100) COMMENT 'Tipo de Pagamento.'\n",
    ",DATA_CADASTRO TIMESTAMP COMMENT 'Data de Cadastro do Registro.'\n",
    ",DATA_ALTERACAO TIMESTAMP COMMENT 'Data de Atualização do Registro.'\n",
    ");\n",
    "\n",
    "DROP  TABLE IF EXISTS silver.TB_ITEM_VENDA;\n",
    "CREATE TABLE silver.TB_ITEM_VENDA\n",
    "(\n",
    "CODIGO_VENDA INT COMMENT 'Código da Venda.'\n",
    ",CODIGO_PRODUTO\tINT COMMENT 'Código do Produto.'\n",
    ",VALOR_UNITARIO DECIMAL(18,2)\t COMMENT 'Valor Unitário do Produto.'\n",
    ",QUANTIDADE\tINT COMMENT 'Quantidade do Produto Vendido.'\n",
    ",VALOR_FINAL DECIMAL(18,2) COMMENT 'Valor Final do Produto Vendido.'\n",
    ",DATA_CADASTRO TIMESTAMP COMMENT 'Data de Cadastro do Registro.'\n",
    ",DATA_ALTERACAO TIMESTAMP COMMENT 'Data de Atualização do Registro.'\n",
    ");"
   ]
  },
  {
   "cell_type": "code",
   "execution_count": 0,
   "metadata": {
    "application/vnd.databricks.v1+cell": {
     "cellMetadata": {
      "byteLimit": 2048000,
      "implicitDf": true,
      "rowLimit": 10000
     },
     "inputWidgets": {},
     "nuid": "b1f412d7-b8c5-471a-923c-dd2e7ae0b939",
     "showTitle": true,
     "title": "SEQ-07 - Criar Tabelas no DataBase GOLD"
    }
   },
   "outputs": [
    {
     "output_type": "display_data",
     "data": {
      "text/plain": [
       ""
      ]
     },
     "metadata": {
      "application/vnd.databricks.v1+output": {
       "arguments": {},
       "data": "",
       "errorSummary": "Command skipped",
       "errorTraceType": "ansi",
       "metadata": {},
       "type": "ipynbError"
      }
     },
     "output_type": "display_data"
    }
   ],
   "source": [
    "%sql\n",
    "\n",
    "DROP  TABLE IF EXISTS gold.DIM_FORMA_PAGAMENTO;\n",
    "CREATE TABLE gold.DIM_FORMA_PAGAMENTO\n",
    "(\n",
    "ID_FORMA_PAGAMENTO VARCHAR(100) COMMENT 'Chave da Dimensão Forma de Pagamento.'\n",
    ",CODIGO_FORMA_PAGAMENTO\t INT COMMENT 'Código da Forma de Pagamento na Tabela TB_FORMA_PAGAMENTO.'\n",
    ",DESCRICAO_FORMA_PAGAMENTO VARCHAR(100) COMMENT 'Descrição da Forma de Pagamento na Tabela TB_FORMA_PAGAMENTO.'\n",
    ",DATA_CADASTRO TIMESTAMP COMMENT 'Data de Cadastro do Registro.'\n",
    ",DATA_ALTERACAO TIMESTAMP COMMENT 'Data de Atualização do Registro.'\n",
    ");\n",
    "\n",
    "DROP  TABLE IF EXISTS gold.DIM_CATEGORIA_PRODUTO;\n",
    "CREATE TABLE gold.DIM_CATEGORIA_PRODUTO\n",
    "(\n",
    "ID_CATEGORIA_PRODUTO VARCHAR(100) COMMENT 'Chave da Dimensão Categoria do Produto.'\n",
    ",CODIGO_CATEGORIA INT COMMENT 'Código da Categoria do Produto.'\n",
    ",DECRICAO_CATEGORIA VARCHAR(100) COMMENT 'Descrição da Categoria do Produto.'\n",
    ",DATA_CADASTRO TIMESTAMP COMMENT 'Data de Cadastro do Registro.'\n",
    ",DATA_ALTERACAO TIMESTAMP COMMENT 'Data de Atualização do Registro.'\n",
    ");\n",
    "\n",
    "DROP  TABLE IF EXISTS gold.DIM_PRODUTO;\n",
    "CREATE TABLE gold.DIM_PRODUTO\n",
    "(\n",
    "ID_PRODUTO VARCHAR(100) COMMENT 'Chave da Dimensão Produto.'\n",
    ",CODIGO_PRODUTO\t INT  COMMENT 'Código do Produto.'\n",
    ",DESCRICAO_PRODUTO\t VARCHAR(100) COMMENT 'Descrição do Produto.'\n",
    ",CODIGO_CATEGORIA INT COMMENT 'Categoria do Produto.'\n",
    ",DATA_CADASTRO TIMESTAMP COMMENT 'Data de Cadastro do Registro.'\n",
    ",DATA_ALTERACAO TIMESTAMP COMMENT 'Data de Atualização do Registro.'\n",
    ");\n",
    "\n",
    "DROP  TABLE IF EXISTS gold.DIM_CLIENTE;\n",
    "CREATE TABLE gold.DIM_CLIENTE\n",
    "(\n",
    "ID_CLIENTE VARCHAR(100) COMMENT 'Chave da Dimensão Cliente.'\n",
    ",CODIGO_CLIENTE INT COMMENT 'Código do Cliente.'\n",
    ",NOME_CLIENTE VARCHAR(100) COMMENT 'Nome do Cliente.'\n",
    ",DATA_CADASTRO TIMESTAMP COMMENT 'Data de Cadastro do Registro.'\n",
    ",DATA_ALTERACAO TIMESTAMP COMMENT 'Data de Atualização do Registro.'\n",
    ");\n",
    "\n",
    "DROP  TABLE IF EXISTS gold.DIM_VENDEDOR;\n",
    "CREATE TABLE gold.DIM_VENDEDOR\n",
    "(\n",
    "ID_VENDEDOR VARCHAR(100) COMMENT 'Chave da Dimensão Vendedor.'\n",
    ",CODIGO_VENDEDOR INT COMMENT 'Código do Vendedor.'\n",
    ",NOME_VENDEDOR VARCHAR(100) COMMENT 'Nome do Vendedor.'\n",
    ",DATA_CADASTRO TIMESTAMP COMMENT 'Data de Cadastro do Registro.'\n",
    ",DATA_ALTERACAO TIMESTAMP COMMENT 'Data de Atualização do Registro.'\n",
    ");\n",
    "\n",
    "DROP  TABLE IF EXISTS gold.DIM_LOJA;\n",
    "CREATE TABLE gold.DIM_LOJA\n",
    "(\n",
    "ID_LOJA VARCHAR(100) COMMENT 'Chave da Dimensão Loja.'\n",
    ",CODIGO_LOJA\t INT COMMENT 'Código da Loja.'\n",
    ",NOME_LOJA\t VARCHAR(100) COMMENT 'Nome da Loja.'\n",
    ",LOCALIDADE_LOJA\t VARCHAR(100) COMMENT 'Localidade da Loja.'\n",
    ",TIPO_LOJA VARCHAR(100) COMMENT 'Tipo da Loja.'\n",
    ",DATA_CADASTRO TIMESTAMP COMMENT 'Data de Cadastro do Registro.'\n",
    ",DATA_ALTERACAO TIMESTAMP COMMENT 'Data de Atualização do Registro.'\n",
    ");\n",
    "\n",
    "DROP  TABLE IF EXISTS gold.FATO_VENDA;\n",
    "CREATE TABLE gold.FATO_VENDA\n",
    "(\n",
    "ID_TEMPO VARCHAR(100)  COMMENT 'Chave da Dimensão Tempo.'\n",
    ",ID_CLIENTE\tVARCHAR(100)  COMMENT 'Chave da Dimensão Cliente.'\n",
    ",ID_VENDEDOR VARCHAR(100) COMMENT 'Chave da Dimensão Vendedor.'\n",
    ",ID_LOJA VARCHAR(100) COMMENT 'Chave da Dimensão Loja.'\n",
    ",ID_FORMA_PAGAMENTO\t VARCHAR(100) COMMENT 'Chave da Dimensão Forma de Pagamento.'\n",
    ",ID_PRODUTO\tVARCHAR(100)  COMMENT 'Chave da Dimensão Produto.'\n",
    ",ID_CATEGORIA_PRODUTO VARCHAR(100) COMMENT 'Chave da Dimensão Categoria do Produto.'\n",
    ",CODIGO_VENDA INT COMMENT 'Código da Venda.'\n",
    ",QUANTIDADE\tINT COMMENT 'Quantidade vendida do produto.'\n",
    ",VALOR_UNITARIO DECIMAL(18,2)\t COMMENT 'Valor unitário do produto.'\n",
    ",TIPO_PAGAMENTO VARCHAR(100) COMMENT 'Tipo de Pagamentto da Venda.'\n",
    ",DATA_CADASTRO TIMESTAMP COMMENT 'Data de Cadastro do Registro.'\n",
    ",DATA_ALTERACAO TIMESTAMP COMMENT 'Data de Atualização do Registro.'\n",
    ");\n",
    "\n",
    "DROP  TABLE IF EXISTS gold.DIM_TEMPO;\n",
    "CREATE TABLE gold.DIM_TEMPO\n",
    "(\n",
    "ID_TEMPO VARCHAR(100) COMMENT 'Chave da Dimensão Tempo.'\n",
    ",DATA TIMESTAMP COMMENT 'Data.'\n",
    ",ANO INT COMMENT 'Ano referente a coluna data.'\n",
    ",MES\tINT COMMENT 'Mês referente a coluna data.'\n",
    ",DIA INT COMMENT 'Dia referente a coluna data.' \n",
    ",DATA_CADASTRO TIMESTAMP COMMENT 'Data de Cadastro do Registro.'\n",
    ",DATA_ALTERACAO TIMESTAMP COMMENT 'Data de Atualização do Registro.'\n",
    ");"
   ]
  },
  {
   "cell_type": "code",
   "execution_count": 0,
   "metadata": {
    "application/vnd.databricks.v1+cell": {
     "cellMetadata": {
      "byteLimit": 2048000,
      "implicitDf": true,
      "rowLimit": 10000
     },
     "inputWidgets": {},
     "nuid": "1a6891e1-9710-4eb6-b9bb-b8b23a05ebc7",
     "showTitle": true,
     "title": "SEQ-08 - Insert Tabela GOLD - DIM_TEMPO"
    }
   },
   "outputs": [
    {
     "output_type": "display_data",
     "data": {
      "text/plain": [
       ""
      ]
     },
     "metadata": {
      "application/vnd.databricks.v1+output": {
       "arguments": {},
       "data": "",
       "errorSummary": "Command skipped",
       "errorTraceType": "ansi",
       "metadata": {},
       "type": "ipynbError"
      }
     },
     "output_type": "display_data"
    }
   ],
   "source": [
    "%sql\n",
    "INSERT INTO gold.DIM_TEMPO (ID_TEMPO,DATA,ANO,MES,DIA) VALUES ('20230701','2023-07-01', 2023, 7, 1);\n",
    "INSERT INTO gold.DIM_TEMPO (ID_TEMPO,DATA,ANO,MES,DIA) VALUES ('20230702','2023-07-02', 2023, 7, 2);\n",
    "INSERT INTO gold.DIM_TEMPO (ID_TEMPO,DATA,ANO,MES,DIA) VALUES ('20230703','2023-07-03', 2023, 7, 3);\n",
    "INSERT INTO gold.DIM_TEMPO (ID_TEMPO,DATA,ANO,MES,DIA) VALUES ('20230704','2023-07-04', 2023, 7, 4);\n",
    "INSERT INTO gold.DIM_TEMPO (ID_TEMPO,DATA,ANO,MES,DIA) VALUES ('20230705','2023-07-05', 2023, 7, 5);\n",
    "INSERT INTO gold.DIM_TEMPO (ID_TEMPO,DATA,ANO,MES,DIA) VALUES ('20230706','2023-07-06', 2023, 7, 6);\n",
    "INSERT INTO gold.DIM_TEMPO (ID_TEMPO,DATA,ANO,MES,DIA) VALUES ('20230707','2023-07-07', 2023, 7, 7);\n",
    "INSERT INTO gold.DIM_TEMPO (ID_TEMPO,DATA,ANO,MES,DIA) VALUES ('20230708','2023-07-08', 2023, 7, 8);\n",
    "INSERT INTO gold.DIM_TEMPO (ID_TEMPO,DATA,ANO,MES,DIA) VALUES ('20230709','2023-07-09', 2023, 7, 9);\n",
    "INSERT INTO gold.DIM_TEMPO (ID_TEMPO,DATA,ANO,MES,DIA) VALUES ('20230710','2023-07-10', 2023, 7, 10);\n",
    "INSERT INTO gold.DIM_TEMPO (ID_TEMPO,DATA,ANO,MES,DIA) VALUES ('20230711','2023-07-11', 2023, 7, 11);\n",
    "INSERT INTO gold.DIM_TEMPO (ID_TEMPO,DATA,ANO,MES,DIA) VALUES ('20230712','2023-07-12', 2023, 7, 12);\n",
    "INSERT INTO gold.DIM_TEMPO (ID_TEMPO,DATA,ANO,MES,DIA) VALUES ('20230713','2023-07-13', 2023, 7, 13);\n",
    "INSERT INTO gold.DIM_TEMPO (ID_TEMPO,DATA,ANO,MES,DIA) VALUES ('20230714','2023-07-14', 2023, 7, 14);\n",
    "INSERT INTO gold.DIM_TEMPO (ID_TEMPO,DATA,ANO,MES,DIA) VALUES ('20230715','2023-07-15', 2023, 7, 15);\n",
    "INSERT INTO gold.DIM_TEMPO (ID_TEMPO,DATA,ANO,MES,DIA) VALUES ('20230716','2023-07-16', 2023, 7, 16);\n",
    "INSERT INTO gold.DIM_TEMPO (ID_TEMPO,DATA,ANO,MES,DIA) VALUES ('20230717','2023-07-17', 2023, 7, 17);\n",
    "INSERT INTO gold.DIM_TEMPO (ID_TEMPO,DATA,ANO,MES,DIA) VALUES ('20230718','2023-07-18', 2023, 7, 18);\n",
    "INSERT INTO gold.DIM_TEMPO (ID_TEMPO,DATA,ANO,MES,DIA) VALUES ('20230719','2023-07-19', 2023, 7, 19);\n",
    "INSERT INTO gold.DIM_TEMPO (ID_TEMPO,DATA,ANO,MES,DIA) VALUES ('20230720','2023-07-20', 2023, 7, 20);\n",
    "INSERT INTO gold.DIM_TEMPO (ID_TEMPO,DATA,ANO,MES,DIA) VALUES ('20230721','2023-07-21', 2023, 7, 21);\n",
    "INSERT INTO gold.DIM_TEMPO (ID_TEMPO,DATA,ANO,MES,DIA) VALUES ('20230722','2023-07-22', 2023, 7, 22);\n",
    "INSERT INTO gold.DIM_TEMPO (ID_TEMPO,DATA,ANO,MES,DIA) VALUES ('20230723','2023-07-23', 2023, 7, 23);\n",
    "INSERT INTO gold.DIM_TEMPO (ID_TEMPO,DATA,ANO,MES,DIA) VALUES ('20230724','2023-07-24', 2023, 7, 24);\n",
    "INSERT INTO gold.DIM_TEMPO (ID_TEMPO,DATA,ANO,MES,DIA) VALUES ('20230725','2023-07-25', 2023, 7, 25);\n",
    "INSERT INTO gold.DIM_TEMPO (ID_TEMPO,DATA,ANO,MES,DIA) VALUES ('20230726','2023-07-26', 2023, 7, 26);\n",
    "INSERT INTO gold.DIM_TEMPO (ID_TEMPO,DATA,ANO,MES,DIA) VALUES ('20230727','2023-07-27', 2023, 7, 27);\n",
    "INSERT INTO gold.DIM_TEMPO (ID_TEMPO,DATA,ANO,MES,DIA) VALUES ('20230728','2023-07-28', 2023, 7, 28);\n",
    "INSERT INTO gold.DIM_TEMPO (ID_TEMPO,DATA,ANO,MES,DIA) VALUES ('20230729','2023-07-29', 2023, 7, 29);\n",
    "INSERT INTO gold.DIM_TEMPO (ID_TEMPO,DATA,ANO,MES,DIA) VALUES ('20230730','2023-07-30', 2023, 7, 30);\n",
    "INSERT INTO gold.DIM_TEMPO (ID_TEMPO,DATA,ANO,MES,DIA) VALUES ('20230731','2023-07-31', 2023, 7, 31);"
   ]
  },
  {
   "cell_type": "code",
   "execution_count": 0,
   "metadata": {
    "application/vnd.databricks.v1+cell": {
     "cellMetadata": {
      "byteLimit": 2048000,
      "implicitDf": true,
      "rowLimit": 10000
     },
     "inputWidgets": {},
     "nuid": "38ea423a-a83d-41db-9c8a-a248364b1b29",
     "showTitle": false,
     "title": ""
    }
   },
   "outputs": [
    {
     "output_type": "display_data",
     "data": {
      "text/plain": [
       ""
      ]
     },
     "metadata": {
      "application/vnd.databricks.v1+output": {
       "arguments": {},
       "data": "",
       "errorSummary": "Command skipped",
       "errorTraceType": "ansi",
       "metadata": {},
       "type": "ipynbError"
      }
     },
     "output_type": "display_data"
    }
   ],
   "source": [
    "%sql\n",
    "DESC gold.DIM_LOJA"
   ]
  },
  {
   "cell_type": "code",
   "execution_count": 0,
   "metadata": {
    "application/vnd.databricks.v1+cell": {
     "cellMetadata": {
      "byteLimit": 2048000,
      "implicitDf": true,
      "rowLimit": 10000
     },
     "inputWidgets": {},
     "nuid": "fda2ad9b-11e2-4d09-93a2-074aee0802e3",
     "showTitle": false,
     "title": ""
    }
   },
   "outputs": [
    {
     "output_type": "display_data",
     "data": {
      "text/plain": [
       ""
      ]
     },
     "metadata": {
      "application/vnd.databricks.v1+output": {
       "arguments": {},
       "data": "",
       "errorSummary": "Command skipped",
       "errorTraceType": "ansi",
       "metadata": {},
       "type": "ipynbError"
      }
     },
     "output_type": "display_data"
    }
   ],
   "source": [
    "%sql\n",
    "DESC DETAIL gold.DIM_LOJA"
   ]
  },
  {
   "cell_type": "code",
   "execution_count": 0,
   "metadata": {
    "application/vnd.databricks.v1+cell": {
     "cellMetadata": {
      "byteLimit": 2048000,
      "implicitDf": true,
      "rowLimit": 10000
     },
     "inputWidgets": {},
     "nuid": "9a56729c-b6c7-4ecc-a3b0-04087d8c6ca3",
     "showTitle": false,
     "title": ""
    }
   },
   "outputs": [
    {
     "output_type": "display_data",
     "data": {
      "text/plain": [
       ""
      ]
     },
     "metadata": {
      "application/vnd.databricks.v1+output": {
       "arguments": {},
       "data": "",
       "errorSummary": "Command skipped",
       "errorTraceType": "ansi",
       "metadata": {},
       "type": "ipynbError"
      }
     },
     "output_type": "display_data"
    }
   ],
   "source": [
    "%sql\n",
    "DESC SCHEMA bronze"
   ]
  }
 ],
 "metadata": {
  "application/vnd.databricks.v1+notebook": {
   "dashboards": [],
   "language": "python",
   "notebookMetadata": {
    "mostRecentlyExecutedCommandWithImplicitDF": {
     "commandId": 1652859033387511,
     "dataframes": [
      "_sqldf"
     ]
    },
    "pythonIndentUnit": 4
   },
   "notebookName": "00_configuracao_ambiente",
   "widgets": {}
  }
 },
 "nbformat": 4,
 "nbformat_minor": 0
}
