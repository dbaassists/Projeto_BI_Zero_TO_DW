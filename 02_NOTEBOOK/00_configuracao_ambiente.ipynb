{
 "cells": [
  {
   "cell_type": "markdown",
   "metadata": {
    "application/vnd.databricks.v1+cell": {
     "cellMetadata": {
      "byteLimit": 2048000,
      "rowLimit": 10000
     },
     "inputWidgets": {},
     "nuid": "b6ba5d75-5913-48ff-9fa9-a10f627968a0",
     "showTitle": false,
     "title": ""
    }
   },
   "source": [
    "## Atividades Desenvolvidas no Notebook - 00_configuracao_ambiente\n",
    "\n",
    "|Sequência|Ação|Detalhamento\n",
    "|---|---|---|\n",
    "|SEQ-01|Configuração do ambiente no Databricks|Criação do storage \"dbfs:/FileStore/tables/landing_zone\"|\n",
    "|SEQ-02 / SEQ-03 / SEQ-04|Criação de Schemas (Bancos de Dados)|Criação das Camadas Bronze, Silver e Gold |\n",
    "|SEQ-05 / SEQ-06 / SEQ-07|Criação das Tabelas|Criação das Tabelas das Camadas Bronze, Silver e Gold|\n",
    "|SEQ-08|Criação Script Dimensão Tempo|Geração de Scripts de Insert para a Dimensão Tempo para o mês de Jul/2023|"
   ]
  },
  {
   "cell_type": "code",
   "execution_count": 0,
   "metadata": {
    "application/vnd.databricks.v1+cell": {
     "cellMetadata": {
      "byteLimit": 2048000,
      "rowLimit": 10000
     },
     "inputWidgets": {},
     "nuid": "6c10cc82-c644-4a01-a127-ff737057ae27",
     "showTitle": true,
     "title": "SEQ-01 - Criar Storage no DataBricks"
    }
   },
   "outputs": [],
   "source": [
    "diretorio_landing_zone = \"dbfs:/FileStore/tables/landing_zone\"\n",
    "\n",
    "try:\n",
    "    dbutils.fs.ls(diretorio_landing_zone)\n",
    "    dbutils.fs.rm(diretorio_landing_zone, True)\n",
    "        \n",
    "except:\n",
    "\n",
    "    print(f\"O diretório {diretorio_landing_zone} não existe.\")\n"
   ]
  },
  {
   "cell_type": "code",
   "execution_count": 0,
   "metadata": {
    "application/vnd.databricks.v1+cell": {
     "cellMetadata": {
      "byteLimit": 2048000,
      "rowLimit": 10000
     },
     "inputWidgets": {},
     "nuid": "168b217d-8183-4844-9cc5-da8df412f2f7",
     "showTitle": false,
     "title": ""
    }
   },
   "outputs": [
    {
     "output_type": "stream",
     "name": "stdout",
     "output_type": "stream",
     "text": [
      "O diretório dbfs:/FileStore/tables/landing_zone não existe e será criado.\n"
     ]
    }
   ],
   "source": [
    "try:\n",
    "\n",
    "    dbutils.fs.ls(diretorio_landing_zone)\n",
    "        \n",
    "except:\n",
    "\n",
    "    print(f\"O diretório {diretorio_landing_zone} não existe e será criado.\")\n",
    "    dbutils.fs.mkdirs(diretorio_landing_zone)"
   ]
  },
  {
   "cell_type": "code",
   "execution_count": 0,
   "metadata": {
    "application/vnd.databricks.v1+cell": {
     "cellMetadata": {
      "byteLimit": 2048000,
      "implicitDf": true,
      "rowLimit": 10000
     },
     "inputWidgets": {},
     "nuid": "7c697ecb-ffc7-48c5-9c0d-9a9605c0f7a8",
     "showTitle": true,
     "title": "SEQ-02 - Criar DataBase BRONZE no DataBricks"
    }
   },
   "outputs": [
    {
     "output_type": "display_data",
     "data": {
      "text/html": [
       "<style scoped>\n",
       "  .table-result-container {\n",
       "    max-height: 300px;\n",
       "    overflow: auto;\n",
       "  }\n",
       "  table, th, td {\n",
       "    border: 1px solid black;\n",
       "    border-collapse: collapse;\n",
       "  }\n",
       "  th, td {\n",
       "    padding: 5px;\n",
       "  }\n",
       "  th {\n",
       "    text-align: left;\n",
       "  }\n",
       "</style><div class='table-result-container'><table class='table-result'><thead style='background-color: white'><tr></tr></thead><tbody></tbody></table></div>"
      ]
     },
     "metadata": {
      "application/vnd.databricks.v1+output": {
       "addedWidgets": {},
       "aggData": [],
       "aggError": "",
       "aggOverflow": false,
       "aggSchema": [],
       "aggSeriesLimitReached": false,
       "aggType": "",
       "arguments": {},
       "columnCustomDisplayInfos": {},
       "data": [],
       "datasetInfos": [],
       "dbfsResultPath": null,
       "isJsonSchema": true,
       "metadata": {},
       "overflow": false,
       "plotOptions": {
        "customPlotOptions": {},
        "displayType": "table",
        "pivotAggregation": null,
        "pivotColumns": null,
        "xColumns": null,
        "yColumns": null
       },
       "removedWidgets": [],
       "schema": [],
       "type": "table"
      }
     },
     "output_type": "display_data"
    }
   ],
   "source": [
    "%sql\n",
    "DROP SCHEMA IF EXISTS bronze CASCADE;\n",
    "CREATE SCHEMA IF NOT EXISTS bronze COMMENT 'SCHEMA (Banco de Dados) referente a Camada BRONZE.';"
   ]
  },
  {
   "cell_type": "code",
   "execution_count": 0,
   "metadata": {
    "application/vnd.databricks.v1+cell": {
     "cellMetadata": {
      "byteLimit": 2048000,
      "implicitDf": true,
      "rowLimit": 10000
     },
     "inputWidgets": {},
     "nuid": "0282bd9c-f84b-45e5-9288-d60406f5015c",
     "showTitle": true,
     "title": "SEQ-03 - Criar DataBase SILVER no DataBricks"
    }
   },
   "outputs": [
    {
     "output_type": "display_data",
     "data": {
      "text/html": [
       "<style scoped>\n",
       "  .table-result-container {\n",
       "    max-height: 300px;\n",
       "    overflow: auto;\n",
       "  }\n",
       "  table, th, td {\n",
       "    border: 1px solid black;\n",
       "    border-collapse: collapse;\n",
       "  }\n",
       "  th, td {\n",
       "    padding: 5px;\n",
       "  }\n",
       "  th {\n",
       "    text-align: left;\n",
       "  }\n",
       "</style><div class='table-result-container'><table class='table-result'><thead style='background-color: white'><tr></tr></thead><tbody></tbody></table></div>"
      ]
     },
     "metadata": {
      "application/vnd.databricks.v1+output": {
       "addedWidgets": {},
       "aggData": [],
       "aggError": "",
       "aggOverflow": false,
       "aggSchema": [],
       "aggSeriesLimitReached": false,
       "aggType": "",
       "arguments": {},
       "columnCustomDisplayInfos": {},
       "data": [],
       "datasetInfos": [],
       "dbfsResultPath": null,
       "isJsonSchema": true,
       "metadata": {},
       "overflow": false,
       "plotOptions": {
        "customPlotOptions": {},
        "displayType": "table",
        "pivotAggregation": null,
        "pivotColumns": null,
        "xColumns": null,
        "yColumns": null
       },
       "removedWidgets": [],
       "schema": [],
       "type": "table"
      }
     },
     "output_type": "display_data"
    }
   ],
   "source": [
    "%sql\n",
    "DROP SCHEMA IF EXISTS silver CASCADE;\n",
    "CREATE SCHEMA IF NOT EXISTS silver COMMENT 'SCHEMA (Banco de Dados) referente a Camada SILVER.';"
   ]
  },
  {
   "cell_type": "code",
   "execution_count": 0,
   "metadata": {
    "application/vnd.databricks.v1+cell": {
     "cellMetadata": {
      "byteLimit": 2048000,
      "implicitDf": true,
      "rowLimit": 10000
     },
     "inputWidgets": {},
     "nuid": "8ac07e1f-7d3d-4261-80d0-98180e793110",
     "showTitle": true,
     "title": "SEQ-04 - Criar DataBase GOLD no DataBricks"
    }
   },
   "outputs": [
    {
     "output_type": "display_data",
     "data": {
      "text/html": [
       "<style scoped>\n",
       "  .table-result-container {\n",
       "    max-height: 300px;\n",
       "    overflow: auto;\n",
       "  }\n",
       "  table, th, td {\n",
       "    border: 1px solid black;\n",
       "    border-collapse: collapse;\n",
       "  }\n",
       "  th, td {\n",
       "    padding: 5px;\n",
       "  }\n",
       "  th {\n",
       "    text-align: left;\n",
       "  }\n",
       "</style><div class='table-result-container'><table class='table-result'><thead style='background-color: white'><tr></tr></thead><tbody></tbody></table></div>"
      ]
     },
     "metadata": {
      "application/vnd.databricks.v1+output": {
       "addedWidgets": {},
       "aggData": [],
       "aggError": "",
       "aggOverflow": false,
       "aggSchema": [],
       "aggSeriesLimitReached": false,
       "aggType": "",
       "arguments": {},
       "columnCustomDisplayInfos": {},
       "data": [],
       "datasetInfos": [],
       "dbfsResultPath": null,
       "isJsonSchema": true,
       "metadata": {},
       "overflow": false,
       "plotOptions": {
        "customPlotOptions": {},
        "displayType": "table",
        "pivotAggregation": null,
        "pivotColumns": null,
        "xColumns": null,
        "yColumns": null
       },
       "removedWidgets": [],
       "schema": [],
       "type": "table"
      }
     },
     "output_type": "display_data"
    }
   ],
   "source": [
    "%sql\n",
    "DROP SCHEMA IF EXISTS gold CASCADE;\n",
    "CREATE SCHEMA IF NOT EXISTS gold COMMENT 'SCHEMA (Banco de Dados) referente a Camada GOLD.';"
   ]
  },
  {
   "cell_type": "code",
   "execution_count": 0,
   "metadata": {
    "application/vnd.databricks.v1+cell": {
     "cellMetadata": {
      "byteLimit": 2048000,
      "implicitDf": true,
      "rowLimit": 10000
     },
     "inputWidgets": {},
     "nuid": "2e7a3c24-1651-4936-80d4-4ef9d17ce916",
     "showTitle": true,
     "title": "SEQ-05 - Criar Tabelas no DataBase BRONZE"
    }
   },
   "outputs": [
    {
     "output_type": "display_data",
     "data": {
      "text/html": [
       "<style scoped>\n",
       "  .table-result-container {\n",
       "    max-height: 300px;\n",
       "    overflow: auto;\n",
       "  }\n",
       "  table, th, td {\n",
       "    border: 1px solid black;\n",
       "    border-collapse: collapse;\n",
       "  }\n",
       "  th, td {\n",
       "    padding: 5px;\n",
       "  }\n",
       "  th {\n",
       "    text-align: left;\n",
       "  }\n",
       "</style><div class='table-result-container'><table class='table-result'><thead style='background-color: white'><tr></tr></thead><tbody></tbody></table></div>"
      ]
     },
     "metadata": {
      "application/vnd.databricks.v1+output": {
       "addedWidgets": {},
       "aggData": [],
       "aggError": "",
       "aggOverflow": false,
       "aggSchema": [],
       "aggSeriesLimitReached": false,
       "aggType": "",
       "arguments": {},
       "columnCustomDisplayInfos": {},
       "data": [],
       "datasetInfos": [],
       "dbfsResultPath": null,
       "isJsonSchema": true,
       "metadata": {},
       "overflow": false,
       "plotOptions": {
        "customPlotOptions": {},
        "displayType": "table",
        "pivotAggregation": null,
        "pivotColumns": null,
        "xColumns": null,
        "yColumns": null
       },
       "removedWidgets": [],
       "schema": [],
       "type": "table"
      }
     },
     "output_type": "display_data"
    }
   ],
   "source": [
    "%sql\n",
    "\n",
    "DROP  TABLE IF EXISTS bronze.TB_FORMA_PAGAMENTO;\n",
    "CREATE TABLE bronze.TB_FORMA_PAGAMENTO\n",
    "(\n",
    "CODIGO_FORMA_PAGAMENTO\t INT COMMENT 'Código da Forma de Pagamento na Tabela TB_FORMA_PAGAMENTO.'\n",
    ",DESCRICAO_FORMA_PAGAMENTO VARCHAR(100) COMMENT 'Descrição da Forma de Pagamento na Tabela TB_FORMA_PAGAMENTO.'\n",
    ");\n",
    "\n",
    "DROP  TABLE IF EXISTS bronze.TB_CATEGORIA_PRODUTO;\n",
    "CREATE TABLE bronze.TB_CATEGORIA_PRODUTO\n",
    "(\n",
    "CODIGO_CATEGORIA INT COMMENT 'Código da Categoria do Produto.'\n",
    ",DECRICAO_CATEGORIA VARCHAR(100) COMMENT 'Descrição da Categoria do Produto.'\n",
    ");\n",
    "\n",
    "DROP  TABLE IF EXISTS bronze.TB_PRODUTO;\n",
    "CREATE TABLE bronze.TB_PRODUTO\n",
    "(\n",
    "CODIGO_PRODUTO\t INT  COMMENT 'Código do Produto.'\n",
    ",DESCRICAO_PRODUTO\t VARCHAR(100) COMMENT 'Descrição do Produto.'\n",
    ",CODIGO_CATEGORIA INT COMMENT 'Categoria do Produto.'\n",
    ");\n",
    "\n",
    "DROP  TABLE IF EXISTS bronze.TB_CLIENTE;\n",
    "CREATE TABLE bronze.TB_CLIENTE\n",
    "(\n",
    "CODIGO_CLIENTE INT COMMENT 'Código do Cliente.'\n",
    ",NOME_CLIENTE VARCHAR(100) COMMENT 'Nome do Cliente.'\n",
    ");\n",
    "\n",
    "DROP  TABLE IF EXISTS bronze.TB_VENDEDOR;\n",
    "CREATE TABLE bronze.TB_VENDEDOR\n",
    "(\n",
    "CODIGO_VENDEDOR INT COMMENT 'Código do Vendedor.'\n",
    ",NOME_VENDEDOR VARCHAR(100) COMMENT 'Nome do Vendedor.'\n",
    ");\n",
    "\n",
    "DROP  TABLE IF EXISTS bronze.TB_LOJA;\n",
    "CREATE TABLE bronze.TB_LOJA\n",
    "(\n",
    "CODIGO_LOJA\t INT COMMENT 'Código da Loja.'\n",
    ",NOME_LOJA\t VARCHAR(100) COMMENT 'Nome da Loja.'\n",
    ",LOCALIDADE_LOJA\t VARCHAR(100) COMMENT 'Localidade da Loja.'\n",
    ",TIPO_LOJA VARCHAR(100) COMMENT 'Tipo da Loja.'\n",
    ");\n",
    "\n",
    "DROP  TABLE IF EXISTS bronze.TB_VENDA;\n",
    "CREATE TABLE bronze.TB_VENDA\n",
    "(\n",
    "CODIGO_VENDA INT COMMENT 'Código da Venda.'\n",
    ",DATA_VENDA\tTIMESTAMP COMMENT 'Data da Venda'\n",
    ",CODIGO_CLIENTE\tINT COMMENT 'Código do Cliente.'\n",
    ",CODIGO_VENDEDOR\tINT COMMENT 'Código do Vendedor.'\n",
    ",CODIGO_LOJA\tINT COMMENT 'Código da Loja.'\n",
    ",VALOR_FINAL DECIMAL(18,2)\t COMMENT 'Valor Total da Venda.'\n",
    ",FORMA_PAGAMENTO\tINT COMMENT 'Forma de Pagamento.'\n",
    ",TIPO_PAGAMENTO VARCHAR(100) COMMENT 'Tipo de Pagamento.'\n",
    ");\n",
    "\n",
    "DROP  TABLE IF EXISTS bronze.TB_ITEM_VENDA;\n",
    "CREATE TABLE bronze.TB_ITEM_VENDA\n",
    "(\n",
    "CODIGO_VENDA INT COMMENT 'Código da Venda.'\n",
    ",CODIGO_PRODUTO\tINT COMMENT 'Código do Produto.'\n",
    ",VALOR_UNITARIO DECIMAL(18,2)\t COMMENT 'Valor Unitário do Produto.'\n",
    ",QUANTIDADE\tINT COMMENT 'Quantidade do Produto Vendido.'\n",
    ",VALOR_FINAL DECIMAL(18,2) COMMENT 'Valor Final do Produto Vendido.'\n",
    ");"
   ]
  },
  {
   "cell_type": "code",
   "execution_count": 0,
   "metadata": {
    "application/vnd.databricks.v1+cell": {
     "cellMetadata": {
      "byteLimit": 2048000,
      "implicitDf": true,
      "rowLimit": 10000
     },
     "inputWidgets": {},
     "nuid": "1d10b159-6254-4322-a399-f65d4f22d518",
     "showTitle": true,
     "title": "SEQ-06 - Criar Tabelas no DataBase SILVER"
    }
   },
   "outputs": [
    {
     "output_type": "display_data",
     "data": {
      "text/html": [
       "<style scoped>\n",
       "  .table-result-container {\n",
       "    max-height: 300px;\n",
       "    overflow: auto;\n",
       "  }\n",
       "  table, th, td {\n",
       "    border: 1px solid black;\n",
       "    border-collapse: collapse;\n",
       "  }\n",
       "  th, td {\n",
       "    padding: 5px;\n",
       "  }\n",
       "  th {\n",
       "    text-align: left;\n",
       "  }\n",
       "</style><div class='table-result-container'><table class='table-result'><thead style='background-color: white'><tr></tr></thead><tbody></tbody></table></div>"
      ]
     },
     "metadata": {
      "application/vnd.databricks.v1+output": {
       "addedWidgets": {},
       "aggData": [],
       "aggError": "",
       "aggOverflow": false,
       "aggSchema": [],
       "aggSeriesLimitReached": false,
       "aggType": "",
       "arguments": {},
       "columnCustomDisplayInfos": {},
       "data": [],
       "datasetInfos": [],
       "dbfsResultPath": null,
       "isJsonSchema": true,
       "metadata": {},
       "overflow": false,
       "plotOptions": {
        "customPlotOptions": {},
        "displayType": "table",
        "pivotAggregation": null,
        "pivotColumns": null,
        "xColumns": null,
        "yColumns": null
       },
       "removedWidgets": [],
       "schema": [],
       "type": "table"
      }
     },
     "output_type": "display_data"
    }
   ],
   "source": [
    "%sql\n",
    "\n",
    "DROP  TABLE IF EXISTS silver.TB_FORMA_PAGAMENTO;\n",
    "CREATE TABLE silver.TB_FORMA_PAGAMENTO\n",
    "(\n",
    "CODIGO_FORMA_PAGAMENTO\t INT COMMENT 'Código da Forma de Pagamento na Tabela TB_FORMA_PAGAMENTO.'\n",
    ",DESCRICAO_FORMA_PAGAMENTO VARCHAR(100) COMMENT 'Descrição da Forma de Pagamento na Tabela TB_FORMA_PAGAMENTO.'\n",
    ",DATA_CADASTRO TIMESTAMP COMMENT 'Data de Cadastro do Registro.'\n",
    ",DATA_ALTERACAO TIMESTAMP COMMENT 'Data de Atualização do Registro.'\n",
    ");\n",
    "\n",
    "DROP  TABLE IF EXISTS silver.TB_CATEGORIA_PRODUTO;\n",
    "CREATE TABLE silver.TB_CATEGORIA_PRODUTO\n",
    "(\n",
    "CODIGO_CATEGORIA INT COMMENT 'Código da Categoria do Produto.'\n",
    ",DECRICAO_CATEGORIA VARCHAR(100) COMMENT 'Descrição da Categoria do Produto.'\n",
    ",DATA_CADASTRO TIMESTAMP COMMENT 'Data de Cadastro do Registro.'\n",
    ",DATA_ALTERACAO TIMESTAMP COMMENT 'Data de Atualização do Registro.'\n",
    ");\n",
    "\n",
    "DROP  TABLE IF EXISTS silver.TB_PRODUTO;\n",
    "CREATE TABLE silver.TB_PRODUTO\n",
    "(\n",
    "CODIGO_PRODUTO\t INT  COMMENT 'Código do Produto.'\n",
    ",DESCRICAO_PRODUTO\t VARCHAR(100) COMMENT 'Descrição do Produto.'\n",
    ",CODIGO_CATEGORIA INT COMMENT 'Categoria do Produto.'\n",
    ",DATA_CADASTRO TIMESTAMP COMMENT 'Data de Cadastro do Registro.'\n",
    ",DATA_ALTERACAO TIMESTAMP COMMENT 'Data de Atualização do Registro.'\n",
    ");\n",
    "\n",
    "DROP  TABLE IF EXISTS silver.TB_CLIENTE;\n",
    "CREATE TABLE silver.TB_CLIENTE\n",
    "(\n",
    "CODIGO_CLIENTE INT COMMENT 'Código do Cliente.'\n",
    ",NOME_CLIENTE VARCHAR(100) COMMENT 'Nome do Cliente.'\n",
    ",DATA_CADASTRO TIMESTAMP COMMENT 'Data de Cadastro do Registro.'\n",
    ",DATA_ALTERACAO TIMESTAMP COMMENT 'Data de Atualização do Registro.'\n",
    ");\n",
    "\n",
    "DROP  TABLE IF EXISTS silver.TB_VENDEDOR;\n",
    "CREATE TABLE silver.TB_VENDEDOR\n",
    "(\n",
    "CODIGO_VENDEDOR INT COMMENT 'Código do Vendedor.'\n",
    ",NOME_VENDEDOR VARCHAR(100) COMMENT 'Nome do Vendedor.'\n",
    ",DATA_CADASTRO TIMESTAMP COMMENT 'Data de Cadastro do Registro.'\n",
    ",DATA_ALTERACAO TIMESTAMP COMMENT 'Data de Atualização do Registro.'\n",
    ");\n",
    "\n",
    "DROP  TABLE IF EXISTS silver.TB_LOJA;\n",
    "CREATE TABLE silver.TB_LOJA\n",
    "(\n",
    "CODIGO_LOJA\t INT COMMENT 'Código da Loja.'\n",
    ",NOME_LOJA\t VARCHAR(100) COMMENT 'Nome da Loja.'\n",
    ",LOCALIDADE_LOJA\t VARCHAR(100) COMMENT 'Localidade da Loja.'\n",
    ",TIPO_LOJA VARCHAR(100) COMMENT 'Tipo da Loja.'\n",
    ",DATA_CADASTRO TIMESTAMP COMMENT 'Data de Cadastro do Registro.'\n",
    ",DATA_ALTERACAO TIMESTAMP COMMENT 'Data de Atualização do Registro.'\n",
    ");\n",
    "\n",
    "DROP  TABLE IF EXISTS silver.TB_VENDA;\n",
    "CREATE TABLE silver.TB_VENDA\n",
    "(\n",
    "CODIGO_VENDA INT COMMENT 'Código da Venda.'\n",
    ",DATA_VENDA\tTIMESTAMP COMMENT 'Data da Venda'\n",
    ",CODIGO_CLIENTE\tINT COMMENT 'Código do Cliente.'\n",
    ",CODIGO_VENDEDOR\tINT COMMENT 'Código do Vendedor.'\n",
    ",CODIGO_LOJA\tINT COMMENT 'Código da Loja.'\n",
    ",VALOR_FINAL DECIMAL(18,2)\t COMMENT 'Valor Total da Venda.'\n",
    ",FORMA_PAGAMENTO\tINT COMMENT 'Forma de Pagamento.'\n",
    ",TIPO_PAGAMENTO VARCHAR(100) COMMENT 'Tipo de Pagamento.'\n",
    ",DATA_CADASTRO TIMESTAMP COMMENT 'Data de Cadastro do Registro.'\n",
    ",DATA_ALTERACAO TIMESTAMP COMMENT 'Data de Atualização do Registro.'\n",
    ");\n",
    "\n",
    "DROP  TABLE IF EXISTS silver.TB_ITEM_VENDA;\n",
    "CREATE TABLE silver.TB_ITEM_VENDA\n",
    "(\n",
    "CODIGO_VENDA INT COMMENT 'Código da Venda.'\n",
    ",CODIGO_PRODUTO\tINT COMMENT 'Código do Produto.'\n",
    ",VALOR_UNITARIO DECIMAL(18,2)\t COMMENT 'Valor Unitário do Produto.'\n",
    ",QUANTIDADE\tINT COMMENT 'Quantidade do Produto Vendido.'\n",
    ",VALOR_FINAL DECIMAL(18,2) COMMENT 'Valor Final do Produto Vendido.'\n",
    ",DATA_CADASTRO TIMESTAMP COMMENT 'Data de Cadastro do Registro.'\n",
    ",DATA_ALTERACAO TIMESTAMP COMMENT 'Data de Atualização do Registro.'\n",
    ");"
   ]
  },
  {
   "cell_type": "code",
   "execution_count": 0,
   "metadata": {
    "application/vnd.databricks.v1+cell": {
     "cellMetadata": {
      "byteLimit": 2048000,
      "implicitDf": true,
      "rowLimit": 10000
     },
     "inputWidgets": {},
     "nuid": "b1f412d7-b8c5-471a-923c-dd2e7ae0b939",
     "showTitle": true,
     "title": "SEQ-07 - Criar Tabelas no DataBase GOLD"
    }
   },
   "outputs": [
    {
     "output_type": "display_data",
     "data": {
      "text/html": [
       "<style scoped>\n",
       "  .table-result-container {\n",
       "    max-height: 300px;\n",
       "    overflow: auto;\n",
       "  }\n",
       "  table, th, td {\n",
       "    border: 1px solid black;\n",
       "    border-collapse: collapse;\n",
       "  }\n",
       "  th, td {\n",
       "    padding: 5px;\n",
       "  }\n",
       "  th {\n",
       "    text-align: left;\n",
       "  }\n",
       "</style><div class='table-result-container'><table class='table-result'><thead style='background-color: white'><tr></tr></thead><tbody></tbody></table></div>"
      ]
     },
     "metadata": {
      "application/vnd.databricks.v1+output": {
       "addedWidgets": {},
       "aggData": [],
       "aggError": "",
       "aggOverflow": false,
       "aggSchema": [],
       "aggSeriesLimitReached": false,
       "aggType": "",
       "arguments": {},
       "columnCustomDisplayInfos": {},
       "data": [],
       "datasetInfos": [],
       "dbfsResultPath": null,
       "isJsonSchema": true,
       "metadata": {},
       "overflow": false,
       "plotOptions": {
        "customPlotOptions": {},
        "displayType": "table",
        "pivotAggregation": null,
        "pivotColumns": null,
        "xColumns": null,
        "yColumns": null
       },
       "removedWidgets": [],
       "schema": [],
       "type": "table"
      }
     },
     "output_type": "display_data"
    }
   ],
   "source": [
    "%sql\n",
    "\n",
    "DROP  TABLE IF EXISTS gold.DIM_FORMA_PAGAMENTO;\n",
    "CREATE TABLE gold.DIM_FORMA_PAGAMENTO\n",
    "(\n",
    "ID_FORMA_PAGAMENTO VARCHAR(100) COMMENT 'Chave da Dimensão Forma de Pagamento.'\n",
    ",CODIGO_FORMA_PAGAMENTO\t INT COMMENT 'Código da Forma de Pagamento na Tabela TB_FORMA_PAGAMENTO.'\n",
    ",DESCRICAO_FORMA_PAGAMENTO VARCHAR(100) COMMENT 'Descrição da Forma de Pagamento na Tabela TB_FORMA_PAGAMENTO.'\n",
    ",DATA_CADASTRO TIMESTAMP COMMENT 'Data de Cadastro do Registro.'\n",
    ",DATA_ALTERACAO TIMESTAMP COMMENT 'Data de Atualização do Registro.'\n",
    ");\n",
    "\n",
    "DROP  TABLE IF EXISTS gold.DIM_CATEGORIA_PRODUTO;\n",
    "CREATE TABLE gold.DIM_CATEGORIA_PRODUTO\n",
    "(\n",
    "ID_CATEGORIA_PRODUTO VARCHAR(100) COMMENT 'Chave da Dimensão Categoria do Produto.'\n",
    ",CODIGO_CATEGORIA INT COMMENT 'Código da Categoria do Produto.'\n",
    ",DECRICAO_CATEGORIA VARCHAR(100) COMMENT 'Descrição da Categoria do Produto.'\n",
    ",DATA_CADASTRO TIMESTAMP COMMENT 'Data de Cadastro do Registro.'\n",
    ",DATA_ALTERACAO TIMESTAMP COMMENT 'Data de Atualização do Registro.'\n",
    ");\n",
    "\n",
    "DROP  TABLE IF EXISTS gold.DIM_PRODUTO;\n",
    "CREATE TABLE gold.DIM_PRODUTO\n",
    "(\n",
    "ID_PRODUTO VARCHAR(100) COMMENT 'Chave da Dimensão Produto.'\n",
    ",CODIGO_PRODUTO\t INT  COMMENT 'Código do Produto.'\n",
    ",DESCRICAO_PRODUTO\t VARCHAR(100) COMMENT 'Descrição do Produto.'\n",
    ",CODIGO_CATEGORIA INT COMMENT 'Categoria do Produto.'\n",
    ",DATA_CADASTRO TIMESTAMP COMMENT 'Data de Cadastro do Registro.'\n",
    ",DATA_ALTERACAO TIMESTAMP COMMENT 'Data de Atualização do Registro.'\n",
    ");\n",
    "\n",
    "DROP  TABLE IF EXISTS gold.DIM_CLIENTE;\n",
    "CREATE TABLE gold.DIM_CLIENTE\n",
    "(\n",
    "ID_CLIENTE VARCHAR(100) COMMENT 'Chave da Dimensão Cliente.'\n",
    ",CODIGO_CLIENTE INT COMMENT 'Código do Cliente.'\n",
    ",NOME_CLIENTE VARCHAR(100) COMMENT 'Nome do Cliente.'\n",
    ",DATA_CADASTRO TIMESTAMP COMMENT 'Data de Cadastro do Registro.'\n",
    ",DATA_ALTERACAO TIMESTAMP COMMENT 'Data de Atualização do Registro.'\n",
    ");\n",
    "\n",
    "DROP  TABLE IF EXISTS gold.DIM_VENDEDOR;\n",
    "CREATE TABLE gold.DIM_VENDEDOR\n",
    "(\n",
    "ID_VENDEDOR VARCHAR(100) COMMENT 'Chave da Dimensão Vendedor.'\n",
    ",CODIGO_VENDEDOR INT COMMENT 'Código do Vendedor.'\n",
    ",NOME_VENDEDOR VARCHAR(100) COMMENT 'Nome do Vendedor.'\n",
    ",DATA_CADASTRO TIMESTAMP COMMENT 'Data de Cadastro do Registro.'\n",
    ",DATA_ALTERACAO TIMESTAMP COMMENT 'Data de Atualização do Registro.'\n",
    ");\n",
    "\n",
    "DROP  TABLE IF EXISTS gold.DIM_LOJA;\n",
    "CREATE TABLE gold.DIM_LOJA\n",
    "(\n",
    "ID_LOJA VARCHAR(100) COMMENT 'Chave da Dimensão Loja.'\n",
    ",CODIGO_LOJA\t INT COMMENT 'Código da Loja.'\n",
    ",NOME_LOJA\t VARCHAR(100) COMMENT 'Nome da Loja.'\n",
    ",LOCALIDADE_LOJA\t VARCHAR(100) COMMENT 'Localidade da Loja.'\n",
    ",TIPO_LOJA VARCHAR(100) COMMENT 'Tipo da Loja.'\n",
    ",DATA_CADASTRO TIMESTAMP COMMENT 'Data de Cadastro do Registro.'\n",
    ",DATA_ALTERACAO TIMESTAMP COMMENT 'Data de Atualização do Registro.'\n",
    ");\n",
    "\n",
    "DROP  TABLE IF EXISTS gold.FATO_VENDA;\n",
    "CREATE TABLE gold.FATO_VENDA\n",
    "(\n",
    "ID_TEMPO VARCHAR(100)  COMMENT 'Chave da Dimensão Tempo.'\n",
    ",ID_CLIENTE\tVARCHAR(100)  COMMENT 'Chave da Dimensão Cliente.'\n",
    ",ID_VENDEDOR VARCHAR(100) COMMENT 'Chave da Dimensão Vendedor.'\n",
    ",ID_LOJA VARCHAR(100) COMMENT 'Chave da Dimensão Loja.'\n",
    ",ID_FORMA_PAGAMENTO\t VARCHAR(100) COMMENT 'Chave da Dimensão Forma de Pagamento.'\n",
    ",ID_PRODUTO\tVARCHAR(100)  COMMENT 'Chave da Dimensão Produto.'\n",
    ",ID_CATEGORIA_PRODUTO VARCHAR(100) COMMENT 'Chave da Dimensão Categoria do Produto.'\n",
    ",CODIGO_VENDA INT COMMENT 'Código da Venda.'\n",
    ",QUANTIDADE\tINT COMMENT 'Quantidade vendida do produto.'\n",
    ",VALOR_UNITARIO DECIMAL(18,2)\t COMMENT 'Valor unitário do produto.'\n",
    ",TIPO_PAGAMENTO VARCHAR(100) COMMENT 'Tipo de Pagamentto da Venda.'\n",
    ",DATA_CADASTRO TIMESTAMP COMMENT 'Data de Cadastro do Registro.'\n",
    ",DATA_ALTERACAO TIMESTAMP COMMENT 'Data de Atualização do Registro.'\n",
    ");\n",
    "\n",
    "DROP  TABLE IF EXISTS gold.DIM_TEMPO;\n",
    "CREATE TABLE gold.DIM_TEMPO\n",
    "(\n",
    "ID_TEMPO VARCHAR(100) COMMENT 'Chave da Dimensão Tempo.'\n",
    ",DATA TIMESTAMP COMMENT 'Data.'\n",
    ",ANO INT COMMENT 'Ano referente a coluna data.'\n",
    ",MES\tINT COMMENT 'Mês referente a coluna data.'\n",
    ",DIA INT COMMENT 'Dia referente a coluna data.' \n",
    ",DATA_CADASTRO TIMESTAMP COMMENT 'Data de Cadastro do Registro.'\n",
    ",DATA_ALTERACAO TIMESTAMP COMMENT 'Data de Atualização do Registro.'\n",
    ");"
   ]
  },
  {
   "cell_type": "code",
   "execution_count": 0,
   "metadata": {
    "application/vnd.databricks.v1+cell": {
     "cellMetadata": {
      "byteLimit": 2048000,
      "implicitDf": true,
      "rowLimit": 10000
     },
     "inputWidgets": {},
     "nuid": "1a6891e1-9710-4eb6-b9bb-b8b23a05ebc7",
     "showTitle": true,
     "title": "SEQ-08 - Insert Tabela GOLD - DIM_TEMPO"
    }
   },
   "outputs": [
    {
     "output_type": "display_data",
     "data": {
      "text/html": [
       "<style scoped>\n",
       "  .table-result-container {\n",
       "    max-height: 300px;\n",
       "    overflow: auto;\n",
       "  }\n",
       "  table, th, td {\n",
       "    border: 1px solid black;\n",
       "    border-collapse: collapse;\n",
       "  }\n",
       "  th, td {\n",
       "    padding: 5px;\n",
       "  }\n",
       "  th {\n",
       "    text-align: left;\n",
       "  }\n",
       "</style><div class='table-result-container'><table class='table-result'><thead style='background-color: white'><tr><th>num_affected_rows</th><th>num_inserted_rows</th></tr></thead><tbody><tr><td>1</td><td>1</td></tr></tbody></table></div>"
      ]
     },
     "metadata": {
      "application/vnd.databricks.v1+output": {
       "addedWidgets": {},
       "aggData": [],
       "aggError": "",
       "aggOverflow": false,
       "aggSchema": [],
       "aggSeriesLimitReached": false,
       "aggType": "",
       "arguments": {},
       "columnCustomDisplayInfos": {},
       "data": [
        [
         1,
         1
        ]
       ],
       "datasetInfos": [],
       "dbfsResultPath": null,
       "isJsonSchema": true,
       "metadata": {},
       "overflow": false,
       "plotOptions": {
        "customPlotOptions": {},
        "displayType": "table",
        "pivotAggregation": null,
        "pivotColumns": null,
        "xColumns": null,
        "yColumns": null
       },
       "removedWidgets": [],
       "schema": [
        {
         "metadata": "{}",
         "name": "num_affected_rows",
         "type": "\"long\""
        },
        {
         "metadata": "{}",
         "name": "num_inserted_rows",
         "type": "\"long\""
        }
       ],
       "type": "table"
      }
     },
     "output_type": "display_data"
    }
   ],
   "source": [
    "%sql\n",
    "INSERT INTO gold.DIM_TEMPO (ID_TEMPO,DATA,ANO,MES,DIA) VALUES ('20230701','2023-07-01', 2023, 7, 1);\n",
    "INSERT INTO gold.DIM_TEMPO (ID_TEMPO,DATA,ANO,MES,DIA) VALUES ('20230702','2023-07-02', 2023, 7, 2);\n",
    "INSERT INTO gold.DIM_TEMPO (ID_TEMPO,DATA,ANO,MES,DIA) VALUES ('20230703','2023-07-03', 2023, 7, 3);\n",
    "INSERT INTO gold.DIM_TEMPO (ID_TEMPO,DATA,ANO,MES,DIA) VALUES ('20230704','2023-07-04', 2023, 7, 4);\n",
    "INSERT INTO gold.DIM_TEMPO (ID_TEMPO,DATA,ANO,MES,DIA) VALUES ('20230705','2023-07-05', 2023, 7, 5);\n",
    "INSERT INTO gold.DIM_TEMPO (ID_TEMPO,DATA,ANO,MES,DIA) VALUES ('20230706','2023-07-06', 2023, 7, 6);\n",
    "INSERT INTO gold.DIM_TEMPO (ID_TEMPO,DATA,ANO,MES,DIA) VALUES ('20230707','2023-07-07', 2023, 7, 7);\n",
    "INSERT INTO gold.DIM_TEMPO (ID_TEMPO,DATA,ANO,MES,DIA) VALUES ('20230708','2023-07-08', 2023, 7, 8);\n",
    "INSERT INTO gold.DIM_TEMPO (ID_TEMPO,DATA,ANO,MES,DIA) VALUES ('20230709','2023-07-09', 2023, 7, 9);\n",
    "INSERT INTO gold.DIM_TEMPO (ID_TEMPO,DATA,ANO,MES,DIA) VALUES ('20230710','2023-07-10', 2023, 7, 10);\n",
    "INSERT INTO gold.DIM_TEMPO (ID_TEMPO,DATA,ANO,MES,DIA) VALUES ('20230711','2023-07-11', 2023, 7, 11);\n",
    "INSERT INTO gold.DIM_TEMPO (ID_TEMPO,DATA,ANO,MES,DIA) VALUES ('20230712','2023-07-12', 2023, 7, 12);\n",
    "INSERT INTO gold.DIM_TEMPO (ID_TEMPO,DATA,ANO,MES,DIA) VALUES ('20230713','2023-07-13', 2023, 7, 13);\n",
    "INSERT INTO gold.DIM_TEMPO (ID_TEMPO,DATA,ANO,MES,DIA) VALUES ('20230714','2023-07-14', 2023, 7, 14);\n",
    "INSERT INTO gold.DIM_TEMPO (ID_TEMPO,DATA,ANO,MES,DIA) VALUES ('20230715','2023-07-15', 2023, 7, 15);\n",
    "INSERT INTO gold.DIM_TEMPO (ID_TEMPO,DATA,ANO,MES,DIA) VALUES ('20230716','2023-07-16', 2023, 7, 16);\n",
    "INSERT INTO gold.DIM_TEMPO (ID_TEMPO,DATA,ANO,MES,DIA) VALUES ('20230717','2023-07-17', 2023, 7, 17);\n",
    "INSERT INTO gold.DIM_TEMPO (ID_TEMPO,DATA,ANO,MES,DIA) VALUES ('20230718','2023-07-18', 2023, 7, 18);\n",
    "INSERT INTO gold.DIM_TEMPO (ID_TEMPO,DATA,ANO,MES,DIA) VALUES ('20230719','2023-07-19', 2023, 7, 19);\n",
    "INSERT INTO gold.DIM_TEMPO (ID_TEMPO,DATA,ANO,MES,DIA) VALUES ('20230720','2023-07-20', 2023, 7, 20);\n",
    "INSERT INTO gold.DIM_TEMPO (ID_TEMPO,DATA,ANO,MES,DIA) VALUES ('20230721','2023-07-21', 2023, 7, 21);\n",
    "INSERT INTO gold.DIM_TEMPO (ID_TEMPO,DATA,ANO,MES,DIA) VALUES ('20230722','2023-07-22', 2023, 7, 22);\n",
    "INSERT INTO gold.DIM_TEMPO (ID_TEMPO,DATA,ANO,MES,DIA) VALUES ('20230723','2023-07-23', 2023, 7, 23);\n",
    "INSERT INTO gold.DIM_TEMPO (ID_TEMPO,DATA,ANO,MES,DIA) VALUES ('20230724','2023-07-24', 2023, 7, 24);\n",
    "INSERT INTO gold.DIM_TEMPO (ID_TEMPO,DATA,ANO,MES,DIA) VALUES ('20230725','2023-07-25', 2023, 7, 25);\n",
    "INSERT INTO gold.DIM_TEMPO (ID_TEMPO,DATA,ANO,MES,DIA) VALUES ('20230726','2023-07-26', 2023, 7, 26);\n",
    "INSERT INTO gold.DIM_TEMPO (ID_TEMPO,DATA,ANO,MES,DIA) VALUES ('20230727','2023-07-27', 2023, 7, 27);\n",
    "INSERT INTO gold.DIM_TEMPO (ID_TEMPO,DATA,ANO,MES,DIA) VALUES ('20230728','2023-07-28', 2023, 7, 28);\n",
    "INSERT INTO gold.DIM_TEMPO (ID_TEMPO,DATA,ANO,MES,DIA) VALUES ('20230729','2023-07-29', 2023, 7, 29);\n",
    "INSERT INTO gold.DIM_TEMPO (ID_TEMPO,DATA,ANO,MES,DIA) VALUES ('20230730','2023-07-30', 2023, 7, 30);\n",
    "INSERT INTO gold.DIM_TEMPO (ID_TEMPO,DATA,ANO,MES,DIA) VALUES ('20230731','2023-07-31', 2023, 7, 31);"
   ]
  },
  {
   "cell_type": "code",
   "execution_count": 0,
   "metadata": {
    "application/vnd.databricks.v1+cell": {
     "cellMetadata": {
      "byteLimit": 2048000,
      "implicitDf": true,
      "rowLimit": 10000
     },
     "inputWidgets": {},
     "nuid": "38ea423a-a83d-41db-9c8a-a248364b1b29",
     "showTitle": false,
     "title": ""
    }
   },
   "outputs": [
    {
     "output_type": "display_data",
     "data": {
      "text/html": [
       "<style scoped>\n",
       "  .table-result-container {\n",
       "    max-height: 300px;\n",
       "    overflow: auto;\n",
       "  }\n",
       "  table, th, td {\n",
       "    border: 1px solid black;\n",
       "    border-collapse: collapse;\n",
       "  }\n",
       "  th, td {\n",
       "    padding: 5px;\n",
       "  }\n",
       "  th {\n",
       "    text-align: left;\n",
       "  }\n",
       "</style><div class='table-result-container'><table class='table-result'><thead style='background-color: white'><tr><th>col_name</th><th>data_type</th><th>comment</th></tr></thead><tbody><tr><td>ID_LOJA</td><td>varchar(100)</td><td>Chave da Dimensão Loja.</td></tr><tr><td>CODIGO_LOJA</td><td>int</td><td>Código da Loja.</td></tr><tr><td>NOME_LOJA</td><td>varchar(100)</td><td>Nome da Loja.</td></tr><tr><td>LOCALIDADE_LOJA</td><td>varchar(100)</td><td>Localidade da Loja.</td></tr><tr><td>TIPO_LOJA</td><td>varchar(100)</td><td>Tipo da Loja.</td></tr><tr><td>DATA_CADASTRO</td><td>timestamp</td><td>Data de Cadastro do Registro.</td></tr><tr><td>DATA_ALTERACAO</td><td>timestamp</td><td>Data de Atualização do Registro.</td></tr></tbody></table></div>"
      ]
     },
     "metadata": {
      "application/vnd.databricks.v1+output": {
       "addedWidgets": {},
       "aggData": [],
       "aggError": "",
       "aggOverflow": false,
       "aggSchema": [],
       "aggSeriesLimitReached": false,
       "aggType": "",
       "arguments": {},
       "columnCustomDisplayInfos": {},
       "data": [
        [
         "ID_LOJA",
         "varchar(100)",
         "Chave da Dimensão Loja."
        ],
        [
         "CODIGO_LOJA",
         "int",
         "Código da Loja."
        ],
        [
         "NOME_LOJA",
         "varchar(100)",
         "Nome da Loja."
        ],
        [
         "LOCALIDADE_LOJA",
         "varchar(100)",
         "Localidade da Loja."
        ],
        [
         "TIPO_LOJA",
         "varchar(100)",
         "Tipo da Loja."
        ],
        [
         "DATA_CADASTRO",
         "timestamp",
         "Data de Cadastro do Registro."
        ],
        [
         "DATA_ALTERACAO",
         "timestamp",
         "Data de Atualização do Registro."
        ]
       ],
       "datasetInfos": [],
       "dbfsResultPath": null,
       "isJsonSchema": true,
       "metadata": {},
       "overflow": false,
       "plotOptions": {
        "customPlotOptions": {},
        "displayType": "table",
        "pivotAggregation": null,
        "pivotColumns": null,
        "xColumns": null,
        "yColumns": null
       },
       "removedWidgets": [],
       "schema": [
        {
         "metadata": "{\"comment\":\"name of the column\"}",
         "name": "col_name",
         "type": "\"string\""
        },
        {
         "metadata": "{\"comment\":\"data type of the column\"}",
         "name": "data_type",
         "type": "\"string\""
        },
        {
         "metadata": "{\"comment\":\"comment of the column\"}",
         "name": "comment",
         "type": "\"string\""
        }
       ],
       "type": "table"
      }
     },
     "output_type": "display_data"
    }
   ],
   "source": [
    "%sql\n",
    "DESC gold.DIM_LOJA"
   ]
  },
  {
   "cell_type": "code",
   "execution_count": 0,
   "metadata": {
    "application/vnd.databricks.v1+cell": {
     "cellMetadata": {
      "byteLimit": 2048000,
      "implicitDf": true,
      "rowLimit": 10000
     },
     "inputWidgets": {},
     "nuid": "fda2ad9b-11e2-4d09-93a2-074aee0802e3",
     "showTitle": false,
     "title": ""
    }
   },
   "outputs": [
    {
     "output_type": "display_data",
     "data": {
      "text/html": [
       "<style scoped>\n",
       "  .table-result-container {\n",
       "    max-height: 300px;\n",
       "    overflow: auto;\n",
       "  }\n",
       "  table, th, td {\n",
       "    border: 1px solid black;\n",
       "    border-collapse: collapse;\n",
       "  }\n",
       "  th, td {\n",
       "    padding: 5px;\n",
       "  }\n",
       "  th {\n",
       "    text-align: left;\n",
       "  }\n",
       "</style><div class='table-result-container'><table class='table-result'><thead style='background-color: white'><tr><th>format</th><th>id</th><th>name</th><th>description</th><th>location</th><th>createdAt</th><th>lastModified</th><th>partitionColumns</th><th>numFiles</th><th>sizeInBytes</th><th>properties</th><th>minReaderVersion</th><th>minWriterVersion</th><th>tableFeatures</th><th>statistics</th></tr></thead><tbody><tr><td>delta</td><td>9a8d73a2-14f3-4b1a-b153-35faab0b7039</td><td>spark_catalog.gold.dim_loja</td><td>null</td><td>dbfs:/user/hive/warehouse/gold.db/dim_loja</td><td>2023-11-07T03:24:49.368+0000</td><td>2023-11-07T03:24:51.000+0000</td><td>List()</td><td>0</td><td>0</td><td>Map()</td><td>1</td><td>2</td><td>List(appendOnly, invariants)</td><td>Map()</td></tr></tbody></table></div>"
      ]
     },
     "metadata": {
      "application/vnd.databricks.v1+output": {
       "addedWidgets": {},
       "aggData": [],
       "aggError": "",
       "aggOverflow": false,
       "aggSchema": [],
       "aggSeriesLimitReached": false,
       "aggType": "",
       "arguments": {},
       "columnCustomDisplayInfos": {},
       "data": [
        [
         "delta",
         "9a8d73a2-14f3-4b1a-b153-35faab0b7039",
         "spark_catalog.gold.dim_loja",
         null,
         "dbfs:/user/hive/warehouse/gold.db/dim_loja",
         "2023-11-07T03:24:49.368+0000",
         "2023-11-07T03:24:51.000+0000",
         [],
         0,
         0,
         {},
         1,
         2,
         [
          "appendOnly",
          "invariants"
         ],
         {}
        ]
       ],
       "datasetInfos": [],
       "dbfsResultPath": null,
       "isJsonSchema": true,
       "metadata": {},
       "overflow": false,
       "plotOptions": {
        "customPlotOptions": {},
        "displayType": "table",
        "pivotAggregation": null,
        "pivotColumns": null,
        "xColumns": null,
        "yColumns": null
       },
       "removedWidgets": [],
       "schema": [
        {
         "metadata": "{}",
         "name": "format",
         "type": "\"string\""
        },
        {
         "metadata": "{}",
         "name": "id",
         "type": "\"string\""
        },
        {
         "metadata": "{}",
         "name": "name",
         "type": "\"string\""
        },
        {
         "metadata": "{}",
         "name": "description",
         "type": "\"string\""
        },
        {
         "metadata": "{}",
         "name": "location",
         "type": "\"string\""
        },
        {
         "metadata": "{}",
         "name": "createdAt",
         "type": "\"timestamp\""
        },
        {
         "metadata": "{}",
         "name": "lastModified",
         "type": "\"timestamp\""
        },
        {
         "metadata": "{}",
         "name": "partitionColumns",
         "type": "{\"type\":\"array\",\"elementType\":\"string\",\"containsNull\":true}"
        },
        {
         "metadata": "{}",
         "name": "numFiles",
         "type": "\"long\""
        },
        {
         "metadata": "{}",
         "name": "sizeInBytes",
         "type": "\"long\""
        },
        {
         "metadata": "{}",
         "name": "properties",
         "type": "{\"type\":\"map\",\"keyType\":\"string\",\"valueType\":\"string\",\"valueContainsNull\":true}"
        },
        {
         "metadata": "{}",
         "name": "minReaderVersion",
         "type": "\"integer\""
        },
        {
         "metadata": "{}",
         "name": "minWriterVersion",
         "type": "\"integer\""
        },
        {
         "metadata": "{}",
         "name": "tableFeatures",
         "type": "{\"type\":\"array\",\"elementType\":\"string\",\"containsNull\":true}"
        },
        {
         "metadata": "{}",
         "name": "statistics",
         "type": "{\"type\":\"map\",\"keyType\":\"string\",\"valueType\":\"long\",\"valueContainsNull\":true}"
        }
       ],
       "type": "table"
      }
     },
     "output_type": "display_data"
    }
   ],
   "source": [
    "%sql\n",
    "DESC DETAIL gold.DIM_LOJA"
   ]
  },
  {
   "cell_type": "code",
   "execution_count": 0,
   "metadata": {
    "application/vnd.databricks.v1+cell": {
     "cellMetadata": {
      "byteLimit": 2048000,
      "implicitDf": true,
      "rowLimit": 10000
     },
     "inputWidgets": {},
     "nuid": "9a56729c-b6c7-4ecc-a3b0-04087d8c6ca3",
     "showTitle": false,
     "title": ""
    }
   },
   "outputs": [
    {
     "output_type": "display_data",
     "data": {
      "text/html": [
       "<style scoped>\n",
       "  .table-result-container {\n",
       "    max-height: 300px;\n",
       "    overflow: auto;\n",
       "  }\n",
       "  table, th, td {\n",
       "    border: 1px solid black;\n",
       "    border-collapse: collapse;\n",
       "  }\n",
       "  th, td {\n",
       "    padding: 5px;\n",
       "  }\n",
       "  th {\n",
       "    text-align: left;\n",
       "  }\n",
       "</style><div class='table-result-container'><table class='table-result'><thead style='background-color: white'><tr><th>database_description_item</th><th>database_description_value</th></tr></thead><tbody><tr><td>Catalog Name</td><td>spark_catalog</td></tr><tr><td>Namespace Name</td><td>bronze</td></tr><tr><td>Comment</td><td>SCHEMA (Banco de Dados) referente a Camada BRONZE.</td></tr><tr><td>Location</td><td>dbfs:/user/hive/warehouse/bronze.db</td></tr><tr><td>Owner</td><td>root</td></tr></tbody></table></div>"
      ]
     },
     "metadata": {
      "application/vnd.databricks.v1+output": {
       "addedWidgets": {},
       "aggData": [],
       "aggError": "",
       "aggOverflow": false,
       "aggSchema": [],
       "aggSeriesLimitReached": false,
       "aggType": "",
       "arguments": {},
       "columnCustomDisplayInfos": {},
       "data": [
        [
         "Catalog Name",
         "spark_catalog"
        ],
        [
         "Namespace Name",
         "bronze"
        ],
        [
         "Comment",
         "SCHEMA (Banco de Dados) referente a Camada BRONZE."
        ],
        [
         "Location",
         "dbfs:/user/hive/warehouse/bronze.db"
        ],
        [
         "Owner",
         "root"
        ]
       ],
       "datasetInfos": [],
       "dbfsResultPath": null,
       "isJsonSchema": true,
       "metadata": {},
       "overflow": false,
       "plotOptions": {
        "customPlotOptions": {},
        "displayType": "table",
        "pivotAggregation": null,
        "pivotColumns": null,
        "xColumns": null,
        "yColumns": null
       },
       "removedWidgets": [],
       "schema": [
        {
         "metadata": "{\"comment\":\"name of the namespace info\"}",
         "name": "database_description_item",
         "type": "\"string\""
        },
        {
         "metadata": "{\"comment\":\"value of the namespace info\"}",
         "name": "database_description_value",
         "type": "\"string\""
        }
       ],
       "type": "table"
      }
     },
     "output_type": "display_data"
    }
   ],
   "source": [
    "%sql\n",
    "DESC SCHEMA bronze"
   ]
  }
 ],
 "metadata": {
  "application/vnd.databricks.v1+notebook": {
   "dashboards": [],
   "language": "python",
   "notebookMetadata": {
    "mostRecentlyExecutedCommandWithImplicitDF": {
     "commandId": 1652859033387511,
     "dataframes": [
      "_sqldf"
     ]
    },
    "pythonIndentUnit": 4
   },
   "notebookName": "00_configuracao_ambiente",
   "widgets": {}
  }
 },
 "nbformat": 4,
 "nbformat_minor": 0
}
