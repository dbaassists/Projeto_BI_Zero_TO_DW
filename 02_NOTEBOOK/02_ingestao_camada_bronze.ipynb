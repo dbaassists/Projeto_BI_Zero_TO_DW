{
 "cells": [
  {
   "cell_type": "markdown",
   "metadata": {
    "application/vnd.databricks.v1+cell": {
     "cellMetadata": {
      "byteLimit": 2048000,
      "rowLimit": 10000
     },
     "inputWidgets": {},
     "nuid": "4a1bcc31-84a8-4dfc-b7a1-ff09a8c2e426",
     "showTitle": false,
     "title": ""
    }
   },
   "source": [
    "## Atividades Desenvolvidas no Notebook - 02_ingestão_camada_bronze\n",
    "\n",
    "|Sequência|Ação|Detalhamento\n",
    "|---|---|---|\n",
    "|SEQ-01 / SEQ-02|Ingestão dos Dados|Identificar no storage \"dbfs:/FileStore/tables/landing_zone\" os dados a serem inseridos na camada BRONZE.|"
   ]
  },
  {
   "cell_type": "code",
   "execution_count": 0,
   "metadata": {
    "application/vnd.databricks.v1+cell": {
     "cellMetadata": {
      "byteLimit": 2048000,
      "rowLimit": 10000
     },
     "inputWidgets": {},
     "nuid": "29c33e49-fe0a-47c8-a3d0-6b7a526a37a2",
     "showTitle": true,
     "title": "SEQ-01 - Identificação de Arquivos a Serem Ingeridos da Camada Landing Zone"
    }
   },
   "outputs": [],
   "source": [
    "diretorio_landing_zone = \"dbfs:/FileStore/tables/landing_zone/\"\n",
    "arquivos_diretorio = dbutils.fs.ls(diretorio_landing_zone)"
   ]
  },
  {
   "cell_type": "code",
   "execution_count": 0,
   "metadata": {
    "application/vnd.databricks.v1+cell": {
     "cellMetadata": {
      "byteLimit": 2048000,
      "rowLimit": 10000
     },
     "inputWidgets": {},
     "nuid": "b3dd271c-93e6-470f-ab0f-ba0d4089439b",
     "showTitle": false,
     "title": ""
    }
   },
   "outputs": [
    {
     "output_type": "stream",
     "name": "stdout",
     "output_type": "stream",
     "text": [
      "Out[2]: [FileInfo(path='dbfs:/FileStore/tables/landing_zone/tb_categoria_produto/', name='tb_categoria_produto/', size=0, modificationTime=0),\n FileInfo(path='dbfs:/FileStore/tables/landing_zone/tb_cliente/', name='tb_cliente/', size=0, modificationTime=0),\n FileInfo(path='dbfs:/FileStore/tables/landing_zone/tb_forma_pagamento/', name='tb_forma_pagamento/', size=0, modificationTime=0),\n FileInfo(path='dbfs:/FileStore/tables/landing_zone/tb_item_venda/', name='tb_item_venda/', size=0, modificationTime=0),\n FileInfo(path='dbfs:/FileStore/tables/landing_zone/tb_loja/', name='tb_loja/', size=0, modificationTime=0),\n FileInfo(path='dbfs:/FileStore/tables/landing_zone/tb_produto/', name='tb_produto/', size=0, modificationTime=0),\n FileInfo(path='dbfs:/FileStore/tables/landing_zone/tb_venda/', name='tb_venda/', size=0, modificationTime=0),\n FileInfo(path='dbfs:/FileStore/tables/landing_zone/tb_vendedor/', name='tb_vendedor/', size=0, modificationTime=0)]"
     ]
    }
   ],
   "source": [
    "arquivos_diretorio"
   ]
  },
  {
   "cell_type": "code",
   "execution_count": 0,
   "metadata": {
    "application/vnd.databricks.v1+cell": {
     "cellMetadata": {
      "byteLimit": 2048000,
      "rowLimit": 10000
     },
     "inputWidgets": {},
     "nuid": "3df13d44-d909-439c-a386-7157645b6ceb",
     "showTitle": true,
     "title": "SEQ-02 - Ingestão dos Dados na Camada Bronze"
    }
   },
   "outputs": [
    {
     "output_type": "stream",
     "name": "stdout",
     "output_type": "stream",
     "text": [
      "TRUNCATE TABLE bronze.tb_categoria_produto\nMERGE INTO bronze.tb_categoria_produto a\n            USING tb_categoria_produto b\n            ON a.CODIGO_CATEGORIA= b.CODIGO_CATEGORIA\n            WHEN NOT MATCHED\n            THEN INSERT (CODIGO_CATEGORIA,CATEGORIA_PRODUTO,SUB_CATEGORIA_PRODUTO) VALUES (b.CODIGO_CATEGORIA,b.CATEGORIA_PRODUTO,b.SUB_CATEGORIA_PRODUTO)\n            \nTRUNCATE TABLE bronze.tb_cliente\nMERGE INTO bronze.tb_cliente a\n            USING tb_cliente b\n            ON a.CODIGO_CLIENTE= b.CODIGO_CLIENTE\n            WHEN NOT MATCHED\n            THEN INSERT (CODIGO_CLIENTE,NOME_CLIENTE,DATA_NASCIMENTO,IDADE_CLIENTE,DESCRICAO_ENDERECO,NUMERO_ENDERECO,NOME_CIDADE,NUMERO_TELEFONE,EMAIL_CLIENTE,OCUPACAO_CLIENTE) VALUES (b.CODIGO_CLIENTE,b.NOME_CLIENTE,b.DATA_NASCIMENTO,b.IDADE_CLIENTE,b.DESCRICAO_ENDERECO,b.NUMERO_ENDERECO,b.NOME_CIDADE,b.NUMERO_TELEFONE,b.EMAIL_CLIENTE,b.OCUPACAO_CLIENTE)\n            \nTRUNCATE TABLE bronze.tb_forma_pagamento\nMERGE INTO bronze.tb_forma_pagamento a\n            USING tb_forma_pagamento b\n            ON a.CODIGO_FORMA_PAGAMENTO= b.CODIGO_FORMA_PAGAMENTO\n            WHEN NOT MATCHED\n            THEN INSERT (CODIGO_FORMA_PAGAMENTO,DESCRICAO_FORMA_PAGAMENTO) VALUES (b.CODIGO_FORMA_PAGAMENTO,b.DESCRICAO_FORMA_PAGAMENTO)\n            \nTRUNCATE TABLE bronze.tb_item_venda\nMERGE INTO bronze.tb_item_venda a\n            USING tb_item_venda b\n            ON a.CODIGO_VENDA= b.CODIGO_VENDA AND a.CODIGO_PRODUTO = b.CODIGO_PRODUTO\n            WHEN NOT MATCHED\n            THEN INSERT (CODIGO_VENDA,CODIGO_PRODUTO,VALOR_UNITARIO,QUANTIDADE,VALOR_FINAL) VALUES (b.CODIGO_VENDA,b.CODIGO_PRODUTO,b.VALOR_UNITARIO,b.QUANTIDADE,b.VALOR_FINAL)\n            \nTRUNCATE TABLE bronze.tb_loja\nMERGE INTO bronze.tb_loja a\n            USING tb_loja b\n            ON a.CODIGO_LOJA_VENDEDOR= b.CODIGO_LOJA_VENDEDOR\n            WHEN NOT MATCHED\n            THEN INSERT (CODIGO_LOJA_VENDEDOR,CODIGO_LOJA,CODIGO_VENDEDOR,NOME_LOJA,LOCALIDADE_LOJA,TIPO_LOJA) VALUES (b.CODIGO_LOJA_VENDEDOR,b.CODIGO_LOJA,b.CODIGO_VENDEDOR,b.NOME_LOJA,b.LOCALIDADE_LOJA,b.TIPO_LOJA)\n            \nTRUNCATE TABLE bronze.tb_produto\nMERGE INTO bronze.tb_produto a\n            USING tb_produto b\n            ON a.CODIGO_PRODUTO= b.CODIGO_PRODUTO\n            WHEN NOT MATCHED\n            THEN INSERT (CODIGO_PRODUTO,DESCRICAO_PRODUTO,CODIGO_CATEGORIA) VALUES (b.CODIGO_PRODUTO,b.DESCRICAO_PRODUTO,b.CODIGO_CATEGORIA)\n            \nTRUNCATE TABLE bronze.tb_venda\nMERGE INTO bronze.tb_venda a\n            USING tb_venda b\n            ON a.CODIGO_VENDA= b.CODIGO_VENDA\n            WHEN NOT MATCHED\n            THEN INSERT (CODIGO_VENDA,CODIGO_CLIENTE,CODIGO_FORMA_PAGAMENTO,CODIGO_LOJA_VENDEDOR,DATA_VENDA,VALOR_FINAL,TIPO_PAGAMENTO) VALUES (b.CODIGO_VENDA,b.CODIGO_CLIENTE,b.CODIGO_FORMA_PAGAMENTO,b.CODIGO_LOJA_VENDEDOR,b.DATA_VENDA,b.VALOR_FINAL,b.TIPO_PAGAMENTO)\n            \nTRUNCATE TABLE bronze.tb_vendedor\nMERGE INTO bronze.tb_vendedor a\n            USING tb_vendedor b\n            ON a.CODIGO_VENDEDOR= b.CODIGO_VENDEDOR\n            WHEN NOT MATCHED\n            THEN INSERT (CODIGO_VENDEDOR,NOME_VENDEDOR) VALUES (b.CODIGO_VENDEDOR,b.NOME_VENDEDOR)\n            \n"
     ]
    }
   ],
   "source": [
    "\n",
    "for arquivo in arquivos_diretorio:\n",
    "\n",
    "    diretorio = arquivo.path\n",
    "    tabela = arquivo.name.replace('/','').lower()\n",
    "\n",
    "    parDF1=spark.read.parquet(diretorio)\n",
    "\n",
    "    colunas = parDF1.columns\n",
    "    lista1 = ''\n",
    "    listaInsert = ''\n",
    "    listaCondicao = ''\n",
    "\n",
    "    for coluna in colunas:\n",
    "        if lista1 == '':\n",
    "            lista1 = coluna\n",
    "        else:\n",
    "            lista1 = lista1 + ',' + coluna\n",
    "\n",
    "    for coluna in colunas:\n",
    "        if listaInsert == '':\n",
    "            listaInsert = 'b.'+coluna\n",
    "        else:\n",
    "            listaInsert = listaInsert + ',' + 'b.'+ coluna\n",
    "\n",
    "    for coluna in colunas:\n",
    "        if listaCondicao == '':\n",
    "            listaCondicao =  'a.'+coluna + '= b.'+coluna\n",
    "\n",
    "    if tabela == 'tb_item_venda':\n",
    "        listaCondicao = listaCondicao + ' AND a.CODIGO_PRODUTO = b.CODIGO_PRODUTO'\n",
    "\n",
    "\n",
    "    tabela_dl = tabela.replace('dbo.','')\n",
    "\n",
    "    parDF1.createOrReplaceTempView(tabela)\n",
    "\n",
    "    comando_truncate = f\"\"\"TRUNCATE TABLE bronze.{tabela}\"\"\"\n",
    "\n",
    "    print(comando_truncate)\n",
    "\n",
    "    spark.sql(comando_truncate)\n",
    "\n",
    "    comando_insert = f\"\"\"MERGE INTO bronze.{tabela} a\n",
    "            USING {tabela} b\n",
    "            ON {listaCondicao}\n",
    "            WHEN NOT MATCHED\n",
    "            THEN INSERT ({lista1}) VALUES ({listaInsert})\n",
    "            \"\"\"\n",
    "\n",
    "    print(comando_insert)\n",
    "\n",
    "    spark.sql(comando_insert)\n"
   ]
  }
 ],
 "metadata": {
  "application/vnd.databricks.v1+notebook": {
   "dashboards": [],
   "language": "python",
   "notebookMetadata": {
    "mostRecentlyExecutedCommandWithImplicitDF": {
     "commandId": 4451453191701926,
     "dataframes": [
      "_sqldf"
     ]
    },
    "pythonIndentUnit": 4
   },
   "notebookName": "02_ingestao_camada_bronze",
   "widgets": {}
  }
 },
 "nbformat": 4,
 "nbformat_minor": 0
}
