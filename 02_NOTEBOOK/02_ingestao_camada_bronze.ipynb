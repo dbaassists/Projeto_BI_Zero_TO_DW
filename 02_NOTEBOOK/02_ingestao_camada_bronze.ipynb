{
 "cells": [
  {
   "cell_type": "markdown",
   "metadata": {
    "application/vnd.databricks.v1+cell": {
     "cellMetadata": {},
     "inputWidgets": {},
     "nuid": "4a1bcc31-84a8-4dfc-b7a1-ff09a8c2e426",
     "showTitle": false,
     "title": ""
    }
   },
   "source": [
    "## Atividades Desenvolvidas no Notebook - 02_ingestão_camada_bronze\n",
    "\n",
    "|Sequência|Ação|Detalhamento\n",
    "|---|---|---|\n",
    "|SEQ-01 / SEQ-02|Ingestão dos Dados|Identificar no storage \"dbfs:/FileStore/tables/landing_zone\" os dados a serem inseridos na camada BRONZE.|"
   ]
  },
  {
   "cell_type": "code",
   "execution_count": 0,
   "metadata": {
    "application/vnd.databricks.v1+cell": {
     "cellMetadata": {
      "byteLimit": 2048000,
      "rowLimit": 10000
     },
     "inputWidgets": {},
     "nuid": "29c33e49-fe0a-47c8-a3d0-6b7a526a37a2",
     "showTitle": true,
     "title": "SEQ-01 - Identificação de Arquivos a Serem Ingeridos da Camada Landing Zonee"
    }
   },
   "outputs": [],
   "source": [
    "diretorio_landing_zone = \"dbfs:/FileStore/tables/landing_zone/\"\n",
    "arquivos_diretorio = dbutils.fs.ls(diretorio_landing_zone)"
   ]
  },
  {
   "cell_type": "code",
   "execution_count": 0,
   "metadata": {
    "application/vnd.databricks.v1+cell": {
     "cellMetadata": {
      "byteLimit": 2048000,
      "rowLimit": 10000
     },
     "inputWidgets": {},
     "nuid": "3df13d44-d909-439c-a386-7157645b6ceb",
     "showTitle": true,
     "title": "SEQ-02 - Ingestão dos Dados na Camada Bronze"
    }
   },
   "outputs": [],
   "source": [
    "\n",
    "for arquivo in arquivos_diretorio:\n",
    "\n",
    "    diretorio = arquivo.path\n",
    "    tabela = arquivo.name.replace('/','').lower()\n",
    "\n",
    "    parDF1=spark.read.parquet(diretorio)\n",
    "\n",
    "    colunas = parDF1.columns\n",
    "    lista1 = ''\n",
    "    listaInsert = ''\n",
    "    listaCondicao = ''\n",
    "\n",
    "    for coluna in colunas:\n",
    "        if lista1 == '':\n",
    "            lista1 = coluna\n",
    "        else:\n",
    "            lista1 = lista1 + ',' + coluna\n",
    "\n",
    "    for coluna in colunas:\n",
    "        if listaInsert == '':\n",
    "            listaInsert = 'b.'+coluna\n",
    "        else:\n",
    "            listaInsert = listaInsert + ',' + 'b.'+ coluna\n",
    "\n",
    "    for coluna in colunas:\n",
    "        if listaCondicao == '':\n",
    "            listaCondicao =  'a.'+coluna + '= b.'+coluna\n",
    "\n",
    "    if tabela == 'tb_item_venda':\n",
    "        listaCondicao = listaCondicao + ' AND a.CODIGO_PRODUTO = b.CODIGO_PRODUTO'\n",
    "\n",
    "    parDF1.createOrReplaceTempView(tabela)\n",
    "\n",
    "    comando = f\"\"\"\n",
    "                MERGE INTO bronze.{tabela} a\n",
    "                USING {tabela} b\n",
    "                ON {listaCondicao}\n",
    "                WHEN NOT MATCHED\n",
    "                THEN INSERT ({lista1}) VALUES ({listaInsert})\n",
    "            \"\"\"\n",
    "\n",
    "    print(comando)\n",
    "\n",
    "    spark.sql(comando)\n"
   ]
  }
 ],
 "metadata": {
  "application/vnd.databricks.v1+notebook": {
   "dashboards": [],
   "language": "python",
   "notebookMetadata": {
    "mostRecentlyExecutedCommandWithImplicitDF": {
     "commandId": 3994002818207598,
     "dataframes": [
      "_sqldf"
     ]
    },
    "pythonIndentUnit": 4
   },
   "notebookName": "02_ingestao_camada_bronze",
   "widgets": {}
  }
 },
 "nbformat": 4,
 "nbformat_minor": 0
}
