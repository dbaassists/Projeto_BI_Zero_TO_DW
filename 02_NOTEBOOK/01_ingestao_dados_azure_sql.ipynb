{
 "cells": [
  {
   "cell_type": "markdown",
   "metadata": {
    "application/vnd.databricks.v1+cell": {
     "cellMetadata": {
      "byteLimit": 2048000,
      "rowLimit": 10000
     },
     "inputWidgets": {},
     "nuid": "ba355bb1-8f54-4add-9251-ca4cd096f204",
     "showTitle": false,
     "title": ""
    }
   },
   "source": [
    "\n",
    "## [PRÉ REQUISITO] Atividades Desenvolvidas Fora do Ambiente Databricks\n",
    "\n",
    "|Sequência|Ação|Detalhamento\n",
    "|---|---|---|\n",
    "|SEQ-01|Provisionamento do Azure SQL|Provisionamento de um banco de dados no Azure|\n",
    "|SEQ-02|Configuração do Ambiente Azure|Criação de toda a estrutura de tabelas e dados|\n",
    "\n",
    "\n",
    "## Atividades Desenvolvidas no Notebook - 01_ingestao_dados_azure_sql\n",
    "\n",
    "|Sequência|Ação|Detalhamento\n",
    "|---|---|---|\n",
    "|SEQ-01 / SEQ-02|Configuração de Biblioteca|Instalação da Biblioteca \"sqlalchemy\"|\n",
    "|SEQ-03|Consumindo Arquivo JSON|Arquivo com as credenciais de acesso ao Azure SQL Database|\n",
    "|SEQ-04|Selação das Tabelas|Identificar quais serão as tabelas usadas durante o processo de ingestão|\n",
    "|SEQ-05|Extração dos Dados do Azure SQL|Coleta dos Dados do Azure SQL|\n",
    "|SEQ-06|Persistir os Dados em Parquet|Os dados deverão ser persistidos no diretório de cada tabela em formato parquet.|\n",
    "\n"
   ]
  },
  {
   "cell_type": "code",
   "execution_count": 0,
   "metadata": {
    "application/vnd.databricks.v1+cell": {
     "cellMetadata": {
      "byteLimit": 2048000,
      "rowLimit": 10000
     },
     "inputWidgets": {},
     "nuid": "53d1c97f-2470-4a4e-95f0-b09ce013bb57",
     "showTitle": true,
     "title": "SEQ-01 - Configuração da Biblioteca sqlalchemy"
    }
   },
   "outputs": [
    {
     "output_type": "stream",
     "name": "stdout",
     "output_type": "stream",
     "text": [
      "Python interpreter will be restarted.\nRequirement already satisfied: sqlalchemy in /local_disk0/.ephemeral_nfs/envs/pythonEnv-93bd13c6-da98-4cf5-9131-269e25292590/lib/python3.9/site-packages (2.0.26)\nRequirement already satisfied: greenlet!=0.4.17 in /local_disk0/.ephemeral_nfs/envs/pythonEnv-93bd13c6-da98-4cf5-9131-269e25292590/lib/python3.9/site-packages (from sqlalchemy) (3.0.3)\nRequirement already satisfied: typing-extensions>=4.6.0 in /local_disk0/.ephemeral_nfs/envs/pythonEnv-93bd13c6-da98-4cf5-9131-269e25292590/lib/python3.9/site-packages (from sqlalchemy) (4.9.0)\nPython interpreter will be restarted.\n"
     ]
    }
   ],
   "source": [
    "pip install sqlalchemy"
   ]
  },
  {
   "cell_type": "code",
   "execution_count": 0,
   "metadata": {
    "application/vnd.databricks.v1+cell": {
     "cellMetadata": {
      "byteLimit": 2048000,
      "rowLimit": 10000
     },
     "inputWidgets": {},
     "nuid": "5472f1b1-a2c4-4998-b588-4826f5a88178",
     "showTitle": true,
     "title": "SEQ-02 - Importação das Bibliotecas"
    }
   },
   "outputs": [
    {
     "output_type": "display_data",
     "data": {
      "application/vnd.databricks.v1+bamboolib_hint": "{\"pd.DataFrames\": [], \"version\": \"0.0.1\"}",
      "text/plain": []
     },
     "metadata": {},
     "output_type": "display_data"
    }
   ],
   "source": [
    "from sqlalchemy import __version__ as sa_version, create_engine, text\n",
    "import json\n",
    "import pandas as pd"
   ]
  },
  {
   "cell_type": "code",
   "execution_count": 0,
   "metadata": {
    "application/vnd.databricks.v1+cell": {
     "cellMetadata": {
      "byteLimit": 2048000,
      "rowLimit": 10000
     },
     "inputWidgets": {},
     "nuid": "1e59b0d4-1188-4a31-93ff-0c20316e403f",
     "showTitle": true,
     "title": "SEQ-03 - Consumindo Arquivo JSON"
    }
   },
   "outputs": [],
   "source": [
    "dfjson =  pd.read_json(\"https://raw.githubusercontent.com/dbaassists/Projeto_BI_Zero_TO_DW/main/04_ARQUIVO_CONFIG/config_azure_sql.json\")\n",
    "\n",
    "server = dfjson['Config']['server']\n",
    "database = dfjson['Config']['database']\n",
    "username = dfjson['Config']['username']\n",
    "password = dfjson['Config']['password']"
   ]
  },
  {
   "cell_type": "code",
   "execution_count": 0,
   "metadata": {
    "application/vnd.databricks.v1+cell": {
     "cellMetadata": {
      "byteLimit": 2048000,
      "rowLimit": 10000
     },
     "inputWidgets": {},
     "nuid": "960be4a2-c669-4c63-897e-a0242edc2c16",
     "showTitle": true,
     "title": "SEQ-04 - Mapear Todas as Tabelas Existentes no Azure SQL"
    }
   },
   "outputs": [],
   "source": [
    "df = spark.read \\\n",
    ".format(\"jdbc\") \\\n",
    ".option(\"url\", f\"jdbc:sqlserver://{server};database={database}\") \\\n",
    ".option(\"query\", \"\"\"SELECT s.name + '.' +  t.NAME AS Nome_Tabela \n",
    "                        FROM sys.tables t\n",
    "                        INNER JOIN sys.schemas s\n",
    "                        ON t.schema_id = s.schema_id\n",
    "                        AND s.name = 'dbo'\"\"\") \\\n",
    ".option(\"user\", f\"{username}\") \\\n",
    ".option(\"password\", f\"{password}\") \\\n",
    ".load()"
   ]
  },
  {
   "cell_type": "code",
   "execution_count": 0,
   "metadata": {
    "application/vnd.databricks.v1+cell": {
     "cellMetadata": {
      "byteLimit": 2048000,
      "rowLimit": 10000
     },
     "inputWidgets": {},
     "nuid": "cf05b1cd-63be-4761-bd68-07891e4d57e1",
     "showTitle": false,
     "title": ""
    }
   },
   "outputs": [
    {
     "output_type": "display_data",
     "data": {
      "text/html": [
       "<style scoped>\n",
       "  .table-result-container {\n",
       "    max-height: 300px;\n",
       "    overflow: auto;\n",
       "  }\n",
       "  table, th, td {\n",
       "    border: 1px solid black;\n",
       "    border-collapse: collapse;\n",
       "  }\n",
       "  th, td {\n",
       "    padding: 5px;\n",
       "  }\n",
       "  th {\n",
       "    text-align: left;\n",
       "  }\n",
       "</style><div class='table-result-container'><table class='table-result'><thead style='background-color: white'><tr><th>Nome_Tabela</th></tr></thead><tbody><tr><td>dbo.TB_CATEGORIA_PRODUTO</td></tr><tr><td>dbo.TB_CLIENTE</td></tr><tr><td>dbo.TB_FORMA_PAGAMENTO</td></tr><tr><td>dbo.TB_ITEM_VENDA</td></tr><tr><td>dbo.TB_LOJA</td></tr><tr><td>dbo.TB_PRODUTO</td></tr><tr><td>dbo.TB_VENDA</td></tr><tr><td>dbo.TB_VENDEDOR</td></tr><tr><td>dbo.Tempo</td></tr></tbody></table></div>"
      ]
     },
     "metadata": {
      "application/vnd.databricks.v1+output": {
       "addedWidgets": {},
       "aggData": [],
       "aggError": "",
       "aggOverflow": false,
       "aggSchema": [],
       "aggSeriesLimitReached": false,
       "aggType": "",
       "arguments": {},
       "columnCustomDisplayInfos": {},
       "data": [
        [
         "dbo.TB_CATEGORIA_PRODUTO"
        ],
        [
         "dbo.TB_CLIENTE"
        ],
        [
         "dbo.TB_FORMA_PAGAMENTO"
        ],
        [
         "dbo.TB_ITEM_VENDA"
        ],
        [
         "dbo.TB_LOJA"
        ],
        [
         "dbo.TB_PRODUTO"
        ],
        [
         "dbo.TB_VENDA"
        ],
        [
         "dbo.TB_VENDEDOR"
        ],
        [
         "dbo.Tempo"
        ]
       ],
       "datasetInfos": [],
       "dbfsResultPath": null,
       "isJsonSchema": true,
       "metadata": {},
       "overflow": false,
       "plotOptions": {
        "customPlotOptions": {},
        "displayType": "table",
        "pivotAggregation": null,
        "pivotColumns": null,
        "xColumns": null,
        "yColumns": null
       },
       "removedWidgets": [],
       "schema": [
        {
         "metadata": "{\"scale\":0}",
         "name": "Nome_Tabela",
         "type": "\"string\""
        }
       ],
       "type": "table"
      }
     },
     "output_type": "display_data"
    }
   ],
   "source": [
    "display(df)"
   ]
  },
  {
   "cell_type": "code",
   "execution_count": 0,
   "metadata": {
    "application/vnd.databricks.v1+cell": {
     "cellMetadata": {
      "byteLimit": 2048000,
      "rowLimit": 10000
     },
     "inputWidgets": {},
     "nuid": "4d7f0f82-1430-453e-89c2-494d60e1aac5",
     "showTitle": true,
     "title": "SEQ-05 - Coletar os Dados das Tabelas Existentes no Azure SQL e Salvando em Parquet na Camada Landing_Zone"
    }
   },
   "outputs": [
    {
     "output_type": "stream",
     "name": "stdout",
     "output_type": "stream",
     "text": [
      "tb_categoria_produto\ntb_cliente\ntb_forma_pagamento\ntb_item_venda\ntb_loja\ntb_produto\ntb_venda\ntb_vendedor\ntempo\n"
     ]
    }
   ],
   "source": [
    "lista_tabelas = df.collect()\n",
    "\n",
    "for tabela in lista_tabelas:\n",
    "\n",
    "    tabela_paquet = tabela['Nome_Tabela'].replace('dbo.','').lower()\n",
    "\n",
    "    print(tabela_paquet)\n",
    "\n",
    "    diretorio_parquet = \"dbfs:/FileStore/tables/landing_zone/{0}\".format(tabela_paquet)\n",
    "\n",
    "    df = (spark.read\n",
    "    .format(\"jdbc\")\n",
    "    .option(\"url\", f\"jdbc:sqlserver://{server};database={database}\") \\\n",
    "    .option(\"query\", \"SELECT * FROM {0}\".format(tabela['Nome_Tabela']))\n",
    "    .option(\"user\", f\"{username}\") \\\n",
    "    .option(\"password\", f\"{password}\") \\\n",
    "    .load()\n",
    "    )\n",
    "    \n",
    "    (df.write\n",
    "    .format('parquet')\n",
    "    .mode(\"overwrite\")\n",
    "    .save(diretorio_parquet)\n",
    "    )"
   ]
  },
  {
   "cell_type": "code",
   "execution_count": 0,
   "metadata": {
    "application/vnd.databricks.v1+cell": {
     "cellMetadata": {
      "byteLimit": 2048000,
      "rowLimit": 10000
     },
     "inputWidgets": {},
     "nuid": "b79efee8-705e-49d6-a95d-eed4f3d18f8e",
     "showTitle": false,
     "title": ""
    }
   },
   "outputs": [
    {
     "output_type": "stream",
     "name": "stdout",
     "output_type": "stream",
     "text": [
      "Out[9]: [FileInfo(path='dbfs:/FileStore/tables/landing_zone/tb_categoria_produto/', name='tb_categoria_produto/', size=0, modificationTime=0),\n FileInfo(path='dbfs:/FileStore/tables/landing_zone/tb_cliente/', name='tb_cliente/', size=0, modificationTime=0),\n FileInfo(path='dbfs:/FileStore/tables/landing_zone/tb_forma_pagamento/', name='tb_forma_pagamento/', size=0, modificationTime=0),\n FileInfo(path='dbfs:/FileStore/tables/landing_zone/tb_item_venda/', name='tb_item_venda/', size=0, modificationTime=0),\n FileInfo(path='dbfs:/FileStore/tables/landing_zone/tb_loja/', name='tb_loja/', size=0, modificationTime=0),\n FileInfo(path='dbfs:/FileStore/tables/landing_zone/tb_produto/', name='tb_produto/', size=0, modificationTime=0),\n FileInfo(path='dbfs:/FileStore/tables/landing_zone/tb_venda/', name='tb_venda/', size=0, modificationTime=0),\n FileInfo(path='dbfs:/FileStore/tables/landing_zone/tb_vendedor/', name='tb_vendedor/', size=0, modificationTime=0),\n FileInfo(path='dbfs:/FileStore/tables/landing_zone/tempo/', name='tempo/', size=0, modificationTime=0)]"
     ]
    }
   ],
   "source": [
    "dbutils.fs.ls(\"dbfs:/FileStore/tables/landing_zone\")"
   ]
  }
 ],
 "metadata": {
  "application/vnd.databricks.v1+notebook": {
   "dashboards": [],
   "language": "python",
   "notebookMetadata": {
    "mostRecentlyExecutedCommandWithImplicitDF": {
     "commandId": 1934667511695067,
     "dataframes": [
      "_sqldf"
     ]
    },
    "pythonIndentUnit": 4
   },
   "notebookName": "01_ingestao_dados_azure_sql",
   "widgets": {}
  }
 },
 "nbformat": 4,
 "nbformat_minor": 0
}
